{
 "cells": [
  {
   "cell_type": "markdown",
   "metadata": {},
   "source": [
    "#### Alumna: Geraldine Cacciatore\n",
    "\n",
    "# Caso práctico: empresa telefónica"
   ]
  },
  {
   "cell_type": "code",
   "execution_count": 208,
   "metadata": {},
   "outputs": [],
   "source": [
    "#Importo las librerias que voy a necesitar\n",
    "\n",
    "from datetime import datetime\n",
    "import pandas as pd\n",
    "import numpy as np\n",
    "import matplotlib.pyplot as plt\n",
    "import seaborn as sns\n",
    "from scipy import stats\n",
    "from sklearn.preprocessing import OneHotEncoder, LabelEncoder\n",
    "from sklearn.linear_model import LinearRegression\n",
    "from sklearn.linear_model.logistic import LogisticRegression\n",
    "from sklearn.model_selection import train_test_split\n",
    "from pandas.plotting import scatter_matrix\n",
    "from sklearn.metrics import accuracy_score, auc, confusion_matrix, f1_score, precision_score, recall_score, roc_curve\n",
    "from dateutil.rrule import rrule, MONTHLY\n",
    "import pickle #Los objetos de python se guardan en estas librerias\n",
    "\n",
    "from sklearn.feature_selection import SelectKBest\n",
    "from sklearn.feature_selection import chi2 \n",
    "\n",
    "from sklearn.ensemble import RandomForestClassifier\n",
    "from sklearn.datasets import make_classification\n",
    "\n",
    "from sklearn.datasets import make_regression\n",
    "from sklearn.ensemble import RandomForestRegressor\n",
    "from matplotlib import pyplot\n",
    "\n",
    "from sklearn.feature_selection import VarianceThreshold\n",
    "from sklearn.feature_selection import f_regression \n",
    "from sklearn.model_selection import cross_val_score\n",
    "\n",
    "\n",
    "from sklearn.preprocessing import StandardScaler\n",
    "\n"
   ]
  },
  {
   "cell_type": "markdown",
   "metadata": {},
   "source": [
    "## 1) Carga de datos y construcción de tablones\n",
    "\n",
    "#### Carga de datos (dicimebre)"
   ]
  },
  {
   "cell_type": "code",
   "execution_count": 6,
   "metadata": {},
   "outputs": [],
   "source": [
    "clientes_diciembre = pd.read_csv(\"clientes_diciembre.csv\", sep='|')\n",
    "consumos_diciembre = pd.read_csv(\"consumos_diciembre.csv\", sep='|')\n",
    "financiacion_diciembre = pd.read_csv(\"financiacion_diciembre.csv\", sep='|')\n",
    "productos_diciembre = pd.read_csv(\"productos_diciembre.csv\", sep='|')"
   ]
  },
  {
   "cell_type": "code",
   "execution_count": 7,
   "metadata": {},
   "outputs": [
    {
     "data": {
      "text/html": [
       "<div>\n",
       "<style scoped>\n",
       "    .dataframe tbody tr th:only-of-type {\n",
       "        vertical-align: middle;\n",
       "    }\n",
       "\n",
       "    .dataframe tbody tr th {\n",
       "        vertical-align: top;\n",
       "    }\n",
       "\n",
       "    .dataframe thead th {\n",
       "        text-align: right;\n",
       "    }\n",
       "</style>\n",
       "<table border=\"1\" class=\"dataframe\">\n",
       "  <thead>\n",
       "    <tr style=\"text-align: right;\">\n",
       "      <th></th>\n",
       "      <th>id</th>\n",
       "      <th>edad</th>\n",
       "      <th>facturacion</th>\n",
       "      <th>antiguedad</th>\n",
       "      <th>provincia</th>\n",
       "      <th>num_lineas</th>\n",
       "      <th>num_dt</th>\n",
       "      <th>incidencia</th>\n",
       "    </tr>\n",
       "  </thead>\n",
       "  <tbody>\n",
       "    <tr>\n",
       "      <th>0</th>\n",
       "      <td>1</td>\n",
       "      <td>63</td>\n",
       "      <td>216.028109</td>\n",
       "      <td>11/23/2018 08:48 AM</td>\n",
       "      <td>La Rioja</td>\n",
       "      <td>5</td>\n",
       "      <td>NaN</td>\n",
       "      <td>NaN</td>\n",
       "    </tr>\n",
       "    <tr>\n",
       "      <th>1</th>\n",
       "      <td>2</td>\n",
       "      <td>84</td>\n",
       "      <td>255.830842</td>\n",
       "      <td>08/22/2017 03:19 AM</td>\n",
       "      <td>Vizcaya</td>\n",
       "      <td>3</td>\n",
       "      <td>NaN</td>\n",
       "      <td>NaN</td>\n",
       "    </tr>\n",
       "    <tr>\n",
       "      <th>2</th>\n",
       "      <td>3</td>\n",
       "      <td>66</td>\n",
       "      <td>135.768153</td>\n",
       "      <td>12/27/2001 01:50 PM</td>\n",
       "      <td>Albacete</td>\n",
       "      <td>4</td>\n",
       "      <td>NaN</td>\n",
       "      <td>NaN</td>\n",
       "    </tr>\n",
       "    <tr>\n",
       "      <th>3</th>\n",
       "      <td>4</td>\n",
       "      <td>69</td>\n",
       "      <td>255.658527</td>\n",
       "      <td>08/08/2015 10:53 AM</td>\n",
       "      <td>Lugo</td>\n",
       "      <td>4</td>\n",
       "      <td>NaN</td>\n",
       "      <td>NaN</td>\n",
       "    </tr>\n",
       "    <tr>\n",
       "      <th>4</th>\n",
       "      <td>5</td>\n",
       "      <td>25</td>\n",
       "      <td>22.302845</td>\n",
       "      <td>08/29/1997 02:19 AM</td>\n",
       "      <td>Tarragona</td>\n",
       "      <td>2</td>\n",
       "      <td>2.0</td>\n",
       "      <td>NaN</td>\n",
       "    </tr>\n",
       "  </tbody>\n",
       "</table>\n",
       "</div>"
      ],
      "text/plain": [
       "   id  edad  facturacion           antiguedad  provincia  num_lineas  num_dt  \\\n",
       "0   1    63   216.028109  11/23/2018 08:48 AM   La Rioja           5     NaN   \n",
       "1   2    84   255.830842  08/22/2017 03:19 AM    Vizcaya           3     NaN   \n",
       "2   3    66   135.768153  12/27/2001 01:50 PM   Albacete           4     NaN   \n",
       "3   4    69   255.658527  08/08/2015 10:53 AM       Lugo           4     NaN   \n",
       "4   5    25    22.302845  08/29/1997 02:19 AM  Tarragona           2     2.0   \n",
       "\n",
       "  incidencia  \n",
       "0        NaN  \n",
       "1        NaN  \n",
       "2        NaN  \n",
       "3        NaN  \n",
       "4        NaN  "
      ]
     },
     "execution_count": 7,
     "metadata": {},
     "output_type": "execute_result"
    }
   ],
   "source": [
    "clientes_diciembre.head()"
   ]
  },
  {
   "cell_type": "code",
   "execution_count": 8,
   "metadata": {},
   "outputs": [
    {
     "data": {
      "text/html": [
       "<div>\n",
       "<style scoped>\n",
       "    .dataframe tbody tr th:only-of-type {\n",
       "        vertical-align: middle;\n",
       "    }\n",
       "\n",
       "    .dataframe tbody tr th {\n",
       "        vertical-align: top;\n",
       "    }\n",
       "\n",
       "    .dataframe thead th {\n",
       "        text-align: right;\n",
       "    }\n",
       "</style>\n",
       "<table border=\"1\" class=\"dataframe\">\n",
       "  <thead>\n",
       "    <tr style=\"text-align: right;\">\n",
       "      <th></th>\n",
       "      <th>id</th>\n",
       "      <th>num_llamad_ent</th>\n",
       "      <th>num_llamad_sal</th>\n",
       "      <th>mb_datos</th>\n",
       "      <th>seg_llamad_ent</th>\n",
       "      <th>seg_llamad_sal</th>\n",
       "    </tr>\n",
       "  </thead>\n",
       "  <tbody>\n",
       "    <tr>\n",
       "      <th>0</th>\n",
       "      <td>1</td>\n",
       "      <td>110</td>\n",
       "      <td>79</td>\n",
       "      <td>10897</td>\n",
       "      <td>12806</td>\n",
       "      <td>13751</td>\n",
       "    </tr>\n",
       "    <tr>\n",
       "      <th>1</th>\n",
       "      <td>2</td>\n",
       "      <td>189</td>\n",
       "      <td>89</td>\n",
       "      <td>18657</td>\n",
       "      <td>6499</td>\n",
       "      <td>10862</td>\n",
       "    </tr>\n",
       "    <tr>\n",
       "      <th>2</th>\n",
       "      <td>3</td>\n",
       "      <td>129</td>\n",
       "      <td>30</td>\n",
       "      <td>15511</td>\n",
       "      <td>17013</td>\n",
       "      <td>16743</td>\n",
       "    </tr>\n",
       "    <tr>\n",
       "      <th>3</th>\n",
       "      <td>4</td>\n",
       "      <td>51</td>\n",
       "      <td>52</td>\n",
       "      <td>12670</td>\n",
       "      <td>3393</td>\n",
       "      <td>6771</td>\n",
       "    </tr>\n",
       "    <tr>\n",
       "      <th>4</th>\n",
       "      <td>5</td>\n",
       "      <td>183</td>\n",
       "      <td>3</td>\n",
       "      <td>23756</td>\n",
       "      <td>18436</td>\n",
       "      <td>4485</td>\n",
       "    </tr>\n",
       "  </tbody>\n",
       "</table>\n",
       "</div>"
      ],
      "text/plain": [
       "   id  num_llamad_ent  num_llamad_sal  mb_datos  seg_llamad_ent  \\\n",
       "0   1             110              79     10897           12806   \n",
       "1   2             189              89     18657            6499   \n",
       "2   3             129              30     15511           17013   \n",
       "3   4              51              52     12670            3393   \n",
       "4   5             183               3     23756           18436   \n",
       "\n",
       "   seg_llamad_sal  \n",
       "0           13751  \n",
       "1           10862  \n",
       "2           16743  \n",
       "3            6771  \n",
       "4            4485  "
      ]
     },
     "execution_count": 8,
     "metadata": {},
     "output_type": "execute_result"
    }
   ],
   "source": [
    "consumos_diciembre.head()"
   ]
  },
  {
   "cell_type": "code",
   "execution_count": 9,
   "metadata": {},
   "outputs": [
    {
     "data": {
      "text/html": [
       "<div>\n",
       "<style scoped>\n",
       "    .dataframe tbody tr th:only-of-type {\n",
       "        vertical-align: middle;\n",
       "    }\n",
       "\n",
       "    .dataframe tbody tr th {\n",
       "        vertical-align: top;\n",
       "    }\n",
       "\n",
       "    .dataframe thead th {\n",
       "        text-align: right;\n",
       "    }\n",
       "</style>\n",
       "<table border=\"1\" class=\"dataframe\">\n",
       "  <thead>\n",
       "    <tr style=\"text-align: right;\">\n",
       "      <th></th>\n",
       "      <th>id</th>\n",
       "      <th>financiacion</th>\n",
       "      <th>imp_financ</th>\n",
       "      <th>descuentos</th>\n",
       "    </tr>\n",
       "  </thead>\n",
       "  <tbody>\n",
       "    <tr>\n",
       "      <th>0</th>\n",
       "      <td>2</td>\n",
       "      <td>NaN</td>\n",
       "      <td>NaN</td>\n",
       "      <td>SI</td>\n",
       "    </tr>\n",
       "    <tr>\n",
       "      <th>1</th>\n",
       "      <td>3</td>\n",
       "      <td>NaN</td>\n",
       "      <td>NaN</td>\n",
       "      <td>SI</td>\n",
       "    </tr>\n",
       "    <tr>\n",
       "      <th>2</th>\n",
       "      <td>7</td>\n",
       "      <td>SI</td>\n",
       "      <td>31.553269</td>\n",
       "      <td>NaN</td>\n",
       "    </tr>\n",
       "    <tr>\n",
       "      <th>3</th>\n",
       "      <td>11</td>\n",
       "      <td>NaN</td>\n",
       "      <td>NaN</td>\n",
       "      <td>SI</td>\n",
       "    </tr>\n",
       "    <tr>\n",
       "      <th>4</th>\n",
       "      <td>12</td>\n",
       "      <td>NaN</td>\n",
       "      <td>NaN</td>\n",
       "      <td>SI</td>\n",
       "    </tr>\n",
       "  </tbody>\n",
       "</table>\n",
       "</div>"
      ],
      "text/plain": [
       "   id financiacion  imp_financ descuentos\n",
       "0   2          NaN         NaN         SI\n",
       "1   3          NaN         NaN         SI\n",
       "2   7           SI   31.553269        NaN\n",
       "3  11          NaN         NaN         SI\n",
       "4  12          NaN         NaN         SI"
      ]
     },
     "execution_count": 9,
     "metadata": {},
     "output_type": "execute_result"
    }
   ],
   "source": [
    "financiacion_diciembre.head()"
   ]
  },
  {
   "cell_type": "code",
   "execution_count": 10,
   "metadata": {},
   "outputs": [
    {
     "data": {
      "text/html": [
       "<div>\n",
       "<style scoped>\n",
       "    .dataframe tbody tr th:only-of-type {\n",
       "        vertical-align: middle;\n",
       "    }\n",
       "\n",
       "    .dataframe tbody tr th {\n",
       "        vertical-align: top;\n",
       "    }\n",
       "\n",
       "    .dataframe thead th {\n",
       "        text-align: right;\n",
       "    }\n",
       "</style>\n",
       "<table border=\"1\" class=\"dataframe\">\n",
       "  <thead>\n",
       "    <tr style=\"text-align: right;\">\n",
       "      <th></th>\n",
       "      <th>id</th>\n",
       "      <th>conexion</th>\n",
       "      <th>vel_conexion</th>\n",
       "      <th>TV</th>\n",
       "    </tr>\n",
       "  </thead>\n",
       "  <tbody>\n",
       "    <tr>\n",
       "      <th>0</th>\n",
       "      <td>1</td>\n",
       "      <td>FIBRA</td>\n",
       "      <td>50MB</td>\n",
       "      <td>tv-futbol</td>\n",
       "    </tr>\n",
       "    <tr>\n",
       "      <th>1</th>\n",
       "      <td>2</td>\n",
       "      <td>FIBRA</td>\n",
       "      <td>600MB</td>\n",
       "      <td>tv-futbol</td>\n",
       "    </tr>\n",
       "    <tr>\n",
       "      <th>2</th>\n",
       "      <td>3</td>\n",
       "      <td>ADSL</td>\n",
       "      <td>35MB</td>\n",
       "      <td>tv-futbol</td>\n",
       "    </tr>\n",
       "    <tr>\n",
       "      <th>3</th>\n",
       "      <td>4</td>\n",
       "      <td>FIBRA</td>\n",
       "      <td>200MB</td>\n",
       "      <td>tv-familiar</td>\n",
       "    </tr>\n",
       "    <tr>\n",
       "      <th>4</th>\n",
       "      <td>5</td>\n",
       "      <td>ADSL</td>\n",
       "      <td>10MB</td>\n",
       "      <td>tv-futbol</td>\n",
       "    </tr>\n",
       "  </tbody>\n",
       "</table>\n",
       "</div>"
      ],
      "text/plain": [
       "   id conexion vel_conexion           TV\n",
       "0   1    FIBRA         50MB    tv-futbol\n",
       "1   2    FIBRA        600MB    tv-futbol\n",
       "2   3     ADSL         35MB    tv-futbol\n",
       "3   4    FIBRA        200MB  tv-familiar\n",
       "4   5     ADSL         10MB    tv-futbol"
      ]
     },
     "execution_count": 10,
     "metadata": {},
     "output_type": "execute_result"
    }
   ],
   "source": [
    "productos_diciembre.head()"
   ]
  },
  {
   "cell_type": "code",
   "execution_count": 11,
   "metadata": {},
   "outputs": [
    {
     "data": {
      "text/plain": [
       "(95467, 8)"
      ]
     },
     "execution_count": 11,
     "metadata": {},
     "output_type": "execute_result"
    }
   ],
   "source": [
    "clientes_diciembre.shape"
   ]
  },
  {
   "cell_type": "code",
   "execution_count": 12,
   "metadata": {},
   "outputs": [
    {
     "data": {
      "text/plain": [
       "(95467, 6)"
      ]
     },
     "execution_count": 12,
     "metadata": {},
     "output_type": "execute_result"
    }
   ],
   "source": [
    "consumos_diciembre.shape"
   ]
  },
  {
   "cell_type": "code",
   "execution_count": 13,
   "metadata": {},
   "outputs": [
    {
     "data": {
      "text/plain": [
       "(24198, 4)"
      ]
     },
     "execution_count": 13,
     "metadata": {},
     "output_type": "execute_result"
    }
   ],
   "source": [
    "financiacion_diciembre.shape #Esta tiene menos datos (filas)"
   ]
  },
  {
   "cell_type": "code",
   "execution_count": 14,
   "metadata": {},
   "outputs": [
    {
     "data": {
      "text/plain": [
       "(95467, 4)"
      ]
     },
     "execution_count": 14,
     "metadata": {},
     "output_type": "execute_result"
    }
   ],
   "source": [
    "productos_diciembre.shape"
   ]
  },
  {
   "cell_type": "markdown",
   "metadata": {},
   "source": [
    "### Creacion del tablón (diciembre)\n",
    "\n",
    "#### Vamos a utilizar la función marge que tiene por defecto 'how = inner' ya que vemos que los dataframes tienen las mismas medidas"
   ]
  },
  {
   "cell_type": "code",
   "execution_count": 15,
   "metadata": {},
   "outputs": [],
   "source": [
    "cliente_consumos_diciembre = pd.merge(clientes_diciembre,consumos_diciembre, on='id')\n",
    "\n",
    "#cliente_consumos_diciembre.head()\n",
    "\n",
    "#cliente_consumos_diciembre.shape  -> (95467, 13)"
   ]
  },
  {
   "cell_type": "code",
   "execution_count": 16,
   "metadata": {},
   "outputs": [],
   "source": [
    "cliente_consumos_productos_diciembre = pd.merge(cliente_consumos_diciembre,productos_diciembre, on='id')\n",
    "\n",
    "#cliente_consumos_productos_diciembre.shape  -> (95467, 16)"
   ]
  },
  {
   "cell_type": "markdown",
   "metadata": {},
   "source": [
    "#### Vamos a utilizar la función marge que tiene con 'how = left' ya que vemos que los dataframes no tienen las mismas medidas, y queremos que se unan en base al dataframe que se creo hasta ahora"
   ]
  },
  {
   "cell_type": "code",
   "execution_count": 17,
   "metadata": {},
   "outputs": [],
   "source": [
    "datos_diciembre = pd.merge(cliente_consumos_productos_diciembre,financiacion_diciembre, how='left',on='id', )\n",
    "\n",
    "#Comprobamos que tengamos la mimsa cantidad de filas que al principio en el datafreme de clientes y que esten todas las columas\n",
    "#datos_diciembre.shape  -> (95467, 19)"
   ]
  },
  {
   "cell_type": "code",
   "execution_count": 18,
   "metadata": {},
   "outputs": [
    {
     "data": {
      "text/html": [
       "<div>\n",
       "<style scoped>\n",
       "    .dataframe tbody tr th:only-of-type {\n",
       "        vertical-align: middle;\n",
       "    }\n",
       "\n",
       "    .dataframe tbody tr th {\n",
       "        vertical-align: top;\n",
       "    }\n",
       "\n",
       "    .dataframe thead th {\n",
       "        text-align: right;\n",
       "    }\n",
       "</style>\n",
       "<table border=\"1\" class=\"dataframe\">\n",
       "  <thead>\n",
       "    <tr style=\"text-align: right;\">\n",
       "      <th></th>\n",
       "      <th>id</th>\n",
       "      <th>edad</th>\n",
       "      <th>facturacion</th>\n",
       "      <th>antiguedad</th>\n",
       "      <th>provincia</th>\n",
       "      <th>num_lineas</th>\n",
       "      <th>num_dt</th>\n",
       "      <th>incidencia</th>\n",
       "      <th>num_llamad_ent</th>\n",
       "      <th>num_llamad_sal</th>\n",
       "      <th>mb_datos</th>\n",
       "      <th>seg_llamad_ent</th>\n",
       "      <th>seg_llamad_sal</th>\n",
       "      <th>conexion</th>\n",
       "      <th>vel_conexion</th>\n",
       "      <th>TV</th>\n",
       "      <th>financiacion</th>\n",
       "      <th>imp_financ</th>\n",
       "      <th>descuentos</th>\n",
       "    </tr>\n",
       "  </thead>\n",
       "  <tbody>\n",
       "    <tr>\n",
       "      <th>0</th>\n",
       "      <td>1</td>\n",
       "      <td>63</td>\n",
       "      <td>216.028109</td>\n",
       "      <td>11/23/2018 08:48 AM</td>\n",
       "      <td>La Rioja</td>\n",
       "      <td>5</td>\n",
       "      <td>NaN</td>\n",
       "      <td>NaN</td>\n",
       "      <td>110</td>\n",
       "      <td>79</td>\n",
       "      <td>10897</td>\n",
       "      <td>12806</td>\n",
       "      <td>13751</td>\n",
       "      <td>FIBRA</td>\n",
       "      <td>50MB</td>\n",
       "      <td>tv-futbol</td>\n",
       "      <td>NaN</td>\n",
       "      <td>NaN</td>\n",
       "      <td>NaN</td>\n",
       "    </tr>\n",
       "    <tr>\n",
       "      <th>1</th>\n",
       "      <td>2</td>\n",
       "      <td>84</td>\n",
       "      <td>255.830842</td>\n",
       "      <td>08/22/2017 03:19 AM</td>\n",
       "      <td>Vizcaya</td>\n",
       "      <td>3</td>\n",
       "      <td>NaN</td>\n",
       "      <td>NaN</td>\n",
       "      <td>189</td>\n",
       "      <td>89</td>\n",
       "      <td>18657</td>\n",
       "      <td>6499</td>\n",
       "      <td>10862</td>\n",
       "      <td>FIBRA</td>\n",
       "      <td>600MB</td>\n",
       "      <td>tv-futbol</td>\n",
       "      <td>NaN</td>\n",
       "      <td>NaN</td>\n",
       "      <td>SI</td>\n",
       "    </tr>\n",
       "    <tr>\n",
       "      <th>2</th>\n",
       "      <td>3</td>\n",
       "      <td>66</td>\n",
       "      <td>135.768153</td>\n",
       "      <td>12/27/2001 01:50 PM</td>\n",
       "      <td>Albacete</td>\n",
       "      <td>4</td>\n",
       "      <td>NaN</td>\n",
       "      <td>NaN</td>\n",
       "      <td>129</td>\n",
       "      <td>30</td>\n",
       "      <td>15511</td>\n",
       "      <td>17013</td>\n",
       "      <td>16743</td>\n",
       "      <td>ADSL</td>\n",
       "      <td>35MB</td>\n",
       "      <td>tv-futbol</td>\n",
       "      <td>NaN</td>\n",
       "      <td>NaN</td>\n",
       "      <td>SI</td>\n",
       "    </tr>\n",
       "    <tr>\n",
       "      <th>3</th>\n",
       "      <td>4</td>\n",
       "      <td>69</td>\n",
       "      <td>255.658527</td>\n",
       "      <td>08/08/2015 10:53 AM</td>\n",
       "      <td>Lugo</td>\n",
       "      <td>4</td>\n",
       "      <td>NaN</td>\n",
       "      <td>NaN</td>\n",
       "      <td>51</td>\n",
       "      <td>52</td>\n",
       "      <td>12670</td>\n",
       "      <td>3393</td>\n",
       "      <td>6771</td>\n",
       "      <td>FIBRA</td>\n",
       "      <td>200MB</td>\n",
       "      <td>tv-familiar</td>\n",
       "      <td>NaN</td>\n",
       "      <td>NaN</td>\n",
       "      <td>NaN</td>\n",
       "    </tr>\n",
       "    <tr>\n",
       "      <th>4</th>\n",
       "      <td>5</td>\n",
       "      <td>25</td>\n",
       "      <td>22.302845</td>\n",
       "      <td>08/29/1997 02:19 AM</td>\n",
       "      <td>Tarragona</td>\n",
       "      <td>2</td>\n",
       "      <td>2.0</td>\n",
       "      <td>NaN</td>\n",
       "      <td>183</td>\n",
       "      <td>3</td>\n",
       "      <td>23756</td>\n",
       "      <td>18436</td>\n",
       "      <td>4485</td>\n",
       "      <td>ADSL</td>\n",
       "      <td>10MB</td>\n",
       "      <td>tv-futbol</td>\n",
       "      <td>NaN</td>\n",
       "      <td>NaN</td>\n",
       "      <td>NaN</td>\n",
       "    </tr>\n",
       "  </tbody>\n",
       "</table>\n",
       "</div>"
      ],
      "text/plain": [
       "   id  edad  facturacion           antiguedad  provincia  num_lineas  num_dt  \\\n",
       "0   1    63   216.028109  11/23/2018 08:48 AM   La Rioja           5     NaN   \n",
       "1   2    84   255.830842  08/22/2017 03:19 AM    Vizcaya           3     NaN   \n",
       "2   3    66   135.768153  12/27/2001 01:50 PM   Albacete           4     NaN   \n",
       "3   4    69   255.658527  08/08/2015 10:53 AM       Lugo           4     NaN   \n",
       "4   5    25    22.302845  08/29/1997 02:19 AM  Tarragona           2     2.0   \n",
       "\n",
       "  incidencia  num_llamad_ent  num_llamad_sal  mb_datos  seg_llamad_ent  \\\n",
       "0        NaN             110              79     10897           12806   \n",
       "1        NaN             189              89     18657            6499   \n",
       "2        NaN             129              30     15511           17013   \n",
       "3        NaN              51              52     12670            3393   \n",
       "4        NaN             183               3     23756           18436   \n",
       "\n",
       "   seg_llamad_sal conexion vel_conexion           TV financiacion  imp_financ  \\\n",
       "0           13751    FIBRA         50MB    tv-futbol          NaN         NaN   \n",
       "1           10862    FIBRA        600MB    tv-futbol          NaN         NaN   \n",
       "2           16743     ADSL         35MB    tv-futbol          NaN         NaN   \n",
       "3            6771    FIBRA        200MB  tv-familiar          NaN         NaN   \n",
       "4            4485     ADSL         10MB    tv-futbol          NaN         NaN   \n",
       "\n",
       "  descuentos  \n",
       "0        NaN  \n",
       "1         SI  \n",
       "2         SI  \n",
       "3        NaN  \n",
       "4        NaN  "
      ]
     },
     "execution_count": 18,
     "metadata": {},
     "output_type": "execute_result"
    }
   ],
   "source": [
    "datos_diciembre.head()"
   ]
  },
  {
   "cell_type": "markdown",
   "metadata": {},
   "source": [
    "### Carga de datos (enero)\n",
    "Repetimos el mismo procedimiento"
   ]
  },
  {
   "cell_type": "code",
   "execution_count": 19,
   "metadata": {},
   "outputs": [],
   "source": [
    "clientes_enero = pd.read_csv(\"clientes_enero.csv\", sep='|')\n",
    "consumos_enero = pd.read_csv(\"consumos_enero.csv\", sep='|')\n",
    "financiacion_enero = pd.read_csv(\"financiacion_enero.csv\", sep='|')\n",
    "productos_enero = pd.read_csv(\"productos_enero.csv\", sep='|')"
   ]
  },
  {
   "cell_type": "code",
   "execution_count": 20,
   "metadata": {},
   "outputs": [
    {
     "data": {
      "text/html": [
       "<div>\n",
       "<style scoped>\n",
       "    .dataframe tbody tr th:only-of-type {\n",
       "        vertical-align: middle;\n",
       "    }\n",
       "\n",
       "    .dataframe tbody tr th {\n",
       "        vertical-align: top;\n",
       "    }\n",
       "\n",
       "    .dataframe thead th {\n",
       "        text-align: right;\n",
       "    }\n",
       "</style>\n",
       "<table border=\"1\" class=\"dataframe\">\n",
       "  <thead>\n",
       "    <tr style=\"text-align: right;\">\n",
       "      <th></th>\n",
       "      <th>id</th>\n",
       "      <th>edad</th>\n",
       "      <th>facturacion</th>\n",
       "      <th>antiguedad</th>\n",
       "      <th>provincia</th>\n",
       "      <th>num_lineas</th>\n",
       "      <th>num_dt</th>\n",
       "      <th>incidencia</th>\n",
       "    </tr>\n",
       "  </thead>\n",
       "  <tbody>\n",
       "    <tr>\n",
       "      <th>0</th>\n",
       "      <td>1</td>\n",
       "      <td>63</td>\n",
       "      <td>216.028109</td>\n",
       "      <td>11/23/2018 08:48 AM</td>\n",
       "      <td>La Rioja</td>\n",
       "      <td>5</td>\n",
       "      <td>NaN</td>\n",
       "      <td>NaN</td>\n",
       "    </tr>\n",
       "    <tr>\n",
       "      <th>1</th>\n",
       "      <td>2</td>\n",
       "      <td>84</td>\n",
       "      <td>255.830842</td>\n",
       "      <td>08/22/2017 03:19 AM</td>\n",
       "      <td>Vizcaya</td>\n",
       "      <td>3</td>\n",
       "      <td>NaN</td>\n",
       "      <td>NaN</td>\n",
       "    </tr>\n",
       "    <tr>\n",
       "      <th>2</th>\n",
       "      <td>3</td>\n",
       "      <td>66</td>\n",
       "      <td>135.768153</td>\n",
       "      <td>12/27/2001 01:50 PM</td>\n",
       "      <td>Albacete</td>\n",
       "      <td>4</td>\n",
       "      <td>NaN</td>\n",
       "      <td>NaN</td>\n",
       "    </tr>\n",
       "    <tr>\n",
       "      <th>3</th>\n",
       "      <td>4</td>\n",
       "      <td>69</td>\n",
       "      <td>255.658527</td>\n",
       "      <td>08/08/2015 10:53 AM</td>\n",
       "      <td>Lugo</td>\n",
       "      <td>4</td>\n",
       "      <td>NaN</td>\n",
       "      <td>NaN</td>\n",
       "    </tr>\n",
       "    <tr>\n",
       "      <th>4</th>\n",
       "      <td>6</td>\n",
       "      <td>51</td>\n",
       "      <td>99.348645</td>\n",
       "      <td>11/04/1997 11:43 AM</td>\n",
       "      <td>Huelva</td>\n",
       "      <td>4</td>\n",
       "      <td>NaN</td>\n",
       "      <td>NaN</td>\n",
       "    </tr>\n",
       "  </tbody>\n",
       "</table>\n",
       "</div>"
      ],
      "text/plain": [
       "   id  edad  facturacion           antiguedad provincia  num_lineas  num_dt  \\\n",
       "0   1    63   216.028109  11/23/2018 08:48 AM  La Rioja           5     NaN   \n",
       "1   2    84   255.830842  08/22/2017 03:19 AM   Vizcaya           3     NaN   \n",
       "2   3    66   135.768153  12/27/2001 01:50 PM  Albacete           4     NaN   \n",
       "3   4    69   255.658527  08/08/2015 10:53 AM      Lugo           4     NaN   \n",
       "4   6    51    99.348645  11/04/1997 11:43 AM    Huelva           4     NaN   \n",
       "\n",
       "  incidencia  \n",
       "0        NaN  \n",
       "1        NaN  \n",
       "2        NaN  \n",
       "3        NaN  \n",
       "4        NaN  "
      ]
     },
     "execution_count": 20,
     "metadata": {},
     "output_type": "execute_result"
    }
   ],
   "source": [
    "clientes_enero.head()"
   ]
  },
  {
   "cell_type": "code",
   "execution_count": 21,
   "metadata": {},
   "outputs": [
    {
     "data": {
      "text/html": [
       "<div>\n",
       "<style scoped>\n",
       "    .dataframe tbody tr th:only-of-type {\n",
       "        vertical-align: middle;\n",
       "    }\n",
       "\n",
       "    .dataframe tbody tr th {\n",
       "        vertical-align: top;\n",
       "    }\n",
       "\n",
       "    .dataframe thead th {\n",
       "        text-align: right;\n",
       "    }\n",
       "</style>\n",
       "<table border=\"1\" class=\"dataframe\">\n",
       "  <thead>\n",
       "    <tr style=\"text-align: right;\">\n",
       "      <th></th>\n",
       "      <th>id</th>\n",
       "      <th>num_llamad_ent</th>\n",
       "      <th>num_llamad_sal</th>\n",
       "      <th>mb_datos</th>\n",
       "      <th>seg_llamad_ent</th>\n",
       "      <th>seg_llamad_sal</th>\n",
       "    </tr>\n",
       "  </thead>\n",
       "  <tbody>\n",
       "    <tr>\n",
       "      <th>0</th>\n",
       "      <td>1</td>\n",
       "      <td>95</td>\n",
       "      <td>19</td>\n",
       "      <td>6525</td>\n",
       "      <td>7634</td>\n",
       "      <td>18520</td>\n",
       "    </tr>\n",
       "    <tr>\n",
       "      <th>1</th>\n",
       "      <td>2</td>\n",
       "      <td>44</td>\n",
       "      <td>36</td>\n",
       "      <td>14471</td>\n",
       "      <td>14541</td>\n",
       "      <td>8016</td>\n",
       "    </tr>\n",
       "    <tr>\n",
       "      <th>2</th>\n",
       "      <td>3</td>\n",
       "      <td>94</td>\n",
       "      <td>27</td>\n",
       "      <td>1428</td>\n",
       "      <td>5248</td>\n",
       "      <td>7106</td>\n",
       "    </tr>\n",
       "    <tr>\n",
       "      <th>3</th>\n",
       "      <td>4</td>\n",
       "      <td>186</td>\n",
       "      <td>20</td>\n",
       "      <td>20083</td>\n",
       "      <td>7372</td>\n",
       "      <td>5052</td>\n",
       "    </tr>\n",
       "    <tr>\n",
       "      <th>4</th>\n",
       "      <td>6</td>\n",
       "      <td>37</td>\n",
       "      <td>32</td>\n",
       "      <td>19078</td>\n",
       "      <td>5009</td>\n",
       "      <td>8686</td>\n",
       "    </tr>\n",
       "  </tbody>\n",
       "</table>\n",
       "</div>"
      ],
      "text/plain": [
       "   id  num_llamad_ent  num_llamad_sal  mb_datos  seg_llamad_ent  \\\n",
       "0   1              95              19      6525            7634   \n",
       "1   2              44              36     14471           14541   \n",
       "2   3              94              27      1428            5248   \n",
       "3   4             186              20     20083            7372   \n",
       "4   6              37              32     19078            5009   \n",
       "\n",
       "   seg_llamad_sal  \n",
       "0           18520  \n",
       "1            8016  \n",
       "2            7106  \n",
       "3            5052  \n",
       "4            8686  "
      ]
     },
     "execution_count": 21,
     "metadata": {},
     "output_type": "execute_result"
    }
   ],
   "source": [
    "consumos_enero.head()"
   ]
  },
  {
   "cell_type": "code",
   "execution_count": 22,
   "metadata": {},
   "outputs": [
    {
     "data": {
      "text/html": [
       "<div>\n",
       "<style scoped>\n",
       "    .dataframe tbody tr th:only-of-type {\n",
       "        vertical-align: middle;\n",
       "    }\n",
       "\n",
       "    .dataframe tbody tr th {\n",
       "        vertical-align: top;\n",
       "    }\n",
       "\n",
       "    .dataframe thead th {\n",
       "        text-align: right;\n",
       "    }\n",
       "</style>\n",
       "<table border=\"1\" class=\"dataframe\">\n",
       "  <thead>\n",
       "    <tr style=\"text-align: right;\">\n",
       "      <th></th>\n",
       "      <th>id</th>\n",
       "      <th>financiacion</th>\n",
       "      <th>imp_financ</th>\n",
       "      <th>descuentos</th>\n",
       "    </tr>\n",
       "  </thead>\n",
       "  <tbody>\n",
       "    <tr>\n",
       "      <th>0</th>\n",
       "      <td>2</td>\n",
       "      <td>NaN</td>\n",
       "      <td>NaN</td>\n",
       "      <td>SI</td>\n",
       "    </tr>\n",
       "    <tr>\n",
       "      <th>1</th>\n",
       "      <td>3</td>\n",
       "      <td>NaN</td>\n",
       "      <td>NaN</td>\n",
       "      <td>SI</td>\n",
       "    </tr>\n",
       "    <tr>\n",
       "      <th>2</th>\n",
       "      <td>7</td>\n",
       "      <td>SI</td>\n",
       "      <td>31.553269</td>\n",
       "      <td>NaN</td>\n",
       "    </tr>\n",
       "    <tr>\n",
       "      <th>3</th>\n",
       "      <td>11</td>\n",
       "      <td>NaN</td>\n",
       "      <td>NaN</td>\n",
       "      <td>SI</td>\n",
       "    </tr>\n",
       "    <tr>\n",
       "      <th>4</th>\n",
       "      <td>12</td>\n",
       "      <td>NaN</td>\n",
       "      <td>NaN</td>\n",
       "      <td>SI</td>\n",
       "    </tr>\n",
       "  </tbody>\n",
       "</table>\n",
       "</div>"
      ],
      "text/plain": [
       "   id financiacion  imp_financ descuentos\n",
       "0   2          NaN         NaN         SI\n",
       "1   3          NaN         NaN         SI\n",
       "2   7           SI   31.553269        NaN\n",
       "3  11          NaN         NaN         SI\n",
       "4  12          NaN         NaN         SI"
      ]
     },
     "execution_count": 22,
     "metadata": {},
     "output_type": "execute_result"
    }
   ],
   "source": [
    "financiacion_enero.head()"
   ]
  },
  {
   "cell_type": "code",
   "execution_count": 23,
   "metadata": {},
   "outputs": [
    {
     "data": {
      "text/plain": [
       "(92711, 8)"
      ]
     },
     "execution_count": 23,
     "metadata": {},
     "output_type": "execute_result"
    }
   ],
   "source": [
    "clientes_enero.shape"
   ]
  },
  {
   "cell_type": "code",
   "execution_count": 24,
   "metadata": {},
   "outputs": [
    {
     "data": {
      "text/plain": [
       "(92711, 6)"
      ]
     },
     "execution_count": 24,
     "metadata": {},
     "output_type": "execute_result"
    }
   ],
   "source": [
    "consumos_enero.shape"
   ]
  },
  {
   "cell_type": "code",
   "execution_count": 25,
   "metadata": {},
   "outputs": [
    {
     "data": {
      "text/plain": [
       "(25332, 4)"
      ]
     },
     "execution_count": 25,
     "metadata": {},
     "output_type": "execute_result"
    }
   ],
   "source": [
    "financiacion_enero.shape"
   ]
  },
  {
   "cell_type": "code",
   "execution_count": 26,
   "metadata": {},
   "outputs": [
    {
     "data": {
      "text/plain": [
       "(92711, 4)"
      ]
     },
     "execution_count": 26,
     "metadata": {},
     "output_type": "execute_result"
    }
   ],
   "source": [
    "productos_enero.shape"
   ]
  },
  {
   "cell_type": "markdown",
   "metadata": {},
   "source": [
    "### Creacion del tablón (enero)\n",
    "\n",
    "#### Vamos a utilizar la función marge que tiene por defecto 'how = inner' ya que vemos que los dataframes tienen las mismas medidas"
   ]
  },
  {
   "cell_type": "code",
   "execution_count": 27,
   "metadata": {},
   "outputs": [],
   "source": [
    "cliente_consumos_enero = pd.merge(clientes_enero,consumos_enero, on='id')\n",
    "\n",
    "#cliente_consumos_enero.head()\n",
    "\n",
    "#cliente_consumos_enero.shape -> (92711, 13)"
   ]
  },
  {
   "cell_type": "code",
   "execution_count": 28,
   "metadata": {},
   "outputs": [],
   "source": [
    "cliente_consumos_productos_enero = pd.merge(cliente_consumos_enero,productos_enero, on='id')\n",
    "\n",
    "#cliente_consumos_productos_enero.head()\n",
    "\n",
    "#cliente_consumos_productos_enero.shape -> (92711, 16)"
   ]
  },
  {
   "cell_type": "markdown",
   "metadata": {},
   "source": [
    "#### Vamos a utilizar la función marge que tiene con 'how = left' ya que vemos que los dataframes no tienen las mismas medidas, y queremos que se unan en base al dataframe que se creo hasta ahora"
   ]
  },
  {
   "cell_type": "code",
   "execution_count": 29,
   "metadata": {},
   "outputs": [],
   "source": [
    "datos_enero = pd.merge(cliente_consumos_productos_enero,financiacion_enero, how='left',on='id', )\n",
    "\n",
    "#Comprobamos que tengamos la mimsa cantidad de filas que al principio en el datafreme de clientes y que esten todas las columas\n",
    "#datos_enero.shape -> (92711, 19)"
   ]
  },
  {
   "cell_type": "code",
   "execution_count": 30,
   "metadata": {},
   "outputs": [
    {
     "data": {
      "text/html": [
       "<div>\n",
       "<style scoped>\n",
       "    .dataframe tbody tr th:only-of-type {\n",
       "        vertical-align: middle;\n",
       "    }\n",
       "\n",
       "    .dataframe tbody tr th {\n",
       "        vertical-align: top;\n",
       "    }\n",
       "\n",
       "    .dataframe thead th {\n",
       "        text-align: right;\n",
       "    }\n",
       "</style>\n",
       "<table border=\"1\" class=\"dataframe\">\n",
       "  <thead>\n",
       "    <tr style=\"text-align: right;\">\n",
       "      <th></th>\n",
       "      <th>id</th>\n",
       "      <th>edad</th>\n",
       "      <th>facturacion</th>\n",
       "      <th>antiguedad</th>\n",
       "      <th>provincia</th>\n",
       "      <th>num_lineas</th>\n",
       "      <th>num_dt</th>\n",
       "      <th>incidencia</th>\n",
       "      <th>num_llamad_ent</th>\n",
       "      <th>num_llamad_sal</th>\n",
       "      <th>mb_datos</th>\n",
       "      <th>seg_llamad_ent</th>\n",
       "      <th>seg_llamad_sal</th>\n",
       "      <th>conexion</th>\n",
       "      <th>vel_conexion</th>\n",
       "      <th>TV</th>\n",
       "      <th>financiacion</th>\n",
       "      <th>imp_financ</th>\n",
       "      <th>descuentos</th>\n",
       "    </tr>\n",
       "  </thead>\n",
       "  <tbody>\n",
       "    <tr>\n",
       "      <th>0</th>\n",
       "      <td>1</td>\n",
       "      <td>63</td>\n",
       "      <td>216.028109</td>\n",
       "      <td>11/23/2018 08:48 AM</td>\n",
       "      <td>La Rioja</td>\n",
       "      <td>5</td>\n",
       "      <td>NaN</td>\n",
       "      <td>NaN</td>\n",
       "      <td>95</td>\n",
       "      <td>19</td>\n",
       "      <td>6525</td>\n",
       "      <td>7634</td>\n",
       "      <td>18520</td>\n",
       "      <td>FIBRA</td>\n",
       "      <td>50MB</td>\n",
       "      <td>tv-futbol</td>\n",
       "      <td>NaN</td>\n",
       "      <td>NaN</td>\n",
       "      <td>NaN</td>\n",
       "    </tr>\n",
       "    <tr>\n",
       "      <th>1</th>\n",
       "      <td>2</td>\n",
       "      <td>84</td>\n",
       "      <td>255.830842</td>\n",
       "      <td>08/22/2017 03:19 AM</td>\n",
       "      <td>Vizcaya</td>\n",
       "      <td>3</td>\n",
       "      <td>NaN</td>\n",
       "      <td>NaN</td>\n",
       "      <td>44</td>\n",
       "      <td>36</td>\n",
       "      <td>14471</td>\n",
       "      <td>14541</td>\n",
       "      <td>8016</td>\n",
       "      <td>FIBRA</td>\n",
       "      <td>600MB</td>\n",
       "      <td>tv-futbol</td>\n",
       "      <td>NaN</td>\n",
       "      <td>NaN</td>\n",
       "      <td>SI</td>\n",
       "    </tr>\n",
       "    <tr>\n",
       "      <th>2</th>\n",
       "      <td>3</td>\n",
       "      <td>66</td>\n",
       "      <td>135.768153</td>\n",
       "      <td>12/27/2001 01:50 PM</td>\n",
       "      <td>Albacete</td>\n",
       "      <td>4</td>\n",
       "      <td>NaN</td>\n",
       "      <td>NaN</td>\n",
       "      <td>94</td>\n",
       "      <td>27</td>\n",
       "      <td>1428</td>\n",
       "      <td>5248</td>\n",
       "      <td>7106</td>\n",
       "      <td>ADSL</td>\n",
       "      <td>35MB</td>\n",
       "      <td>tv-futbol</td>\n",
       "      <td>NaN</td>\n",
       "      <td>NaN</td>\n",
       "      <td>SI</td>\n",
       "    </tr>\n",
       "    <tr>\n",
       "      <th>3</th>\n",
       "      <td>4</td>\n",
       "      <td>69</td>\n",
       "      <td>255.658527</td>\n",
       "      <td>08/08/2015 10:53 AM</td>\n",
       "      <td>Lugo</td>\n",
       "      <td>4</td>\n",
       "      <td>NaN</td>\n",
       "      <td>NaN</td>\n",
       "      <td>186</td>\n",
       "      <td>20</td>\n",
       "      <td>20083</td>\n",
       "      <td>7372</td>\n",
       "      <td>5052</td>\n",
       "      <td>FIBRA</td>\n",
       "      <td>200MB</td>\n",
       "      <td>tv-familiar</td>\n",
       "      <td>NaN</td>\n",
       "      <td>NaN</td>\n",
       "      <td>NaN</td>\n",
       "    </tr>\n",
       "    <tr>\n",
       "      <th>4</th>\n",
       "      <td>6</td>\n",
       "      <td>51</td>\n",
       "      <td>99.348645</td>\n",
       "      <td>11/04/1997 11:43 AM</td>\n",
       "      <td>Huelva</td>\n",
       "      <td>4</td>\n",
       "      <td>NaN</td>\n",
       "      <td>NaN</td>\n",
       "      <td>37</td>\n",
       "      <td>32</td>\n",
       "      <td>19078</td>\n",
       "      <td>5009</td>\n",
       "      <td>8686</td>\n",
       "      <td>FIBRA</td>\n",
       "      <td>200MB</td>\n",
       "      <td>tv-futbol</td>\n",
       "      <td>NaN</td>\n",
       "      <td>NaN</td>\n",
       "      <td>NaN</td>\n",
       "    </tr>\n",
       "  </tbody>\n",
       "</table>\n",
       "</div>"
      ],
      "text/plain": [
       "   id  edad  facturacion           antiguedad provincia  num_lineas  num_dt  \\\n",
       "0   1    63   216.028109  11/23/2018 08:48 AM  La Rioja           5     NaN   \n",
       "1   2    84   255.830842  08/22/2017 03:19 AM   Vizcaya           3     NaN   \n",
       "2   3    66   135.768153  12/27/2001 01:50 PM  Albacete           4     NaN   \n",
       "3   4    69   255.658527  08/08/2015 10:53 AM      Lugo           4     NaN   \n",
       "4   6    51    99.348645  11/04/1997 11:43 AM    Huelva           4     NaN   \n",
       "\n",
       "  incidencia  num_llamad_ent  num_llamad_sal  mb_datos  seg_llamad_ent  \\\n",
       "0        NaN              95              19      6525            7634   \n",
       "1        NaN              44              36     14471           14541   \n",
       "2        NaN              94              27      1428            5248   \n",
       "3        NaN             186              20     20083            7372   \n",
       "4        NaN              37              32     19078            5009   \n",
       "\n",
       "   seg_llamad_sal conexion vel_conexion           TV financiacion  imp_financ  \\\n",
       "0           18520    FIBRA         50MB    tv-futbol          NaN         NaN   \n",
       "1            8016    FIBRA        600MB    tv-futbol          NaN         NaN   \n",
       "2            7106     ADSL         35MB    tv-futbol          NaN         NaN   \n",
       "3            5052    FIBRA        200MB  tv-familiar          NaN         NaN   \n",
       "4            8686    FIBRA        200MB    tv-futbol          NaN         NaN   \n",
       "\n",
       "  descuentos  \n",
       "0        NaN  \n",
       "1         SI  \n",
       "2         SI  \n",
       "3        NaN  \n",
       "4        NaN  "
      ]
     },
     "execution_count": 30,
     "metadata": {},
     "output_type": "execute_result"
    }
   ],
   "source": [
    "datos_enero.head()"
   ]
  },
  {
   "cell_type": "markdown",
   "metadata": {},
   "source": [
    "### Creacion de la variable target\n",
    "Mi variable debe decirme los clientes retenidos: los que estaban en diciembre y siguen en enero.\n",
    "\n",
    "Finalmente tenemos que obterner 0 = cliente retenido, 1 = cliente que se va."
   ]
  },
  {
   "cell_type": "code",
   "execution_count": 31,
   "metadata": {},
   "outputs": [
    {
     "data": {
      "text/html": [
       "<div>\n",
       "<style scoped>\n",
       "    .dataframe tbody tr th:only-of-type {\n",
       "        vertical-align: middle;\n",
       "    }\n",
       "\n",
       "    .dataframe tbody tr th {\n",
       "        vertical-align: top;\n",
       "    }\n",
       "\n",
       "    .dataframe thead th {\n",
       "        text-align: right;\n",
       "    }\n",
       "</style>\n",
       "<table border=\"1\" class=\"dataframe\">\n",
       "  <thead>\n",
       "    <tr style=\"text-align: right;\">\n",
       "      <th></th>\n",
       "      <th>id</th>\n",
       "      <th>edad_x</th>\n",
       "      <th>facturacion_x</th>\n",
       "      <th>antiguedad_x</th>\n",
       "      <th>provincia_x</th>\n",
       "      <th>num_lineas_x</th>\n",
       "      <th>num_dt_x</th>\n",
       "      <th>incidencia_x</th>\n",
       "      <th>num_llamad_ent_x</th>\n",
       "      <th>num_llamad_sal_x</th>\n",
       "      <th>...</th>\n",
       "      <th>num_llamad_sal_y</th>\n",
       "      <th>mb_datos_y</th>\n",
       "      <th>seg_llamad_ent_y</th>\n",
       "      <th>seg_llamad_sal_y</th>\n",
       "      <th>conexion_y</th>\n",
       "      <th>vel_conexion_y</th>\n",
       "      <th>TV_y</th>\n",
       "      <th>financiacion_y</th>\n",
       "      <th>imp_financ_y</th>\n",
       "      <th>descuentos_y</th>\n",
       "    </tr>\n",
       "  </thead>\n",
       "  <tbody>\n",
       "    <tr>\n",
       "      <th>0</th>\n",
       "      <td>1</td>\n",
       "      <td>63</td>\n",
       "      <td>216.028109</td>\n",
       "      <td>11/23/2018 08:48 AM</td>\n",
       "      <td>La Rioja</td>\n",
       "      <td>5</td>\n",
       "      <td>NaN</td>\n",
       "      <td>NaN</td>\n",
       "      <td>95</td>\n",
       "      <td>19</td>\n",
       "      <td>...</td>\n",
       "      <td>79</td>\n",
       "      <td>10897</td>\n",
       "      <td>12806</td>\n",
       "      <td>13751</td>\n",
       "      <td>FIBRA</td>\n",
       "      <td>50MB</td>\n",
       "      <td>tv-futbol</td>\n",
       "      <td>NaN</td>\n",
       "      <td>NaN</td>\n",
       "      <td>NaN</td>\n",
       "    </tr>\n",
       "    <tr>\n",
       "      <th>1</th>\n",
       "      <td>2</td>\n",
       "      <td>84</td>\n",
       "      <td>255.830842</td>\n",
       "      <td>08/22/2017 03:19 AM</td>\n",
       "      <td>Vizcaya</td>\n",
       "      <td>3</td>\n",
       "      <td>NaN</td>\n",
       "      <td>NaN</td>\n",
       "      <td>44</td>\n",
       "      <td>36</td>\n",
       "      <td>...</td>\n",
       "      <td>89</td>\n",
       "      <td>18657</td>\n",
       "      <td>6499</td>\n",
       "      <td>10862</td>\n",
       "      <td>FIBRA</td>\n",
       "      <td>600MB</td>\n",
       "      <td>tv-futbol</td>\n",
       "      <td>NaN</td>\n",
       "      <td>NaN</td>\n",
       "      <td>SI</td>\n",
       "    </tr>\n",
       "    <tr>\n",
       "      <th>2</th>\n",
       "      <td>3</td>\n",
       "      <td>66</td>\n",
       "      <td>135.768153</td>\n",
       "      <td>12/27/2001 01:50 PM</td>\n",
       "      <td>Albacete</td>\n",
       "      <td>4</td>\n",
       "      <td>NaN</td>\n",
       "      <td>NaN</td>\n",
       "      <td>94</td>\n",
       "      <td>27</td>\n",
       "      <td>...</td>\n",
       "      <td>30</td>\n",
       "      <td>15511</td>\n",
       "      <td>17013</td>\n",
       "      <td>16743</td>\n",
       "      <td>ADSL</td>\n",
       "      <td>35MB</td>\n",
       "      <td>tv-futbol</td>\n",
       "      <td>NaN</td>\n",
       "      <td>NaN</td>\n",
       "      <td>SI</td>\n",
       "    </tr>\n",
       "    <tr>\n",
       "      <th>3</th>\n",
       "      <td>4</td>\n",
       "      <td>69</td>\n",
       "      <td>255.658527</td>\n",
       "      <td>08/08/2015 10:53 AM</td>\n",
       "      <td>Lugo</td>\n",
       "      <td>4</td>\n",
       "      <td>NaN</td>\n",
       "      <td>NaN</td>\n",
       "      <td>186</td>\n",
       "      <td>20</td>\n",
       "      <td>...</td>\n",
       "      <td>52</td>\n",
       "      <td>12670</td>\n",
       "      <td>3393</td>\n",
       "      <td>6771</td>\n",
       "      <td>FIBRA</td>\n",
       "      <td>200MB</td>\n",
       "      <td>tv-familiar</td>\n",
       "      <td>NaN</td>\n",
       "      <td>NaN</td>\n",
       "      <td>NaN</td>\n",
       "    </tr>\n",
       "    <tr>\n",
       "      <th>4</th>\n",
       "      <td>6</td>\n",
       "      <td>51</td>\n",
       "      <td>99.348645</td>\n",
       "      <td>11/04/1997 11:43 AM</td>\n",
       "      <td>Huelva</td>\n",
       "      <td>4</td>\n",
       "      <td>NaN</td>\n",
       "      <td>NaN</td>\n",
       "      <td>37</td>\n",
       "      <td>32</td>\n",
       "      <td>...</td>\n",
       "      <td>51</td>\n",
       "      <td>18428</td>\n",
       "      <td>8956</td>\n",
       "      <td>4764</td>\n",
       "      <td>FIBRA</td>\n",
       "      <td>200MB</td>\n",
       "      <td>tv-futbol</td>\n",
       "      <td>NaN</td>\n",
       "      <td>NaN</td>\n",
       "      <td>NaN</td>\n",
       "    </tr>\n",
       "    <tr>\n",
       "      <th>...</th>\n",
       "      <td>...</td>\n",
       "      <td>...</td>\n",
       "      <td>...</td>\n",
       "      <td>...</td>\n",
       "      <td>...</td>\n",
       "      <td>...</td>\n",
       "      <td>...</td>\n",
       "      <td>...</td>\n",
       "      <td>...</td>\n",
       "      <td>...</td>\n",
       "      <td>...</td>\n",
       "      <td>...</td>\n",
       "      <td>...</td>\n",
       "      <td>...</td>\n",
       "      <td>...</td>\n",
       "      <td>...</td>\n",
       "      <td>...</td>\n",
       "      <td>...</td>\n",
       "      <td>...</td>\n",
       "      <td>...</td>\n",
       "      <td>...</td>\n",
       "    </tr>\n",
       "    <tr>\n",
       "      <th>88377</th>\n",
       "      <td>99995</td>\n",
       "      <td>65</td>\n",
       "      <td>173.741667</td>\n",
       "      <td>03/05/2019 12:00 AM</td>\n",
       "      <td>Murcia</td>\n",
       "      <td>5</td>\n",
       "      <td>NaN</td>\n",
       "      <td>NaN</td>\n",
       "      <td>42</td>\n",
       "      <td>17</td>\n",
       "      <td>...</td>\n",
       "      <td>98</td>\n",
       "      <td>13403</td>\n",
       "      <td>6197</td>\n",
       "      <td>6853</td>\n",
       "      <td>ADSL</td>\n",
       "      <td>35MB</td>\n",
       "      <td>tv-familiar</td>\n",
       "      <td>SI</td>\n",
       "      <td>23.138779</td>\n",
       "      <td>NaN</td>\n",
       "    </tr>\n",
       "    <tr>\n",
       "      <th>88378</th>\n",
       "      <td>99996</td>\n",
       "      <td>36</td>\n",
       "      <td>215.890326</td>\n",
       "      <td>04/09/2013 01:33 PM</td>\n",
       "      <td>Guadalajara</td>\n",
       "      <td>3</td>\n",
       "      <td>NaN</td>\n",
       "      <td>NaN</td>\n",
       "      <td>217</td>\n",
       "      <td>96</td>\n",
       "      <td>...</td>\n",
       "      <td>13</td>\n",
       "      <td>5291</td>\n",
       "      <td>3684</td>\n",
       "      <td>1667</td>\n",
       "      <td>ADSL</td>\n",
       "      <td>30MB</td>\n",
       "      <td>tv-futbol</td>\n",
       "      <td>NaN</td>\n",
       "      <td>NaN</td>\n",
       "      <td>NaN</td>\n",
       "    </tr>\n",
       "    <tr>\n",
       "      <th>88379</th>\n",
       "      <td>99997</td>\n",
       "      <td>68</td>\n",
       "      <td>285.890750</td>\n",
       "      <td>08/08/2003 11:57 PM</td>\n",
       "      <td>Asturias</td>\n",
       "      <td>5</td>\n",
       "      <td>NaN</td>\n",
       "      <td>NaN</td>\n",
       "      <td>168</td>\n",
       "      <td>99</td>\n",
       "      <td>...</td>\n",
       "      <td>20</td>\n",
       "      <td>20002</td>\n",
       "      <td>572</td>\n",
       "      <td>5679</td>\n",
       "      <td>FIBRA</td>\n",
       "      <td>200MB</td>\n",
       "      <td>tv-futbol</td>\n",
       "      <td>SI</td>\n",
       "      <td>14.616422</td>\n",
       "      <td>NaN</td>\n",
       "    </tr>\n",
       "    <tr>\n",
       "      <th>88380</th>\n",
       "      <td>99998</td>\n",
       "      <td>20</td>\n",
       "      <td>383.167610</td>\n",
       "      <td>03/27/2013 08:07 PM</td>\n",
       "      <td>Álava</td>\n",
       "      <td>4</td>\n",
       "      <td>NaN</td>\n",
       "      <td>NaN</td>\n",
       "      <td>188</td>\n",
       "      <td>71</td>\n",
       "      <td>...</td>\n",
       "      <td>26</td>\n",
       "      <td>16448</td>\n",
       "      <td>833</td>\n",
       "      <td>14398</td>\n",
       "      <td>ADSL</td>\n",
       "      <td>20MB</td>\n",
       "      <td>tv-futbol</td>\n",
       "      <td>NaN</td>\n",
       "      <td>NaN</td>\n",
       "      <td>NaN</td>\n",
       "    </tr>\n",
       "    <tr>\n",
       "      <th>88381</th>\n",
       "      <td>100000</td>\n",
       "      <td>18</td>\n",
       "      <td>57.158927</td>\n",
       "      <td>10/22/2009 07:17 PM</td>\n",
       "      <td>Las Palmas</td>\n",
       "      <td>4</td>\n",
       "      <td>NaN</td>\n",
       "      <td>NaN</td>\n",
       "      <td>217</td>\n",
       "      <td>65</td>\n",
       "      <td>...</td>\n",
       "      <td>25</td>\n",
       "      <td>17933</td>\n",
       "      <td>18617</td>\n",
       "      <td>2115</td>\n",
       "      <td>ADSL</td>\n",
       "      <td>25MB</td>\n",
       "      <td>tv-familiar</td>\n",
       "      <td>NaN</td>\n",
       "      <td>NaN</td>\n",
       "      <td>SI</td>\n",
       "    </tr>\n",
       "  </tbody>\n",
       "</table>\n",
       "<p>88382 rows × 37 columns</p>\n",
       "</div>"
      ],
      "text/plain": [
       "           id  edad_x  facturacion_x         antiguedad_x  provincia_x  \\\n",
       "0           1      63     216.028109  11/23/2018 08:48 AM     La Rioja   \n",
       "1           2      84     255.830842  08/22/2017 03:19 AM      Vizcaya   \n",
       "2           3      66     135.768153  12/27/2001 01:50 PM     Albacete   \n",
       "3           4      69     255.658527  08/08/2015 10:53 AM         Lugo   \n",
       "4           6      51      99.348645  11/04/1997 11:43 AM       Huelva   \n",
       "...       ...     ...            ...                  ...          ...   \n",
       "88377   99995      65     173.741667  03/05/2019 12:00 AM       Murcia   \n",
       "88378   99996      36     215.890326  04/09/2013 01:33 PM  Guadalajara   \n",
       "88379   99997      68     285.890750  08/08/2003 11:57 PM     Asturias   \n",
       "88380   99998      20     383.167610  03/27/2013 08:07 PM        Álava   \n",
       "88381  100000      18      57.158927  10/22/2009 07:17 PM   Las Palmas   \n",
       "\n",
       "       num_lineas_x  num_dt_x incidencia_x  num_llamad_ent_x  \\\n",
       "0                 5       NaN          NaN                95   \n",
       "1                 3       NaN          NaN                44   \n",
       "2                 4       NaN          NaN                94   \n",
       "3                 4       NaN          NaN               186   \n",
       "4                 4       NaN          NaN                37   \n",
       "...             ...       ...          ...               ...   \n",
       "88377             5       NaN          NaN                42   \n",
       "88378             3       NaN          NaN               217   \n",
       "88379             5       NaN          NaN               168   \n",
       "88380             4       NaN          NaN               188   \n",
       "88381             4       NaN          NaN               217   \n",
       "\n",
       "       num_llamad_sal_x  ...  num_llamad_sal_y  mb_datos_y  seg_llamad_ent_y  \\\n",
       "0                    19  ...                79       10897             12806   \n",
       "1                    36  ...                89       18657              6499   \n",
       "2                    27  ...                30       15511             17013   \n",
       "3                    20  ...                52       12670              3393   \n",
       "4                    32  ...                51       18428              8956   \n",
       "...                 ...  ...               ...         ...               ...   \n",
       "88377                17  ...                98       13403              6197   \n",
       "88378                96  ...                13        5291              3684   \n",
       "88379                99  ...                20       20002               572   \n",
       "88380                71  ...                26       16448               833   \n",
       "88381                65  ...                25       17933             18617   \n",
       "\n",
       "      seg_llamad_sal_y conexion_y vel_conexion_y         TV_y  financiacion_y  \\\n",
       "0                13751      FIBRA           50MB    tv-futbol             NaN   \n",
       "1                10862      FIBRA          600MB    tv-futbol             NaN   \n",
       "2                16743       ADSL           35MB    tv-futbol             NaN   \n",
       "3                 6771      FIBRA          200MB  tv-familiar             NaN   \n",
       "4                 4764      FIBRA          200MB    tv-futbol             NaN   \n",
       "...                ...        ...            ...          ...             ...   \n",
       "88377             6853       ADSL           35MB  tv-familiar              SI   \n",
       "88378             1667       ADSL           30MB    tv-futbol             NaN   \n",
       "88379             5679      FIBRA          200MB    tv-futbol              SI   \n",
       "88380            14398       ADSL           20MB    tv-futbol             NaN   \n",
       "88381             2115       ADSL           25MB  tv-familiar             NaN   \n",
       "\n",
       "      imp_financ_y  descuentos_y  \n",
       "0              NaN           NaN  \n",
       "1              NaN            SI  \n",
       "2              NaN            SI  \n",
       "3              NaN           NaN  \n",
       "4              NaN           NaN  \n",
       "...            ...           ...  \n",
       "88377    23.138779           NaN  \n",
       "88378          NaN           NaN  \n",
       "88379    14.616422           NaN  \n",
       "88380          NaN           NaN  \n",
       "88381          NaN            SI  \n",
       "\n",
       "[88382 rows x 37 columns]"
      ]
     },
     "execution_count": 31,
     "metadata": {},
     "output_type": "execute_result"
    }
   ],
   "source": [
    "# Quiero saber los clientes que son los que estaban en diciembre y siguen en Enero (por eso uso el 'inner')\n",
    "datos_retenidos = pd.merge(datos_enero,datos_diciembre, on = 'id')\n",
    "datos_retenidos #estos son los que estan en la compania en enero, el resto se fueron."
   ]
  },
  {
   "cell_type": "code",
   "execution_count": 32,
   "metadata": {},
   "outputs": [
    {
     "data": {
      "text/html": [
       "<div>\n",
       "<style scoped>\n",
       "    .dataframe tbody tr th:only-of-type {\n",
       "        vertical-align: middle;\n",
       "    }\n",
       "\n",
       "    .dataframe tbody tr th {\n",
       "        vertical-align: top;\n",
       "    }\n",
       "\n",
       "    .dataframe thead th {\n",
       "        text-align: right;\n",
       "    }\n",
       "</style>\n",
       "<table border=\"1\" class=\"dataframe\">\n",
       "  <thead>\n",
       "    <tr style=\"text-align: right;\">\n",
       "      <th></th>\n",
       "      <th>id</th>\n",
       "    </tr>\n",
       "  </thead>\n",
       "  <tbody>\n",
       "    <tr>\n",
       "      <th>0</th>\n",
       "      <td>1</td>\n",
       "    </tr>\n",
       "    <tr>\n",
       "      <th>1</th>\n",
       "      <td>2</td>\n",
       "    </tr>\n",
       "    <tr>\n",
       "      <th>2</th>\n",
       "      <td>3</td>\n",
       "    </tr>\n",
       "    <tr>\n",
       "      <th>3</th>\n",
       "      <td>4</td>\n",
       "    </tr>\n",
       "    <tr>\n",
       "      <th>4</th>\n",
       "      <td>6</td>\n",
       "    </tr>\n",
       "    <tr>\n",
       "      <th>...</th>\n",
       "      <td>...</td>\n",
       "    </tr>\n",
       "    <tr>\n",
       "      <th>88377</th>\n",
       "      <td>99995</td>\n",
       "    </tr>\n",
       "    <tr>\n",
       "      <th>88378</th>\n",
       "      <td>99996</td>\n",
       "    </tr>\n",
       "    <tr>\n",
       "      <th>88379</th>\n",
       "      <td>99997</td>\n",
       "    </tr>\n",
       "    <tr>\n",
       "      <th>88380</th>\n",
       "      <td>99998</td>\n",
       "    </tr>\n",
       "    <tr>\n",
       "      <th>88381</th>\n",
       "      <td>100000</td>\n",
       "    </tr>\n",
       "  </tbody>\n",
       "</table>\n",
       "<p>88382 rows × 1 columns</p>\n",
       "</div>"
      ],
      "text/plain": [
       "           id\n",
       "0           1\n",
       "1           2\n",
       "2           3\n",
       "3           4\n",
       "4           6\n",
       "...       ...\n",
       "88377   99995\n",
       "88378   99996\n",
       "88379   99997\n",
       "88380   99998\n",
       "88381  100000\n",
       "\n",
       "[88382 rows x 1 columns]"
      ]
     },
     "execution_count": 32,
     "metadata": {},
     "output_type": "execute_result"
    }
   ],
   "source": [
    "#tomo los id:\n",
    "id_retenidos = datos_retenidos['id']\n",
    "#los paso a data frame:\n",
    "id_retenidos2 = pd.DataFrame(id_retenidos, columns = ['id'])\n",
    "id_retenidos2"
   ]
  },
  {
   "cell_type": "code",
   "execution_count": 33,
   "metadata": {},
   "outputs": [],
   "source": [
    "#le agrego una columna:\n",
    "id_retenidos2.insert(1,'y_cliente', '0') \n",
    "# y_cliente es 0 porque son los que permanecen. Me interesa (exito = 1) los que se van.\n",
    "# Después voy a llevar esta columna \"y_cliente\" al data set de diciembre, los clientes que sean NA seran 1 (exito, que se han ido)"
   ]
  },
  {
   "cell_type": "code",
   "execution_count": 34,
   "metadata": {},
   "outputs": [
    {
     "data": {
      "text/html": [
       "<div>\n",
       "<style scoped>\n",
       "    .dataframe tbody tr th:only-of-type {\n",
       "        vertical-align: middle;\n",
       "    }\n",
       "\n",
       "    .dataframe tbody tr th {\n",
       "        vertical-align: top;\n",
       "    }\n",
       "\n",
       "    .dataframe thead th {\n",
       "        text-align: right;\n",
       "    }\n",
       "</style>\n",
       "<table border=\"1\" class=\"dataframe\">\n",
       "  <thead>\n",
       "    <tr style=\"text-align: right;\">\n",
       "      <th></th>\n",
       "      <th>id</th>\n",
       "      <th>edad</th>\n",
       "      <th>facturacion</th>\n",
       "      <th>antiguedad</th>\n",
       "      <th>provincia</th>\n",
       "      <th>num_lineas</th>\n",
       "      <th>num_dt</th>\n",
       "      <th>incidencia</th>\n",
       "      <th>num_llamad_ent</th>\n",
       "      <th>num_llamad_sal</th>\n",
       "      <th>mb_datos</th>\n",
       "      <th>seg_llamad_ent</th>\n",
       "      <th>seg_llamad_sal</th>\n",
       "      <th>conexion</th>\n",
       "      <th>vel_conexion</th>\n",
       "      <th>TV</th>\n",
       "      <th>financiacion</th>\n",
       "      <th>imp_financ</th>\n",
       "      <th>descuentos</th>\n",
       "      <th>y_cliente</th>\n",
       "    </tr>\n",
       "  </thead>\n",
       "  <tbody>\n",
       "    <tr>\n",
       "      <th>0</th>\n",
       "      <td>1</td>\n",
       "      <td>63</td>\n",
       "      <td>216.028109</td>\n",
       "      <td>11/23/2018 08:48 AM</td>\n",
       "      <td>La Rioja</td>\n",
       "      <td>5</td>\n",
       "      <td>NaN</td>\n",
       "      <td>NaN</td>\n",
       "      <td>110</td>\n",
       "      <td>79</td>\n",
       "      <td>10897</td>\n",
       "      <td>12806</td>\n",
       "      <td>13751</td>\n",
       "      <td>FIBRA</td>\n",
       "      <td>50MB</td>\n",
       "      <td>tv-futbol</td>\n",
       "      <td>NaN</td>\n",
       "      <td>NaN</td>\n",
       "      <td>NaN</td>\n",
       "      <td>0</td>\n",
       "    </tr>\n",
       "    <tr>\n",
       "      <th>1</th>\n",
       "      <td>2</td>\n",
       "      <td>84</td>\n",
       "      <td>255.830842</td>\n",
       "      <td>08/22/2017 03:19 AM</td>\n",
       "      <td>Vizcaya</td>\n",
       "      <td>3</td>\n",
       "      <td>NaN</td>\n",
       "      <td>NaN</td>\n",
       "      <td>189</td>\n",
       "      <td>89</td>\n",
       "      <td>18657</td>\n",
       "      <td>6499</td>\n",
       "      <td>10862</td>\n",
       "      <td>FIBRA</td>\n",
       "      <td>600MB</td>\n",
       "      <td>tv-futbol</td>\n",
       "      <td>NaN</td>\n",
       "      <td>NaN</td>\n",
       "      <td>SI</td>\n",
       "      <td>0</td>\n",
       "    </tr>\n",
       "    <tr>\n",
       "      <th>2</th>\n",
       "      <td>3</td>\n",
       "      <td>66</td>\n",
       "      <td>135.768153</td>\n",
       "      <td>12/27/2001 01:50 PM</td>\n",
       "      <td>Albacete</td>\n",
       "      <td>4</td>\n",
       "      <td>NaN</td>\n",
       "      <td>NaN</td>\n",
       "      <td>129</td>\n",
       "      <td>30</td>\n",
       "      <td>15511</td>\n",
       "      <td>17013</td>\n",
       "      <td>16743</td>\n",
       "      <td>ADSL</td>\n",
       "      <td>35MB</td>\n",
       "      <td>tv-futbol</td>\n",
       "      <td>NaN</td>\n",
       "      <td>NaN</td>\n",
       "      <td>SI</td>\n",
       "      <td>0</td>\n",
       "    </tr>\n",
       "    <tr>\n",
       "      <th>3</th>\n",
       "      <td>4</td>\n",
       "      <td>69</td>\n",
       "      <td>255.658527</td>\n",
       "      <td>08/08/2015 10:53 AM</td>\n",
       "      <td>Lugo</td>\n",
       "      <td>4</td>\n",
       "      <td>NaN</td>\n",
       "      <td>NaN</td>\n",
       "      <td>51</td>\n",
       "      <td>52</td>\n",
       "      <td>12670</td>\n",
       "      <td>3393</td>\n",
       "      <td>6771</td>\n",
       "      <td>FIBRA</td>\n",
       "      <td>200MB</td>\n",
       "      <td>tv-familiar</td>\n",
       "      <td>NaN</td>\n",
       "      <td>NaN</td>\n",
       "      <td>NaN</td>\n",
       "      <td>0</td>\n",
       "    </tr>\n",
       "    <tr>\n",
       "      <th>4</th>\n",
       "      <td>5</td>\n",
       "      <td>25</td>\n",
       "      <td>22.302845</td>\n",
       "      <td>08/29/1997 02:19 AM</td>\n",
       "      <td>Tarragona</td>\n",
       "      <td>2</td>\n",
       "      <td>2.0</td>\n",
       "      <td>NaN</td>\n",
       "      <td>183</td>\n",
       "      <td>3</td>\n",
       "      <td>23756</td>\n",
       "      <td>18436</td>\n",
       "      <td>4485</td>\n",
       "      <td>ADSL</td>\n",
       "      <td>10MB</td>\n",
       "      <td>tv-futbol</td>\n",
       "      <td>NaN</td>\n",
       "      <td>NaN</td>\n",
       "      <td>NaN</td>\n",
       "      <td>NaN</td>\n",
       "    </tr>\n",
       "    <tr>\n",
       "      <th>...</th>\n",
       "      <td>...</td>\n",
       "      <td>...</td>\n",
       "      <td>...</td>\n",
       "      <td>...</td>\n",
       "      <td>...</td>\n",
       "      <td>...</td>\n",
       "      <td>...</td>\n",
       "      <td>...</td>\n",
       "      <td>...</td>\n",
       "      <td>...</td>\n",
       "      <td>...</td>\n",
       "      <td>...</td>\n",
       "      <td>...</td>\n",
       "      <td>...</td>\n",
       "      <td>...</td>\n",
       "      <td>...</td>\n",
       "      <td>...</td>\n",
       "      <td>...</td>\n",
       "      <td>...</td>\n",
       "      <td>...</td>\n",
       "    </tr>\n",
       "    <tr>\n",
       "      <th>95462</th>\n",
       "      <td>99995</td>\n",
       "      <td>65</td>\n",
       "      <td>173.741667</td>\n",
       "      <td>03/05/2019 12:00 AM</td>\n",
       "      <td>Murcia</td>\n",
       "      <td>5</td>\n",
       "      <td>NaN</td>\n",
       "      <td>NaN</td>\n",
       "      <td>121</td>\n",
       "      <td>98</td>\n",
       "      <td>13403</td>\n",
       "      <td>6197</td>\n",
       "      <td>6853</td>\n",
       "      <td>ADSL</td>\n",
       "      <td>35MB</td>\n",
       "      <td>tv-familiar</td>\n",
       "      <td>SI</td>\n",
       "      <td>23.138779</td>\n",
       "      <td>NaN</td>\n",
       "      <td>0</td>\n",
       "    </tr>\n",
       "    <tr>\n",
       "      <th>95463</th>\n",
       "      <td>99996</td>\n",
       "      <td>36</td>\n",
       "      <td>215.890326</td>\n",
       "      <td>04/09/2013 01:33 PM</td>\n",
       "      <td>Guadalajara</td>\n",
       "      <td>3</td>\n",
       "      <td>NaN</td>\n",
       "      <td>NaN</td>\n",
       "      <td>98</td>\n",
       "      <td>13</td>\n",
       "      <td>5291</td>\n",
       "      <td>3684</td>\n",
       "      <td>1667</td>\n",
       "      <td>ADSL</td>\n",
       "      <td>30MB</td>\n",
       "      <td>tv-futbol</td>\n",
       "      <td>NaN</td>\n",
       "      <td>NaN</td>\n",
       "      <td>NaN</td>\n",
       "      <td>0</td>\n",
       "    </tr>\n",
       "    <tr>\n",
       "      <th>95464</th>\n",
       "      <td>99997</td>\n",
       "      <td>68</td>\n",
       "      <td>285.890750</td>\n",
       "      <td>08/08/2003 11:57 PM</td>\n",
       "      <td>Asturias</td>\n",
       "      <td>5</td>\n",
       "      <td>NaN</td>\n",
       "      <td>NaN</td>\n",
       "      <td>226</td>\n",
       "      <td>20</td>\n",
       "      <td>20002</td>\n",
       "      <td>572</td>\n",
       "      <td>5679</td>\n",
       "      <td>FIBRA</td>\n",
       "      <td>200MB</td>\n",
       "      <td>tv-futbol</td>\n",
       "      <td>SI</td>\n",
       "      <td>14.616422</td>\n",
       "      <td>NaN</td>\n",
       "      <td>0</td>\n",
       "    </tr>\n",
       "    <tr>\n",
       "      <th>95465</th>\n",
       "      <td>99998</td>\n",
       "      <td>20</td>\n",
       "      <td>383.167610</td>\n",
       "      <td>03/27/2013 08:07 PM</td>\n",
       "      <td>Álava</td>\n",
       "      <td>4</td>\n",
       "      <td>NaN</td>\n",
       "      <td>NaN</td>\n",
       "      <td>126</td>\n",
       "      <td>26</td>\n",
       "      <td>16448</td>\n",
       "      <td>833</td>\n",
       "      <td>14398</td>\n",
       "      <td>ADSL</td>\n",
       "      <td>20MB</td>\n",
       "      <td>tv-futbol</td>\n",
       "      <td>NaN</td>\n",
       "      <td>NaN</td>\n",
       "      <td>NaN</td>\n",
       "      <td>0</td>\n",
       "    </tr>\n",
       "    <tr>\n",
       "      <th>95466</th>\n",
       "      <td>100000</td>\n",
       "      <td>18</td>\n",
       "      <td>57.158927</td>\n",
       "      <td>10/22/2009 07:17 PM</td>\n",
       "      <td>Las Palmas</td>\n",
       "      <td>4</td>\n",
       "      <td>NaN</td>\n",
       "      <td>NaN</td>\n",
       "      <td>85</td>\n",
       "      <td>25</td>\n",
       "      <td>17933</td>\n",
       "      <td>18617</td>\n",
       "      <td>2115</td>\n",
       "      <td>ADSL</td>\n",
       "      <td>25MB</td>\n",
       "      <td>tv-familiar</td>\n",
       "      <td>NaN</td>\n",
       "      <td>NaN</td>\n",
       "      <td>SI</td>\n",
       "      <td>0</td>\n",
       "    </tr>\n",
       "  </tbody>\n",
       "</table>\n",
       "<p>95467 rows × 20 columns</p>\n",
       "</div>"
      ],
      "text/plain": [
       "           id  edad  facturacion           antiguedad    provincia  \\\n",
       "0           1    63   216.028109  11/23/2018 08:48 AM     La Rioja   \n",
       "1           2    84   255.830842  08/22/2017 03:19 AM      Vizcaya   \n",
       "2           3    66   135.768153  12/27/2001 01:50 PM     Albacete   \n",
       "3           4    69   255.658527  08/08/2015 10:53 AM         Lugo   \n",
       "4           5    25    22.302845  08/29/1997 02:19 AM    Tarragona   \n",
       "...       ...   ...          ...                  ...          ...   \n",
       "95462   99995    65   173.741667  03/05/2019 12:00 AM       Murcia   \n",
       "95463   99996    36   215.890326  04/09/2013 01:33 PM  Guadalajara   \n",
       "95464   99997    68   285.890750  08/08/2003 11:57 PM     Asturias   \n",
       "95465   99998    20   383.167610  03/27/2013 08:07 PM        Álava   \n",
       "95466  100000    18    57.158927  10/22/2009 07:17 PM   Las Palmas   \n",
       "\n",
       "       num_lineas  num_dt incidencia  num_llamad_ent  num_llamad_sal  \\\n",
       "0               5     NaN        NaN             110              79   \n",
       "1               3     NaN        NaN             189              89   \n",
       "2               4     NaN        NaN             129              30   \n",
       "3               4     NaN        NaN              51              52   \n",
       "4               2     2.0        NaN             183               3   \n",
       "...           ...     ...        ...             ...             ...   \n",
       "95462           5     NaN        NaN             121              98   \n",
       "95463           3     NaN        NaN              98              13   \n",
       "95464           5     NaN        NaN             226              20   \n",
       "95465           4     NaN        NaN             126              26   \n",
       "95466           4     NaN        NaN              85              25   \n",
       "\n",
       "       mb_datos  seg_llamad_ent  seg_llamad_sal conexion vel_conexion  \\\n",
       "0         10897           12806           13751    FIBRA         50MB   \n",
       "1         18657            6499           10862    FIBRA        600MB   \n",
       "2         15511           17013           16743     ADSL         35MB   \n",
       "3         12670            3393            6771    FIBRA        200MB   \n",
       "4         23756           18436            4485     ADSL         10MB   \n",
       "...         ...             ...             ...      ...          ...   \n",
       "95462     13403            6197            6853     ADSL         35MB   \n",
       "95463      5291            3684            1667     ADSL         30MB   \n",
       "95464     20002             572            5679    FIBRA        200MB   \n",
       "95465     16448             833           14398     ADSL         20MB   \n",
       "95466     17933           18617            2115     ADSL         25MB   \n",
       "\n",
       "                TV financiacion  imp_financ descuentos y_cliente  \n",
       "0        tv-futbol          NaN         NaN        NaN         0  \n",
       "1        tv-futbol          NaN         NaN         SI         0  \n",
       "2        tv-futbol          NaN         NaN         SI         0  \n",
       "3      tv-familiar          NaN         NaN        NaN         0  \n",
       "4        tv-futbol          NaN         NaN        NaN       NaN  \n",
       "...            ...          ...         ...        ...       ...  \n",
       "95462  tv-familiar           SI   23.138779        NaN         0  \n",
       "95463    tv-futbol          NaN         NaN        NaN         0  \n",
       "95464    tv-futbol           SI   14.616422        NaN         0  \n",
       "95465    tv-futbol          NaN         NaN        NaN         0  \n",
       "95466  tv-familiar          NaN         NaN         SI         0  \n",
       "\n",
       "[95467 rows x 20 columns]"
      ]
     },
     "execution_count": 34,
     "metadata": {},
     "output_type": "execute_result"
    }
   ],
   "source": [
    "datos_diciembre = pd.merge(datos_diciembre, id_retenidos2,on='id',how='left') \n",
    "datos_diciembre\n",
    "#datos_diciembre me queda con la columna y_cliente con 0 y NaN (son los que se fueron)"
   ]
  },
  {
   "cell_type": "code",
   "execution_count": 35,
   "metadata": {},
   "outputs": [
    {
     "data": {
      "text/plain": [
       "(95467, 20)"
      ]
     },
     "execution_count": 35,
     "metadata": {},
     "output_type": "execute_result"
    }
   ],
   "source": [
    "datos_diciembre.shape "
   ]
  },
  {
   "cell_type": "code",
   "execution_count": 36,
   "metadata": {},
   "outputs": [
    {
     "data": {
      "text/plain": [
       "id                    0\n",
       "edad                  0\n",
       "facturacion           0\n",
       "antiguedad            0\n",
       "provincia             0\n",
       "num_lineas            0\n",
       "num_dt            88950\n",
       "incidencia        90235\n",
       "num_llamad_ent        0\n",
       "num_llamad_sal        0\n",
       "mb_datos              0\n",
       "seg_llamad_ent        0\n",
       "seg_llamad_sal        0\n",
       "conexion              0\n",
       "vel_conexion          0\n",
       "TV                    0\n",
       "financiacion      89095\n",
       "imp_financ        89095\n",
       "descuentos        76313\n",
       "y_cliente          7085\n",
       "dtype: int64"
      ]
     },
     "execution_count": 36,
     "metadata": {},
     "output_type": "execute_result"
    }
   ],
   "source": [
    "datos_diciembre.isnull().sum() \n",
    "#Vemos que se fueron 7085 clientes entre diciembre y enero "
   ]
  },
  {
   "cell_type": "markdown",
   "metadata": {},
   "source": [
    "### 2) Pre procesado y limpieza de datos\n",
    "Voy a trabajar solamente transformando mis variables a numéricas, no con variables dummies.\n",
    "\n",
    "** Se que hay maneras de hacer este proceso de manera más eficiente, ya sea creando lista de variables numéricas y categóricas para aplicar modificaciones conjuntas. Sin embargo, preferí hacerlo manualmente debido a tener el control absoluto y porque es la primera vez realizando un trabajo de este estilo en Python."
   ]
  },
  {
   "cell_type": "markdown",
   "metadata": {},
   "source": [
    "#### Análisis de NA's (Dicimebre)"
   ]
  },
  {
   "cell_type": "code",
   "execution_count": 37,
   "metadata": {
    "scrolled": true
   },
   "outputs": [
    {
     "data": {
      "text/plain": [
       "id                    0\n",
       "edad                  0\n",
       "facturacion           0\n",
       "antiguedad            0\n",
       "provincia             0\n",
       "num_lineas            0\n",
       "num_dt            88950\n",
       "incidencia        90235\n",
       "num_llamad_ent        0\n",
       "num_llamad_sal        0\n",
       "mb_datos              0\n",
       "seg_llamad_ent        0\n",
       "seg_llamad_sal        0\n",
       "conexion              0\n",
       "vel_conexion          0\n",
       "TV                    0\n",
       "financiacion      89095\n",
       "imp_financ        89095\n",
       "descuentos        76313\n",
       "y_cliente          7085\n",
       "dtype: int64"
      ]
     },
     "execution_count": 37,
     "metadata": {},
     "output_type": "execute_result"
    }
   ],
   "source": [
    "#Nos fijamos en qué variables tenemos NA's para ver cómo completarlo\n",
    "datos_diciembre.isnull().sum()"
   ]
  },
  {
   "cell_type": "markdown",
   "metadata": {},
   "source": [
    "Vemos que tenemos que arreglar 6 variables"
   ]
  },
  {
   "cell_type": "code",
   "execution_count": 38,
   "metadata": {},
   "outputs": [],
   "source": [
    "#1) 'num_dt' Son las lineas que están impagas, en caso de estár en blanco vamos a completarlos por un 0.\n",
    "datos_diciembre['num_dt'] = datos_diciembre['num_dt'].replace(np.nan, 0)"
   ]
  },
  {
   "cell_type": "code",
   "execution_count": 39,
   "metadata": {},
   "outputs": [],
   "source": [
    "#2) 'incidencia' Si está en blanco es porque el cliente no tiene ninguna incidencia\n",
    "datos_diciembre['incidencia'] = datos_diciembre['incidencia'].replace(np.nan, 'NO')"
   ]
  },
  {
   "cell_type": "code",
   "execution_count": 40,
   "metadata": {},
   "outputs": [],
   "source": [
    "#3) 'financiacion' Si está en blanco e sorque el cliente no tienen ninguna financiacion\n",
    "datos_diciembre['financiacion'] = datos_diciembre['financiacion'].replace(np.nan, 'NO')"
   ]
  },
  {
   "cell_type": "code",
   "execution_count": 41,
   "metadata": {},
   "outputs": [],
   "source": [
    "#4) 'imp_financ ' Si está en blanco e sorque el cliente no tienen ninguna financiacion y por lo tanto no tienen ningún importe financiado\n",
    "datos_diciembre['imp_financ'] = datos_diciembre['imp_financ'].replace(np.nan, 0)"
   ]
  },
  {
   "cell_type": "code",
   "execution_count": 42,
   "metadata": {},
   "outputs": [],
   "source": [
    "#5) 'descuentos ' Si está en blanco es porque el cliente no tiene ningún tipo de descuente\n",
    "datos_diciembre['descuentos'] = datos_diciembre['descuentos'].replace(np.nan, 0)"
   ]
  },
  {
   "cell_type": "code",
   "execution_count": 43,
   "metadata": {},
   "outputs": [],
   "source": [
    "#6) 'y_cliente ' Si está en blanco es porque el cliente se marchó enre un mes y otro. \n",
    "datos_diciembre['y_cliente'] = datos_diciembre['y_cliente'].replace(np.nan, 1)\n",
    "datos_diciembre['y_cliente'] = datos_diciembre['y_cliente'].astype(int)"
   ]
  },
  {
   "cell_type": "code",
   "execution_count": 44,
   "metadata": {
    "scrolled": true
   },
   "outputs": [
    {
     "data": {
      "text/plain": [
       "id                0\n",
       "edad              0\n",
       "facturacion       0\n",
       "antiguedad        0\n",
       "provincia         0\n",
       "num_lineas        0\n",
       "num_dt            0\n",
       "incidencia        0\n",
       "num_llamad_ent    0\n",
       "num_llamad_sal    0\n",
       "mb_datos          0\n",
       "seg_llamad_ent    0\n",
       "seg_llamad_sal    0\n",
       "conexion          0\n",
       "vel_conexion      0\n",
       "TV                0\n",
       "financiacion      0\n",
       "imp_financ        0\n",
       "descuentos        0\n",
       "y_cliente         0\n",
       "dtype: int64"
      ]
     },
     "execution_count": 44,
     "metadata": {},
     "output_type": "execute_result"
    }
   ],
   "source": [
    "#Comprobamos que no temos ningún NA\n",
    "datos_diciembre.isnull().sum()"
   ]
  },
  {
   "cell_type": "markdown",
   "metadata": {},
   "source": [
    "#### --- Análsis de las variables numércias --- (Diciembre)"
   ]
  },
  {
   "cell_type": "code",
   "execution_count": 45,
   "metadata": {},
   "outputs": [
    {
     "data": {
      "text/plain": [
       "id                  int64\n",
       "edad                int64\n",
       "facturacion       float64\n",
       "antiguedad         object\n",
       "provincia          object\n",
       "num_lineas          int64\n",
       "num_dt            float64\n",
       "incidencia         object\n",
       "num_llamad_ent      int64\n",
       "num_llamad_sal      int64\n",
       "mb_datos            int64\n",
       "seg_llamad_ent      int64\n",
       "seg_llamad_sal      int64\n",
       "conexion           object\n",
       "vel_conexion       object\n",
       "TV                 object\n",
       "financiacion       object\n",
       "imp_financ        float64\n",
       "descuentos         object\n",
       "y_cliente           int64\n",
       "dtype: object"
      ]
     },
     "execution_count": 45,
     "metadata": {},
     "output_type": "execute_result"
    }
   ],
   "source": [
    "#Veo el tipo de datos que tengo \n",
    "datos_diciembre.dtypes #Tenemos 12 variables numéricas"
   ]
  },
  {
   "cell_type": "code",
   "execution_count": 46,
   "metadata": {},
   "outputs": [
    {
     "data": {
      "text/html": [
       "<div>\n",
       "<style scoped>\n",
       "    .dataframe tbody tr th:only-of-type {\n",
       "        vertical-align: middle;\n",
       "    }\n",
       "\n",
       "    .dataframe tbody tr th {\n",
       "        vertical-align: top;\n",
       "    }\n",
       "\n",
       "    .dataframe thead th {\n",
       "        text-align: right;\n",
       "    }\n",
       "</style>\n",
       "<table border=\"1\" class=\"dataframe\">\n",
       "  <thead>\n",
       "    <tr style=\"text-align: right;\">\n",
       "      <th></th>\n",
       "      <th>id</th>\n",
       "      <th>edad</th>\n",
       "      <th>facturacion</th>\n",
       "      <th>num_lineas</th>\n",
       "      <th>num_dt</th>\n",
       "      <th>num_llamad_ent</th>\n",
       "      <th>num_llamad_sal</th>\n",
       "      <th>mb_datos</th>\n",
       "      <th>seg_llamad_ent</th>\n",
       "      <th>seg_llamad_sal</th>\n",
       "      <th>imp_financ</th>\n",
       "      <th>y_cliente</th>\n",
       "    </tr>\n",
       "  </thead>\n",
       "  <tbody>\n",
       "    <tr>\n",
       "      <th>count</th>\n",
       "      <td>95467.000000</td>\n",
       "      <td>95467.000000</td>\n",
       "      <td>95467.000000</td>\n",
       "      <td>95467.000000</td>\n",
       "      <td>95467.000000</td>\n",
       "      <td>95467.000000</td>\n",
       "      <td>95467.000000</td>\n",
       "      <td>95467.000000</td>\n",
       "      <td>95467.000000</td>\n",
       "      <td>95467.000000</td>\n",
       "      <td>95467.000000</td>\n",
       "      <td>95467.000000</td>\n",
       "    </tr>\n",
       "    <tr>\n",
       "      <th>mean</th>\n",
       "      <td>49994.256832</td>\n",
       "      <td>51.462086</td>\n",
       "      <td>207.392912</td>\n",
       "      <td>3.558518</td>\n",
       "      <td>0.170530</td>\n",
       "      <td>124.815633</td>\n",
       "      <td>50.022762</td>\n",
       "      <td>12489.795898</td>\n",
       "      <td>9984.406612</td>\n",
       "      <td>10029.761342</td>\n",
       "      <td>1.486331</td>\n",
       "      <td>0.074214</td>\n",
       "    </tr>\n",
       "    <tr>\n",
       "      <th>std</th>\n",
       "      <td>28873.008865</td>\n",
       "      <td>19.590846</td>\n",
       "      <td>111.343491</td>\n",
       "      <td>1.086095</td>\n",
       "      <td>0.694799</td>\n",
       "      <td>72.492338</td>\n",
       "      <td>29.119904</td>\n",
       "      <td>7239.421267</td>\n",
       "      <td>5763.182070</td>\n",
       "      <td>5763.518604</td>\n",
       "      <td>6.148373</td>\n",
       "      <td>0.262120</td>\n",
       "    </tr>\n",
       "    <tr>\n",
       "      <th>min</th>\n",
       "      <td>1.000000</td>\n",
       "      <td>18.000000</td>\n",
       "      <td>15.000439</td>\n",
       "      <td>1.000000</td>\n",
       "      <td>0.000000</td>\n",
       "      <td>0.000000</td>\n",
       "      <td>0.000000</td>\n",
       "      <td>0.000000</td>\n",
       "      <td>0.000000</td>\n",
       "      <td>0.000000</td>\n",
       "      <td>0.000000</td>\n",
       "      <td>0.000000</td>\n",
       "    </tr>\n",
       "    <tr>\n",
       "      <th>25%</th>\n",
       "      <td>24997.500000</td>\n",
       "      <td>35.000000</td>\n",
       "      <td>111.383822</td>\n",
       "      <td>3.000000</td>\n",
       "      <td>0.000000</td>\n",
       "      <td>62.000000</td>\n",
       "      <td>25.000000</td>\n",
       "      <td>6177.500000</td>\n",
       "      <td>5006.000000</td>\n",
       "      <td>5055.000000</td>\n",
       "      <td>0.000000</td>\n",
       "      <td>0.000000</td>\n",
       "    </tr>\n",
       "    <tr>\n",
       "      <th>50%</th>\n",
       "      <td>49970.000000</td>\n",
       "      <td>51.000000</td>\n",
       "      <td>206.808431</td>\n",
       "      <td>4.000000</td>\n",
       "      <td>0.000000</td>\n",
       "      <td>124.000000</td>\n",
       "      <td>50.000000</td>\n",
       "      <td>12466.000000</td>\n",
       "      <td>9965.000000</td>\n",
       "      <td>10024.000000</td>\n",
       "      <td>0.000000</td>\n",
       "      <td>0.000000</td>\n",
       "    </tr>\n",
       "    <tr>\n",
       "      <th>75%</th>\n",
       "      <td>75021.500000</td>\n",
       "      <td>68.000000</td>\n",
       "      <td>304.436599</td>\n",
       "      <td>4.000000</td>\n",
       "      <td>0.000000</td>\n",
       "      <td>188.000000</td>\n",
       "      <td>75.000000</td>\n",
       "      <td>18785.500000</td>\n",
       "      <td>14969.000000</td>\n",
       "      <td>15007.000000</td>\n",
       "      <td>0.000000</td>\n",
       "      <td>0.000000</td>\n",
       "    </tr>\n",
       "    <tr>\n",
       "      <th>max</th>\n",
       "      <td>100000.000000</td>\n",
       "      <td>85.000000</td>\n",
       "      <td>399.998433</td>\n",
       "      <td>5.000000</td>\n",
       "      <td>4.000000</td>\n",
       "      <td>250.000000</td>\n",
       "      <td>100.000000</td>\n",
       "      <td>25000.000000</td>\n",
       "      <td>20000.000000</td>\n",
       "      <td>20000.000000</td>\n",
       "      <td>39.990128</td>\n",
       "      <td>1.000000</td>\n",
       "    </tr>\n",
       "  </tbody>\n",
       "</table>\n",
       "</div>"
      ],
      "text/plain": [
       "                  id          edad   facturacion    num_lineas        num_dt  \\\n",
       "count   95467.000000  95467.000000  95467.000000  95467.000000  95467.000000   \n",
       "mean    49994.256832     51.462086    207.392912      3.558518      0.170530   \n",
       "std     28873.008865     19.590846    111.343491      1.086095      0.694799   \n",
       "min         1.000000     18.000000     15.000439      1.000000      0.000000   \n",
       "25%     24997.500000     35.000000    111.383822      3.000000      0.000000   \n",
       "50%     49970.000000     51.000000    206.808431      4.000000      0.000000   \n",
       "75%     75021.500000     68.000000    304.436599      4.000000      0.000000   \n",
       "max    100000.000000     85.000000    399.998433      5.000000      4.000000   \n",
       "\n",
       "       num_llamad_ent  num_llamad_sal      mb_datos  seg_llamad_ent  \\\n",
       "count    95467.000000    95467.000000  95467.000000    95467.000000   \n",
       "mean       124.815633       50.022762  12489.795898     9984.406612   \n",
       "std         72.492338       29.119904   7239.421267     5763.182070   \n",
       "min          0.000000        0.000000      0.000000        0.000000   \n",
       "25%         62.000000       25.000000   6177.500000     5006.000000   \n",
       "50%        124.000000       50.000000  12466.000000     9965.000000   \n",
       "75%        188.000000       75.000000  18785.500000    14969.000000   \n",
       "max        250.000000      100.000000  25000.000000    20000.000000   \n",
       "\n",
       "       seg_llamad_sal    imp_financ     y_cliente  \n",
       "count    95467.000000  95467.000000  95467.000000  \n",
       "mean     10029.761342      1.486331      0.074214  \n",
       "std       5763.518604      6.148373      0.262120  \n",
       "min          0.000000      0.000000      0.000000  \n",
       "25%       5055.000000      0.000000      0.000000  \n",
       "50%      10024.000000      0.000000      0.000000  \n",
       "75%      15007.000000      0.000000      0.000000  \n",
       "max      20000.000000     39.990128      1.000000  "
      ]
     },
     "execution_count": 46,
     "metadata": {},
     "output_type": "execute_result"
    }
   ],
   "source": [
    "#Vemos las variables numéricas.\n",
    "datos_diciembre.describe() # -> no encontramos nada raro"
   ]
  },
  {
   "cell_type": "code",
   "execution_count": 47,
   "metadata": {},
   "outputs": [
    {
     "data": {
      "text/plain": [
       "2047     1\n",
       "76464    1\n",
       "27288    1\n",
       "25241    1\n",
       "31386    1\n",
       "        ..\n",
       "54640    1\n",
       "56689    1\n",
       "50546    1\n",
       "52595    1\n",
       "2049     1\n",
       "Name: id, Length: 95467, dtype: int64"
      ]
     },
     "execution_count": 47,
     "metadata": {},
     "output_type": "execute_result"
    }
   ],
   "source": [
    "#Comprobamos que no tenemos ID repetidos\n",
    "datos_diciembre['id'].value_counts() "
   ]
  },
  {
   "cell_type": "markdown",
   "metadata": {},
   "source": [
    "#### --- Análsis de las variables no numércias --- (Dicimebre)"
   ]
  },
  {
   "cell_type": "markdown",
   "metadata": {},
   "source": [
    "A tratar: antiguedad, provincia, incidencia, conexion, vel_conexion, TV, financiacion, descuentos"
   ]
  },
  {
   "cell_type": "markdown",
   "metadata": {},
   "source": [
    "1) ANTIGUEDAD"
   ]
  },
  {
   "cell_type": "code",
   "execution_count": 48,
   "metadata": {
    "scrolled": true
   },
   "outputs": [
    {
     "data": {
      "text/plain": [
       "95171"
      ]
     },
     "execution_count": 48,
     "metadata": {},
     "output_type": "execute_result"
    }
   ],
   "source": [
    "len(datos_diciembre['antiguedad'].unique())"
   ]
  },
  {
   "cell_type": "code",
   "execution_count": 49,
   "metadata": {},
   "outputs": [
    {
     "data": {
      "text/plain": [
       "12/12/1997 03:20 PM    2\n",
       "04/23/2001 03:13 PM    2\n",
       "06/08/2016 08:34 PM    2\n",
       "02/02/1996 12:39 PM    2\n",
       "03/02/2008 01:50 AM    2\n",
       "                      ..\n",
       "04/16/2019 11:43 AM    1\n",
       "10/29/1999 07:12 AM    1\n",
       "06/22/2009 04:50 AM    1\n",
       "02/26/2002 02:35 PM    1\n",
       "08/27/2008 01:48 PM    1\n",
       "Name: antiguedad, Length: 95171, dtype: int64"
      ]
     },
     "execution_count": 49,
     "metadata": {},
     "output_type": "execute_result"
    }
   ],
   "source": [
    "datos_diciembre['antiguedad'].value_counts() \n",
    "# Vemos que algunas fechas se repiten dos veces"
   ]
  },
  {
   "cell_type": "code",
   "execution_count": 50,
   "metadata": {},
   "outputs": [],
   "source": [
    "# Paso la fecha a formato datatime:\n",
    "datos_diciembre['antiguedad'] = pd.to_datetime(datos_diciembre['antiguedad'])"
   ]
  },
  {
   "cell_type": "markdown",
   "metadata": {},
   "source": [
    "Vamos a crear una nueva variable que me diga la antiguedad en años del cliente"
   ]
  },
  {
   "cell_type": "code",
   "execution_count": 51,
   "metadata": {},
   "outputs": [
    {
     "data": {
      "text/html": [
       "<div>\n",
       "<style scoped>\n",
       "    .dataframe tbody tr th:only-of-type {\n",
       "        vertical-align: middle;\n",
       "    }\n",
       "\n",
       "    .dataframe tbody tr th {\n",
       "        vertical-align: top;\n",
       "    }\n",
       "\n",
       "    .dataframe thead th {\n",
       "        text-align: right;\n",
       "    }\n",
       "</style>\n",
       "<table border=\"1\" class=\"dataframe\">\n",
       "  <thead>\n",
       "    <tr style=\"text-align: right;\">\n",
       "      <th></th>\n",
       "      <th>id</th>\n",
       "      <th>edad</th>\n",
       "      <th>facturacion</th>\n",
       "      <th>antiguedad</th>\n",
       "      <th>provincia</th>\n",
       "      <th>num_lineas</th>\n",
       "      <th>num_dt</th>\n",
       "      <th>incidencia</th>\n",
       "      <th>num_llamad_ent</th>\n",
       "      <th>num_llamad_sal</th>\n",
       "      <th>...</th>\n",
       "      <th>seg_llamad_ent</th>\n",
       "      <th>seg_llamad_sal</th>\n",
       "      <th>conexion</th>\n",
       "      <th>vel_conexion</th>\n",
       "      <th>TV</th>\n",
       "      <th>financiacion</th>\n",
       "      <th>imp_financ</th>\n",
       "      <th>descuentos</th>\n",
       "      <th>y_cliente</th>\n",
       "      <th>año_ingreso</th>\n",
       "    </tr>\n",
       "  </thead>\n",
       "  <tbody>\n",
       "    <tr>\n",
       "      <th>0</th>\n",
       "      <td>1</td>\n",
       "      <td>63</td>\n",
       "      <td>216.028109</td>\n",
       "      <td>2018-11-23 08:48:00</td>\n",
       "      <td>La Rioja</td>\n",
       "      <td>5</td>\n",
       "      <td>0.0</td>\n",
       "      <td>NO</td>\n",
       "      <td>110</td>\n",
       "      <td>79</td>\n",
       "      <td>...</td>\n",
       "      <td>12806</td>\n",
       "      <td>13751</td>\n",
       "      <td>FIBRA</td>\n",
       "      <td>50MB</td>\n",
       "      <td>tv-futbol</td>\n",
       "      <td>NO</td>\n",
       "      <td>0.0</td>\n",
       "      <td>0</td>\n",
       "      <td>0</td>\n",
       "      <td>2018</td>\n",
       "    </tr>\n",
       "    <tr>\n",
       "      <th>1</th>\n",
       "      <td>2</td>\n",
       "      <td>84</td>\n",
       "      <td>255.830842</td>\n",
       "      <td>2017-08-22 03:19:00</td>\n",
       "      <td>Vizcaya</td>\n",
       "      <td>3</td>\n",
       "      <td>0.0</td>\n",
       "      <td>NO</td>\n",
       "      <td>189</td>\n",
       "      <td>89</td>\n",
       "      <td>...</td>\n",
       "      <td>6499</td>\n",
       "      <td>10862</td>\n",
       "      <td>FIBRA</td>\n",
       "      <td>600MB</td>\n",
       "      <td>tv-futbol</td>\n",
       "      <td>NO</td>\n",
       "      <td>0.0</td>\n",
       "      <td>SI</td>\n",
       "      <td>0</td>\n",
       "      <td>2017</td>\n",
       "    </tr>\n",
       "    <tr>\n",
       "      <th>2</th>\n",
       "      <td>3</td>\n",
       "      <td>66</td>\n",
       "      <td>135.768153</td>\n",
       "      <td>2001-12-27 13:50:00</td>\n",
       "      <td>Albacete</td>\n",
       "      <td>4</td>\n",
       "      <td>0.0</td>\n",
       "      <td>NO</td>\n",
       "      <td>129</td>\n",
       "      <td>30</td>\n",
       "      <td>...</td>\n",
       "      <td>17013</td>\n",
       "      <td>16743</td>\n",
       "      <td>ADSL</td>\n",
       "      <td>35MB</td>\n",
       "      <td>tv-futbol</td>\n",
       "      <td>NO</td>\n",
       "      <td>0.0</td>\n",
       "      <td>SI</td>\n",
       "      <td>0</td>\n",
       "      <td>2001</td>\n",
       "    </tr>\n",
       "    <tr>\n",
       "      <th>3</th>\n",
       "      <td>4</td>\n",
       "      <td>69</td>\n",
       "      <td>255.658527</td>\n",
       "      <td>2015-08-08 10:53:00</td>\n",
       "      <td>Lugo</td>\n",
       "      <td>4</td>\n",
       "      <td>0.0</td>\n",
       "      <td>NO</td>\n",
       "      <td>51</td>\n",
       "      <td>52</td>\n",
       "      <td>...</td>\n",
       "      <td>3393</td>\n",
       "      <td>6771</td>\n",
       "      <td>FIBRA</td>\n",
       "      <td>200MB</td>\n",
       "      <td>tv-familiar</td>\n",
       "      <td>NO</td>\n",
       "      <td>0.0</td>\n",
       "      <td>0</td>\n",
       "      <td>0</td>\n",
       "      <td>2015</td>\n",
       "    </tr>\n",
       "    <tr>\n",
       "      <th>4</th>\n",
       "      <td>5</td>\n",
       "      <td>25</td>\n",
       "      <td>22.302845</td>\n",
       "      <td>1997-08-29 02:19:00</td>\n",
       "      <td>Tarragona</td>\n",
       "      <td>2</td>\n",
       "      <td>2.0</td>\n",
       "      <td>NO</td>\n",
       "      <td>183</td>\n",
       "      <td>3</td>\n",
       "      <td>...</td>\n",
       "      <td>18436</td>\n",
       "      <td>4485</td>\n",
       "      <td>ADSL</td>\n",
       "      <td>10MB</td>\n",
       "      <td>tv-futbol</td>\n",
       "      <td>NO</td>\n",
       "      <td>0.0</td>\n",
       "      <td>0</td>\n",
       "      <td>1</td>\n",
       "      <td>1997</td>\n",
       "    </tr>\n",
       "  </tbody>\n",
       "</table>\n",
       "<p>5 rows × 21 columns</p>\n",
       "</div>"
      ],
      "text/plain": [
       "   id  edad  facturacion          antiguedad  provincia  num_lineas  num_dt  \\\n",
       "0   1    63   216.028109 2018-11-23 08:48:00   La Rioja           5     0.0   \n",
       "1   2    84   255.830842 2017-08-22 03:19:00    Vizcaya           3     0.0   \n",
       "2   3    66   135.768153 2001-12-27 13:50:00   Albacete           4     0.0   \n",
       "3   4    69   255.658527 2015-08-08 10:53:00       Lugo           4     0.0   \n",
       "4   5    25    22.302845 1997-08-29 02:19:00  Tarragona           2     2.0   \n",
       "\n",
       "  incidencia  num_llamad_ent  num_llamad_sal  ...  seg_llamad_ent  \\\n",
       "0         NO             110              79  ...           12806   \n",
       "1         NO             189              89  ...            6499   \n",
       "2         NO             129              30  ...           17013   \n",
       "3         NO              51              52  ...            3393   \n",
       "4         NO             183               3  ...           18436   \n",
       "\n",
       "   seg_llamad_sal  conexion vel_conexion           TV financiacion imp_financ  \\\n",
       "0           13751     FIBRA         50MB    tv-futbol           NO        0.0   \n",
       "1           10862     FIBRA        600MB    tv-futbol           NO        0.0   \n",
       "2           16743      ADSL         35MB    tv-futbol           NO        0.0   \n",
       "3            6771     FIBRA        200MB  tv-familiar           NO        0.0   \n",
       "4            4485      ADSL         10MB    tv-futbol           NO        0.0   \n",
       "\n",
       "   descuentos y_cliente  año_ingreso  \n",
       "0           0         0         2018  \n",
       "1          SI         0         2017  \n",
       "2          SI         0         2001  \n",
       "3           0         0         2015  \n",
       "4           0         1         1997  \n",
       "\n",
       "[5 rows x 21 columns]"
      ]
     },
     "execution_count": 51,
     "metadata": {},
     "output_type": "execute_result"
    }
   ],
   "source": [
    "#Creo una columna que contenga el año de ingreso a la compañia para despues calcular su antiguedad en años\n",
    "datos_diciembre['año_ingreso'] = pd.DatetimeIndex(datos_diciembre['antiguedad']).year\n",
    "datos_diciembre.head()"
   ]
  },
  {
   "cell_type": "code",
   "execution_count": 52,
   "metadata": {},
   "outputs": [
    {
     "data": {
      "text/html": [
       "<div>\n",
       "<style scoped>\n",
       "    .dataframe tbody tr th:only-of-type {\n",
       "        vertical-align: middle;\n",
       "    }\n",
       "\n",
       "    .dataframe tbody tr th {\n",
       "        vertical-align: top;\n",
       "    }\n",
       "\n",
       "    .dataframe thead th {\n",
       "        text-align: right;\n",
       "    }\n",
       "</style>\n",
       "<table border=\"1\" class=\"dataframe\">\n",
       "  <thead>\n",
       "    <tr style=\"text-align: right;\">\n",
       "      <th></th>\n",
       "      <th>id</th>\n",
       "      <th>edad</th>\n",
       "      <th>facturacion</th>\n",
       "      <th>antiguedad</th>\n",
       "      <th>provincia</th>\n",
       "      <th>num_lineas</th>\n",
       "      <th>num_dt</th>\n",
       "      <th>incidencia</th>\n",
       "      <th>num_llamad_ent</th>\n",
       "      <th>num_llamad_sal</th>\n",
       "      <th>...</th>\n",
       "      <th>seg_llamad_sal</th>\n",
       "      <th>conexion</th>\n",
       "      <th>vel_conexion</th>\n",
       "      <th>TV</th>\n",
       "      <th>financiacion</th>\n",
       "      <th>imp_financ</th>\n",
       "      <th>descuentos</th>\n",
       "      <th>y_cliente</th>\n",
       "      <th>año_ingreso</th>\n",
       "      <th>antiguedad_años</th>\n",
       "    </tr>\n",
       "  </thead>\n",
       "  <tbody>\n",
       "    <tr>\n",
       "      <th>0</th>\n",
       "      <td>1</td>\n",
       "      <td>63</td>\n",
       "      <td>216.028109</td>\n",
       "      <td>2018-11-23 08:48:00</td>\n",
       "      <td>La Rioja</td>\n",
       "      <td>5</td>\n",
       "      <td>0.0</td>\n",
       "      <td>NO</td>\n",
       "      <td>110</td>\n",
       "      <td>79</td>\n",
       "      <td>...</td>\n",
       "      <td>13751</td>\n",
       "      <td>FIBRA</td>\n",
       "      <td>50MB</td>\n",
       "      <td>tv-futbol</td>\n",
       "      <td>NO</td>\n",
       "      <td>0.0</td>\n",
       "      <td>0</td>\n",
       "      <td>0</td>\n",
       "      <td>2018</td>\n",
       "      <td>1</td>\n",
       "    </tr>\n",
       "    <tr>\n",
       "      <th>1</th>\n",
       "      <td>2</td>\n",
       "      <td>84</td>\n",
       "      <td>255.830842</td>\n",
       "      <td>2017-08-22 03:19:00</td>\n",
       "      <td>Vizcaya</td>\n",
       "      <td>3</td>\n",
       "      <td>0.0</td>\n",
       "      <td>NO</td>\n",
       "      <td>189</td>\n",
       "      <td>89</td>\n",
       "      <td>...</td>\n",
       "      <td>10862</td>\n",
       "      <td>FIBRA</td>\n",
       "      <td>600MB</td>\n",
       "      <td>tv-futbol</td>\n",
       "      <td>NO</td>\n",
       "      <td>0.0</td>\n",
       "      <td>SI</td>\n",
       "      <td>0</td>\n",
       "      <td>2017</td>\n",
       "      <td>2</td>\n",
       "    </tr>\n",
       "    <tr>\n",
       "      <th>2</th>\n",
       "      <td>3</td>\n",
       "      <td>66</td>\n",
       "      <td>135.768153</td>\n",
       "      <td>2001-12-27 13:50:00</td>\n",
       "      <td>Albacete</td>\n",
       "      <td>4</td>\n",
       "      <td>0.0</td>\n",
       "      <td>NO</td>\n",
       "      <td>129</td>\n",
       "      <td>30</td>\n",
       "      <td>...</td>\n",
       "      <td>16743</td>\n",
       "      <td>ADSL</td>\n",
       "      <td>35MB</td>\n",
       "      <td>tv-futbol</td>\n",
       "      <td>NO</td>\n",
       "      <td>0.0</td>\n",
       "      <td>SI</td>\n",
       "      <td>0</td>\n",
       "      <td>2001</td>\n",
       "      <td>18</td>\n",
       "    </tr>\n",
       "    <tr>\n",
       "      <th>3</th>\n",
       "      <td>4</td>\n",
       "      <td>69</td>\n",
       "      <td>255.658527</td>\n",
       "      <td>2015-08-08 10:53:00</td>\n",
       "      <td>Lugo</td>\n",
       "      <td>4</td>\n",
       "      <td>0.0</td>\n",
       "      <td>NO</td>\n",
       "      <td>51</td>\n",
       "      <td>52</td>\n",
       "      <td>...</td>\n",
       "      <td>6771</td>\n",
       "      <td>FIBRA</td>\n",
       "      <td>200MB</td>\n",
       "      <td>tv-familiar</td>\n",
       "      <td>NO</td>\n",
       "      <td>0.0</td>\n",
       "      <td>0</td>\n",
       "      <td>0</td>\n",
       "      <td>2015</td>\n",
       "      <td>4</td>\n",
       "    </tr>\n",
       "    <tr>\n",
       "      <th>4</th>\n",
       "      <td>5</td>\n",
       "      <td>25</td>\n",
       "      <td>22.302845</td>\n",
       "      <td>1997-08-29 02:19:00</td>\n",
       "      <td>Tarragona</td>\n",
       "      <td>2</td>\n",
       "      <td>2.0</td>\n",
       "      <td>NO</td>\n",
       "      <td>183</td>\n",
       "      <td>3</td>\n",
       "      <td>...</td>\n",
       "      <td>4485</td>\n",
       "      <td>ADSL</td>\n",
       "      <td>10MB</td>\n",
       "      <td>tv-futbol</td>\n",
       "      <td>NO</td>\n",
       "      <td>0.0</td>\n",
       "      <td>0</td>\n",
       "      <td>1</td>\n",
       "      <td>1997</td>\n",
       "      <td>22</td>\n",
       "    </tr>\n",
       "  </tbody>\n",
       "</table>\n",
       "<p>5 rows × 22 columns</p>\n",
       "</div>"
      ],
      "text/plain": [
       "   id  edad  facturacion          antiguedad  provincia  num_lineas  num_dt  \\\n",
       "0   1    63   216.028109 2018-11-23 08:48:00   La Rioja           5     0.0   \n",
       "1   2    84   255.830842 2017-08-22 03:19:00    Vizcaya           3     0.0   \n",
       "2   3    66   135.768153 2001-12-27 13:50:00   Albacete           4     0.0   \n",
       "3   4    69   255.658527 2015-08-08 10:53:00       Lugo           4     0.0   \n",
       "4   5    25    22.302845 1997-08-29 02:19:00  Tarragona           2     2.0   \n",
       "\n",
       "  incidencia  num_llamad_ent  num_llamad_sal  ...  seg_llamad_sal  conexion  \\\n",
       "0         NO             110              79  ...           13751     FIBRA   \n",
       "1         NO             189              89  ...           10862     FIBRA   \n",
       "2         NO             129              30  ...           16743      ADSL   \n",
       "3         NO              51              52  ...            6771     FIBRA   \n",
       "4         NO             183               3  ...            4485      ADSL   \n",
       "\n",
       "   vel_conexion           TV financiacion imp_financ descuentos  y_cliente  \\\n",
       "0          50MB    tv-futbol           NO        0.0          0          0   \n",
       "1         600MB    tv-futbol           NO        0.0         SI          0   \n",
       "2          35MB    tv-futbol           NO        0.0         SI          0   \n",
       "3         200MB  tv-familiar           NO        0.0          0          0   \n",
       "4          10MB    tv-futbol           NO        0.0          0          1   \n",
       "\n",
       "  año_ingreso  antiguedad_años  \n",
       "0        2018                1  \n",
       "1        2017                2  \n",
       "2        2001               18  \n",
       "3        2015                4  \n",
       "4        1997               22  \n",
       "\n",
       "[5 rows x 22 columns]"
      ]
     },
     "execution_count": 52,
     "metadata": {},
     "output_type": "execute_result"
    }
   ],
   "source": [
    "# Creo una variable que me dice la antifuedad en años\n",
    "datos_diciembre['antiguedad_años'] = 2019-datos_diciembre['año_ingreso']\n",
    "datos_diciembre.head()"
   ]
  },
  {
   "cell_type": "code",
   "execution_count": 53,
   "metadata": {},
   "outputs": [
    {
     "data": {
      "text/plain": [
       "13    3958\n",
       "20    3903\n",
       "19    3886\n",
       "9     3857\n",
       "15    3851\n",
       "5     3850\n",
       "16    3847\n",
       "12    3843\n",
       "8     3838\n",
       "10    3834\n",
       "14    3831\n",
       "22    3825\n",
       "11    3824\n",
       "24    3818\n",
       "0     3809\n",
       "1     3798\n",
       "7     3793\n",
       "23    3792\n",
       "6     3786\n",
       "4     3775\n",
       "21    3774\n",
       "3     3770\n",
       "17    3758\n",
       "18    3743\n",
       "2     3704\n",
       "Name: antiguedad_años, dtype: int64"
      ]
     },
     "execution_count": 53,
     "metadata": {},
     "output_type": "execute_result"
    }
   ],
   "source": [
    "datos_diciembre['antiguedad_años'].value_counts() "
   ]
  },
  {
   "cell_type": "code",
   "execution_count": 54,
   "metadata": {},
   "outputs": [],
   "source": [
    "datos_diciembre.drop('año_ingreso',axis=1, inplace=True)"
   ]
  },
  {
   "cell_type": "code",
   "execution_count": 55,
   "metadata": {},
   "outputs": [],
   "source": [
    "datos_diciembre.drop('antiguedad',axis=1, inplace=True)"
   ]
  },
  {
   "cell_type": "markdown",
   "metadata": {},
   "source": [
    "2) PROVINCIA"
   ]
  },
  {
   "cell_type": "code",
   "execution_count": 56,
   "metadata": {},
   "outputs": [
    {
     "data": {
      "text/plain": [
       "50"
      ]
     },
     "execution_count": 56,
     "metadata": {},
     "output_type": "execute_result"
    }
   ],
   "source": [
    "len(datos_diciembre['provincia'].unique())"
   ]
  },
  {
   "cell_type": "code",
   "execution_count": 57,
   "metadata": {
    "scrolled": true
   },
   "outputs": [
    {
     "data": {
      "text/plain": [
       "Zaragoza                  1991\n",
       "Navarra                   1986\n",
       "Málaga                    1973\n",
       "Valencia                  1972\n",
       "Asturias                  1972\n",
       "Murcia                    1967\n",
       "Orense                    1958\n",
       "Alicante                  1954\n",
       "Córdoba                   1949\n",
       "Cáceres                   1945\n",
       "Burgos                    1939\n",
       "Guipúzcoa                 1936\n",
       "Álava                     1932\n",
       "Valladolid                1931\n",
       "Sevilla                   1928\n",
       "Huelva                    1924\n",
       "Santa Cruz de Tenerife    1922\n",
       "La Coruña                 1921\n",
       "Segovia                   1917\n",
       "Castellón                 1915\n",
       "Granada                   1914\n",
       "Zamora                    1913\n",
       "Tarragona                 1913\n",
       "Almería                   1912\n",
       "Soria                     1909\n",
       "Madrid                    1907\n",
       "Pontevedra                1907\n",
       "Ciudad Real               1905\n",
       "Cádiz                     1902\n",
       "Badajoz                   1900\n",
       "Islas Baleares            1899\n",
       "Barcelona                 1899\n",
       "Salamanca                 1898\n",
       "Teruel                    1898\n",
       "Ávila                     1893\n",
       "Albacete                  1889\n",
       "Jaén                      1888\n",
       "Guadalajara               1881\n",
       "Lérida                    1879\n",
       "La Rioja                  1877\n",
       "Lugo                      1871\n",
       "Toledo                    1869\n",
       "Gerona                    1864\n",
       "Las Palmas                1860\n",
       "Palencia                  1860\n",
       "Cuenca                    1855\n",
       "Cantabria                 1853\n",
       "León                      1851\n",
       "Vizcaya                   1838\n",
       "Huesca                    1831\n",
       "Name: provincia, dtype: int64"
      ]
     },
     "execution_count": 57,
     "metadata": {},
     "output_type": "execute_result"
    }
   ],
   "source": [
    "datos_diciembre['provincia'].value_counts() "
   ]
  },
  {
   "cell_type": "code",
   "execution_count": 58,
   "metadata": {},
   "outputs": [],
   "source": [
    "# Esto podriamos haberlo realizado con un Label Encode, pero personalmente preferí realizarlo manualmente\n",
    "\n",
    "datos_diciembre.provincia.replace(('Zaragoza','Navarra','Málaga','Asturias','Valencia',\n",
    "                                   'Murcia','Orense','Alicante','Córdoba','Cáceres',\n",
    "                                   'Burgos','Guipúzcoa','Álava','Valladolid','Sevilla',\n",
    "                                   'Huelva', 'Santa Cruz de Tenerife', 'La Coruña', 'Segovia','Castellón',\n",
    "                                   'Granada','Tarragona','Zamora','Almería','Soria',\n",
    "                                   'Madrid','Pontevedra','Ciudad Real','Cádiz','Badajoz',\n",
    "                                   'Islas Baleares','Barcelona','Teruel','Salamanca','Ávila',\n",
    "                                   'Albacete','Jaén','Guadalajara','Lérida','La Rioja',\n",
    "                                   'Lugo','Toledo','Gerona','Las Palmas','Palencia',\n",
    "                                   'Cuenca','Cantabria','León','Vizcaya','Huesca'\n",
    "                                   ),\n",
    "                                  (1,2,3,4,5,6,7,8,9,10,11,12,13,14,15,16,17,18,19,20,\n",
    "                                  21,22,23,24,25,26,27,28,29,30,31,32,33,34,35,36,37,\n",
    "                                  38,39,40,41,42,43,44,45,46,47,48,49,50),inplace=True)"
   ]
  },
  {
   "cell_type": "markdown",
   "metadata": {},
   "source": [
    "3) INCIDENCIA"
   ]
  },
  {
   "cell_type": "code",
   "execution_count": 59,
   "metadata": {},
   "outputs": [
    {
     "data": {
      "text/plain": [
       "2"
      ]
     },
     "execution_count": 59,
     "metadata": {},
     "output_type": "execute_result"
    }
   ],
   "source": [
    "len(datos_diciembre['incidencia'].unique())"
   ]
  },
  {
   "cell_type": "code",
   "execution_count": 60,
   "metadata": {},
   "outputs": [
    {
     "data": {
      "text/plain": [
       "NO    90235\n",
       "SI     5232\n",
       "Name: incidencia, dtype: int64"
      ]
     },
     "execution_count": 60,
     "metadata": {},
     "output_type": "execute_result"
    }
   ],
   "source": [
    "datos_diciembre['incidencia'].value_counts()"
   ]
  },
  {
   "cell_type": "code",
   "execution_count": 61,
   "metadata": {},
   "outputs": [],
   "source": [
    "datos_diciembre['incidencia'] = datos_diciembre['incidencia'].map({'SI':1,'NO':0})"
   ]
  },
  {
   "cell_type": "code",
   "execution_count": 62,
   "metadata": {},
   "outputs": [
    {
     "data": {
      "text/plain": [
       "0    90235\n",
       "1     5232\n",
       "Name: incidencia, dtype: int64"
      ]
     },
     "execution_count": 62,
     "metadata": {},
     "output_type": "execute_result"
    }
   ],
   "source": [
    "datos_diciembre['incidencia'].value_counts()"
   ]
  },
  {
   "cell_type": "markdown",
   "metadata": {},
   "source": [
    "4) CONEXIÓN"
   ]
  },
  {
   "cell_type": "code",
   "execution_count": 63,
   "metadata": {},
   "outputs": [
    {
     "data": {
      "text/plain": [
       "2"
      ]
     },
     "execution_count": 63,
     "metadata": {},
     "output_type": "execute_result"
    }
   ],
   "source": [
    "len(datos_diciembre['conexion'].unique())"
   ]
  },
  {
   "cell_type": "code",
   "execution_count": 64,
   "metadata": {},
   "outputs": [
    {
     "data": {
      "text/plain": [
       "ADSL     47900\n",
       "FIBRA    47567\n",
       "Name: conexion, dtype: int64"
      ]
     },
     "execution_count": 64,
     "metadata": {},
     "output_type": "execute_result"
    }
   ],
   "source": [
    "datos_diciembre['conexion'].value_counts()"
   ]
  },
  {
   "cell_type": "code",
   "execution_count": 65,
   "metadata": {},
   "outputs": [],
   "source": [
    "#ADSL = 1, FIBRA = 0\n",
    "datos_diciembre['conexion'] = datos_diciembre['conexion'].map({'ADSL':1,'FIBRA':0})"
   ]
  },
  {
   "cell_type": "code",
   "execution_count": 66,
   "metadata": {},
   "outputs": [
    {
     "data": {
      "text/plain": [
       "1    47900\n",
       "0    47567\n",
       "Name: conexion, dtype: int64"
      ]
     },
     "execution_count": 66,
     "metadata": {},
     "output_type": "execute_result"
    }
   ],
   "source": [
    "datos_diciembre['conexion'].value_counts()"
   ]
  },
  {
   "cell_type": "markdown",
   "metadata": {},
   "source": [
    "5) VELOCIDAD"
   ]
  },
  {
   "cell_type": "code",
   "execution_count": 67,
   "metadata": {},
   "outputs": [
    {
     "data": {
      "text/plain": [
       "200MB    9677\n",
       "600MB    9623\n",
       "50MB     9474\n",
       "300MB    9461\n",
       "100MB    9332\n",
       "20MB     8113\n",
       "25MB     8112\n",
       "10MB     7970\n",
       "30MB     7948\n",
       "35MB     7947\n",
       "15MB     7810\n",
       "Name: vel_conexion, dtype: int64"
      ]
     },
     "execution_count": 67,
     "metadata": {},
     "output_type": "execute_result"
    }
   ],
   "source": [
    "datos_diciembre['vel_conexion'].value_counts()"
   ]
  },
  {
   "cell_type": "code",
   "execution_count": 68,
   "metadata": {},
   "outputs": [],
   "source": [
    "#Creo una funcion para dejar solo los números\n",
    "def dejar_solo_cifras(txt):\n",
    "  return \"\".join(c for c in txt if c.isdigit())"
   ]
  },
  {
   "cell_type": "code",
   "execution_count": 69,
   "metadata": {},
   "outputs": [],
   "source": [
    "datos_diciembre.vel_conexion = datos_diciembre.vel_conexion.map(dejar_solo_cifras)"
   ]
  },
  {
   "cell_type": "code",
   "execution_count": 70,
   "metadata": {},
   "outputs": [
    {
     "data": {
      "text/plain": [
       "200    9677\n",
       "600    9623\n",
       "50     9474\n",
       "300    9461\n",
       "100    9332\n",
       "20     8113\n",
       "25     8112\n",
       "10     7970\n",
       "30     7948\n",
       "35     7947\n",
       "15     7810\n",
       "Name: vel_conexion, dtype: int64"
      ]
     },
     "execution_count": 70,
     "metadata": {},
     "output_type": "execute_result"
    }
   ],
   "source": [
    "datos_diciembre['vel_conexion'].value_counts()"
   ]
  },
  {
   "cell_type": "code",
   "execution_count": 71,
   "metadata": {},
   "outputs": [],
   "source": [
    "datos_diciembre['vel_conexion'] = datos_diciembre['vel_conexion'].astype(int)"
   ]
  },
  {
   "cell_type": "markdown",
   "metadata": {},
   "source": [
    "6) TV"
   ]
  },
  {
   "cell_type": "code",
   "execution_count": 72,
   "metadata": {},
   "outputs": [
    {
     "data": {
      "text/plain": [
       "3"
      ]
     },
     "execution_count": 72,
     "metadata": {},
     "output_type": "execute_result"
    }
   ],
   "source": [
    "len(datos_diciembre['TV'].unique())"
   ]
  },
  {
   "cell_type": "code",
   "execution_count": 73,
   "metadata": {},
   "outputs": [
    {
     "data": {
      "text/plain": [
       "tv-futbol      47535\n",
       "tv-familiar    33768\n",
       "tv-total       14164\n",
       "Name: TV, dtype: int64"
      ]
     },
     "execution_count": 73,
     "metadata": {},
     "output_type": "execute_result"
    }
   ],
   "source": [
    "datos_diciembre['TV'].value_counts()"
   ]
  },
  {
   "cell_type": "code",
   "execution_count": 74,
   "metadata": {},
   "outputs": [],
   "source": [
    "#tv-futbol:0, tv-familiar:1, tv-total:2\n",
    "datos_diciembre['TV'] = datos_diciembre['TV'].map({'tv-futbol':0,'tv-familiar':1, 'tv-total':2})"
   ]
  },
  {
   "cell_type": "code",
   "execution_count": 75,
   "metadata": {},
   "outputs": [
    {
     "data": {
      "text/plain": [
       "0    47535\n",
       "1    33768\n",
       "2    14164\n",
       "Name: TV, dtype: int64"
      ]
     },
     "execution_count": 75,
     "metadata": {},
     "output_type": "execute_result"
    }
   ],
   "source": [
    "datos_diciembre['TV'].value_counts()"
   ]
  },
  {
   "cell_type": "markdown",
   "metadata": {},
   "source": [
    "7) FINANCIACIÓN"
   ]
  },
  {
   "cell_type": "code",
   "execution_count": 76,
   "metadata": {},
   "outputs": [
    {
     "data": {
      "text/plain": [
       "2"
      ]
     },
     "execution_count": 76,
     "metadata": {},
     "output_type": "execute_result"
    }
   ],
   "source": [
    "len(datos_diciembre['financiacion'].unique())"
   ]
  },
  {
   "cell_type": "code",
   "execution_count": 77,
   "metadata": {},
   "outputs": [
    {
     "data": {
      "text/plain": [
       "NO    89095\n",
       "SI     6372\n",
       "Name: financiacion, dtype: int64"
      ]
     },
     "execution_count": 77,
     "metadata": {},
     "output_type": "execute_result"
    }
   ],
   "source": [
    "datos_diciembre['financiacion'].value_counts()"
   ]
  },
  {
   "cell_type": "code",
   "execution_count": 78,
   "metadata": {},
   "outputs": [],
   "source": [
    "datos_diciembre['financiacion'] = datos_diciembre['financiacion'].map({'SI':1,'NO':0})"
   ]
  },
  {
   "cell_type": "code",
   "execution_count": 79,
   "metadata": {},
   "outputs": [
    {
     "data": {
      "text/plain": [
       "0    89095\n",
       "1     6372\n",
       "Name: financiacion, dtype: int64"
      ]
     },
     "execution_count": 79,
     "metadata": {},
     "output_type": "execute_result"
    }
   ],
   "source": [
    "datos_diciembre['financiacion'].value_counts()"
   ]
  },
  {
   "cell_type": "markdown",
   "metadata": {},
   "source": [
    "8) DESCUENTOS"
   ]
  },
  {
   "cell_type": "code",
   "execution_count": 80,
   "metadata": {},
   "outputs": [
    {
     "data": {
      "text/plain": [
       "2"
      ]
     },
     "execution_count": 80,
     "metadata": {},
     "output_type": "execute_result"
    }
   ],
   "source": [
    "len(datos_diciembre['descuentos'].unique())"
   ]
  },
  {
   "cell_type": "code",
   "execution_count": 81,
   "metadata": {},
   "outputs": [
    {
     "data": {
      "text/plain": [
       "0     76313\n",
       "SI    19154\n",
       "Name: descuentos, dtype: int64"
      ]
     },
     "execution_count": 81,
     "metadata": {},
     "output_type": "execute_result"
    }
   ],
   "source": [
    "datos_diciembre['descuentos'].value_counts()"
   ]
  },
  {
   "cell_type": "code",
   "execution_count": 82,
   "metadata": {},
   "outputs": [],
   "source": [
    "datos_diciembre['descuentos'] = datos_diciembre['descuentos'].map({'SI':1,0:0})"
   ]
  },
  {
   "cell_type": "code",
   "execution_count": 83,
   "metadata": {},
   "outputs": [
    {
     "data": {
      "text/plain": [
       "0    76313\n",
       "1    19154\n",
       "Name: descuentos, dtype: int64"
      ]
     },
     "execution_count": 83,
     "metadata": {},
     "output_type": "execute_result"
    }
   ],
   "source": [
    "datos_diciembre['descuentos'].value_counts()"
   ]
  },
  {
   "cell_type": "code",
   "execution_count": 84,
   "metadata": {},
   "outputs": [
    {
     "data": {
      "text/plain": [
       "id                   int64\n",
       "edad                 int64\n",
       "facturacion        float64\n",
       "provincia            int64\n",
       "num_lineas           int64\n",
       "num_dt             float64\n",
       "incidencia           int64\n",
       "num_llamad_ent       int64\n",
       "num_llamad_sal       int64\n",
       "mb_datos             int64\n",
       "seg_llamad_ent       int64\n",
       "seg_llamad_sal       int64\n",
       "conexion             int64\n",
       "vel_conexion         int64\n",
       "TV                   int64\n",
       "financiacion         int64\n",
       "imp_financ         float64\n",
       "descuentos           int64\n",
       "y_cliente            int64\n",
       "antiguedad_años      int64\n",
       "dtype: object"
      ]
     },
     "execution_count": 84,
     "metadata": {},
     "output_type": "execute_result"
    }
   ],
   "source": [
    "#Comrpobamos que todo sea numérico\n",
    "datos_diciembre.dtypes"
   ]
  },
  {
   "cell_type": "markdown",
   "metadata": {},
   "source": [
    "#### Análisis de correlación"
   ]
  },
  {
   "cell_type": "code",
   "execution_count": 85,
   "metadata": {},
   "outputs": [
    {
     "data": {
      "text/html": [
       "<style  type=\"text/css\" >\n",
       "    #T_baad43fe_906a_11ea_b554_d0817ac3a282row0_col0 {\n",
       "            background-color:  #023858;\n",
       "            color:  #f1f1f1;\n",
       "        }    #T_baad43fe_906a_11ea_b554_d0817ac3a282row1_col0 {\n",
       "            background-color:  #71a8ce;\n",
       "            color:  #000000;\n",
       "        }    #T_baad43fe_906a_11ea_b554_d0817ac3a282row2_col0 {\n",
       "            background-color:  #73a9cf;\n",
       "            color:  #000000;\n",
       "        }    #T_baad43fe_906a_11ea_b554_d0817ac3a282row3_col0 {\n",
       "            background-color:  #e8e4f0;\n",
       "            color:  #000000;\n",
       "        }    #T_baad43fe_906a_11ea_b554_d0817ac3a282row4_col0 {\n",
       "            background-color:  #f4edf6;\n",
       "            color:  #000000;\n",
       "        }    #T_baad43fe_906a_11ea_b554_d0817ac3a282row5_col0 {\n",
       "            background-color:  #f5eef6;\n",
       "            color:  #000000;\n",
       "        }    #T_baad43fe_906a_11ea_b554_d0817ac3a282row6_col0 {\n",
       "            background-color:  #fef6fb;\n",
       "            color:  #000000;\n",
       "        }    #T_baad43fe_906a_11ea_b554_d0817ac3a282row7_col0 {\n",
       "            background-color:  #fef6fb;\n",
       "            color:  #000000;\n",
       "        }    #T_baad43fe_906a_11ea_b554_d0817ac3a282row8_col0 {\n",
       "            background-color:  #fff7fb;\n",
       "            color:  #000000;\n",
       "        }    #T_baad43fe_906a_11ea_b554_d0817ac3a282row9_col0 {\n",
       "            background-color:  #fff7fb;\n",
       "            color:  #000000;\n",
       "        }    #T_baad43fe_906a_11ea_b554_d0817ac3a282row10_col0 {\n",
       "            background-color:  #fff7fb;\n",
       "            color:  #000000;\n",
       "        }    #T_baad43fe_906a_11ea_b554_d0817ac3a282row11_col0 {\n",
       "            background-color:  #fff7fb;\n",
       "            color:  #000000;\n",
       "        }    #T_baad43fe_906a_11ea_b554_d0817ac3a282row12_col0 {\n",
       "            background-color:  #fff7fb;\n",
       "            color:  #000000;\n",
       "        }    #T_baad43fe_906a_11ea_b554_d0817ac3a282row13_col0 {\n",
       "            background-color:  #fff7fb;\n",
       "            color:  #000000;\n",
       "        }    #T_baad43fe_906a_11ea_b554_d0817ac3a282row14_col0 {\n",
       "            background-color:  #fff7fb;\n",
       "            color:  #000000;\n",
       "        }    #T_baad43fe_906a_11ea_b554_d0817ac3a282row15_col0 {\n",
       "            background-color:  #fff7fb;\n",
       "            color:  #000000;\n",
       "        }    #T_baad43fe_906a_11ea_b554_d0817ac3a282row16_col0 {\n",
       "            background-color:  #fff7fb;\n",
       "            color:  #000000;\n",
       "        }    #T_baad43fe_906a_11ea_b554_d0817ac3a282row17_col0 {\n",
       "            background-color:  #fff7fb;\n",
       "            color:  #000000;\n",
       "        }    #T_baad43fe_906a_11ea_b554_d0817ac3a282row18_col0 {\n",
       "            background-color:  #fff7fb;\n",
       "            color:  #000000;\n",
       "        }    #T_baad43fe_906a_11ea_b554_d0817ac3a282row19_col0 {\n",
       "            background-color:  #fff7fb;\n",
       "            color:  #000000;\n",
       "        }</style><table id=\"T_baad43fe_906a_11ea_b554_d0817ac3a282\" ><thead>    <tr>        <th class=\"blank level0\" ></th>        <th class=\"col_heading level0 col0\" >y_cliente</th>    </tr></thead><tbody>\n",
       "                <tr>\n",
       "                        <th id=\"T_baad43fe_906a_11ea_b554_d0817ac3a282level0_row0\" class=\"row_heading level0 row0\" >y_cliente</th>\n",
       "                        <td id=\"T_baad43fe_906a_11ea_b554_d0817ac3a282row0_col0\" class=\"data row0 col0\" >1.000000</td>\n",
       "            </tr>\n",
       "            <tr>\n",
       "                        <th id=\"T_baad43fe_906a_11ea_b554_d0817ac3a282level0_row1\" class=\"row_heading level0 row1\" >num_dt</th>\n",
       "                        <td id=\"T_baad43fe_906a_11ea_b554_d0817ac3a282row1_col0\" class=\"data row1 col0\" >0.504867</td>\n",
       "            </tr>\n",
       "            <tr>\n",
       "                        <th id=\"T_baad43fe_906a_11ea_b554_d0817ac3a282level0_row2\" class=\"row_heading level0 row2\" >incidencia</th>\n",
       "                        <td id=\"T_baad43fe_906a_11ea_b554_d0817ac3a282row2_col0\" class=\"data row2 col0\" >0.500885</td>\n",
       "            </tr>\n",
       "            <tr>\n",
       "                        <th id=\"T_baad43fe_906a_11ea_b554_d0817ac3a282level0_row3\" class=\"row_heading level0 row3\" >descuentos</th>\n",
       "                        <td id=\"T_baad43fe_906a_11ea_b554_d0817ac3a282row3_col0\" class=\"data row3 col0\" >0.141447</td>\n",
       "            </tr>\n",
       "            <tr>\n",
       "                        <th id=\"T_baad43fe_906a_11ea_b554_d0817ac3a282level0_row4\" class=\"row_heading level0 row4\" >financiacion</th>\n",
       "                        <td id=\"T_baad43fe_906a_11ea_b554_d0817ac3a282row4_col0\" class=\"data row4 col0\" >0.074597</td>\n",
       "            </tr>\n",
       "            <tr>\n",
       "                        <th id=\"T_baad43fe_906a_11ea_b554_d0817ac3a282level0_row5\" class=\"row_heading level0 row5\" >imp_financ</th>\n",
       "                        <td id=\"T_baad43fe_906a_11ea_b554_d0817ac3a282row5_col0\" class=\"data row5 col0\" >0.067626</td>\n",
       "            </tr>\n",
       "            <tr>\n",
       "                        <th id=\"T_baad43fe_906a_11ea_b554_d0817ac3a282level0_row6\" class=\"row_heading level0 row6\" >num_llamad_ent</th>\n",
       "                        <td id=\"T_baad43fe_906a_11ea_b554_d0817ac3a282row6_col0\" class=\"data row6 col0\" >0.006130</td>\n",
       "            </tr>\n",
       "            <tr>\n",
       "                        <th id=\"T_baad43fe_906a_11ea_b554_d0817ac3a282level0_row7\" class=\"row_heading level0 row7\" >TV</th>\n",
       "                        <td id=\"T_baad43fe_906a_11ea_b554_d0817ac3a282row7_col0\" class=\"data row7 col0\" >0.004284</td>\n",
       "            </tr>\n",
       "            <tr>\n",
       "                        <th id=\"T_baad43fe_906a_11ea_b554_d0817ac3a282level0_row8\" class=\"row_heading level0 row8\" >antiguedad_años</th>\n",
       "                        <td id=\"T_baad43fe_906a_11ea_b554_d0817ac3a282row8_col0\" class=\"data row8 col0\" >0.003310</td>\n",
       "            </tr>\n",
       "            <tr>\n",
       "                        <th id=\"T_baad43fe_906a_11ea_b554_d0817ac3a282level0_row9\" class=\"row_heading level0 row9\" >num_llamad_sal</th>\n",
       "                        <td id=\"T_baad43fe_906a_11ea_b554_d0817ac3a282row9_col0\" class=\"data row9 col0\" >0.003141</td>\n",
       "            </tr>\n",
       "            <tr>\n",
       "                        <th id=\"T_baad43fe_906a_11ea_b554_d0817ac3a282level0_row10\" class=\"row_heading level0 row10\" >edad</th>\n",
       "                        <td id=\"T_baad43fe_906a_11ea_b554_d0817ac3a282row10_col0\" class=\"data row10 col0\" >0.002864</td>\n",
       "            </tr>\n",
       "            <tr>\n",
       "                        <th id=\"T_baad43fe_906a_11ea_b554_d0817ac3a282level0_row11\" class=\"row_heading level0 row11\" >facturacion</th>\n",
       "                        <td id=\"T_baad43fe_906a_11ea_b554_d0817ac3a282row11_col0\" class=\"data row11 col0\" >0.002846</td>\n",
       "            </tr>\n",
       "            <tr>\n",
       "                        <th id=\"T_baad43fe_906a_11ea_b554_d0817ac3a282level0_row12\" class=\"row_heading level0 row12\" >conexion</th>\n",
       "                        <td id=\"T_baad43fe_906a_11ea_b554_d0817ac3a282row12_col0\" class=\"data row12 col0\" >0.002546</td>\n",
       "            </tr>\n",
       "            <tr>\n",
       "                        <th id=\"T_baad43fe_906a_11ea_b554_d0817ac3a282level0_row13\" class=\"row_heading level0 row13\" >vel_conexion</th>\n",
       "                        <td id=\"T_baad43fe_906a_11ea_b554_d0817ac3a282row13_col0\" class=\"data row13 col0\" >0.002439</td>\n",
       "            </tr>\n",
       "            <tr>\n",
       "                        <th id=\"T_baad43fe_906a_11ea_b554_d0817ac3a282level0_row14\" class=\"row_heading level0 row14\" >num_lineas</th>\n",
       "                        <td id=\"T_baad43fe_906a_11ea_b554_d0817ac3a282row14_col0\" class=\"data row14 col0\" >0.001733</td>\n",
       "            </tr>\n",
       "            <tr>\n",
       "                        <th id=\"T_baad43fe_906a_11ea_b554_d0817ac3a282level0_row15\" class=\"row_heading level0 row15\" >mb_datos</th>\n",
       "                        <td id=\"T_baad43fe_906a_11ea_b554_d0817ac3a282row15_col0\" class=\"data row15 col0\" >0.001201</td>\n",
       "            </tr>\n",
       "            <tr>\n",
       "                        <th id=\"T_baad43fe_906a_11ea_b554_d0817ac3a282level0_row16\" class=\"row_heading level0 row16\" >id</th>\n",
       "                        <td id=\"T_baad43fe_906a_11ea_b554_d0817ac3a282row16_col0\" class=\"data row16 col0\" >0.000866</td>\n",
       "            </tr>\n",
       "            <tr>\n",
       "                        <th id=\"T_baad43fe_906a_11ea_b554_d0817ac3a282level0_row17\" class=\"row_heading level0 row17\" >seg_llamad_ent</th>\n",
       "                        <td id=\"T_baad43fe_906a_11ea_b554_d0817ac3a282row17_col0\" class=\"data row17 col0\" >0.000526</td>\n",
       "            </tr>\n",
       "            <tr>\n",
       "                        <th id=\"T_baad43fe_906a_11ea_b554_d0817ac3a282level0_row18\" class=\"row_heading level0 row18\" >provincia</th>\n",
       "                        <td id=\"T_baad43fe_906a_11ea_b554_d0817ac3a282row18_col0\" class=\"data row18 col0\" >0.000143</td>\n",
       "            </tr>\n",
       "            <tr>\n",
       "                        <th id=\"T_baad43fe_906a_11ea_b554_d0817ac3a282level0_row19\" class=\"row_heading level0 row19\" >seg_llamad_sal</th>\n",
       "                        <td id=\"T_baad43fe_906a_11ea_b554_d0817ac3a282row19_col0\" class=\"data row19 col0\" >0.000089</td>\n",
       "            </tr>\n",
       "    </tbody></table>"
      ],
      "text/plain": [
       "<pandas.io.formats.style.Styler at 0x1a25adf6d0>"
      ]
     },
     "execution_count": 85,
     "metadata": {},
     "output_type": "execute_result"
    }
   ],
   "source": [
    "corr =  abs(datos_diciembre.corr())\n",
    "corr[['y_cliente']].sort_values(by = 'y_cliente',ascending = False).style.background_gradient()"
   ]
  },
  {
   "cell_type": "markdown",
   "metadata": {},
   "source": [
    "En base a la corelación entre las variables y mi target podemos ver que hay dos variables muy correlacionadas ('num_dt' e 'incidencia') y despues tenemos dos variables más que parecen importantes."
   ]
  },
  {
   "cell_type": "markdown",
   "metadata": {},
   "source": [
    "Vemos el gráficamente el comportamiento de esas varibles"
   ]
  },
  {
   "cell_type": "code",
   "execution_count": 86,
   "metadata": {},
   "outputs": [
    {
     "data": {
      "text/plain": [
       "<matplotlib.axes._subplots.AxesSubplot at 0x1a2865be10>"
      ]
     },
     "execution_count": 86,
     "metadata": {},
     "output_type": "execute_result"
    },
    {
     "data": {
      "image/png": "[encoded data removed]",
      "text/plain": [
       "<Figure size 2160x720 with 1 Axes>"
      ]
     },
     "metadata": {
      "needs_background": "light"
     },
     "output_type": "display_data"
    }
   ],
   "source": [
    "datos_diciembre.groupby([\"num_dt\", \"y_cliente\"]).size().unstack().plot(kind='bar', stacked=True, figsize=(30,10))\n",
    "#Vemos que las lineas que no están impagas son las que en proporción menos abandono encontramos"
   ]
  },
  {
   "cell_type": "code",
   "execution_count": 87,
   "metadata": {},
   "outputs": [
    {
     "data": {
      "text/plain": [
       "<matplotlib.axes._subplots.AxesSubplot at 0x1a2b823210>"
      ]
     },
     "execution_count": 87,
     "metadata": {},
     "output_type": "execute_result"
    },
    {
     "data": {
      "image/png": "[encoded data removed]",
      "text/plain": [
       "<Figure size 2160x720 with 1 Axes>"
      ]
     },
     "metadata": {
      "needs_background": "light"
     },
     "output_type": "display_data"
    }
   ],
   "source": [
    "datos_diciembre.groupby([\"incidencia\", \"y_cliente\"]).size().unstack().plot(kind='bar', stacked=True, figsize=(30,10))\n",
    "#Vemos que en proporción, la mayoria de las personas que dejan la empresa tienen incidencias realizadas"
   ]
  },
  {
   "cell_type": "code",
   "execution_count": 88,
   "metadata": {},
   "outputs": [
    {
     "data": {
      "text/plain": [
       "<matplotlib.axes._subplots.AxesSubplot at 0x1a2c5cef90>"
      ]
     },
     "execution_count": 88,
     "metadata": {},
     "output_type": "execute_result"
    },
    {
     "data": {
      "image/png": "[encoded data removed]",
      "text/plain": [
       "<Figure size 2160x720 with 1 Axes>"
      ]
     },
     "metadata": {
      "needs_background": "light"
     },
     "output_type": "display_data"
    }
   ],
   "source": [
    "datos_diciembre.groupby([\"descuentos\", \"y_cliente\"]).size().unstack().plot(kind='bar', stacked=True, figsize=(30,10)) \n",
    "#Las personas que se marchan no tienen descuentos"
   ]
  },
  {
   "cell_type": "code",
   "execution_count": 89,
   "metadata": {},
   "outputs": [
    {
     "data": {
      "text/plain": [
       "<matplotlib.axes._subplots.AxesSubplot at 0x1a2e1e8c10>"
      ]
     },
     "execution_count": 89,
     "metadata": {},
     "output_type": "execute_result"
    },
    {
     "data": {
      "image/png": "[encoded data removed]",
      "text/plain": [
       "<Figure size 2160x720 with 1 Axes>"
      ]
     },
     "metadata": {
      "needs_background": "light"
     },
     "output_type": "display_data"
    }
   ],
   "source": [
    "datos_diciembre.groupby([\"financiacion\", \"y_cliente\"]).size().unstack().plot(kind='bar', stacked=True, figsize=(30,10))\n",
    "#Los clientes que se van, mayormente no tienen financiación"
   ]
  },
  {
   "cell_type": "code",
   "execution_count": 90,
   "metadata": {},
   "outputs": [],
   "source": [
    "datos_diciembre.set_index('id',inplace=True)"
   ]
  },
  {
   "cell_type": "markdown",
   "metadata": {},
   "source": [
    "### 3) Muestreo aleatorio estratificado "
   ]
  },
  {
   "cell_type": "markdown",
   "metadata": {},
   "source": [
    "Necesito estratificar para que la variable train y test tengan la misma proporción de clientes que se marchan y clientes que se quedan que la variable original."
   ]
  },
  {
   "cell_type": "code",
   "execution_count": 91,
   "metadata": {},
   "outputs": [],
   "source": [
    "#Obtengo mis datos sin la target\n",
    "datos = datos_diciembre.copy(deep = True)\n",
    "datos.drop('y_cliente',axis=1, inplace=True)"
   ]
  },
  {
   "cell_type": "code",
   "execution_count": 92,
   "metadata": {},
   "outputs": [],
   "source": [
    "#Obtengo 'y_diciembre'\n",
    "y_diciembre = datos_diciembre[['y_cliente']]"
   ]
  },
  {
   "cell_type": "code",
   "execution_count": 93,
   "metadata": {},
   "outputs": [
    {
     "data": {
      "text/plain": [
       "(95467, 18)"
      ]
     },
     "execution_count": 93,
     "metadata": {},
     "output_type": "execute_result"
    }
   ],
   "source": [
    "datos.shape"
   ]
  },
  {
   "cell_type": "code",
   "execution_count": 94,
   "metadata": {},
   "outputs": [
    {
     "data": {
      "text/plain": [
       "(95467, 1)"
      ]
     },
     "execution_count": 94,
     "metadata": {},
     "output_type": "execute_result"
    }
   ],
   "source": [
    "y_diciembre.shape"
   ]
  },
  {
   "cell_type": "code",
   "execution_count": 95,
   "metadata": {},
   "outputs": [
    {
     "data": {
      "text/plain": [
       "0    88382\n",
       "1     7085\n",
       "Name: y_cliente, dtype: int64"
      ]
     },
     "execution_count": 95,
     "metadata": {},
     "output_type": "execute_result"
    }
   ],
   "source": [
    "y_diciembre['y_cliente'].value_counts()"
   ]
  },
  {
   "cell_type": "markdown",
   "metadata": {},
   "source": [
    "#### Multicolinealidad: Analisis VIF"
   ]
  },
  {
   "cell_type": "code",
   "execution_count": 96,
   "metadata": {},
   "outputs": [
    {
     "name": "stdout",
     "output_type": "stream",
     "text": [
      "El valor del VIF para la variable edad es: 1.0003264020445897\n",
      "El valor del VIF para la variable facturacion es: 1.3457519519789218\n",
      "El valor del VIF para la variable provincia es: 1.0002303814393214\n",
      "El valor del VIF para la variable num_lineas es: 1.2769922897966115\n",
      "El valor del VIF para la variable num_dt es: 1.0000908663482382\n",
      "El valor del VIF para la variable incidencia es: 1.000170148780911\n",
      "El valor del VIF para la variable num_llamad_ent es: 1.000285252181377\n",
      "El valor del VIF para la variable num_llamad_sal es: 1.0000810260162292\n",
      "El valor del VIF para la variable mb_datos es: 1.0001063427975196\n",
      "El valor del VIF para la variable seg_llamad_ent es: 1.000214715630035\n",
      "El valor del VIF para la variable seg_llamad_sal es: 1.000180541086193\n",
      "El valor del VIF para la variable conexion es: 1.6874693819707614\n",
      "El valor del VIF para la variable vel_conexion es: 1.6874133873866068\n",
      "El valor del VIF para la variable TV es: 1.0611482560603442\n",
      "El valor del VIF para la variable financiacion es: 5.470134079698339\n",
      "El valor del VIF para la variable imp_financ es: 5.4706562836708255\n",
      "El valor del VIF para la variable descuentos es: 1.0002327750771607\n",
      "El valor del VIF para la variable antiguedad_años es: 1.0001168571933043\n"
     ]
    }
   ],
   "source": [
    "\n",
    "# Borrado de la variable objetivo\n",
    "datos_vif = datos_diciembre.copy(deep = True)\n",
    "features = list(datos_vif.columns)\n",
    "features.remove('y_cliente')\n",
    "datos_vif = datos_vif[features]\n",
    "\n",
    "for i in range(len(features)):\n",
    "    var = features[i]\n",
    "    fet = features[:]\n",
    "    fet.remove(var)\n",
    "    \n",
    "    x = datos_vif[fet]\n",
    "    y = datos[var]\n",
    "    \n",
    "    model = LinearRegression()\n",
    "    model.fit(x, y)\n",
    "    \n",
    "    vif = 1 / (1 - model.score(x, y))\n",
    "    \n",
    "    print ('El valor del VIF para la variable', var, 'es:', vif)\n",
    "    \n",
    "    #Cuando VIF es mayor a 5 empiezo a estudiar multicolianidad\n",
    "    #A partir de 10 ya se considera multicolinialidad extrema, y hay que eliminarla "
   ]
  },
  {
   "cell_type": "markdown",
   "metadata": {},
   "source": [
    "En los resultados podemos observar que hay dos variables (financiacion e imp_financ) que tienen valores mayores de 5. Voy a eliminar la que tiene el valor más alto y volveré a ejecutar el proceso."
   ]
  },
  {
   "cell_type": "code",
   "execution_count": 97,
   "metadata": {},
   "outputs": [
    {
     "name": "stdout",
     "output_type": "stream",
     "text": [
      "El valor del VIF para la variable edad es: 1.0003207598402097\n",
      "El valor del VIF para la variable facturacion es: 1.3456375045205513\n",
      "El valor del VIF para la variable provincia es: 1.0002232606130295\n",
      "El valor del VIF para la variable num_lineas es: 1.2769616868596125\n",
      "El valor del VIF para la variable num_dt es: 1.0000906195317727\n",
      "El valor del VIF para la variable incidencia es: 1.0001537840614219\n",
      "El valor del VIF para la variable num_llamad_ent es: 1.0002303361909903\n",
      "El valor del VIF para la variable num_llamad_sal es: 1.0000805236368882\n",
      "El valor del VIF para la variable mb_datos es: 1.0000920159555964\n",
      "El valor del VIF para la variable seg_llamad_ent es: 1.0001798440023235\n",
      "El valor del VIF para la variable seg_llamad_sal es: 1.0001783795186938\n",
      "El valor del VIF para la variable conexion es: 1.687462442865545\n",
      "El valor del VIF para la variable vel_conexion es: 1.687392367460439\n",
      "El valor del VIF para la variable TV es: 1.0611462326480519\n",
      "El valor del VIF para la variable financiacion es: 1.0009820213377494\n",
      "El valor del VIF para la variable descuentos es: 1.0002075271399156\n",
      "El valor del VIF para la variable antiguedad_años es: 1.0001134382534564\n"
     ]
    }
   ],
   "source": [
    "features = list(datos_vif.columns)\n",
    "features.remove('imp_financ')\n",
    "datos_vif = datos_vif[features]\n",
    "\n",
    "for i in range(len(features)):\n",
    "    var = features[i]\n",
    "    fet = features[:]\n",
    "    fet.remove(var)\n",
    "    \n",
    "    x = datos_vif[fet]\n",
    "    y = datos[var]\n",
    "    \n",
    "    model = LinearRegression()\n",
    "    model.fit(x, y)\n",
    "    \n",
    "    vif = 1 / (1 - model.score(x, y))\n",
    "    \n",
    "    print ('El valor del VIF para la variable', var, 'es:', vif)"
   ]
  },
  {
   "cell_type": "code",
   "execution_count": 98,
   "metadata": {},
   "outputs": [
    {
     "data": {
      "text/plain": [
       "edad               3.837972e+02\n",
       "facturacion        1.239724e+04\n",
       "provincia          2.083071e+02\n",
       "num_lineas         1.179589e+00\n",
       "num_dt             4.827403e-01\n",
       "incidencia         5.180077e-02\n",
       "num_llamad_ent     5.255084e+03\n",
       "num_llamad_sal     8.479599e+02\n",
       "mb_datos           5.240867e+07\n",
       "seg_llamad_ent     3.321392e+07\n",
       "seg_llamad_sal     3.321780e+07\n",
       "conexion           2.499970e-01\n",
       "vel_conexion       3.214092e+04\n",
       "TV                 5.240972e-01\n",
       "financiacion       6.229060e-02\n",
       "imp_financ         3.780210e+01\n",
       "descuentos         1.603805e-01\n",
       "antiguedad_años    5.176277e+01\n",
       "dtype: float64"
      ]
     },
     "execution_count": 98,
     "metadata": {},
     "output_type": "execute_result"
    }
   ],
   "source": [
    "#Vemos la varianza de los datos\n",
    "np.var(datos) "
   ]
  },
  {
   "cell_type": "code",
   "execution_count": 99,
   "metadata": {},
   "outputs": [],
   "source": [
    "## Escalado de variables: \n",
    "#Vamos a realizarlo ya que tenemos datos que se mueven entre rangos de valores pequeños, y otros tienen valores mucho más grande.\n",
    "sc = StandardScaler()\n",
    "datos_escalados = sc.fit_transform(datos)"
   ]
  },
  {
   "cell_type": "code",
   "execution_count": 100,
   "metadata": {},
   "outputs": [],
   "source": [
    "X_train, X_test, y_train, y_test = train_test_split(datos_escalados,\n",
    "                                                    y_diciembre,\n",
    "                                                    test_size=0.2,\n",
    "                                                    random_state=42,\n",
    "                                                    stratify = y_diciembre)"
   ]
  },
  {
   "cell_type": "code",
   "execution_count": 101,
   "metadata": {},
   "outputs": [],
   "source": [
    "def saca_metricas(y1, y2):\n",
    "    print('matriz de confusión')\n",
    "    print(confusion_matrix(y1, y2))\n",
    "    print('accuracy')\n",
    "    print(accuracy_score(y1, y2))\n",
    "    print('precision')\n",
    "    print(precision_score(y1, y2))\n",
    "    print('recall')\n",
    "    print(recall_score(y1, y2))\n",
    "    print('f1')\n",
    "    print(f1_score(y1, y2))\n",
    "    false_positive_rate, recall, thresholds = roc_curve(y1, y2)\n",
    "    roc_auc = auc(false_positive_rate, recall)\n",
    "    print('AUC')\n",
    "    print(roc_auc)\n",
    "    plt.plot(false_positive_rate, recall, 'b')\n",
    "    plt.plot([0, 1], [0, 1], 'r--')\n",
    "    plt.title('AUC = %0.2f' % roc_auc)  "
   ]
  },
  {
   "cell_type": "markdown",
   "metadata": {},
   "source": [
    "### 4) Modelo\n",
    "Tenemos que utilizar algún modelo de clasificacion, ya que necesesitamos saber la probabilidad de que algo ocurra o no. En este caso, es que el cliente deje la empresa (1) o que se quede (0) de un mes a otro.\n",
    "\n",
    "Por ello vamos a trabajar con dos tipos de modelos para ver cuál es el mejor para este estudio (Regresion logistica y Random Forest)"
   ]
  },
  {
   "cell_type": "markdown",
   "metadata": {},
   "source": [
    "#### Realizamos nuestros primeros modelos con todas las varibales"
   ]
  },
  {
   "cell_type": "code",
   "execution_count": 102,
   "metadata": {
    "scrolled": true
   },
   "outputs": [
    {
     "name": "stderr",
     "output_type": "stream",
     "text": [
      "/Users/geraldinedaianacacciatore/opt/anaconda3/lib/python3.7/site-packages/sklearn/utils/validation.py:760: DataConversionWarning: A column-vector y was passed when a 1d array was expected. Please change the shape of y to (n_samples, ), for example using ravel().\n",
      "  y = column_or_1d(y, warn=True)\n"
     ]
    }
   ],
   "source": [
    "modelo_log_1 = LogisticRegression().fit(X_train, y_train)\n",
    "y_pred_log_1 = modelo_log_1.predict(X_test)"
   ]
  },
  {
   "cell_type": "code",
   "execution_count": 103,
   "metadata": {},
   "outputs": [
    {
     "name": "stdout",
     "output_type": "stream",
     "text": [
      "matriz de confusión\n",
      "[[17400   277]\n",
      " [  200  1217]]\n",
      "accuracy\n",
      "0.9750183303655598\n",
      "precision\n",
      "0.8145917001338688\n",
      "recall\n",
      "0.8588567395906845\n",
      "f1\n",
      "0.8361387839230505\n",
      "AUC\n",
      "0.9215933299130094\n"
     ]
    },
    {
     "data": {
      "image/png": "[encoded data removed]",
      "text/plain": [
       "<Figure size 432x288 with 1 Axes>"
      ]
     },
     "metadata": {
      "needs_background": "light"
     },
     "output_type": "display_data"
    }
   ],
   "source": [
    "saca_metricas(y_test, y_pred_log_1)   #Tenemos que ver el accuranci, y el recall, ambos tienen que ser buenas. "
   ]
  },
  {
   "cell_type": "code",
   "execution_count": 104,
   "metadata": {
    "scrolled": true
   },
   "outputs": [
    {
     "name": "stdout",
     "output_type": "stream",
     "text": [
      "Feature: 0, Score: 0.01357\n",
      "Feature: 1, Score: 0.03725\n",
      "Feature: 2, Score: 0.01761\n",
      "Feature: 3, Score: 0.03156\n",
      "Feature: 4, Score: 1.62492\n",
      "Feature: 5, Score: 1.32121\n",
      "Feature: 6, Score: 0.03120\n",
      "Feature: 7, Score: -0.01058\n",
      "Feature: 8, Score: 0.03716\n",
      "Feature: 9, Score: 0.01318\n",
      "Feature: 10, Score: -0.01604\n",
      "Feature: 11, Score: 0.01608\n",
      "Feature: 12, Score: 0.04607\n",
      "Feature: 13, Score: -0.00826\n",
      "Feature: 14, Score: -1.59902\n",
      "Feature: 15, Score: -0.68526\n",
      "Feature: 16, Score: -4.75090\n",
      "Feature: 17, Score: 0.00783\n"
     ]
    },
    {
     "data": {
      "image/png": "[encoded data removed]",
      "text/plain": [
       "<Figure size 432x288 with 1 Axes>"
      ]
     },
     "metadata": {
      "needs_background": "light"
     },
     "output_type": "display_data"
    }
   ],
   "source": [
    "# get importance\n",
    "importance = modelo_log_1.coef_[0]\n",
    "# summarize feature importance\n",
    "for i,v in enumerate(importance):\n",
    "\tprint('Feature: %0d, Score: %.5f' % (i,v))\n",
    "# plot feature importance\n",
    "pyplot.bar([x for x in range(len(importance))], importance)\n",
    "pyplot.show()"
   ]
  },
  {
   "cell_type": "code",
   "execution_count": 105,
   "metadata": {},
   "outputs": [
    {
     "data": {
      "text/plain": [
       "array(['edad', 'facturacion', 'provincia', 'num_lineas', 'num_dt',\n",
       "       'incidencia', 'num_llamad_ent', 'num_llamad_sal', 'mb_datos',\n",
       "       'seg_llamad_ent', 'seg_llamad_sal', 'conexion', 'vel_conexion',\n",
       "       'TV', 'financiacion', 'imp_financ', 'descuentos',\n",
       "       'antiguedad_años'], dtype=object)"
      ]
     },
     "execution_count": 105,
     "metadata": {},
     "output_type": "execute_result"
    }
   ],
   "source": [
    "datos.columns.values"
   ]
  },
  {
   "cell_type": "markdown",
   "metadata": {},
   "source": [
    "Dentro de la improtancia de las variables nos interesan las que tienen un coeficiente positivo.\n",
    "\n",
    "En este caso vemos que hay dos variables con bastante importancia: 'num_dt' e 'incidencia'"
   ]
  },
  {
   "cell_type": "code",
   "execution_count": 106,
   "metadata": {},
   "outputs": [
    {
     "name": "stderr",
     "output_type": "stream",
     "text": [
      "/Users/geraldinedaianacacciatore/opt/anaconda3/lib/python3.7/site-packages/ipykernel_launcher.py:1: DataConversionWarning: A column-vector y was passed when a 1d array was expected. Please change the shape of y to (n_samples,), for example using ravel().\n",
      "  \"\"\"Entry point for launching an IPython kernel.\n"
     ]
    },
    {
     "name": "stdout",
     "output_type": "stream",
     "text": [
      "matriz de confusión\n",
      "[[17368   309]\n",
      " [   10  1407]]\n",
      "accuracy\n",
      "0.9832931811040118\n",
      "precision\n",
      "0.8199300699300699\n",
      "recall\n",
      "0.9929428369795342\n",
      "f1\n",
      "0.898180657516757\n",
      "AUC\n",
      "0.9877312476462983\n"
     ]
    },
    {
     "data": {
      "image/png": "[encoded data removed]",
      "text/plain": [
       "<Figure size 432x288 with 1 Axes>"
      ]
     },
     "metadata": {
      "needs_background": "light"
     },
     "output_type": "display_data"
    }
   ],
   "source": [
    "rf_classifier1 = RandomForestClassifier().fit(X_train, y_train)\n",
    "y_pred1        = rf_classifier1.predict(X_test)\n",
    "saca_metricas(y_test, y_pred1)"
   ]
  },
  {
   "cell_type": "code",
   "execution_count": 107,
   "metadata": {
    "scrolled": true
   },
   "outputs": [
    {
     "name": "stdout",
     "output_type": "stream",
     "text": [
      "Feature: 0, Score: 0.01786\n",
      "Feature: 1, Score: 0.02329\n",
      "Feature: 2, Score: 0.01821\n",
      "Feature: 3, Score: 0.00718\n",
      "Feature: 4, Score: 0.36750\n",
      "Feature: 5, Score: 0.29579\n",
      "Feature: 6, Score: 0.02179\n",
      "Feature: 7, Score: 0.01922\n",
      "Feature: 8, Score: 0.02337\n",
      "Feature: 9, Score: 0.02327\n",
      "Feature: 10, Score: 0.02278\n",
      "Feature: 11, Score: 0.00218\n",
      "Feature: 12, Score: 0.01096\n",
      "Feature: 13, Score: 0.00460\n",
      "Feature: 14, Score: 0.01306\n",
      "Feature: 15, Score: 0.01445\n",
      "Feature: 16, Score: 0.09920\n",
      "Feature: 17, Score: 0.01531\n"
     ]
    },
    {
     "data": {
      "image/png": "[encoded data removed]",
      "text/plain": [
       "<Figure size 432x288 with 1 Axes>"
      ]
     },
     "metadata": {
      "needs_background": "light"
     },
     "output_type": "display_data"
    }
   ],
   "source": [
    "# Obtenemos la importancia de las variables \n",
    "importance = rf_classifier1.feature_importances_\n",
    "\n",
    "# summarize feature importance\n",
    "for i,v in enumerate(importance):\n",
    "\tprint('Feature: %0d, Score: %.5f' % (i,v))\n",
    "\n",
    "# plot feature importance\n",
    "pyplot.bar([x for x in range(len(importance))], importance)\n",
    "pyplot.show()"
   ]
  },
  {
   "cell_type": "markdown",
   "metadata": {},
   "source": [
    "Aquí vemos que 'descuentos' también es importante."
   ]
  },
  {
   "cell_type": "markdown",
   "metadata": {},
   "source": [
    "#### Resumen hasta el momento:\n",
    "Ambos modelos, para ser los primeros son bastante buenos. El segundo es mejor, no solo porque el accurancy es más alto, sino porque la variación entre éste y el recall es menor. Además que la presición es un poco mejor."
   ]
  },
  {
   "cell_type": "code",
   "execution_count": 108,
   "metadata": {},
   "outputs": [],
   "source": [
    "# Ahora vamos a probar un modelo sin la variable 'financiacion' que tenia bastante multicolinealidad.\n",
    "datos2 = datos.copy(deep = True)\n",
    "datos2.drop('financiacion',axis=1, inplace=True)"
   ]
  },
  {
   "cell_type": "code",
   "execution_count": 109,
   "metadata": {},
   "outputs": [],
   "source": [
    "## Escalado de variables: \n",
    "sc = StandardScaler()\n",
    "datos_escalados2 = sc.fit_transform(datos2)"
   ]
  },
  {
   "cell_type": "code",
   "execution_count": 110,
   "metadata": {},
   "outputs": [],
   "source": [
    "X_train, X_test, y_train, y_test = train_test_split(datos_escalados2,\n",
    "                                                    y_diciembre,\n",
    "                                                    test_size=0.2,\n",
    "                                                    random_state=42,\n",
    "                                                    stratify = y_diciembre)"
   ]
  },
  {
   "cell_type": "code",
   "execution_count": 111,
   "metadata": {
    "scrolled": true
   },
   "outputs": [
    {
     "name": "stderr",
     "output_type": "stream",
     "text": [
      "/Users/geraldinedaianacacciatore/opt/anaconda3/lib/python3.7/site-packages/sklearn/utils/validation.py:760: DataConversionWarning: A column-vector y was passed when a 1d array was expected. Please change the shape of y to (n_samples, ), for example using ravel().\n",
      "  y = column_or_1d(y, warn=True)\n"
     ]
    }
   ],
   "source": [
    "modelo_log_2 = LogisticRegression().fit(X_train, y_train)\n",
    "y_pred_log_2 = modelo_log_2.predict(X_test)"
   ]
  },
  {
   "cell_type": "code",
   "execution_count": 112,
   "metadata": {},
   "outputs": [
    {
     "name": "stdout",
     "output_type": "stream",
     "text": [
      "matriz de confusión\n",
      "[[17398   279]\n",
      " [  200  1217]]\n",
      "accuracy\n",
      "0.9749135854195035\n",
      "precision\n",
      "0.8135026737967914\n",
      "recall\n",
      "0.8588567395906845\n",
      "f1\n",
      "0.8355647099210436\n",
      "AUC\n",
      "0.9215367592279384\n"
     ]
    },
    {
     "data": {
      "image/png": "[encoded data removed]",
      "text/plain": [
       "<Figure size 432x288 with 1 Axes>"
      ]
     },
     "metadata": {
      "needs_background": "light"
     },
     "output_type": "display_data"
    }
   ],
   "source": [
    "saca_metricas(y_test, y_pred_log_2)   #Tenemos que ver el accuranci, y el recall, ambos tienen que ser buenas. "
   ]
  },
  {
   "cell_type": "code",
   "execution_count": 113,
   "metadata": {},
   "outputs": [
    {
     "name": "stdout",
     "output_type": "stream",
     "text": [
      "Feature: 0, Score: 0.01425\n",
      "Feature: 1, Score: 0.03970\n",
      "Feature: 2, Score: 0.01769\n",
      "Feature: 3, Score: 0.03028\n",
      "Feature: 4, Score: 1.61180\n",
      "Feature: 5, Score: 1.31953\n",
      "Feature: 6, Score: 0.03012\n",
      "Feature: 7, Score: -0.01068\n",
      "Feature: 8, Score: 0.03492\n",
      "Feature: 9, Score: 0.01046\n",
      "Feature: 10, Score: -0.01616\n",
      "Feature: 11, Score: 0.01374\n",
      "Feature: 12, Score: 0.04371\n",
      "Feature: 13, Score: -0.01106\n",
      "Feature: 14, Score: -3.30819\n",
      "Feature: 15, Score: -4.72225\n",
      "Feature: 16, Score: 0.00775\n"
     ]
    },
    {
     "data": {
      "image/png": "[encoded data removed]",
      "text/plain": [
       "<Figure size 432x288 with 1 Axes>"
      ]
     },
     "metadata": {
      "needs_background": "light"
     },
     "output_type": "display_data"
    }
   ],
   "source": [
    "# get importance\n",
    "importance = modelo_log_2.coef_[0]\n",
    "# summarize feature importance\n",
    "for i,v in enumerate(importance):\n",
    "\tprint('Feature: %0d, Score: %.5f' % (i,v))\n",
    "# plot feature importance\n",
    "pyplot.bar([x for x in range(len(importance))], importance)\n",
    "pyplot.show()"
   ]
  },
  {
   "cell_type": "code",
   "execution_count": 114,
   "metadata": {},
   "outputs": [
    {
     "name": "stderr",
     "output_type": "stream",
     "text": [
      "/Users/geraldinedaianacacciatore/opt/anaconda3/lib/python3.7/site-packages/ipykernel_launcher.py:1: DataConversionWarning: A column-vector y was passed when a 1d array was expected. Please change the shape of y to (n_samples,), for example using ravel().\n",
      "  \"\"\"Entry point for launching an IPython kernel.\n"
     ]
    },
    {
     "name": "stdout",
     "output_type": "stream",
     "text": [
      "matriz de confusión\n",
      "[[17367   310]\n",
      " [   10  1407]]\n",
      "accuracy\n",
      "0.9832408086309835\n",
      "precision\n",
      "0.819452533488643\n",
      "recall\n",
      "0.9929428369795342\n",
      "f1\n",
      "0.8978940650925334\n",
      "AUC\n",
      "0.9877029623037628\n"
     ]
    },
    {
     "data": {
      "image/png": "[encoded data removed]",
      "text/plain": [
       "<Figure size 432x288 with 1 Axes>"
      ]
     },
     "metadata": {
      "needs_background": "light"
     },
     "output_type": "display_data"
    }
   ],
   "source": [
    "rf_classifier2 = RandomForestClassifier().fit(X_train, y_train)\n",
    "y_pred2        = rf_classifier2.predict(X_test)\n",
    "saca_metricas(y_test, y_pred2)"
   ]
  },
  {
   "cell_type": "code",
   "execution_count": 115,
   "metadata": {
    "scrolled": true
   },
   "outputs": [
    {
     "name": "stdout",
     "output_type": "stream",
     "text": [
      "Feature: 0, Score: 0.01805\n",
      "Feature: 1, Score: 0.02339\n",
      "Feature: 2, Score: 0.01796\n",
      "Feature: 3, Score: 0.00682\n",
      "Feature: 4, Score: 0.36853\n",
      "Feature: 5, Score: 0.29427\n",
      "Feature: 6, Score: 0.02166\n",
      "Feature: 7, Score: 0.01938\n",
      "Feature: 8, Score: 0.02302\n",
      "Feature: 9, Score: 0.02289\n",
      "Feature: 10, Score: 0.02295\n",
      "Feature: 11, Score: 0.00220\n",
      "Feature: 12, Score: 0.01098\n",
      "Feature: 13, Score: 0.00471\n",
      "Feature: 14, Score: 0.03302\n",
      "Feature: 15, Score: 0.09549\n",
      "Feature: 16, Score: 0.01467\n"
     ]
    },
    {
     "data": {
      "image/png": "[encoded data removed]",
      "text/plain": [
       "<Figure size 432x288 with 1 Axes>"
      ]
     },
     "metadata": {
      "needs_background": "light"
     },
     "output_type": "display_data"
    }
   ],
   "source": [
    "# Obtenemos la importancia de las variables \n",
    "importance = rf_classifier2.feature_importances_\n",
    "\n",
    "# summarize feature importance\n",
    "for i,v in enumerate(importance):\n",
    "\tprint('Feature: %0d, Score: %.5f' % (i,v))\n",
    "\n",
    "# plot feature importance\n",
    "pyplot.bar([x for x in range(len(importance))], importance)\n",
    "pyplot.show()"
   ]
  },
  {
   "cell_type": "markdown",
   "metadata": {},
   "source": [
    "No encontramos cambios significativos"
   ]
  },
  {
   "cell_type": "markdown",
   "metadata": {},
   "source": [
    "### 5)Mejora del modelo"
   ]
  },
  {
   "cell_type": "markdown",
   "metadata": {},
   "source": [
    "#### Feature Engineering"
   ]
  },
  {
   "cell_type": "code",
   "execution_count": 116,
   "metadata": {},
   "outputs": [],
   "source": [
    "def proporciones_final (var,target,df):\n",
    "\n",
    "    proporcion = pd.DataFrame()\n",
    "    \n",
    "    proporcion['%y_cliente'] = df[target].groupby(df[var]).mean()*100\n",
    "    proporcion['Conteo'] = df[target].groupby(df[var]).count()\n",
    "    proporcion= proporcion.round(3)   \n",
    "    proporcion_filtered = proporcion[(proporcion['%y_cliente']>0) & (proporcion['Conteo']>10)]\n",
    "        \n",
    "    if len(proporcion_filtered)<100 and len(proporcion_filtered)>1:\n",
    "        fig = plt.figure()\n",
    "        ax = proporcion_filtered['Conteo'].plot(kind='bar',grid=True)\n",
    "                \n",
    "        ax2 = ax.twinx()\n",
    "        ax2.plot(proporcion_filtered['%y_cliente'].values, linestyle='-', linewidth=2.0,color='g')\n",
    "        plt.tight_layout()        \n",
    "    \n",
    "   "
   ]
  },
  {
   "cell_type": "code",
   "execution_count": 117,
   "metadata": {},
   "outputs": [
    {
     "data": {
      "image/png": "[encoded data removed]",
      "text/plain": [
       "<Figure size 432x288 with 2 Axes>"
      ]
     },
     "metadata": {
      "needs_background": "light"
     },
     "output_type": "display_data"
    },
    {
     "data": {
      "image/png": "[encoded data removed]",
      "text/plain": [
       "<Figure size 432x288 with 2 Axes>"
      ]
     },
     "metadata": {
      "needs_background": "light"
     },
     "output_type": "display_data"
    },
    {
     "data": {
      "image/png": "[encoded data removed]",
      "text/plain": [
       "<Figure size 432x288 with 2 Axes>"
      ]
     },
     "metadata": {
      "needs_background": "light"
     },
     "output_type": "display_data"
    },
    {
     "data": {
      "image/png": "[encoded data removed]",
      "text/plain": [
       "<Figure size 432x288 with 2 Axes>"
      ]
     },
     "metadata": {
      "needs_background": "light"
     },
     "output_type": "display_data"
    },
    {
     "data": {
      "image/png": "[encoded data removed]",
      "text/plain": [
       "<Figure size 432x288 with 2 Axes>"
      ]
     },
     "metadata": {
      "needs_background": "light"
     },
     "output_type": "display_data"
    },
    {
     "data": {
      "image/png": "[encoded data removed]",
      "text/plain": [
       "<Figure size 432x288 with 2 Axes>"
      ]
     },
     "metadata": {
      "needs_background": "light"
     },
     "output_type": "display_data"
    },
    {
     "data": {
      "image/png": "[encoded data removed]",
      "text/plain": [
       "<Figure size 432x288 with 2 Axes>"
      ]
     },
     "metadata": {
      "needs_background": "light"
     },
     "output_type": "display_data"
    },
    {
     "data": {
      "image/png": "[encoded data removed]",
      "text/plain": [
       "<Figure size 432x288 with 2 Axes>"
      ]
     },
     "metadata": {
      "needs_background": "light"
     },
     "output_type": "display_data"
    },
    {
     "data": {
      "image/png": "[encoded data removed]",
      "text/plain": [
       "<Figure size 432x288 with 2 Axes>"
      ]
     },
     "metadata": {
      "needs_background": "light"
     },
     "output_type": "display_data"
    },
    {
     "data": {
      "image/png": "[encoded data removed]",
      "text/plain": [
       "<Figure size 432x288 with 2 Axes>"
      ]
     },
     "metadata": {
      "needs_background": "light"
     },
     "output_type": "display_data"
    },
    {
     "data": {
      "image/png": "[encoded data removed]",
      "text/plain": [
       "<Figure size 432x288 with 2 Axes>"
      ]
     },
     "metadata": {
      "needs_background": "light"
     },
     "output_type": "display_data"
    },
    {
     "data": {
      "image/png": "[encoded data removed]",
      "text/plain": [
       "<Figure size 432x288 with 2 Axes>"
      ]
     },
     "metadata": {
      "needs_background": "light"
     },
     "output_type": "display_data"
    }
   ],
   "source": [
    "for i in datos_diciembre.columns:\n",
    "    proporciones_final (i, 'y_cliente', datos_diciembre)\n"
   ]
  },
  {
   "cell_type": "code",
   "execution_count": 118,
   "metadata": {},
   "outputs": [
    {
     "data": {
      "text/html": [
       "<div>\n",
       "<style scoped>\n",
       "    .dataframe tbody tr th:only-of-type {\n",
       "        vertical-align: middle;\n",
       "    }\n",
       "\n",
       "    .dataframe tbody tr th {\n",
       "        vertical-align: top;\n",
       "    }\n",
       "\n",
       "    .dataframe thead th {\n",
       "        text-align: right;\n",
       "    }\n",
       "</style>\n",
       "<table border=\"1\" class=\"dataframe\">\n",
       "  <thead>\n",
       "    <tr style=\"text-align: right;\">\n",
       "      <th></th>\n",
       "      <th>edad</th>\n",
       "      <th>facturacion</th>\n",
       "      <th>provincia</th>\n",
       "      <th>num_lineas</th>\n",
       "      <th>num_dt</th>\n",
       "      <th>incidencia</th>\n",
       "      <th>num_llamad_ent</th>\n",
       "      <th>num_llamad_sal</th>\n",
       "      <th>mb_datos</th>\n",
       "      <th>seg_llamad_ent</th>\n",
       "      <th>seg_llamad_sal</th>\n",
       "      <th>conexion</th>\n",
       "      <th>vel_conexion</th>\n",
       "      <th>TV</th>\n",
       "      <th>financiacion</th>\n",
       "      <th>imp_financ</th>\n",
       "      <th>descuentos</th>\n",
       "      <th>y_cliente</th>\n",
       "      <th>antiguedad_años</th>\n",
       "    </tr>\n",
       "    <tr>\n",
       "      <th>id</th>\n",
       "      <th></th>\n",
       "      <th></th>\n",
       "      <th></th>\n",
       "      <th></th>\n",
       "      <th></th>\n",
       "      <th></th>\n",
       "      <th></th>\n",
       "      <th></th>\n",
       "      <th></th>\n",
       "      <th></th>\n",
       "      <th></th>\n",
       "      <th></th>\n",
       "      <th></th>\n",
       "      <th></th>\n",
       "      <th></th>\n",
       "      <th></th>\n",
       "      <th></th>\n",
       "      <th></th>\n",
       "      <th></th>\n",
       "    </tr>\n",
       "  </thead>\n",
       "  <tbody>\n",
       "    <tr>\n",
       "      <th>1</th>\n",
       "      <td>63</td>\n",
       "      <td>216.028109</td>\n",
       "      <td>40</td>\n",
       "      <td>5</td>\n",
       "      <td>0.0</td>\n",
       "      <td>0</td>\n",
       "      <td>110</td>\n",
       "      <td>79</td>\n",
       "      <td>10897</td>\n",
       "      <td>12806</td>\n",
       "      <td>13751</td>\n",
       "      <td>0</td>\n",
       "      <td>50</td>\n",
       "      <td>0</td>\n",
       "      <td>0</td>\n",
       "      <td>0.000000</td>\n",
       "      <td>0</td>\n",
       "      <td>0</td>\n",
       "      <td>1</td>\n",
       "    </tr>\n",
       "    <tr>\n",
       "      <th>2</th>\n",
       "      <td>84</td>\n",
       "      <td>255.830842</td>\n",
       "      <td>49</td>\n",
       "      <td>3</td>\n",
       "      <td>0.0</td>\n",
       "      <td>0</td>\n",
       "      <td>189</td>\n",
       "      <td>89</td>\n",
       "      <td>18657</td>\n",
       "      <td>6499</td>\n",
       "      <td>10862</td>\n",
       "      <td>0</td>\n",
       "      <td>600</td>\n",
       "      <td>0</td>\n",
       "      <td>0</td>\n",
       "      <td>0.000000</td>\n",
       "      <td>1</td>\n",
       "      <td>0</td>\n",
       "      <td>2</td>\n",
       "    </tr>\n",
       "    <tr>\n",
       "      <th>3</th>\n",
       "      <td>66</td>\n",
       "      <td>135.768153</td>\n",
       "      <td>36</td>\n",
       "      <td>4</td>\n",
       "      <td>0.0</td>\n",
       "      <td>0</td>\n",
       "      <td>129</td>\n",
       "      <td>30</td>\n",
       "      <td>15511</td>\n",
       "      <td>17013</td>\n",
       "      <td>16743</td>\n",
       "      <td>1</td>\n",
       "      <td>35</td>\n",
       "      <td>0</td>\n",
       "      <td>0</td>\n",
       "      <td>0.000000</td>\n",
       "      <td>1</td>\n",
       "      <td>0</td>\n",
       "      <td>18</td>\n",
       "    </tr>\n",
       "    <tr>\n",
       "      <th>4</th>\n",
       "      <td>69</td>\n",
       "      <td>255.658527</td>\n",
       "      <td>41</td>\n",
       "      <td>4</td>\n",
       "      <td>0.0</td>\n",
       "      <td>0</td>\n",
       "      <td>51</td>\n",
       "      <td>52</td>\n",
       "      <td>12670</td>\n",
       "      <td>3393</td>\n",
       "      <td>6771</td>\n",
       "      <td>0</td>\n",
       "      <td>200</td>\n",
       "      <td>1</td>\n",
       "      <td>0</td>\n",
       "      <td>0.000000</td>\n",
       "      <td>0</td>\n",
       "      <td>0</td>\n",
       "      <td>4</td>\n",
       "    </tr>\n",
       "    <tr>\n",
       "      <th>5</th>\n",
       "      <td>25</td>\n",
       "      <td>22.302845</td>\n",
       "      <td>22</td>\n",
       "      <td>2</td>\n",
       "      <td>2.0</td>\n",
       "      <td>0</td>\n",
       "      <td>183</td>\n",
       "      <td>3</td>\n",
       "      <td>23756</td>\n",
       "      <td>18436</td>\n",
       "      <td>4485</td>\n",
       "      <td>1</td>\n",
       "      <td>10</td>\n",
       "      <td>0</td>\n",
       "      <td>0</td>\n",
       "      <td>0.000000</td>\n",
       "      <td>0</td>\n",
       "      <td>1</td>\n",
       "      <td>22</td>\n",
       "    </tr>\n",
       "    <tr>\n",
       "      <th>...</th>\n",
       "      <td>...</td>\n",
       "      <td>...</td>\n",
       "      <td>...</td>\n",
       "      <td>...</td>\n",
       "      <td>...</td>\n",
       "      <td>...</td>\n",
       "      <td>...</td>\n",
       "      <td>...</td>\n",
       "      <td>...</td>\n",
       "      <td>...</td>\n",
       "      <td>...</td>\n",
       "      <td>...</td>\n",
       "      <td>...</td>\n",
       "      <td>...</td>\n",
       "      <td>...</td>\n",
       "      <td>...</td>\n",
       "      <td>...</td>\n",
       "      <td>...</td>\n",
       "      <td>...</td>\n",
       "    </tr>\n",
       "    <tr>\n",
       "      <th>99995</th>\n",
       "      <td>65</td>\n",
       "      <td>173.741667</td>\n",
       "      <td>6</td>\n",
       "      <td>5</td>\n",
       "      <td>0.0</td>\n",
       "      <td>0</td>\n",
       "      <td>121</td>\n",
       "      <td>98</td>\n",
       "      <td>13403</td>\n",
       "      <td>6197</td>\n",
       "      <td>6853</td>\n",
       "      <td>1</td>\n",
       "      <td>35</td>\n",
       "      <td>1</td>\n",
       "      <td>1</td>\n",
       "      <td>23.138779</td>\n",
       "      <td>0</td>\n",
       "      <td>0</td>\n",
       "      <td>0</td>\n",
       "    </tr>\n",
       "    <tr>\n",
       "      <th>99996</th>\n",
       "      <td>36</td>\n",
       "      <td>215.890326</td>\n",
       "      <td>38</td>\n",
       "      <td>3</td>\n",
       "      <td>0.0</td>\n",
       "      <td>0</td>\n",
       "      <td>98</td>\n",
       "      <td>13</td>\n",
       "      <td>5291</td>\n",
       "      <td>3684</td>\n",
       "      <td>1667</td>\n",
       "      <td>1</td>\n",
       "      <td>30</td>\n",
       "      <td>0</td>\n",
       "      <td>0</td>\n",
       "      <td>0.000000</td>\n",
       "      <td>0</td>\n",
       "      <td>0</td>\n",
       "      <td>6</td>\n",
       "    </tr>\n",
       "    <tr>\n",
       "      <th>99997</th>\n",
       "      <td>68</td>\n",
       "      <td>285.890750</td>\n",
       "      <td>4</td>\n",
       "      <td>5</td>\n",
       "      <td>0.0</td>\n",
       "      <td>0</td>\n",
       "      <td>226</td>\n",
       "      <td>20</td>\n",
       "      <td>20002</td>\n",
       "      <td>572</td>\n",
       "      <td>5679</td>\n",
       "      <td>0</td>\n",
       "      <td>200</td>\n",
       "      <td>0</td>\n",
       "      <td>1</td>\n",
       "      <td>14.616422</td>\n",
       "      <td>0</td>\n",
       "      <td>0</td>\n",
       "      <td>16</td>\n",
       "    </tr>\n",
       "    <tr>\n",
       "      <th>99998</th>\n",
       "      <td>20</td>\n",
       "      <td>383.167610</td>\n",
       "      <td>13</td>\n",
       "      <td>4</td>\n",
       "      <td>0.0</td>\n",
       "      <td>0</td>\n",
       "      <td>126</td>\n",
       "      <td>26</td>\n",
       "      <td>16448</td>\n",
       "      <td>833</td>\n",
       "      <td>14398</td>\n",
       "      <td>1</td>\n",
       "      <td>20</td>\n",
       "      <td>0</td>\n",
       "      <td>0</td>\n",
       "      <td>0.000000</td>\n",
       "      <td>0</td>\n",
       "      <td>0</td>\n",
       "      <td>6</td>\n",
       "    </tr>\n",
       "    <tr>\n",
       "      <th>100000</th>\n",
       "      <td>18</td>\n",
       "      <td>57.158927</td>\n",
       "      <td>44</td>\n",
       "      <td>4</td>\n",
       "      <td>0.0</td>\n",
       "      <td>0</td>\n",
       "      <td>85</td>\n",
       "      <td>25</td>\n",
       "      <td>17933</td>\n",
       "      <td>18617</td>\n",
       "      <td>2115</td>\n",
       "      <td>1</td>\n",
       "      <td>25</td>\n",
       "      <td>1</td>\n",
       "      <td>0</td>\n",
       "      <td>0.000000</td>\n",
       "      <td>1</td>\n",
       "      <td>0</td>\n",
       "      <td>10</td>\n",
       "    </tr>\n",
       "  </tbody>\n",
       "</table>\n",
       "<p>95467 rows × 19 columns</p>\n",
       "</div>"
      ],
      "text/plain": [
       "        edad  facturacion  provincia  num_lineas  num_dt  incidencia  \\\n",
       "id                                                                     \n",
       "1         63   216.028109         40           5     0.0           0   \n",
       "2         84   255.830842         49           3     0.0           0   \n",
       "3         66   135.768153         36           4     0.0           0   \n",
       "4         69   255.658527         41           4     0.0           0   \n",
       "5         25    22.302845         22           2     2.0           0   \n",
       "...      ...          ...        ...         ...     ...         ...   \n",
       "99995     65   173.741667          6           5     0.0           0   \n",
       "99996     36   215.890326         38           3     0.0           0   \n",
       "99997     68   285.890750          4           5     0.0           0   \n",
       "99998     20   383.167610         13           4     0.0           0   \n",
       "100000    18    57.158927         44           4     0.0           0   \n",
       "\n",
       "        num_llamad_ent  num_llamad_sal  mb_datos  seg_llamad_ent  \\\n",
       "id                                                                 \n",
       "1                  110              79     10897           12806   \n",
       "2                  189              89     18657            6499   \n",
       "3                  129              30     15511           17013   \n",
       "4                   51              52     12670            3393   \n",
       "5                  183               3     23756           18436   \n",
       "...                ...             ...       ...             ...   \n",
       "99995              121              98     13403            6197   \n",
       "99996               98              13      5291            3684   \n",
       "99997              226              20     20002             572   \n",
       "99998              126              26     16448             833   \n",
       "100000              85              25     17933           18617   \n",
       "\n",
       "        seg_llamad_sal  conexion  vel_conexion  TV  financiacion  imp_financ  \\\n",
       "id                                                                             \n",
       "1                13751         0            50   0             0    0.000000   \n",
       "2                10862         0           600   0             0    0.000000   \n",
       "3                16743         1            35   0             0    0.000000   \n",
       "4                 6771         0           200   1             0    0.000000   \n",
       "5                 4485         1            10   0             0    0.000000   \n",
       "...                ...       ...           ...  ..           ...         ...   \n",
       "99995             6853         1            35   1             1   23.138779   \n",
       "99996             1667         1            30   0             0    0.000000   \n",
       "99997             5679         0           200   0             1   14.616422   \n",
       "99998            14398         1            20   0             0    0.000000   \n",
       "100000            2115         1            25   1             0    0.000000   \n",
       "\n",
       "        descuentos  y_cliente  antiguedad_años  \n",
       "id                                              \n",
       "1                0          0                1  \n",
       "2                1          0                2  \n",
       "3                1          0               18  \n",
       "4                0          0                4  \n",
       "5                0          1               22  \n",
       "...            ...        ...              ...  \n",
       "99995            0          0                0  \n",
       "99996            0          0                6  \n",
       "99997            0          0               16  \n",
       "99998            0          0                6  \n",
       "100000           1          0               10  \n",
       "\n",
       "[95467 rows x 19 columns]"
      ]
     },
     "execution_count": 118,
     "metadata": {},
     "output_type": "execute_result"
    }
   ],
   "source": [
    "datos_diciembre2 = datos_diciembre.copy(deep = True)\n",
    "datos_diciembre2"
   ]
  },
  {
   "cell_type": "code",
   "execution_count": 119,
   "metadata": {},
   "outputs": [],
   "source": [
    "## NUM_DT (observamos que la mayoria de la gente que se va tiene alguna linea impaga)\n",
    "datos_diciembre2['num_dt_nueva'] = datos_diciembre2['num_dt'].apply(lambda x: 0 if x<=1 else 1)"
   ]
  },
  {
   "cell_type": "code",
   "execution_count": 120,
   "metadata": {},
   "outputs": [],
   "source": [
    "## NUM_LINEAS (realizamos una variable con 3 rangos de número de lineasa y 3 variables con esos mismos rangos)\n",
    "datos_diciembre2['num_lineas_bajo'] = datos_diciembre2['num_lineas'].apply(lambda x: 1 if x<=2 else 0)\n",
    "datos_diciembre2['num_lineas_medio'] = datos_diciembre2['num_lineas'].apply(lambda x: 1 if x>2 & x<5 else 0)\n",
    "datos_diciembre2['num_lineas_alto'] = datos_diciembre2['num_lineas'].apply(lambda x: 1 if x>=5 else 0)\n",
    "datos_diciembre2['num_lineas_nueva'] = datos_diciembre2['num_lineas'].apply(lambda x: 0 if x<=2 else (1 if x>2 and x<5 else(2)))  "
   ]
  },
  {
   "cell_type": "code",
   "execution_count": 121,
   "metadata": {},
   "outputs": [],
   "source": [
    "## ANTIGUEDAD_AÑOS (realizamos una variable con 3 rangos de antiguedad y 3 variables con esos mismos rangos)\n",
    "datos_diciembre2['antiguedad_años_bajo'] = datos_diciembre2['antiguedad_años'].apply(lambda x: 1 if x<=8 else 0)\n",
    "datos_diciembre2['antiguedad_años_medio'] = datos_diciembre2['antiguedad_años'].apply(lambda x: 1 if x>8 & x<16 else 0)\n",
    "datos_diciembre2['antiguedad_años_alto'] = datos_diciembre2['antiguedad_años'].apply(lambda x: 1 if x>=16 else 0)\n",
    "datos_diciembre2['antiguedad_años_nueva'] = datos_diciembre2['antiguedad_años'].apply(lambda x: 0 if x<=8 else (1 if x>8 and x<16 else(2)))  "
   ]
  },
  {
   "cell_type": "code",
   "execution_count": 122,
   "metadata": {},
   "outputs": [],
   "source": [
    "## EDAD (realizamos una variable con 3 rangos de edad), los datos van de 18 a 85 años. Vamos a hacer 3 grupos\n",
    "datos_diciembre2['edad_bajo'] = datos_diciembre2['edad'].apply(lambda x: 1 if x<=40 else 0)\n",
    "datos_diciembre2['edad_medio'] = datos_diciembre2['edad'].apply(lambda x: 1 if x>40 & x<62 else 0)\n",
    "datos_diciembre2['edad_alto'] = datos_diciembre2['edad'].apply(lambda x: 1 if x>=62 else 0)"
   ]
  },
  {
   "cell_type": "code",
   "execution_count": 123,
   "metadata": {},
   "outputs": [
    {
     "data": {
      "text/html": [
       "<style  type=\"text/css\" >\n",
       "    #T_cfed4e4e_906a_11ea_b554_d0817ac3a282row0_col0 {\n",
       "            background-color:  #023858;\n",
       "            color:  #f1f1f1;\n",
       "        }    #T_cfed4e4e_906a_11ea_b554_d0817ac3a282row1_col0 {\n",
       "            background-color:  #71a8ce;\n",
       "            color:  #000000;\n",
       "        }    #T_cfed4e4e_906a_11ea_b554_d0817ac3a282row2_col0 {\n",
       "            background-color:  #73a9cf;\n",
       "            color:  #000000;\n",
       "        }    #T_cfed4e4e_906a_11ea_b554_d0817ac3a282row3_col0 {\n",
       "            background-color:  #7eadd1;\n",
       "            color:  #000000;\n",
       "        }    #T_cfed4e4e_906a_11ea_b554_d0817ac3a282row4_col0 {\n",
       "            background-color:  #e8e4f0;\n",
       "            color:  #000000;\n",
       "        }    #T_cfed4e4e_906a_11ea_b554_d0817ac3a282row5_col0 {\n",
       "            background-color:  #f4edf6;\n",
       "            color:  #000000;\n",
       "        }    #T_cfed4e4e_906a_11ea_b554_d0817ac3a282row6_col0 {\n",
       "            background-color:  #f5eef6;\n",
       "            color:  #000000;\n",
       "        }    #T_cfed4e4e_906a_11ea_b554_d0817ac3a282row7_col0 {\n",
       "            background-color:  #fef6fb;\n",
       "            color:  #000000;\n",
       "        }    #T_cfed4e4e_906a_11ea_b554_d0817ac3a282row8_col0 {\n",
       "            background-color:  #fef6fb;\n",
       "            color:  #000000;\n",
       "        }    #T_cfed4e4e_906a_11ea_b554_d0817ac3a282row9_col0 {\n",
       "            background-color:  #fef6fb;\n",
       "            color:  #000000;\n",
       "        }    #T_cfed4e4e_906a_11ea_b554_d0817ac3a282row10_col0 {\n",
       "            background-color:  #fef6fb;\n",
       "            color:  #000000;\n",
       "        }    #T_cfed4e4e_906a_11ea_b554_d0817ac3a282row11_col0 {\n",
       "            background-color:  #fef6fb;\n",
       "            color:  #000000;\n",
       "        }    #T_cfed4e4e_906a_11ea_b554_d0817ac3a282row12_col0 {\n",
       "            background-color:  #fff7fb;\n",
       "            color:  #000000;\n",
       "        }    #T_cfed4e4e_906a_11ea_b554_d0817ac3a282row13_col0 {\n",
       "            background-color:  #fff7fb;\n",
       "            color:  #000000;\n",
       "        }    #T_cfed4e4e_906a_11ea_b554_d0817ac3a282row14_col0 {\n",
       "            background-color:  #fff7fb;\n",
       "            color:  #000000;\n",
       "        }    #T_cfed4e4e_906a_11ea_b554_d0817ac3a282row15_col0 {\n",
       "            background-color:  #fff7fb;\n",
       "            color:  #000000;\n",
       "        }    #T_cfed4e4e_906a_11ea_b554_d0817ac3a282row16_col0 {\n",
       "            background-color:  #fff7fb;\n",
       "            color:  #000000;\n",
       "        }    #T_cfed4e4e_906a_11ea_b554_d0817ac3a282row17_col0 {\n",
       "            background-color:  #fff7fb;\n",
       "            color:  #000000;\n",
       "        }    #T_cfed4e4e_906a_11ea_b554_d0817ac3a282row18_col0 {\n",
       "            background-color:  #fff7fb;\n",
       "            color:  #000000;\n",
       "        }    #T_cfed4e4e_906a_11ea_b554_d0817ac3a282row19_col0 {\n",
       "            background-color:  #fff7fb;\n",
       "            color:  #000000;\n",
       "        }    #T_cfed4e4e_906a_11ea_b554_d0817ac3a282row20_col0 {\n",
       "            background-color:  #fff7fb;\n",
       "            color:  #000000;\n",
       "        }    #T_cfed4e4e_906a_11ea_b554_d0817ac3a282row21_col0 {\n",
       "            background-color:  #fff7fb;\n",
       "            color:  #000000;\n",
       "        }    #T_cfed4e4e_906a_11ea_b554_d0817ac3a282row22_col0 {\n",
       "            background-color:  #fff7fb;\n",
       "            color:  #000000;\n",
       "        }    #T_cfed4e4e_906a_11ea_b554_d0817ac3a282row23_col0 {\n",
       "            background-color:  #fff7fb;\n",
       "            color:  #000000;\n",
       "        }    #T_cfed4e4e_906a_11ea_b554_d0817ac3a282row24_col0 {\n",
       "            background-color:  #fff7fb;\n",
       "            color:  #000000;\n",
       "        }    #T_cfed4e4e_906a_11ea_b554_d0817ac3a282row25_col0 {\n",
       "            background-color:  #fff7fb;\n",
       "            color:  #000000;\n",
       "        }    #T_cfed4e4e_906a_11ea_b554_d0817ac3a282row26_col0 {\n",
       "            background-color:  #fff7fb;\n",
       "            color:  #000000;\n",
       "        }    #T_cfed4e4e_906a_11ea_b554_d0817ac3a282row27_col0 {\n",
       "            background-color:  #fff7fb;\n",
       "            color:  #000000;\n",
       "        }    #T_cfed4e4e_906a_11ea_b554_d0817ac3a282row28_col0 {\n",
       "            background-color:  #fff7fb;\n",
       "            color:  #000000;\n",
       "        }    #T_cfed4e4e_906a_11ea_b554_d0817ac3a282row29_col0 {\n",
       "            background-color:  #fff7fb;\n",
       "            color:  #000000;\n",
       "        }    #T_cfed4e4e_906a_11ea_b554_d0817ac3a282row30_col0 {\n",
       "            background-color:  #fff7fb;\n",
       "            color:  #000000;\n",
       "        }</style><table id=\"T_cfed4e4e_906a_11ea_b554_d0817ac3a282\" ><thead>    <tr>        <th class=\"blank level0\" ></th>        <th class=\"col_heading level0 col0\" >y_cliente</th>    </tr></thead><tbody>\n",
       "                <tr>\n",
       "                        <th id=\"T_cfed4e4e_906a_11ea_b554_d0817ac3a282level0_row0\" class=\"row_heading level0 row0\" >y_cliente</th>\n",
       "                        <td id=\"T_cfed4e4e_906a_11ea_b554_d0817ac3a282row0_col0\" class=\"data row0 col0\" >1.000000</td>\n",
       "            </tr>\n",
       "            <tr>\n",
       "                        <th id=\"T_cfed4e4e_906a_11ea_b554_d0817ac3a282level0_row1\" class=\"row_heading level0 row1\" >num_dt</th>\n",
       "                        <td id=\"T_cfed4e4e_906a_11ea_b554_d0817ac3a282row1_col0\" class=\"data row1 col0\" >0.504867</td>\n",
       "            </tr>\n",
       "            <tr>\n",
       "                        <th id=\"T_cfed4e4e_906a_11ea_b554_d0817ac3a282level0_row2\" class=\"row_heading level0 row2\" >incidencia</th>\n",
       "                        <td id=\"T_cfed4e4e_906a_11ea_b554_d0817ac3a282row2_col0\" class=\"data row2 col0\" >0.500885</td>\n",
       "            </tr>\n",
       "            <tr>\n",
       "                        <th id=\"T_cfed4e4e_906a_11ea_b554_d0817ac3a282level0_row3\" class=\"row_heading level0 row3\" >num_dt_nueva</th>\n",
       "                        <td id=\"T_cfed4e4e_906a_11ea_b554_d0817ac3a282row3_col0\" class=\"data row3 col0\" >0.475903</td>\n",
       "            </tr>\n",
       "            <tr>\n",
       "                        <th id=\"T_cfed4e4e_906a_11ea_b554_d0817ac3a282level0_row4\" class=\"row_heading level0 row4\" >descuentos</th>\n",
       "                        <td id=\"T_cfed4e4e_906a_11ea_b554_d0817ac3a282row4_col0\" class=\"data row4 col0\" >0.141447</td>\n",
       "            </tr>\n",
       "            <tr>\n",
       "                        <th id=\"T_cfed4e4e_906a_11ea_b554_d0817ac3a282level0_row5\" class=\"row_heading level0 row5\" >financiacion</th>\n",
       "                        <td id=\"T_cfed4e4e_906a_11ea_b554_d0817ac3a282row5_col0\" class=\"data row5 col0\" >0.074597</td>\n",
       "            </tr>\n",
       "            <tr>\n",
       "                        <th id=\"T_cfed4e4e_906a_11ea_b554_d0817ac3a282level0_row6\" class=\"row_heading level0 row6\" >imp_financ</th>\n",
       "                        <td id=\"T_cfed4e4e_906a_11ea_b554_d0817ac3a282row6_col0\" class=\"data row6 col0\" >0.067626</td>\n",
       "            </tr>\n",
       "            <tr>\n",
       "                        <th id=\"T_cfed4e4e_906a_11ea_b554_d0817ac3a282level0_row7\" class=\"row_heading level0 row7\" >antiguedad_años_medio</th>\n",
       "                        <td id=\"T_cfed4e4e_906a_11ea_b554_d0817ac3a282row7_col0\" class=\"data row7 col0\" >0.006991</td>\n",
       "            </tr>\n",
       "            <tr>\n",
       "                        <th id=\"T_cfed4e4e_906a_11ea_b554_d0817ac3a282level0_row8\" class=\"row_heading level0 row8\" >antiguedad_años_bajo</th>\n",
       "                        <td id=\"T_cfed4e4e_906a_11ea_b554_d0817ac3a282row8_col0\" class=\"data row8 col0\" >0.006303</td>\n",
       "            </tr>\n",
       "            <tr>\n",
       "                        <th id=\"T_cfed4e4e_906a_11ea_b554_d0817ac3a282level0_row9\" class=\"row_heading level0 row9\" >num_llamad_ent</th>\n",
       "                        <td id=\"T_cfed4e4e_906a_11ea_b554_d0817ac3a282row9_col0\" class=\"data row9 col0\" >0.006130</td>\n",
       "            </tr>\n",
       "            <tr>\n",
       "                        <th id=\"T_cfed4e4e_906a_11ea_b554_d0817ac3a282level0_row10\" class=\"row_heading level0 row10\" >edad_bajo</th>\n",
       "                        <td id=\"T_cfed4e4e_906a_11ea_b554_d0817ac3a282row10_col0\" class=\"data row10 col0\" >0.005772</td>\n",
       "            </tr>\n",
       "            <tr>\n",
       "                        <th id=\"T_cfed4e4e_906a_11ea_b554_d0817ac3a282level0_row11\" class=\"row_heading level0 row11\" >TV</th>\n",
       "                        <td id=\"T_cfed4e4e_906a_11ea_b554_d0817ac3a282row11_col0\" class=\"data row11 col0\" >0.004284</td>\n",
       "            </tr>\n",
       "            <tr>\n",
       "                        <th id=\"T_cfed4e4e_906a_11ea_b554_d0817ac3a282level0_row12\" class=\"row_heading level0 row12\" >antiguedad_años_nueva</th>\n",
       "                        <td id=\"T_cfed4e4e_906a_11ea_b554_d0817ac3a282row12_col0\" class=\"data row12 col0\" >0.003376</td>\n",
       "            </tr>\n",
       "            <tr>\n",
       "                        <th id=\"T_cfed4e4e_906a_11ea_b554_d0817ac3a282level0_row13\" class=\"row_heading level0 row13\" >antiguedad_años</th>\n",
       "                        <td id=\"T_cfed4e4e_906a_11ea_b554_d0817ac3a282row13_col0\" class=\"data row13 col0\" >0.003310</td>\n",
       "            </tr>\n",
       "            <tr>\n",
       "                        <th id=\"T_cfed4e4e_906a_11ea_b554_d0817ac3a282level0_row14\" class=\"row_heading level0 row14\" >num_llamad_sal</th>\n",
       "                        <td id=\"T_cfed4e4e_906a_11ea_b554_d0817ac3a282row14_col0\" class=\"data row14 col0\" >0.003141</td>\n",
       "            </tr>\n",
       "            <tr>\n",
       "                        <th id=\"T_cfed4e4e_906a_11ea_b554_d0817ac3a282level0_row15\" class=\"row_heading level0 row15\" >edad</th>\n",
       "                        <td id=\"T_cfed4e4e_906a_11ea_b554_d0817ac3a282row15_col0\" class=\"data row15 col0\" >0.002864</td>\n",
       "            </tr>\n",
       "            <tr>\n",
       "                        <th id=\"T_cfed4e4e_906a_11ea_b554_d0817ac3a282level0_row16\" class=\"row_heading level0 row16\" >facturacion</th>\n",
       "                        <td id=\"T_cfed4e4e_906a_11ea_b554_d0817ac3a282row16_col0\" class=\"data row16 col0\" >0.002846</td>\n",
       "            </tr>\n",
       "            <tr>\n",
       "                        <th id=\"T_cfed4e4e_906a_11ea_b554_d0817ac3a282level0_row17\" class=\"row_heading level0 row17\" >conexion</th>\n",
       "                        <td id=\"T_cfed4e4e_906a_11ea_b554_d0817ac3a282row17_col0\" class=\"data row17 col0\" >0.002546</td>\n",
       "            </tr>\n",
       "            <tr>\n",
       "                        <th id=\"T_cfed4e4e_906a_11ea_b554_d0817ac3a282level0_row18\" class=\"row_heading level0 row18\" >vel_conexion</th>\n",
       "                        <td id=\"T_cfed4e4e_906a_11ea_b554_d0817ac3a282row18_col0\" class=\"data row18 col0\" >0.002439</td>\n",
       "            </tr>\n",
       "            <tr>\n",
       "                        <th id=\"T_cfed4e4e_906a_11ea_b554_d0817ac3a282level0_row19\" class=\"row_heading level0 row19\" >edad_medio</th>\n",
       "                        <td id=\"T_cfed4e4e_906a_11ea_b554_d0817ac3a282row19_col0\" class=\"data row19 col0\" >0.002161</td>\n",
       "            </tr>\n",
       "            <tr>\n",
       "                        <th id=\"T_cfed4e4e_906a_11ea_b554_d0817ac3a282level0_row20\" class=\"row_heading level0 row20\" >num_lineas</th>\n",
       "                        <td id=\"T_cfed4e4e_906a_11ea_b554_d0817ac3a282row20_col0\" class=\"data row20 col0\" >0.001733</td>\n",
       "            </tr>\n",
       "            <tr>\n",
       "                        <th id=\"T_cfed4e4e_906a_11ea_b554_d0817ac3a282level0_row21\" class=\"row_heading level0 row21\" >num_lineas_nueva</th>\n",
       "                        <td id=\"T_cfed4e4e_906a_11ea_b554_d0817ac3a282row21_col0\" class=\"data row21 col0\" >0.001349</td>\n",
       "            </tr>\n",
       "            <tr>\n",
       "                        <th id=\"T_cfed4e4e_906a_11ea_b554_d0817ac3a282level0_row22\" class=\"row_heading level0 row22\" >mb_datos</th>\n",
       "                        <td id=\"T_cfed4e4e_906a_11ea_b554_d0817ac3a282row22_col0\" class=\"data row22 col0\" >0.001201</td>\n",
       "            </tr>\n",
       "            <tr>\n",
       "                        <th id=\"T_cfed4e4e_906a_11ea_b554_d0817ac3a282level0_row23\" class=\"row_heading level0 row23\" >num_lineas_bajo</th>\n",
       "                        <td id=\"T_cfed4e4e_906a_11ea_b554_d0817ac3a282row23_col0\" class=\"data row23 col0\" >0.001149</td>\n",
       "            </tr>\n",
       "            <tr>\n",
       "                        <th id=\"T_cfed4e4e_906a_11ea_b554_d0817ac3a282level0_row24\" class=\"row_heading level0 row24\" >num_lineas_alto</th>\n",
       "                        <td id=\"T_cfed4e4e_906a_11ea_b554_d0817ac3a282row24_col0\" class=\"data row24 col0\" >0.000997</td>\n",
       "            </tr>\n",
       "            <tr>\n",
       "                        <th id=\"T_cfed4e4e_906a_11ea_b554_d0817ac3a282level0_row25\" class=\"row_heading level0 row25\" >edad_alto</th>\n",
       "                        <td id=\"T_cfed4e4e_906a_11ea_b554_d0817ac3a282row25_col0\" class=\"data row25 col0\" >0.000564</td>\n",
       "            </tr>\n",
       "            <tr>\n",
       "                        <th id=\"T_cfed4e4e_906a_11ea_b554_d0817ac3a282level0_row26\" class=\"row_heading level0 row26\" >seg_llamad_ent</th>\n",
       "                        <td id=\"T_cfed4e4e_906a_11ea_b554_d0817ac3a282row26_col0\" class=\"data row26 col0\" >0.000526</td>\n",
       "            </tr>\n",
       "            <tr>\n",
       "                        <th id=\"T_cfed4e4e_906a_11ea_b554_d0817ac3a282level0_row27\" class=\"row_heading level0 row27\" >antiguedad_años_alto</th>\n",
       "                        <td id=\"T_cfed4e4e_906a_11ea_b554_d0817ac3a282row27_col0\" class=\"data row27 col0\" >0.000337</td>\n",
       "            </tr>\n",
       "            <tr>\n",
       "                        <th id=\"T_cfed4e4e_906a_11ea_b554_d0817ac3a282level0_row28\" class=\"row_heading level0 row28\" >provincia</th>\n",
       "                        <td id=\"T_cfed4e4e_906a_11ea_b554_d0817ac3a282row28_col0\" class=\"data row28 col0\" >0.000143</td>\n",
       "            </tr>\n",
       "            <tr>\n",
       "                        <th id=\"T_cfed4e4e_906a_11ea_b554_d0817ac3a282level0_row29\" class=\"row_heading level0 row29\" >seg_llamad_sal</th>\n",
       "                        <td id=\"T_cfed4e4e_906a_11ea_b554_d0817ac3a282row29_col0\" class=\"data row29 col0\" >0.000089</td>\n",
       "            </tr>\n",
       "            <tr>\n",
       "                        <th id=\"T_cfed4e4e_906a_11ea_b554_d0817ac3a282level0_row30\" class=\"row_heading level0 row30\" >num_lineas_medio</th>\n",
       "                        <td id=\"T_cfed4e4e_906a_11ea_b554_d0817ac3a282row30_col0\" class=\"data row30 col0\" >0.000068</td>\n",
       "            </tr>\n",
       "    </tbody></table>"
      ],
      "text/plain": [
       "<pandas.io.formats.style.Styler at 0x1a282ee790>"
      ]
     },
     "execution_count": 123,
     "metadata": {},
     "output_type": "execute_result"
    }
   ],
   "source": [
    "corr =  abs(datos_diciembre2.corr())\n",
    "corr[['y_cliente']].sort_values(by = 'y_cliente',ascending = False).style.background_gradient()"
   ]
  },
  {
   "cell_type": "markdown",
   "metadata": {},
   "source": [
    "Observamos que nuestras variables más importante siguen siendo las mismas. Sin embago vemos que algunas variables como 'antiguedad' y 'edad' con las nuevas transformaciones han mejorado su correlación y han pasado a tener mayor importancia que antes."
   ]
  },
  {
   "cell_type": "code",
   "execution_count": 124,
   "metadata": {},
   "outputs": [],
   "source": [
    "# Probamos un nuevo modelo con estas trasnformaciones\n",
    "datos_diciembre2.drop('y_cliente',axis=1, inplace=True)"
   ]
  },
  {
   "cell_type": "code",
   "execution_count": 125,
   "metadata": {},
   "outputs": [],
   "source": [
    "# Escalado de variables\n",
    "sc = StandardScaler()\n",
    "datos_diciembre2_escalados = sc.fit_transform(datos_diciembre2)\n",
    "\n",
    "X_train, X_test, y_train, y_test = train_test_split(datos_diciembre2_escalados,\n",
    "                                                    y_diciembre,\n",
    "                                                    test_size=0.2,\n",
    "                                                    random_state=42,\n",
    "                                                    stratify = y_diciembre)"
   ]
  },
  {
   "cell_type": "code",
   "execution_count": 126,
   "metadata": {},
   "outputs": [
    {
     "name": "stderr",
     "output_type": "stream",
     "text": [
      "/Users/geraldinedaianacacciatore/opt/anaconda3/lib/python3.7/site-packages/sklearn/utils/validation.py:760: DataConversionWarning: A column-vector y was passed when a 1d array was expected. Please change the shape of y to (n_samples, ), for example using ravel().\n",
      "  y = column_or_1d(y, warn=True)\n"
     ]
    }
   ],
   "source": [
    "#Modelo con todas las varibales\n",
    "modelo_log_3 = LogisticRegression().fit(X_train, y_train)\n",
    "y_pred_log_3 = modelo_log_3.predict(X_test)"
   ]
  },
  {
   "cell_type": "code",
   "execution_count": 127,
   "metadata": {},
   "outputs": [
    {
     "name": "stdout",
     "output_type": "stream",
     "text": [
      "matriz de confusión\n",
      "[[17443   234]\n",
      " [  362  1055]]\n",
      "accuracy\n",
      "0.9687860060752068\n",
      "precision\n",
      "0.8184639255236618\n",
      "recall\n",
      "0.744530698659139\n",
      "f1\n",
      "0.7797487065779749\n",
      "AUC\n",
      "0.8656465791762631\n"
     ]
    },
    {
     "data": {
      "image/png": "[encoded data removed]",
      "text/plain": [
       "<Figure size 432x288 with 1 Axes>"
      ]
     },
     "metadata": {
      "needs_background": "light"
     },
     "output_type": "display_data"
    }
   ],
   "source": [
    "saca_metricas(y_test, y_pred_log_3)   #Tenemos que ver el accuranci, y el recall, ambos tienen que ser buenas. "
   ]
  },
  {
   "cell_type": "markdown",
   "metadata": {},
   "source": [
    "Este modelo con más variables ha empeorado."
   ]
  },
  {
   "cell_type": "code",
   "execution_count": 128,
   "metadata": {
    "scrolled": true
   },
   "outputs": [
    {
     "name": "stdout",
     "output_type": "stream",
     "text": [
      "Feature: 0, Score: 0.08636\n",
      "Feature: 1, Score: 0.03165\n",
      "Feature: 2, Score: 0.00567\n",
      "Feature: 3, Score: -0.04857\n",
      "Feature: 4, Score: 2.40321\n",
      "Feature: 5, Score: 1.34262\n",
      "Feature: 6, Score: 0.03395\n",
      "Feature: 7, Score: -0.00732\n",
      "Feature: 8, Score: 0.03133\n",
      "Feature: 9, Score: 0.01782\n",
      "Feature: 10, Score: -0.01659\n",
      "Feature: 11, Score: 0.00443\n",
      "Feature: 12, Score: 0.03779\n",
      "Feature: 13, Score: -0.00914\n",
      "Feature: 14, Score: -1.93361\n",
      "Feature: 15, Score: -0.69973\n",
      "Feature: 16, Score: -5.40492\n",
      "Feature: 17, Score: 0.11152\n",
      "Feature: 18, Score: -0.59021\n",
      "Feature: 19, Score: -0.09402\n",
      "Feature: 20, Score: -0.09030\n",
      "Feature: 21, Score: 0.00571\n",
      "Feature: 22, Score: 0.05929\n",
      "Feature: 23, Score: 0.05755\n",
      "Feature: 24, Score: -0.01859\n",
      "Feature: 25, Score: -0.01650\n",
      "Feature: 26, Score: -0.04192\n",
      "Feature: 27, Score: 0.02530\n",
      "Feature: 28, Score: 0.04536\n",
      "Feature: 29, Score: -0.07086\n"
     ]
    },
    {
     "data": {
      "image/png": "[encoded data removed]",
      "text/plain": [
       "<Figure size 432x288 with 1 Axes>"
      ]
     },
     "metadata": {
      "needs_background": "light"
     },
     "output_type": "display_data"
    }
   ],
   "source": [
    "# get importance\n",
    "importance = modelo_log_3.coef_[0]\n",
    "# summarize feature importance\n",
    "for i,v in enumerate(importance):\n",
    "\tprint('Feature: %0d, Score: %.5f' % (i,v))\n",
    "# plot feature importance\n",
    "pyplot.bar([x for x in range(len(importance))], importance)\n",
    "pyplot.show()"
   ]
  },
  {
   "cell_type": "markdown",
   "metadata": {},
   "source": [
    "Las variable más explicativas continuan siendo las mismas."
   ]
  },
  {
   "cell_type": "code",
   "execution_count": 129,
   "metadata": {},
   "outputs": [
    {
     "name": "stderr",
     "output_type": "stream",
     "text": [
      "/Users/geraldinedaianacacciatore/opt/anaconda3/lib/python3.7/site-packages/ipykernel_launcher.py:1: DataConversionWarning: A column-vector y was passed when a 1d array was expected. Please change the shape of y to (n_samples,), for example using ravel().\n",
      "  \"\"\"Entry point for launching an IPython kernel.\n"
     ]
    },
    {
     "name": "stdout",
     "output_type": "stream",
     "text": [
      "matriz de confusión\n",
      "[[17367   310]\n",
      " [    8  1409]]\n",
      "accuracy\n",
      "0.9833455535770399\n",
      "precision\n",
      "0.8196625945317044\n",
      "recall\n",
      "0.9943542695836274\n",
      "f1\n",
      "0.8985969387755102\n",
      "AUC\n",
      "0.9884086786058093\n"
     ]
    },
    {
     "data": {
      "image/png": "[encoded data removed]",
      "text/plain": [
       "<Figure size 432x288 with 1 Axes>"
      ]
     },
     "metadata": {
      "needs_background": "light"
     },
     "output_type": "display_data"
    }
   ],
   "source": [
    "rf_classifier3 = RandomForestClassifier().fit(X_train, y_train)\n",
    "y_pred3        = rf_classifier3.predict(X_test)\n",
    "saca_metricas(y_test, y_pred3)"
   ]
  },
  {
   "cell_type": "code",
   "execution_count": 130,
   "metadata": {
    "scrolled": true
   },
   "outputs": [
    {
     "name": "stdout",
     "output_type": "stream",
     "text": [
      "Feature: 0, Score: 0.01749\n",
      "Feature: 1, Score: 0.02283\n",
      "Feature: 2, Score: 0.01823\n",
      "Feature: 3, Score: 0.00533\n",
      "Feature: 4, Score: 0.24217\n",
      "Feature: 5, Score: 0.29453\n",
      "Feature: 6, Score: 0.02177\n",
      "Feature: 7, Score: 0.01913\n",
      "Feature: 8, Score: 0.02245\n",
      "Feature: 9, Score: 0.02268\n",
      "Feature: 10, Score: 0.02271\n",
      "Feature: 11, Score: 0.00249\n",
      "Feature: 12, Score: 0.01153\n",
      "Feature: 13, Score: 0.00494\n",
      "Feature: 14, Score: 0.01519\n",
      "Feature: 15, Score: 0.01292\n",
      "Feature: 16, Score: 0.09931\n",
      "Feature: 17, Score: 0.01384\n",
      "Feature: 18, Score: 0.11038\n",
      "Feature: 19, Score: 0.00112\n",
      "Feature: 20, Score: 0.00120\n",
      "Feature: 21, Score: 0.00169\n",
      "Feature: 22, Score: 0.00264\n",
      "Feature: 23, Score: 0.00166\n",
      "Feature: 24, Score: 0.00132\n",
      "Feature: 25, Score: 0.00184\n",
      "Feature: 26, Score: 0.00308\n",
      "Feature: 27, Score: 0.00216\n",
      "Feature: 28, Score: 0.00113\n",
      "Feature: 29, Score: 0.00225\n"
     ]
    },
    {
     "data": {
      "image/png": "[encoded data removed]",
      "text/plain": [
       "<Figure size 432x288 with 1 Axes>"
      ]
     },
     "metadata": {
      "needs_background": "light"
     },
     "output_type": "display_data"
    }
   ],
   "source": [
    "# Obtenemos la importancia de las variables \n",
    "importance = rf_classifier3.feature_importances_\n",
    "\n",
    "# summarize feature importance\n",
    "for i,v in enumerate(importance):\n",
    "\tprint('Feature: %0d, Score: %.5f' % (i,v))\n",
    "\n",
    "# plot feature importance\n",
    "pyplot.bar([x for x in range(len(importance))], importance)\n",
    "pyplot.show()"
   ]
  },
  {
   "cell_type": "code",
   "execution_count": 131,
   "metadata": {},
   "outputs": [
    {
     "data": {
      "text/plain": [
       "array(['edad', 'facturacion', 'provincia', 'num_lineas', 'num_dt',\n",
       "       'incidencia', 'num_llamad_ent', 'num_llamad_sal', 'mb_datos',\n",
       "       'seg_llamad_ent', 'seg_llamad_sal', 'conexion', 'vel_conexion',\n",
       "       'TV', 'financiacion', 'imp_financ', 'descuentos',\n",
       "       'antiguedad_años', 'num_dt_nueva', 'num_lineas_bajo',\n",
       "       'num_lineas_medio', 'num_lineas_alto', 'num_lineas_nueva',\n",
       "       'antiguedad_años_bajo', 'antiguedad_años_medio',\n",
       "       'antiguedad_años_alto', 'antiguedad_años_nueva', 'edad_bajo',\n",
       "       'edad_medio', 'edad_alto'], dtype=object)"
      ]
     },
     "execution_count": 131,
     "metadata": {},
     "output_type": "execute_result"
    }
   ],
   "source": [
    "datos_diciembre2.columns.values"
   ]
  },
  {
   "cell_type": "markdown",
   "metadata": {},
   "source": [
    "No encontramos cambios significativos, pero vemos que las variables que son más explicativas siguen siendo las mismas. Se ha sumado 'num_dt_nueva', pero está relacionada con 'num_dt'."
   ]
  },
  {
   "cell_type": "markdown",
   "metadata": {},
   "source": [
    "#### Resumen hasta el momento:\n",
    "No hemos realizado una mejora a traves con este proceso, ya que las variables explicativas siguen siendo las mismas."
   ]
  },
  {
   "cell_type": "markdown",
   "metadata": {},
   "source": [
    "#### Análisis univariante "
   ]
  },
  {
   "cell_type": "code",
   "execution_count": 132,
   "metadata": {},
   "outputs": [],
   "source": [
    "target = y_diciembre\n",
    "features = list(datos_diciembre2.columns)\n",
    "\n",
    "x = datos_diciembre2[features]\n",
    "y = y_diciembre"
   ]
  },
  {
   "cell_type": "code",
   "execution_count": 133,
   "metadata": {},
   "outputs": [
    {
     "name": "stdout",
     "output_type": "stream",
     "text": [
      "Listado de variables  ['num_dt' 'incidencia' 'imp_financ' 'descuentos' 'num_dt_nueva']\n"
     ]
    }
   ],
   "source": [
    "S_chi5 = SelectKBest(chi2, k = 5) #k = cantidad de variables que quiero que me saque, es chi2 porque es un modelo de regresion.\n",
    "X_chi5 = S_chi5.fit_transform(x, y)\n",
    "\n",
    "print (\"Listado de variables \", np.asarray(list(x))[S_chi5.get_support()])"
   ]
  },
  {
   "cell_type": "markdown",
   "metadata": {},
   "source": [
    "Observamos que las varibales seleccionadas a través de éste método son las mismás que elegimos anteriormente según la importancia que vimos en los modelos. "
   ]
  },
  {
   "cell_type": "code",
   "execution_count": 134,
   "metadata": {},
   "outputs": [],
   "source": [
    "variables_importantes = datos_diciembre2.copy(deep = True)\n",
    "seleccion = ['num_dt', 'incidencia', 'descuentos','imp_financ'] # no selecciono 'num_dt_nueva' ya que tienen menor correlación con nuestra Y que 'num_dt'\n",
    "variables_importantes = variables_importantes[seleccion]\n"
   ]
  },
  {
   "cell_type": "code",
   "execution_count": 135,
   "metadata": {},
   "outputs": [
    {
     "data": {
      "text/html": [
       "<div>\n",
       "<style scoped>\n",
       "    .dataframe tbody tr th:only-of-type {\n",
       "        vertical-align: middle;\n",
       "    }\n",
       "\n",
       "    .dataframe tbody tr th {\n",
       "        vertical-align: top;\n",
       "    }\n",
       "\n",
       "    .dataframe thead th {\n",
       "        text-align: right;\n",
       "    }\n",
       "</style>\n",
       "<table border=\"1\" class=\"dataframe\">\n",
       "  <thead>\n",
       "    <tr style=\"text-align: right;\">\n",
       "      <th></th>\n",
       "      <th>num_dt</th>\n",
       "      <th>incidencia</th>\n",
       "      <th>descuentos</th>\n",
       "      <th>imp_financ</th>\n",
       "    </tr>\n",
       "    <tr>\n",
       "      <th>id</th>\n",
       "      <th></th>\n",
       "      <th></th>\n",
       "      <th></th>\n",
       "      <th></th>\n",
       "    </tr>\n",
       "  </thead>\n",
       "  <tbody>\n",
       "    <tr>\n",
       "      <th>1</th>\n",
       "      <td>0.0</td>\n",
       "      <td>0</td>\n",
       "      <td>0</td>\n",
       "      <td>0.000000</td>\n",
       "    </tr>\n",
       "    <tr>\n",
       "      <th>2</th>\n",
       "      <td>0.0</td>\n",
       "      <td>0</td>\n",
       "      <td>1</td>\n",
       "      <td>0.000000</td>\n",
       "    </tr>\n",
       "    <tr>\n",
       "      <th>3</th>\n",
       "      <td>0.0</td>\n",
       "      <td>0</td>\n",
       "      <td>1</td>\n",
       "      <td>0.000000</td>\n",
       "    </tr>\n",
       "    <tr>\n",
       "      <th>4</th>\n",
       "      <td>0.0</td>\n",
       "      <td>0</td>\n",
       "      <td>0</td>\n",
       "      <td>0.000000</td>\n",
       "    </tr>\n",
       "    <tr>\n",
       "      <th>5</th>\n",
       "      <td>2.0</td>\n",
       "      <td>0</td>\n",
       "      <td>0</td>\n",
       "      <td>0.000000</td>\n",
       "    </tr>\n",
       "    <tr>\n",
       "      <th>...</th>\n",
       "      <td>...</td>\n",
       "      <td>...</td>\n",
       "      <td>...</td>\n",
       "      <td>...</td>\n",
       "    </tr>\n",
       "    <tr>\n",
       "      <th>99995</th>\n",
       "      <td>0.0</td>\n",
       "      <td>0</td>\n",
       "      <td>0</td>\n",
       "      <td>23.138779</td>\n",
       "    </tr>\n",
       "    <tr>\n",
       "      <th>99996</th>\n",
       "      <td>0.0</td>\n",
       "      <td>0</td>\n",
       "      <td>0</td>\n",
       "      <td>0.000000</td>\n",
       "    </tr>\n",
       "    <tr>\n",
       "      <th>99997</th>\n",
       "      <td>0.0</td>\n",
       "      <td>0</td>\n",
       "      <td>0</td>\n",
       "      <td>14.616422</td>\n",
       "    </tr>\n",
       "    <tr>\n",
       "      <th>99998</th>\n",
       "      <td>0.0</td>\n",
       "      <td>0</td>\n",
       "      <td>0</td>\n",
       "      <td>0.000000</td>\n",
       "    </tr>\n",
       "    <tr>\n",
       "      <th>100000</th>\n",
       "      <td>0.0</td>\n",
       "      <td>0</td>\n",
       "      <td>1</td>\n",
       "      <td>0.000000</td>\n",
       "    </tr>\n",
       "  </tbody>\n",
       "</table>\n",
       "<p>95467 rows × 4 columns</p>\n",
       "</div>"
      ],
      "text/plain": [
       "        num_dt  incidencia  descuentos  imp_financ\n",
       "id                                                \n",
       "1          0.0           0           0    0.000000\n",
       "2          0.0           0           1    0.000000\n",
       "3          0.0           0           1    0.000000\n",
       "4          0.0           0           0    0.000000\n",
       "5          2.0           0           0    0.000000\n",
       "...        ...         ...         ...         ...\n",
       "99995      0.0           0           0   23.138779\n",
       "99996      0.0           0           0    0.000000\n",
       "99997      0.0           0           0   14.616422\n",
       "99998      0.0           0           0    0.000000\n",
       "100000     0.0           0           1    0.000000\n",
       "\n",
       "[95467 rows x 4 columns]"
      ]
     },
     "execution_count": 135,
     "metadata": {},
     "output_type": "execute_result"
    }
   ],
   "source": [
    "variables_importantes"
   ]
  },
  {
   "cell_type": "code",
   "execution_count": 136,
   "metadata": {},
   "outputs": [],
   "source": [
    "# Escalado de variables\n",
    "sc = StandardScaler()\n",
    "variables_importantes_escalados = sc.fit_transform(variables_importantes)\n",
    "\n",
    "X_train, X_test, y_train, y_test = train_test_split(variables_importantes_escalados,\n",
    "                                                    y_diciembre,\n",
    "                                                    test_size=0.2,\n",
    "                                                    random_state=42,\n",
    "                                                    stratify = y_diciembre)"
   ]
  },
  {
   "cell_type": "code",
   "execution_count": 137,
   "metadata": {},
   "outputs": [
    {
     "name": "stderr",
     "output_type": "stream",
     "text": [
      "/Users/geraldinedaianacacciatore/opt/anaconda3/lib/python3.7/site-packages/sklearn/utils/validation.py:760: DataConversionWarning: A column-vector y was passed when a 1d array was expected. Please change the shape of y to (n_samples, ), for example using ravel().\n",
      "  y = column_or_1d(y, warn=True)\n"
     ]
    }
   ],
   "source": [
    "#Modelo con todas las varibales\n",
    "modelo_log_4 = LogisticRegression().fit(X_train, y_train)\n",
    "y_pred_log_4 = modelo_log_4.predict(X_test)"
   ]
  },
  {
   "cell_type": "code",
   "execution_count": 138,
   "metadata": {},
   "outputs": [
    {
     "name": "stdout",
     "output_type": "stream",
     "text": [
      "matriz de confusión\n",
      "[[17398   279]\n",
      " [  200  1217]]\n",
      "accuracy\n",
      "0.9749135854195035\n",
      "precision\n",
      "0.8135026737967914\n",
      "recall\n",
      "0.8588567395906845\n",
      "f1\n",
      "0.8355647099210436\n",
      "AUC\n",
      "0.9215367592279384\n"
     ]
    },
    {
     "data": {
      "image/png": "[encoded data removed]",
      "text/plain": [
       "<Figure size 432x288 with 1 Axes>"
      ]
     },
     "metadata": {
      "needs_background": "light"
     },
     "output_type": "display_data"
    }
   ],
   "source": [
    "saca_metricas(y_test, y_pred_log_4)  "
   ]
  },
  {
   "cell_type": "markdown",
   "metadata": {},
   "source": [
    "Podemos observar que éste modelo, tiene casi las mismas métricas que el primero, pero con la diferencia de que tiene solo 4 variables. En este sentido podemos decir que es mucho mejor."
   ]
  },
  {
   "cell_type": "code",
   "execution_count": 139,
   "metadata": {},
   "outputs": [
    {
     "name": "stderr",
     "output_type": "stream",
     "text": [
      "/Users/geraldinedaianacacciatore/opt/anaconda3/lib/python3.7/site-packages/ipykernel_launcher.py:1: DataConversionWarning: A column-vector y was passed when a 1d array was expected. Please change the shape of y to (n_samples,), for example using ravel().\n",
      "  \"\"\"Entry point for launching an IPython kernel.\n"
     ]
    },
    {
     "name": "stdout",
     "output_type": "stream",
     "text": [
      "matriz de confusión\n",
      "[[17364   313]\n",
      " [    8  1409]]\n",
      "accuracy\n",
      "0.9831884361579554\n",
      "precision\n",
      "0.8182346109175378\n",
      "recall\n",
      "0.9943542695836274\n",
      "f1\n",
      "0.8977381331634279\n",
      "AUC\n",
      "0.9883238225782028\n"
     ]
    },
    {
     "data": {
      "image/png": "[encoded data removed]",
      "text/plain": [
       "<Figure size 432x288 with 1 Axes>"
      ]
     },
     "metadata": {
      "needs_background": "light"
     },
     "output_type": "display_data"
    }
   ],
   "source": [
    "rf_classifier = RandomForestClassifier().fit(X_train, y_train)\n",
    "y_pred       = rf_classifier.predict(X_test)\n",
    "saca_metricas(y_test, y_pred)"
   ]
  },
  {
   "cell_type": "markdown",
   "metadata": {},
   "source": [
    "Podemos observar que éste modelo, tiene casi las mismas métricas que los anteriores, pero con la diferencia de que tiene solo 4 variables. \n",
    "Hay que tener encuenta que tiene una precisión un poco menor, pero personamente creo que este modelo es el ganandor, ya que aunque pierdo un poco en esa métrica, gano en la reducción de parámetros."
   ]
  },
  {
   "cell_type": "markdown",
   "metadata": {},
   "source": [
    "#### Validación cruzada"
   ]
  },
  {
   "cell_type": "code",
   "execution_count": 140,
   "metadata": {
    "scrolled": true
   },
   "outputs": [
    {
     "name": "stderr",
     "output_type": "stream",
     "text": [
      "/Users/geraldinedaianacacciatore/opt/anaconda3/lib/python3.7/site-packages/sklearn/model_selection/_validation.py:515: DataConversionWarning: A column-vector y was passed when a 1d array was expected. Please change the shape of y to (n_samples,), for example using ravel().\n",
      "  estimator.fit(X_train, y_train, **fit_params)\n",
      "/Users/geraldinedaianacacciatore/opt/anaconda3/lib/python3.7/site-packages/sklearn/model_selection/_validation.py:515: DataConversionWarning: A column-vector y was passed when a 1d array was expected. Please change the shape of y to (n_samples,), for example using ravel().\n",
      "  estimator.fit(X_train, y_train, **fit_params)\n",
      "/Users/geraldinedaianacacciatore/opt/anaconda3/lib/python3.7/site-packages/sklearn/model_selection/_validation.py:515: DataConversionWarning: A column-vector y was passed when a 1d array was expected. Please change the shape of y to (n_samples,), for example using ravel().\n",
      "  estimator.fit(X_train, y_train, **fit_params)\n",
      "/Users/geraldinedaianacacciatore/opt/anaconda3/lib/python3.7/site-packages/sklearn/model_selection/_validation.py:515: DataConversionWarning: A column-vector y was passed when a 1d array was expected. Please change the shape of y to (n_samples,), for example using ravel().\n",
      "  estimator.fit(X_train, y_train, **fit_params)\n",
      "/Users/geraldinedaianacacciatore/opt/anaconda3/lib/python3.7/site-packages/sklearn/model_selection/_validation.py:515: DataConversionWarning: A column-vector y was passed when a 1d array was expected. Please change the shape of y to (n_samples,), for example using ravel().\n",
      "  estimator.fit(X_train, y_train, **fit_params)\n"
     ]
    }
   ],
   "source": [
    "results = cross_val_score(estimator=rf_classifier, X=X_train, y=y_train, cv=5)"
   ]
  },
  {
   "cell_type": "code",
   "execution_count": 141,
   "metadata": {},
   "outputs": [
    {
     "data": {
      "text/plain": [
       "array([0.98527005, 0.98304419, 0.98527005, 0.98245384, 0.98284667])"
      ]
     },
     "execution_count": 141,
     "metadata": {},
     "output_type": "execute_result"
    }
   ],
   "source": [
    "results # Vemos que son todos bastantes parecidos, eso es bueno."
   ]
  },
  {
   "cell_type": "code",
   "execution_count": 142,
   "metadata": {},
   "outputs": [
    {
     "name": "stdout",
     "output_type": "stream",
     "text": [
      "0.9837769597448206\n"
     ]
    }
   ],
   "source": [
    "print(results.mean())"
   ]
  },
  {
   "cell_type": "code",
   "execution_count": 143,
   "metadata": {},
   "outputs": [
    {
     "name": "stdout",
     "output_type": "stream",
     "text": [
      "0.0012338285550918763\n"
     ]
    }
   ],
   "source": [
    "print(results.std())  #Vemos que la desviación típica tambien es baja. "
   ]
  },
  {
   "cell_type": "markdown",
   "metadata": {},
   "source": [
    "Finalmente decido que el modelo rf_classifier4 es el mejor de todos los realizados"
   ]
  },
  {
   "cell_type": "markdown",
   "metadata": {},
   "source": [
    "### 6) Predicción de los clientes de la cosecha de enero que más probabilidad tienen de cambiarse de operadora"
   ]
  },
  {
   "cell_type": "markdown",
   "metadata": {},
   "source": [
    "Realizamos el mismo pre procesado de datos que hicimos en diciembre, pero en los datos de enero.\n",
    "\n",
    "Hay que tener en cuenta que el  FE no se va a realizar ya que en el modelo ganador no utilizamos ninguna variable creada en este paso."
   ]
  },
  {
   "cell_type": "markdown",
   "metadata": {},
   "source": [
    "#### Análisis de NA's (Enero)"
   ]
  },
  {
   "cell_type": "code",
   "execution_count": 144,
   "metadata": {
    "scrolled": true
   },
   "outputs": [
    {
     "data": {
      "text/plain": [
       "id                    0\n",
       "edad                  0\n",
       "facturacion           0\n",
       "antiguedad            0\n",
       "provincia             0\n",
       "num_lineas            0\n",
       "num_dt            90097\n",
       "incidencia        90720\n",
       "num_llamad_ent        0\n",
       "num_llamad_sal        0\n",
       "mb_datos              0\n",
       "seg_llamad_ent        0\n",
       "seg_llamad_sal        0\n",
       "conexion              0\n",
       "vel_conexion          0\n",
       "TV                    0\n",
       "financiacion      86045\n",
       "imp_financ        86045\n",
       "descuentos        72673\n",
       "dtype: int64"
      ]
     },
     "execution_count": 144,
     "metadata": {},
     "output_type": "execute_result"
    }
   ],
   "source": [
    "#Nos fijamos en qué variables tenemos NA's para ver cómo completarlo\n",
    "datos_enero.isnull().sum()"
   ]
  },
  {
   "cell_type": "markdown",
   "metadata": {},
   "source": [
    "Vemos que tenemos que arreglar 5 variables"
   ]
  },
  {
   "cell_type": "code",
   "execution_count": 145,
   "metadata": {},
   "outputs": [],
   "source": [
    "#1) 'num_dt' Son las lineas que están impagas, en caso de estár en blanco vamos a completarlos por un 0.\n",
    "datos_enero['num_dt'] = datos_enero['num_dt'].replace(np.nan, 0)"
   ]
  },
  {
   "cell_type": "code",
   "execution_count": 146,
   "metadata": {},
   "outputs": [],
   "source": [
    "#2) 'incidencia' Si está en blanco es porque el cliente no tiene ninguna incidencia\n",
    "datos_enero['incidencia'] = datos_enero['incidencia'].replace(np.nan, 'NO')"
   ]
  },
  {
   "cell_type": "code",
   "execution_count": 147,
   "metadata": {},
   "outputs": [],
   "source": [
    "#3) 'financiacion' Si está en blanco e sorque el cliente no tienen ninguna financiacion\n",
    "datos_enero['financiacion'] = datos_enero['financiacion'].replace(np.nan, 'NO')"
   ]
  },
  {
   "cell_type": "code",
   "execution_count": 148,
   "metadata": {},
   "outputs": [],
   "source": [
    "#4) 'imp_financ ' Si está en blanco e sorque el cliente no tienen ninguna financiacion y por lo tanto no tienen ningún importe financiado\n",
    "datos_enero['imp_financ'] = datos_enero['imp_financ'].replace(np.nan, 0)"
   ]
  },
  {
   "cell_type": "code",
   "execution_count": 149,
   "metadata": {},
   "outputs": [],
   "source": [
    "#5) 'descuentos ' Si está en blanco es porque el cliente no tiene ningún tipo de descuente\n",
    "datos_enero['descuentos'] = datos_enero['descuentos'].replace(np.nan, 0)"
   ]
  },
  {
   "cell_type": "code",
   "execution_count": 150,
   "metadata": {
    "scrolled": true
   },
   "outputs": [
    {
     "data": {
      "text/plain": [
       "id                0\n",
       "edad              0\n",
       "facturacion       0\n",
       "antiguedad        0\n",
       "provincia         0\n",
       "num_lineas        0\n",
       "num_dt            0\n",
       "incidencia        0\n",
       "num_llamad_ent    0\n",
       "num_llamad_sal    0\n",
       "mb_datos          0\n",
       "seg_llamad_ent    0\n",
       "seg_llamad_sal    0\n",
       "conexion          0\n",
       "vel_conexion      0\n",
       "TV                0\n",
       "financiacion      0\n",
       "imp_financ        0\n",
       "descuentos        0\n",
       "dtype: int64"
      ]
     },
     "execution_count": 150,
     "metadata": {},
     "output_type": "execute_result"
    }
   ],
   "source": [
    "#Comprobamos que no temos ningún NA\n",
    "datos_enero.isnull().sum()"
   ]
  },
  {
   "cell_type": "markdown",
   "metadata": {},
   "source": [
    "#### --- Análsis de las variables numércias --- (Enero)"
   ]
  },
  {
   "cell_type": "code",
   "execution_count": 151,
   "metadata": {},
   "outputs": [
    {
     "data": {
      "text/plain": [
       "id                  int64\n",
       "edad                int64\n",
       "facturacion       float64\n",
       "antiguedad         object\n",
       "provincia          object\n",
       "num_lineas          int64\n",
       "num_dt            float64\n",
       "incidencia         object\n",
       "num_llamad_ent      int64\n",
       "num_llamad_sal      int64\n",
       "mb_datos            int64\n",
       "seg_llamad_ent      int64\n",
       "seg_llamad_sal      int64\n",
       "conexion           object\n",
       "vel_conexion       object\n",
       "TV                 object\n",
       "financiacion       object\n",
       "imp_financ        float64\n",
       "descuentos         object\n",
       "dtype: object"
      ]
     },
     "execution_count": 151,
     "metadata": {},
     "output_type": "execute_result"
    }
   ],
   "source": [
    "#Veo el tipo de datos que tengo \n",
    "datos_enero.dtypes #Tenemos 11 variables numéricas"
   ]
  },
  {
   "cell_type": "code",
   "execution_count": 152,
   "metadata": {},
   "outputs": [
    {
     "data": {
      "text/html": [
       "<div>\n",
       "<style scoped>\n",
       "    .dataframe tbody tr th:only-of-type {\n",
       "        vertical-align: middle;\n",
       "    }\n",
       "\n",
       "    .dataframe tbody tr th {\n",
       "        vertical-align: top;\n",
       "    }\n",
       "\n",
       "    .dataframe thead th {\n",
       "        text-align: right;\n",
       "    }\n",
       "</style>\n",
       "<table border=\"1\" class=\"dataframe\">\n",
       "  <thead>\n",
       "    <tr style=\"text-align: right;\">\n",
       "      <th></th>\n",
       "      <th>id</th>\n",
       "      <th>edad</th>\n",
       "      <th>facturacion</th>\n",
       "      <th>num_lineas</th>\n",
       "      <th>num_dt</th>\n",
       "      <th>num_llamad_ent</th>\n",
       "      <th>num_llamad_sal</th>\n",
       "      <th>mb_datos</th>\n",
       "      <th>seg_llamad_ent</th>\n",
       "      <th>seg_llamad_sal</th>\n",
       "      <th>imp_financ</th>\n",
       "    </tr>\n",
       "  </thead>\n",
       "  <tbody>\n",
       "    <tr>\n",
       "      <th>count</th>\n",
       "      <td>92711.000000</td>\n",
       "      <td>92711.000000</td>\n",
       "      <td>92711.000000</td>\n",
       "      <td>92711.000000</td>\n",
       "      <td>92711.000000</td>\n",
       "      <td>92711.000000</td>\n",
       "      <td>92711.000000</td>\n",
       "      <td>92711.000000</td>\n",
       "      <td>92711.000000</td>\n",
       "      <td>92711.000000</td>\n",
       "      <td>92711.000000</td>\n",
       "    </tr>\n",
       "    <tr>\n",
       "      <th>mean</th>\n",
       "      <td>49997.623626</td>\n",
       "      <td>51.429237</td>\n",
       "      <td>207.488700</td>\n",
       "      <td>3.560214</td>\n",
       "      <td>0.071318</td>\n",
       "      <td>125.109836</td>\n",
       "      <td>49.858960</td>\n",
       "      <td>12510.190495</td>\n",
       "      <td>9985.382781</td>\n",
       "      <td>10030.443960</td>\n",
       "      <td>1.601433</td>\n",
       "    </tr>\n",
       "    <tr>\n",
       "      <th>std</th>\n",
       "      <td>28863.150364</td>\n",
       "      <td>19.585913</td>\n",
       "      <td>111.239476</td>\n",
       "      <td>1.085810</td>\n",
       "      <td>0.459214</td>\n",
       "      <td>72.421075</td>\n",
       "      <td>29.208549</td>\n",
       "      <td>7217.671483</td>\n",
       "      <td>5774.903324</td>\n",
       "      <td>5786.754197</td>\n",
       "      <td>6.366161</td>\n",
       "    </tr>\n",
       "    <tr>\n",
       "      <th>min</th>\n",
       "      <td>1.000000</td>\n",
       "      <td>18.000000</td>\n",
       "      <td>15.000439</td>\n",
       "      <td>1.000000</td>\n",
       "      <td>0.000000</td>\n",
       "      <td>0.000000</td>\n",
       "      <td>0.000000</td>\n",
       "      <td>0.000000</td>\n",
       "      <td>0.000000</td>\n",
       "      <td>0.000000</td>\n",
       "      <td>0.000000</td>\n",
       "    </tr>\n",
       "    <tr>\n",
       "      <th>25%</th>\n",
       "      <td>24963.500000</td>\n",
       "      <td>34.000000</td>\n",
       "      <td>111.368385</td>\n",
       "      <td>3.000000</td>\n",
       "      <td>0.000000</td>\n",
       "      <td>62.000000</td>\n",
       "      <td>25.000000</td>\n",
       "      <td>6232.500000</td>\n",
       "      <td>4960.000000</td>\n",
       "      <td>5010.000000</td>\n",
       "      <td>0.000000</td>\n",
       "    </tr>\n",
       "    <tr>\n",
       "      <th>50%</th>\n",
       "      <td>49999.000000</td>\n",
       "      <td>51.000000</td>\n",
       "      <td>207.089366</td>\n",
       "      <td>4.000000</td>\n",
       "      <td>0.000000</td>\n",
       "      <td>125.000000</td>\n",
       "      <td>50.000000</td>\n",
       "      <td>12526.000000</td>\n",
       "      <td>9998.000000</td>\n",
       "      <td>10037.000000</td>\n",
       "      <td>0.000000</td>\n",
       "    </tr>\n",
       "    <tr>\n",
       "      <th>75%</th>\n",
       "      <td>74990.500000</td>\n",
       "      <td>68.000000</td>\n",
       "      <td>304.349361</td>\n",
       "      <td>4.000000</td>\n",
       "      <td>0.000000</td>\n",
       "      <td>188.000000</td>\n",
       "      <td>75.000000</td>\n",
       "      <td>18742.000000</td>\n",
       "      <td>14981.000000</td>\n",
       "      <td>15036.000000</td>\n",
       "      <td>0.000000</td>\n",
       "    </tr>\n",
       "    <tr>\n",
       "      <th>max</th>\n",
       "      <td>100000.000000</td>\n",
       "      <td>85.000000</td>\n",
       "      <td>399.998433</td>\n",
       "      <td>5.000000</td>\n",
       "      <td>4.000000</td>\n",
       "      <td>250.000000</td>\n",
       "      <td>100.000000</td>\n",
       "      <td>25000.000000</td>\n",
       "      <td>20000.000000</td>\n",
       "      <td>20000.000000</td>\n",
       "      <td>39.991954</td>\n",
       "    </tr>\n",
       "  </tbody>\n",
       "</table>\n",
       "</div>"
      ],
      "text/plain": [
       "                  id          edad   facturacion    num_lineas        num_dt  \\\n",
       "count   92711.000000  92711.000000  92711.000000  92711.000000  92711.000000   \n",
       "mean    49997.623626     51.429237    207.488700      3.560214      0.071318   \n",
       "std     28863.150364     19.585913    111.239476      1.085810      0.459214   \n",
       "min         1.000000     18.000000     15.000439      1.000000      0.000000   \n",
       "25%     24963.500000     34.000000    111.368385      3.000000      0.000000   \n",
       "50%     49999.000000     51.000000    207.089366      4.000000      0.000000   \n",
       "75%     74990.500000     68.000000    304.349361      4.000000      0.000000   \n",
       "max    100000.000000     85.000000    399.998433      5.000000      4.000000   \n",
       "\n",
       "       num_llamad_ent  num_llamad_sal      mb_datos  seg_llamad_ent  \\\n",
       "count    92711.000000    92711.000000  92711.000000    92711.000000   \n",
       "mean       125.109836       49.858960  12510.190495     9985.382781   \n",
       "std         72.421075       29.208549   7217.671483     5774.903324   \n",
       "min          0.000000        0.000000      0.000000        0.000000   \n",
       "25%         62.000000       25.000000   6232.500000     4960.000000   \n",
       "50%        125.000000       50.000000  12526.000000     9998.000000   \n",
       "75%        188.000000       75.000000  18742.000000    14981.000000   \n",
       "max        250.000000      100.000000  25000.000000    20000.000000   \n",
       "\n",
       "       seg_llamad_sal    imp_financ  \n",
       "count    92711.000000  92711.000000  \n",
       "mean     10030.443960      1.601433  \n",
       "std       5786.754197      6.366161  \n",
       "min          0.000000      0.000000  \n",
       "25%       5010.000000      0.000000  \n",
       "50%      10037.000000      0.000000  \n",
       "75%      15036.000000      0.000000  \n",
       "max      20000.000000     39.991954  "
      ]
     },
     "execution_count": 152,
     "metadata": {},
     "output_type": "execute_result"
    }
   ],
   "source": [
    "#Vemos las variables numéricas.\n",
    "datos_enero.describe() # -> no encontramos nada raro"
   ]
  },
  {
   "cell_type": "code",
   "execution_count": 153,
   "metadata": {},
   "outputs": [
    {
     "data": {
      "text/plain": [
       "2047     1\n",
       "13011    1\n",
       "725      1\n",
       "6870     1\n",
       "4823     1\n",
       "        ..\n",
       "21920    1\n",
       "23969    1\n",
       "17826    1\n",
       "19875    1\n",
       "2049     1\n",
       "Name: id, Length: 92711, dtype: int64"
      ]
     },
     "execution_count": 153,
     "metadata": {},
     "output_type": "execute_result"
    }
   ],
   "source": [
    "#Comprobamos que no tenemos ID repetidos\n",
    "datos_enero['id'].value_counts() "
   ]
  },
  {
   "cell_type": "markdown",
   "metadata": {},
   "source": [
    "#### --- Análsis de las variables no numércias --- (Dicimebre)"
   ]
  },
  {
   "cell_type": "markdown",
   "metadata": {},
   "source": [
    "A tratar: antiguedad, provincia, incidencia, conexion, vel_conexion, TV, financiacion, descuentos"
   ]
  },
  {
   "cell_type": "markdown",
   "metadata": {},
   "source": [
    "1) ANTIGUEDAD"
   ]
  },
  {
   "cell_type": "code",
   "execution_count": 154,
   "metadata": {
    "scrolled": true
   },
   "outputs": [
    {
     "data": {
      "text/plain": [
       "92237"
      ]
     },
     "execution_count": 154,
     "metadata": {},
     "output_type": "execute_result"
    }
   ],
   "source": [
    "len(datos_enero['antiguedad'].unique())"
   ]
  },
  {
   "cell_type": "code",
   "execution_count": 155,
   "metadata": {},
   "outputs": [
    {
     "data": {
      "text/plain": [
       "01/07/2020 10:37 PM    3\n",
       "01/14/2020 05:08 PM    3\n",
       "01/07/2020 03:55 PM    3\n",
       "01/19/2020 04:57 PM    3\n",
       "01/25/2020 12:51 PM    3\n",
       "                      ..\n",
       "08/08/2017 04:56 PM    1\n",
       "01/23/2020 06:10 AM    1\n",
       "01/01/1998 08:56 PM    1\n",
       "07/29/2001 02:39 AM    1\n",
       "08/27/2008 01:48 PM    1\n",
       "Name: antiguedad, Length: 92237, dtype: int64"
      ]
     },
     "execution_count": 155,
     "metadata": {},
     "output_type": "execute_result"
    }
   ],
   "source": [
    "datos_enero['antiguedad'].value_counts() \n",
    "# Vemos que algunas fechas se repiten tres veces"
   ]
  },
  {
   "cell_type": "code",
   "execution_count": 156,
   "metadata": {},
   "outputs": [],
   "source": [
    "# Paso la fecha a formato datatime:\n",
    "datos_enero['antiguedad'] = pd.to_datetime(datos_enero['antiguedad'])"
   ]
  },
  {
   "cell_type": "markdown",
   "metadata": {},
   "source": [
    "Vamos a crear una nueva variable que me diga la antiguedad en años del cliente"
   ]
  },
  {
   "cell_type": "code",
   "execution_count": 157,
   "metadata": {},
   "outputs": [
    {
     "data": {
      "text/html": [
       "<div>\n",
       "<style scoped>\n",
       "    .dataframe tbody tr th:only-of-type {\n",
       "        vertical-align: middle;\n",
       "    }\n",
       "\n",
       "    .dataframe tbody tr th {\n",
       "        vertical-align: top;\n",
       "    }\n",
       "\n",
       "    .dataframe thead th {\n",
       "        text-align: right;\n",
       "    }\n",
       "</style>\n",
       "<table border=\"1\" class=\"dataframe\">\n",
       "  <thead>\n",
       "    <tr style=\"text-align: right;\">\n",
       "      <th></th>\n",
       "      <th>id</th>\n",
       "      <th>edad</th>\n",
       "      <th>facturacion</th>\n",
       "      <th>antiguedad</th>\n",
       "      <th>provincia</th>\n",
       "      <th>num_lineas</th>\n",
       "      <th>num_dt</th>\n",
       "      <th>incidencia</th>\n",
       "      <th>num_llamad_ent</th>\n",
       "      <th>num_llamad_sal</th>\n",
       "      <th>mb_datos</th>\n",
       "      <th>seg_llamad_ent</th>\n",
       "      <th>seg_llamad_sal</th>\n",
       "      <th>conexion</th>\n",
       "      <th>vel_conexion</th>\n",
       "      <th>TV</th>\n",
       "      <th>financiacion</th>\n",
       "      <th>imp_financ</th>\n",
       "      <th>descuentos</th>\n",
       "      <th>año_ingreso</th>\n",
       "    </tr>\n",
       "  </thead>\n",
       "  <tbody>\n",
       "    <tr>\n",
       "      <th>0</th>\n",
       "      <td>1</td>\n",
       "      <td>63</td>\n",
       "      <td>216.028109</td>\n",
       "      <td>2018-11-23 08:48:00</td>\n",
       "      <td>La Rioja</td>\n",
       "      <td>5</td>\n",
       "      <td>0.0</td>\n",
       "      <td>NO</td>\n",
       "      <td>95</td>\n",
       "      <td>19</td>\n",
       "      <td>6525</td>\n",
       "      <td>7634</td>\n",
       "      <td>18520</td>\n",
       "      <td>FIBRA</td>\n",
       "      <td>50MB</td>\n",
       "      <td>tv-futbol</td>\n",
       "      <td>NO</td>\n",
       "      <td>0.0</td>\n",
       "      <td>0</td>\n",
       "      <td>2018</td>\n",
       "    </tr>\n",
       "    <tr>\n",
       "      <th>1</th>\n",
       "      <td>2</td>\n",
       "      <td>84</td>\n",
       "      <td>255.830842</td>\n",
       "      <td>2017-08-22 03:19:00</td>\n",
       "      <td>Vizcaya</td>\n",
       "      <td>3</td>\n",
       "      <td>0.0</td>\n",
       "      <td>NO</td>\n",
       "      <td>44</td>\n",
       "      <td>36</td>\n",
       "      <td>14471</td>\n",
       "      <td>14541</td>\n",
       "      <td>8016</td>\n",
       "      <td>FIBRA</td>\n",
       "      <td>600MB</td>\n",
       "      <td>tv-futbol</td>\n",
       "      <td>NO</td>\n",
       "      <td>0.0</td>\n",
       "      <td>SI</td>\n",
       "      <td>2017</td>\n",
       "    </tr>\n",
       "    <tr>\n",
       "      <th>2</th>\n",
       "      <td>3</td>\n",
       "      <td>66</td>\n",
       "      <td>135.768153</td>\n",
       "      <td>2001-12-27 13:50:00</td>\n",
       "      <td>Albacete</td>\n",
       "      <td>4</td>\n",
       "      <td>0.0</td>\n",
       "      <td>NO</td>\n",
       "      <td>94</td>\n",
       "      <td>27</td>\n",
       "      <td>1428</td>\n",
       "      <td>5248</td>\n",
       "      <td>7106</td>\n",
       "      <td>ADSL</td>\n",
       "      <td>35MB</td>\n",
       "      <td>tv-futbol</td>\n",
       "      <td>NO</td>\n",
       "      <td>0.0</td>\n",
       "      <td>SI</td>\n",
       "      <td>2001</td>\n",
       "    </tr>\n",
       "    <tr>\n",
       "      <th>3</th>\n",
       "      <td>4</td>\n",
       "      <td>69</td>\n",
       "      <td>255.658527</td>\n",
       "      <td>2015-08-08 10:53:00</td>\n",
       "      <td>Lugo</td>\n",
       "      <td>4</td>\n",
       "      <td>0.0</td>\n",
       "      <td>NO</td>\n",
       "      <td>186</td>\n",
       "      <td>20</td>\n",
       "      <td>20083</td>\n",
       "      <td>7372</td>\n",
       "      <td>5052</td>\n",
       "      <td>FIBRA</td>\n",
       "      <td>200MB</td>\n",
       "      <td>tv-familiar</td>\n",
       "      <td>NO</td>\n",
       "      <td>0.0</td>\n",
       "      <td>0</td>\n",
       "      <td>2015</td>\n",
       "    </tr>\n",
       "    <tr>\n",
       "      <th>4</th>\n",
       "      <td>6</td>\n",
       "      <td>51</td>\n",
       "      <td>99.348645</td>\n",
       "      <td>1997-11-04 11:43:00</td>\n",
       "      <td>Huelva</td>\n",
       "      <td>4</td>\n",
       "      <td>0.0</td>\n",
       "      <td>NO</td>\n",
       "      <td>37</td>\n",
       "      <td>32</td>\n",
       "      <td>19078</td>\n",
       "      <td>5009</td>\n",
       "      <td>8686</td>\n",
       "      <td>FIBRA</td>\n",
       "      <td>200MB</td>\n",
       "      <td>tv-futbol</td>\n",
       "      <td>NO</td>\n",
       "      <td>0.0</td>\n",
       "      <td>0</td>\n",
       "      <td>1997</td>\n",
       "    </tr>\n",
       "  </tbody>\n",
       "</table>\n",
       "</div>"
      ],
      "text/plain": [
       "   id  edad  facturacion          antiguedad provincia  num_lineas  num_dt  \\\n",
       "0   1    63   216.028109 2018-11-23 08:48:00  La Rioja           5     0.0   \n",
       "1   2    84   255.830842 2017-08-22 03:19:00   Vizcaya           3     0.0   \n",
       "2   3    66   135.768153 2001-12-27 13:50:00  Albacete           4     0.0   \n",
       "3   4    69   255.658527 2015-08-08 10:53:00      Lugo           4     0.0   \n",
       "4   6    51    99.348645 1997-11-04 11:43:00    Huelva           4     0.0   \n",
       "\n",
       "  incidencia  num_llamad_ent  num_llamad_sal  mb_datos  seg_llamad_ent  \\\n",
       "0         NO              95              19      6525            7634   \n",
       "1         NO              44              36     14471           14541   \n",
       "2         NO              94              27      1428            5248   \n",
       "3         NO             186              20     20083            7372   \n",
       "4         NO              37              32     19078            5009   \n",
       "\n",
       "   seg_llamad_sal conexion vel_conexion           TV financiacion  imp_financ  \\\n",
       "0           18520    FIBRA         50MB    tv-futbol           NO         0.0   \n",
       "1            8016    FIBRA        600MB    tv-futbol           NO         0.0   \n",
       "2            7106     ADSL         35MB    tv-futbol           NO         0.0   \n",
       "3            5052    FIBRA        200MB  tv-familiar           NO         0.0   \n",
       "4            8686    FIBRA        200MB    tv-futbol           NO         0.0   \n",
       "\n",
       "  descuentos  año_ingreso  \n",
       "0          0         2018  \n",
       "1         SI         2017  \n",
       "2         SI         2001  \n",
       "3          0         2015  \n",
       "4          0         1997  "
      ]
     },
     "execution_count": 157,
     "metadata": {},
     "output_type": "execute_result"
    }
   ],
   "source": [
    "#Creo una columna que contenga el año de ingreso a la compañia para despues calcular su antiguedad en años\n",
    "datos_enero['año_ingreso'] = pd.DatetimeIndex(datos_enero['antiguedad']).year\n",
    "datos_enero.head()"
   ]
  },
  {
   "cell_type": "code",
   "execution_count": 158,
   "metadata": {},
   "outputs": [
    {
     "data": {
      "text/html": [
       "<div>\n",
       "<style scoped>\n",
       "    .dataframe tbody tr th:only-of-type {\n",
       "        vertical-align: middle;\n",
       "    }\n",
       "\n",
       "    .dataframe tbody tr th {\n",
       "        vertical-align: top;\n",
       "    }\n",
       "\n",
       "    .dataframe thead th {\n",
       "        text-align: right;\n",
       "    }\n",
       "</style>\n",
       "<table border=\"1\" class=\"dataframe\">\n",
       "  <thead>\n",
       "    <tr style=\"text-align: right;\">\n",
       "      <th></th>\n",
       "      <th>id</th>\n",
       "      <th>edad</th>\n",
       "      <th>facturacion</th>\n",
       "      <th>antiguedad</th>\n",
       "      <th>provincia</th>\n",
       "      <th>num_lineas</th>\n",
       "      <th>num_dt</th>\n",
       "      <th>incidencia</th>\n",
       "      <th>num_llamad_ent</th>\n",
       "      <th>num_llamad_sal</th>\n",
       "      <th>...</th>\n",
       "      <th>seg_llamad_ent</th>\n",
       "      <th>seg_llamad_sal</th>\n",
       "      <th>conexion</th>\n",
       "      <th>vel_conexion</th>\n",
       "      <th>TV</th>\n",
       "      <th>financiacion</th>\n",
       "      <th>imp_financ</th>\n",
       "      <th>descuentos</th>\n",
       "      <th>año_ingreso</th>\n",
       "      <th>antiguedad_años</th>\n",
       "    </tr>\n",
       "  </thead>\n",
       "  <tbody>\n",
       "    <tr>\n",
       "      <th>0</th>\n",
       "      <td>1</td>\n",
       "      <td>63</td>\n",
       "      <td>216.028109</td>\n",
       "      <td>2018-11-23 08:48:00</td>\n",
       "      <td>La Rioja</td>\n",
       "      <td>5</td>\n",
       "      <td>0.0</td>\n",
       "      <td>NO</td>\n",
       "      <td>95</td>\n",
       "      <td>19</td>\n",
       "      <td>...</td>\n",
       "      <td>7634</td>\n",
       "      <td>18520</td>\n",
       "      <td>FIBRA</td>\n",
       "      <td>50MB</td>\n",
       "      <td>tv-futbol</td>\n",
       "      <td>NO</td>\n",
       "      <td>0.0</td>\n",
       "      <td>0</td>\n",
       "      <td>2018</td>\n",
       "      <td>2</td>\n",
       "    </tr>\n",
       "    <tr>\n",
       "      <th>1</th>\n",
       "      <td>2</td>\n",
       "      <td>84</td>\n",
       "      <td>255.830842</td>\n",
       "      <td>2017-08-22 03:19:00</td>\n",
       "      <td>Vizcaya</td>\n",
       "      <td>3</td>\n",
       "      <td>0.0</td>\n",
       "      <td>NO</td>\n",
       "      <td>44</td>\n",
       "      <td>36</td>\n",
       "      <td>...</td>\n",
       "      <td>14541</td>\n",
       "      <td>8016</td>\n",
       "      <td>FIBRA</td>\n",
       "      <td>600MB</td>\n",
       "      <td>tv-futbol</td>\n",
       "      <td>NO</td>\n",
       "      <td>0.0</td>\n",
       "      <td>SI</td>\n",
       "      <td>2017</td>\n",
       "      <td>3</td>\n",
       "    </tr>\n",
       "    <tr>\n",
       "      <th>2</th>\n",
       "      <td>3</td>\n",
       "      <td>66</td>\n",
       "      <td>135.768153</td>\n",
       "      <td>2001-12-27 13:50:00</td>\n",
       "      <td>Albacete</td>\n",
       "      <td>4</td>\n",
       "      <td>0.0</td>\n",
       "      <td>NO</td>\n",
       "      <td>94</td>\n",
       "      <td>27</td>\n",
       "      <td>...</td>\n",
       "      <td>5248</td>\n",
       "      <td>7106</td>\n",
       "      <td>ADSL</td>\n",
       "      <td>35MB</td>\n",
       "      <td>tv-futbol</td>\n",
       "      <td>NO</td>\n",
       "      <td>0.0</td>\n",
       "      <td>SI</td>\n",
       "      <td>2001</td>\n",
       "      <td>19</td>\n",
       "    </tr>\n",
       "    <tr>\n",
       "      <th>3</th>\n",
       "      <td>4</td>\n",
       "      <td>69</td>\n",
       "      <td>255.658527</td>\n",
       "      <td>2015-08-08 10:53:00</td>\n",
       "      <td>Lugo</td>\n",
       "      <td>4</td>\n",
       "      <td>0.0</td>\n",
       "      <td>NO</td>\n",
       "      <td>186</td>\n",
       "      <td>20</td>\n",
       "      <td>...</td>\n",
       "      <td>7372</td>\n",
       "      <td>5052</td>\n",
       "      <td>FIBRA</td>\n",
       "      <td>200MB</td>\n",
       "      <td>tv-familiar</td>\n",
       "      <td>NO</td>\n",
       "      <td>0.0</td>\n",
       "      <td>0</td>\n",
       "      <td>2015</td>\n",
       "      <td>5</td>\n",
       "    </tr>\n",
       "    <tr>\n",
       "      <th>4</th>\n",
       "      <td>6</td>\n",
       "      <td>51</td>\n",
       "      <td>99.348645</td>\n",
       "      <td>1997-11-04 11:43:00</td>\n",
       "      <td>Huelva</td>\n",
       "      <td>4</td>\n",
       "      <td>0.0</td>\n",
       "      <td>NO</td>\n",
       "      <td>37</td>\n",
       "      <td>32</td>\n",
       "      <td>...</td>\n",
       "      <td>5009</td>\n",
       "      <td>8686</td>\n",
       "      <td>FIBRA</td>\n",
       "      <td>200MB</td>\n",
       "      <td>tv-futbol</td>\n",
       "      <td>NO</td>\n",
       "      <td>0.0</td>\n",
       "      <td>0</td>\n",
       "      <td>1997</td>\n",
       "      <td>23</td>\n",
       "    </tr>\n",
       "  </tbody>\n",
       "</table>\n",
       "<p>5 rows × 21 columns</p>\n",
       "</div>"
      ],
      "text/plain": [
       "   id  edad  facturacion          antiguedad provincia  num_lineas  num_dt  \\\n",
       "0   1    63   216.028109 2018-11-23 08:48:00  La Rioja           5     0.0   \n",
       "1   2    84   255.830842 2017-08-22 03:19:00   Vizcaya           3     0.0   \n",
       "2   3    66   135.768153 2001-12-27 13:50:00  Albacete           4     0.0   \n",
       "3   4    69   255.658527 2015-08-08 10:53:00      Lugo           4     0.0   \n",
       "4   6    51    99.348645 1997-11-04 11:43:00    Huelva           4     0.0   \n",
       "\n",
       "  incidencia  num_llamad_ent  num_llamad_sal  ...  seg_llamad_ent  \\\n",
       "0         NO              95              19  ...            7634   \n",
       "1         NO              44              36  ...           14541   \n",
       "2         NO              94              27  ...            5248   \n",
       "3         NO             186              20  ...            7372   \n",
       "4         NO              37              32  ...            5009   \n",
       "\n",
       "   seg_llamad_sal  conexion vel_conexion           TV financiacion imp_financ  \\\n",
       "0           18520     FIBRA         50MB    tv-futbol           NO        0.0   \n",
       "1            8016     FIBRA        600MB    tv-futbol           NO        0.0   \n",
       "2            7106      ADSL         35MB    tv-futbol           NO        0.0   \n",
       "3            5052     FIBRA        200MB  tv-familiar           NO        0.0   \n",
       "4            8686     FIBRA        200MB    tv-futbol           NO        0.0   \n",
       "\n",
       "   descuentos año_ingreso  antiguedad_años  \n",
       "0           0        2018                2  \n",
       "1          SI        2017                3  \n",
       "2          SI        2001               19  \n",
       "3           0        2015                5  \n",
       "4           0        1997               23  \n",
       "\n",
       "[5 rows x 21 columns]"
      ]
     },
     "execution_count": 158,
     "metadata": {},
     "output_type": "execute_result"
    }
   ],
   "source": [
    "# Creo una variable que me dice la antifuedad en años\n",
    "datos_enero['antiguedad_años'] = 2020-datos_enero['año_ingreso']\n",
    "datos_enero.head()"
   ]
  },
  {
   "cell_type": "code",
   "execution_count": 159,
   "metadata": {},
   "outputs": [
    {
     "data": {
      "text/plain": [
       "0     4329\n",
       "14    3650\n",
       "21    3637\n",
       "10    3595\n",
       "16    3591\n",
       "20    3588\n",
       "13    3580\n",
       "6     3575\n",
       "12    3565\n",
       "17    3565\n",
       "9     3557\n",
       "11    3556\n",
       "23    3545\n",
       "15    3537\n",
       "2     3534\n",
       "8     3524\n",
       "25    3520\n",
       "7     3510\n",
       "18    3495\n",
       "24    3488\n",
       "19    3480\n",
       "22    3475\n",
       "1     3475\n",
       "4     3474\n",
       "5     3471\n",
       "3     3395\n",
       "Name: antiguedad_años, dtype: int64"
      ]
     },
     "execution_count": 159,
     "metadata": {},
     "output_type": "execute_result"
    }
   ],
   "source": [
    "datos_enero['antiguedad_años'].value_counts() "
   ]
  },
  {
   "cell_type": "code",
   "execution_count": 160,
   "metadata": {},
   "outputs": [],
   "source": [
    "datos_enero.drop('año_ingreso',axis=1, inplace=True)"
   ]
  },
  {
   "cell_type": "code",
   "execution_count": 161,
   "metadata": {},
   "outputs": [],
   "source": [
    "datos_enero.drop('antiguedad',axis=1, inplace=True)"
   ]
  },
  {
   "cell_type": "markdown",
   "metadata": {},
   "source": [
    "2) PROVINCIA"
   ]
  },
  {
   "cell_type": "code",
   "execution_count": 162,
   "metadata": {},
   "outputs": [
    {
     "data": {
      "text/plain": [
       "50"
      ]
     },
     "execution_count": 162,
     "metadata": {},
     "output_type": "execute_result"
    }
   ],
   "source": [
    "len(datos_enero['provincia'].unique())"
   ]
  },
  {
   "cell_type": "code",
   "execution_count": 163,
   "metadata": {
    "scrolled": true
   },
   "outputs": [
    {
     "data": {
      "text/plain": [
       "Valencia                  1941\n",
       "Asturias                  1934\n",
       "Murcia                    1931\n",
       "Navarra                   1930\n",
       "Zaragoza                  1927\n",
       "Málaga                    1924\n",
       "Alicante                  1895\n",
       "Orense                    1891\n",
       "Guipúzcoa                 1886\n",
       "Zamora                    1879\n",
       "Huelva                    1878\n",
       "Córdoba                   1875\n",
       "Granada                   1874\n",
       "Cáceres                   1868\n",
       "La Coruña                 1867\n",
       "Santa Cruz de Tenerife    1866\n",
       "Burgos                    1866\n",
       "Sevilla                   1865\n",
       "Soria                     1865\n",
       "Islas Baleares            1864\n",
       "Almería                   1863\n",
       "Cádiz                     1862\n",
       "Álava                     1859\n",
       "Tarragona                 1857\n",
       "Badajoz                   1856\n",
       "Salamanca                 1854\n",
       "Castellón                 1854\n",
       "Barcelona                 1852\n",
       "Valladolid                1850\n",
       "Segovia                   1850\n",
       "Madrid                    1849\n",
       "Ciudad Real               1848\n",
       "Lugo                      1841\n",
       "Jaén                      1836\n",
       "Albacete                  1836\n",
       "Ávila                     1832\n",
       "Pontevedra                1829\n",
       "Teruel                    1826\n",
       "Cuenca                    1824\n",
       "Guadalajara               1822\n",
       "Lérida                    1820\n",
       "Gerona                    1816\n",
       "La Rioja                  1816\n",
       "Cantabria                 1807\n",
       "Las Palmas                1798\n",
       "Palencia                  1797\n",
       "Toledo                    1793\n",
       "León                      1784\n",
       "Vizcaya                   1781\n",
       "Huesca                    1773\n",
       "Name: provincia, dtype: int64"
      ]
     },
     "execution_count": 163,
     "metadata": {},
     "output_type": "execute_result"
    }
   ],
   "source": [
    "datos_enero['provincia'].value_counts() "
   ]
  },
  {
   "cell_type": "code",
   "execution_count": 164,
   "metadata": {},
   "outputs": [],
   "source": [
    "# Esto podriamos haberlo realizado con un Label Encode, pero personalmente preferí realizarlo manualmente\n",
    "\n",
    "datos_enero.provincia.replace(('Zaragoza','Navarra','Málaga','Asturias','Valencia',\n",
    "                                   'Murcia','Orense','Alicante','Córdoba','Cáceres',\n",
    "                                   'Burgos','Guipúzcoa','Álava','Valladolid','Sevilla',\n",
    "                                   'Huelva', 'Santa Cruz de Tenerife', 'La Coruña', 'Segovia','Castellón',\n",
    "                                   'Granada','Tarragona','Zamora','Almería','Soria',\n",
    "                                   'Madrid','Pontevedra','Ciudad Real','Cádiz','Badajoz',\n",
    "                                   'Islas Baleares','Barcelona','Teruel','Salamanca','Ávila',\n",
    "                                   'Albacete','Jaén','Guadalajara','Lérida','La Rioja',\n",
    "                                   'Lugo','Toledo','Gerona','Las Palmas','Palencia',\n",
    "                                   'Cuenca','Cantabria','León','Vizcaya','Huesca'\n",
    "                                   ),\n",
    "                                  (1,2,3,4,5,6,7,8,9,10,11,12,13,14,15,16,17,18,19,20,\n",
    "                                  21,22,23,24,25,26,27,28,29,30,31,32,33,34,35,36,37,\n",
    "                                  38,39,40,41,42,43,44,45,46,47,48,49,50),inplace=True)"
   ]
  },
  {
   "cell_type": "markdown",
   "metadata": {},
   "source": [
    "3) INCIDENCIA"
   ]
  },
  {
   "cell_type": "code",
   "execution_count": 165,
   "metadata": {},
   "outputs": [
    {
     "data": {
      "text/plain": [
       "2"
      ]
     },
     "execution_count": 165,
     "metadata": {},
     "output_type": "execute_result"
    }
   ],
   "source": [
    "len(datos_enero['incidencia'].unique())"
   ]
  },
  {
   "cell_type": "code",
   "execution_count": 166,
   "metadata": {},
   "outputs": [
    {
     "data": {
      "text/plain": [
       "NO    90720\n",
       "SI     1991\n",
       "Name: incidencia, dtype: int64"
      ]
     },
     "execution_count": 166,
     "metadata": {},
     "output_type": "execute_result"
    }
   ],
   "source": [
    "datos_enero['incidencia'].value_counts()"
   ]
  },
  {
   "cell_type": "code",
   "execution_count": 167,
   "metadata": {},
   "outputs": [],
   "source": [
    "datos_enero['incidencia'] = datos_enero['incidencia'].map({'SI':1,'NO':0})"
   ]
  },
  {
   "cell_type": "code",
   "execution_count": 168,
   "metadata": {},
   "outputs": [
    {
     "data": {
      "text/plain": [
       "0    90720\n",
       "1     1991\n",
       "Name: incidencia, dtype: int64"
      ]
     },
     "execution_count": 168,
     "metadata": {},
     "output_type": "execute_result"
    }
   ],
   "source": [
    "datos_enero['incidencia'].value_counts()"
   ]
  },
  {
   "cell_type": "markdown",
   "metadata": {},
   "source": [
    "4) CONEXIÓN"
   ]
  },
  {
   "cell_type": "code",
   "execution_count": 169,
   "metadata": {},
   "outputs": [
    {
     "data": {
      "text/plain": [
       "2"
      ]
     },
     "execution_count": 169,
     "metadata": {},
     "output_type": "execute_result"
    }
   ],
   "source": [
    "len(datos_enero['conexion'].unique())"
   ]
  },
  {
   "cell_type": "code",
   "execution_count": 170,
   "metadata": {},
   "outputs": [
    {
     "data": {
      "text/plain": [
       "ADSL     46591\n",
       "FIBRA    46120\n",
       "Name: conexion, dtype: int64"
      ]
     },
     "execution_count": 170,
     "metadata": {},
     "output_type": "execute_result"
    }
   ],
   "source": [
    "datos_enero['conexion'].value_counts()"
   ]
  },
  {
   "cell_type": "code",
   "execution_count": 171,
   "metadata": {},
   "outputs": [],
   "source": [
    "#ADSL = 1, FIBRA = 0\n",
    "datos_enero['conexion'] = datos_enero['conexion'].map({'ADSL':1,'FIBRA':0})"
   ]
  },
  {
   "cell_type": "code",
   "execution_count": 172,
   "metadata": {},
   "outputs": [
    {
     "data": {
      "text/plain": [
       "1    46591\n",
       "0    46120\n",
       "Name: conexion, dtype: int64"
      ]
     },
     "execution_count": 172,
     "metadata": {},
     "output_type": "execute_result"
    }
   ],
   "source": [
    "datos_enero['conexion'].value_counts()"
   ]
  },
  {
   "cell_type": "markdown",
   "metadata": {},
   "source": [
    "5) VELOCIDAD"
   ]
  },
  {
   "cell_type": "code",
   "execution_count": 173,
   "metadata": {},
   "outputs": [
    {
     "data": {
      "text/plain": [
       "200MB    9342\n",
       "600MB    9300\n",
       "300MB    9212\n",
       "50MB     9167\n",
       "100MB    9099\n",
       "20MB     7882\n",
       "25MB     7840\n",
       "10MB     7807\n",
       "30MB     7761\n",
       "35MB     7674\n",
       "15MB     7627\n",
       "Name: vel_conexion, dtype: int64"
      ]
     },
     "execution_count": 173,
     "metadata": {},
     "output_type": "execute_result"
    }
   ],
   "source": [
    "datos_enero['vel_conexion'].value_counts()"
   ]
  },
  {
   "cell_type": "code",
   "execution_count": 174,
   "metadata": {},
   "outputs": [],
   "source": [
    "datos_enero.vel_conexion = datos_enero.vel_conexion.map(dejar_solo_cifras)"
   ]
  },
  {
   "cell_type": "code",
   "execution_count": 175,
   "metadata": {},
   "outputs": [
    {
     "data": {
      "text/plain": [
       "200    9342\n",
       "600    9300\n",
       "300    9212\n",
       "50     9167\n",
       "100    9099\n",
       "20     7882\n",
       "25     7840\n",
       "10     7807\n",
       "30     7761\n",
       "35     7674\n",
       "15     7627\n",
       "Name: vel_conexion, dtype: int64"
      ]
     },
     "execution_count": 175,
     "metadata": {},
     "output_type": "execute_result"
    }
   ],
   "source": [
    "datos_enero['vel_conexion'].value_counts()"
   ]
  },
  {
   "cell_type": "code",
   "execution_count": 176,
   "metadata": {},
   "outputs": [],
   "source": [
    "datos_enero['vel_conexion'] = datos_enero['vel_conexion'].astype(int)"
   ]
  },
  {
   "cell_type": "markdown",
   "metadata": {},
   "source": [
    "6) TV"
   ]
  },
  {
   "cell_type": "code",
   "execution_count": 177,
   "metadata": {},
   "outputs": [
    {
     "data": {
      "text/plain": [
       "3"
      ]
     },
     "execution_count": 177,
     "metadata": {},
     "output_type": "execute_result"
    }
   ],
   "source": [
    "len(datos_enero['TV'].unique())"
   ]
  },
  {
   "cell_type": "code",
   "execution_count": 178,
   "metadata": {},
   "outputs": [
    {
     "data": {
      "text/plain": [
       "tv-futbol      46191\n",
       "tv-familiar    32822\n",
       "tv-total       13698\n",
       "Name: TV, dtype: int64"
      ]
     },
     "execution_count": 178,
     "metadata": {},
     "output_type": "execute_result"
    }
   ],
   "source": [
    "datos_enero['TV'].value_counts()"
   ]
  },
  {
   "cell_type": "code",
   "execution_count": 179,
   "metadata": {},
   "outputs": [],
   "source": [
    "#tv-futbol:0, tv-familiar:1, tv-total:2\n",
    "datos_enero['TV'] = datos_enero['TV'].map({'tv-futbol':0,'tv-familiar':1, 'tv-total':2})"
   ]
  },
  {
   "cell_type": "code",
   "execution_count": 180,
   "metadata": {},
   "outputs": [
    {
     "data": {
      "text/plain": [
       "0    46191\n",
       "1    32822\n",
       "2    13698\n",
       "Name: TV, dtype: int64"
      ]
     },
     "execution_count": 180,
     "metadata": {},
     "output_type": "execute_result"
    }
   ],
   "source": [
    "datos_enero['TV'].value_counts()"
   ]
  },
  {
   "cell_type": "markdown",
   "metadata": {},
   "source": [
    "7) FINANCIACIÓN"
   ]
  },
  {
   "cell_type": "code",
   "execution_count": 181,
   "metadata": {},
   "outputs": [
    {
     "data": {
      "text/plain": [
       "2"
      ]
     },
     "execution_count": 181,
     "metadata": {},
     "output_type": "execute_result"
    }
   ],
   "source": [
    "len(datos_enero['financiacion'].unique())"
   ]
  },
  {
   "cell_type": "code",
   "execution_count": 182,
   "metadata": {},
   "outputs": [
    {
     "data": {
      "text/plain": [
       "NO    86045\n",
       "SI     6666\n",
       "Name: financiacion, dtype: int64"
      ]
     },
     "execution_count": 182,
     "metadata": {},
     "output_type": "execute_result"
    }
   ],
   "source": [
    "datos_enero['financiacion'].value_counts()"
   ]
  },
  {
   "cell_type": "code",
   "execution_count": 183,
   "metadata": {},
   "outputs": [],
   "source": [
    "datos_enero['financiacion'] = datos_enero['financiacion'].map({'SI':1,'NO':0})"
   ]
  },
  {
   "cell_type": "code",
   "execution_count": 184,
   "metadata": {},
   "outputs": [
    {
     "data": {
      "text/plain": [
       "0    86045\n",
       "1     6666\n",
       "Name: financiacion, dtype: int64"
      ]
     },
     "execution_count": 184,
     "metadata": {},
     "output_type": "execute_result"
    }
   ],
   "source": [
    "datos_enero['financiacion'].value_counts()"
   ]
  },
  {
   "cell_type": "markdown",
   "metadata": {},
   "source": [
    "8) DESCUENTOS"
   ]
  },
  {
   "cell_type": "code",
   "execution_count": 185,
   "metadata": {},
   "outputs": [
    {
     "data": {
      "text/plain": [
       "2"
      ]
     },
     "execution_count": 185,
     "metadata": {},
     "output_type": "execute_result"
    }
   ],
   "source": [
    "len(datos_enero['descuentos'].unique())"
   ]
  },
  {
   "cell_type": "code",
   "execution_count": 186,
   "metadata": {},
   "outputs": [
    {
     "data": {
      "text/plain": [
       "0     72673\n",
       "SI    20038\n",
       "Name: descuentos, dtype: int64"
      ]
     },
     "execution_count": 186,
     "metadata": {},
     "output_type": "execute_result"
    }
   ],
   "source": [
    "datos_enero['descuentos'].value_counts()"
   ]
  },
  {
   "cell_type": "code",
   "execution_count": 187,
   "metadata": {},
   "outputs": [],
   "source": [
    "datos_enero['descuentos'] = datos_enero['descuentos'].map({'SI':1,0:0})"
   ]
  },
  {
   "cell_type": "code",
   "execution_count": 188,
   "metadata": {},
   "outputs": [
    {
     "data": {
      "text/plain": [
       "0    72673\n",
       "1    20038\n",
       "Name: descuentos, dtype: int64"
      ]
     },
     "execution_count": 188,
     "metadata": {},
     "output_type": "execute_result"
    }
   ],
   "source": [
    "datos_enero['descuentos'].value_counts()"
   ]
  },
  {
   "cell_type": "code",
   "execution_count": 189,
   "metadata": {},
   "outputs": [
    {
     "data": {
      "text/plain": [
       "id                   int64\n",
       "edad                 int64\n",
       "facturacion        float64\n",
       "provincia            int64\n",
       "num_lineas           int64\n",
       "num_dt             float64\n",
       "incidencia           int64\n",
       "num_llamad_ent       int64\n",
       "num_llamad_sal       int64\n",
       "mb_datos             int64\n",
       "seg_llamad_ent       int64\n",
       "seg_llamad_sal       int64\n",
       "conexion             int64\n",
       "vel_conexion         int64\n",
       "TV                   int64\n",
       "financiacion         int64\n",
       "imp_financ         float64\n",
       "descuentos           int64\n",
       "antiguedad_años      int64\n",
       "dtype: object"
      ]
     },
     "execution_count": 189,
     "metadata": {},
     "output_type": "execute_result"
    }
   ],
   "source": [
    "#Comrpobamos que todo sea numérico\n",
    "datos_enero.dtypes"
   ]
  },
  {
   "cell_type": "code",
   "execution_count": 190,
   "metadata": {},
   "outputs": [],
   "source": [
    "datos_enero.set_index('id',inplace=True)"
   ]
  },
  {
   "cell_type": "code",
   "execution_count": 191,
   "metadata": {},
   "outputs": [],
   "source": [
    "#Seleccionamos las mismas variables que en diciembre\n",
    "variables_importantes_enero = datos_enero.copy(deep = True)\n",
    "variables_importantes_enero = variables_importantes_enero[seleccion]"
   ]
  },
  {
   "cell_type": "code",
   "execution_count": 192,
   "metadata": {},
   "outputs": [],
   "source": [
    "#Escalamos los datos al igual que en diciembre\n",
    "sc2 = StandardScaler()\n",
    "datos_escalados_enero = sc2.fit_transform(variables_importantes_enero)"
   ]
  },
  {
   "cell_type": "code",
   "execution_count": 193,
   "metadata": {},
   "outputs": [
    {
     "data": {
      "text/plain": [
       "array([[-0.15530624, -0.14814401, -0.52509834, -0.25155529],\n",
       "       [-0.15530624, -0.14814401,  1.9044052 , -0.25155529],\n",
       "       [-0.15530624, -0.14814401,  1.9044052 , -0.25155529],\n",
       "       ...,\n",
       "       [-0.15530624, -0.14814401, -0.52509834, -0.25155529],\n",
       "       [-0.15530624, -0.14814401, -0.52509834, -0.25155529],\n",
       "       [-0.15530624, -0.14814401,  1.9044052 , -0.25155529]])"
      ]
     },
     "execution_count": 193,
     "metadata": {},
     "output_type": "execute_result"
    }
   ],
   "source": [
    "datos_escalados_enero"
   ]
  },
  {
   "cell_type": "code",
   "execution_count": 194,
   "metadata": {},
   "outputs": [],
   "source": [
    "datos_escalados_enero = pd.DataFrame(datos_escalados_enero)"
   ]
  },
  {
   "cell_type": "code",
   "execution_count": 195,
   "metadata": {},
   "outputs": [
    {
     "data": {
      "text/html": [
       "<div>\n",
       "<style scoped>\n",
       "    .dataframe tbody tr th:only-of-type {\n",
       "        vertical-align: middle;\n",
       "    }\n",
       "\n",
       "    .dataframe tbody tr th {\n",
       "        vertical-align: top;\n",
       "    }\n",
       "\n",
       "    .dataframe thead th {\n",
       "        text-align: right;\n",
       "    }\n",
       "</style>\n",
       "<table border=\"1\" class=\"dataframe\">\n",
       "  <thead>\n",
       "    <tr style=\"text-align: right;\">\n",
       "      <th></th>\n",
       "      <th>0</th>\n",
       "      <th>1</th>\n",
       "      <th>2</th>\n",
       "      <th>3</th>\n",
       "    </tr>\n",
       "  </thead>\n",
       "  <tbody>\n",
       "    <tr>\n",
       "      <th>0</th>\n",
       "      <td>-0.155306</td>\n",
       "      <td>-0.148144</td>\n",
       "      <td>-0.525098</td>\n",
       "      <td>-0.251555</td>\n",
       "    </tr>\n",
       "    <tr>\n",
       "      <th>1</th>\n",
       "      <td>-0.155306</td>\n",
       "      <td>-0.148144</td>\n",
       "      <td>1.904405</td>\n",
       "      <td>-0.251555</td>\n",
       "    </tr>\n",
       "    <tr>\n",
       "      <th>2</th>\n",
       "      <td>-0.155306</td>\n",
       "      <td>-0.148144</td>\n",
       "      <td>1.904405</td>\n",
       "      <td>-0.251555</td>\n",
       "    </tr>\n",
       "    <tr>\n",
       "      <th>3</th>\n",
       "      <td>-0.155306</td>\n",
       "      <td>-0.148144</td>\n",
       "      <td>-0.525098</td>\n",
       "      <td>-0.251555</td>\n",
       "    </tr>\n",
       "    <tr>\n",
       "      <th>4</th>\n",
       "      <td>-0.155306</td>\n",
       "      <td>-0.148144</td>\n",
       "      <td>-0.525098</td>\n",
       "      <td>-0.251555</td>\n",
       "    </tr>\n",
       "    <tr>\n",
       "      <th>...</th>\n",
       "      <td>...</td>\n",
       "      <td>...</td>\n",
       "      <td>...</td>\n",
       "      <td>...</td>\n",
       "    </tr>\n",
       "    <tr>\n",
       "      <th>92706</th>\n",
       "      <td>-0.155306</td>\n",
       "      <td>-0.148144</td>\n",
       "      <td>-0.525098</td>\n",
       "      <td>-0.251555</td>\n",
       "    </tr>\n",
       "    <tr>\n",
       "      <th>92707</th>\n",
       "      <td>-0.155306</td>\n",
       "      <td>-0.148144</td>\n",
       "      <td>-0.525098</td>\n",
       "      <td>2.044413</td>\n",
       "    </tr>\n",
       "    <tr>\n",
       "      <th>92708</th>\n",
       "      <td>-0.155306</td>\n",
       "      <td>-0.148144</td>\n",
       "      <td>-0.525098</td>\n",
       "      <td>-0.251555</td>\n",
       "    </tr>\n",
       "    <tr>\n",
       "      <th>92709</th>\n",
       "      <td>-0.155306</td>\n",
       "      <td>-0.148144</td>\n",
       "      <td>-0.525098</td>\n",
       "      <td>-0.251555</td>\n",
       "    </tr>\n",
       "    <tr>\n",
       "      <th>92710</th>\n",
       "      <td>-0.155306</td>\n",
       "      <td>-0.148144</td>\n",
       "      <td>1.904405</td>\n",
       "      <td>-0.251555</td>\n",
       "    </tr>\n",
       "  </tbody>\n",
       "</table>\n",
       "<p>92711 rows × 4 columns</p>\n",
       "</div>"
      ],
      "text/plain": [
       "              0         1         2         3\n",
       "0     -0.155306 -0.148144 -0.525098 -0.251555\n",
       "1     -0.155306 -0.148144  1.904405 -0.251555\n",
       "2     -0.155306 -0.148144  1.904405 -0.251555\n",
       "3     -0.155306 -0.148144 -0.525098 -0.251555\n",
       "4     -0.155306 -0.148144 -0.525098 -0.251555\n",
       "...         ...       ...       ...       ...\n",
       "92706 -0.155306 -0.148144 -0.525098 -0.251555\n",
       "92707 -0.155306 -0.148144 -0.525098  2.044413\n",
       "92708 -0.155306 -0.148144 -0.525098 -0.251555\n",
       "92709 -0.155306 -0.148144 -0.525098 -0.251555\n",
       "92710 -0.155306 -0.148144  1.904405 -0.251555\n",
       "\n",
       "[92711 rows x 4 columns]"
      ]
     },
     "execution_count": 195,
     "metadata": {},
     "output_type": "execute_result"
    }
   ],
   "source": [
    "datos_escalados_enero"
   ]
  },
  {
   "cell_type": "markdown",
   "metadata": {},
   "source": [
    "Guardamos el modelo ganador como un objeto de python (pickle) para después volver a usarlo para predecir futuros datos.\n",
    "En éste caso lo usamos para predecir la cosecha de enero, pero se podria utilizar para los siguientes meses."
   ]
  },
  {
   "cell_type": "code",
   "execution_count": 196,
   "metadata": {},
   "outputs": [],
   "source": [
    "pkl_filename = \"modelo1.pkl\"\n",
    "with open(pkl_filename, 'wb') as file:\n",
    "    pickle.dump(rf_classifier, file)"
   ]
  },
  {
   "cell_type": "code",
   "execution_count": 197,
   "metadata": {},
   "outputs": [],
   "source": [
    "# Load from file\n",
    "with open(pkl_filename, 'rb') as file:\n",
    "    pickle_model = pickle.load(file)"
   ]
  },
  {
   "cell_type": "code",
   "execution_count": 198,
   "metadata": {},
   "outputs": [
    {
     "name": "stdout",
     "output_type": "stream",
     "text": [
      "Test score: 98.32 %\n"
     ]
    }
   ],
   "source": [
    "# Calculate the accuracy score and predict target values\n",
    "score = pickle_model.score(X_test, y_test)\n",
    "print(\"Test score: {0:.2f} %\".format(100 * score))\n",
    "Ypredict = pickle_model.predict(X_test)"
   ]
  },
  {
   "cell_type": "code",
   "execution_count": 199,
   "metadata": {},
   "outputs": [],
   "source": [
    "modelo_proba = rf_classifier.predict_proba(datos_escalados_enero)[:,1] #Esto es lo que saca la tabla, el resto ordena "
   ]
  },
  {
   "cell_type": "code",
   "execution_count": 200,
   "metadata": {},
   "outputs": [],
   "source": [
    "modelo_proba = (pd.DataFrame(modelo_proba,columns=['probabilidad'],index=datos_escalados_enero.index))\n"
   ]
  },
  {
   "cell_type": "code",
   "execution_count": 201,
   "metadata": {},
   "outputs": [],
   "source": [
    "modelo_proba.sort_values(by=['probabilidad'],ascending=False,axis=0,inplace=True)"
   ]
  },
  {
   "cell_type": "code",
   "execution_count": 202,
   "metadata": {},
   "outputs": [
    {
     "data": {
      "text/html": [
       "<div>\n",
       "<style scoped>\n",
       "    .dataframe tbody tr th:only-of-type {\n",
       "        vertical-align: middle;\n",
       "    }\n",
       "\n",
       "    .dataframe tbody tr th {\n",
       "        vertical-align: top;\n",
       "    }\n",
       "\n",
       "    .dataframe thead th {\n",
       "        text-align: right;\n",
       "    }\n",
       "</style>\n",
       "<table border=\"1\" class=\"dataframe\">\n",
       "  <thead>\n",
       "    <tr style=\"text-align: right;\">\n",
       "      <th></th>\n",
       "      <th>probabilidad</th>\n",
       "    </tr>\n",
       "  </thead>\n",
       "  <tbody>\n",
       "    <tr>\n",
       "      <th>54736</th>\n",
       "      <td>0.838203</td>\n",
       "    </tr>\n",
       "    <tr>\n",
       "      <th>55216</th>\n",
       "      <td>0.838203</td>\n",
       "    </tr>\n",
       "    <tr>\n",
       "      <th>14033</th>\n",
       "      <td>0.838203</td>\n",
       "    </tr>\n",
       "    <tr>\n",
       "      <th>55585</th>\n",
       "      <td>0.838203</td>\n",
       "    </tr>\n",
       "    <tr>\n",
       "      <th>27402</th>\n",
       "      <td>0.838203</td>\n",
       "    </tr>\n",
       "    <tr>\n",
       "      <th>...</th>\n",
       "      <td>...</td>\n",
       "    </tr>\n",
       "    <tr>\n",
       "      <th>50570</th>\n",
       "      <td>0.000000</td>\n",
       "    </tr>\n",
       "    <tr>\n",
       "      <th>4661</th>\n",
       "      <td>0.000000</td>\n",
       "    </tr>\n",
       "    <tr>\n",
       "      <th>58337</th>\n",
       "      <td>0.000000</td>\n",
       "    </tr>\n",
       "    <tr>\n",
       "      <th>58336</th>\n",
       "      <td>0.000000</td>\n",
       "    </tr>\n",
       "    <tr>\n",
       "      <th>80270</th>\n",
       "      <td>0.000000</td>\n",
       "    </tr>\n",
       "  </tbody>\n",
       "</table>\n",
       "<p>92711 rows × 1 columns</p>\n",
       "</div>"
      ],
      "text/plain": [
       "       probabilidad\n",
       "54736      0.838203\n",
       "55216      0.838203\n",
       "14033      0.838203\n",
       "55585      0.838203\n",
       "27402      0.838203\n",
       "...             ...\n",
       "50570      0.000000\n",
       "4661       0.000000\n",
       "58337      0.000000\n",
       "58336      0.000000\n",
       "80270      0.000000\n",
       "\n",
       "[92711 rows x 1 columns]"
      ]
     },
     "execution_count": 202,
     "metadata": {},
     "output_type": "execute_result"
    }
   ],
   "source": [
    "modelo_proba"
   ]
  },
  {
   "cell_type": "code",
   "execution_count": 203,
   "metadata": {},
   "outputs": [
    {
     "data": {
      "text/plain": [
       "0.000485    65828\n",
       "0.000083    16475\n",
       "0.000000     8803\n",
       "0.830232      626\n",
       "0.810194      442\n",
       "0.825941      233\n",
       "0.811044      198\n",
       "0.770559       26\n",
       "0.788262       14\n",
       "0.838203       12\n",
       "0.010000        5\n",
       "0.040000        5\n",
       "0.020000        5\n",
       "0.008679        3\n",
       "0.190000        3\n",
       "0.210000        3\n",
       "0.060000        2\n",
       "0.016176        2\n",
       "0.170000        2\n",
       "0.500000        2\n",
       "0.030000        2\n",
       "0.200000        2\n",
       "0.015487        2\n",
       "0.240000        2\n",
       "0.032798        2\n",
       "0.250000        1\n",
       "0.540000        1\n",
       "0.050000        1\n",
       "0.110000        1\n",
       "0.590000        1\n",
       "0.032739        1\n",
       "0.550000        1\n",
       "0.008091        1\n",
       "0.047815        1\n",
       "0.080000        1\n",
       "0.230000        1\n",
       "0.160000        1\n",
       "Name: probabilidad, dtype: int64"
      ]
     },
     "execution_count": 203,
     "metadata": {},
     "output_type": "execute_result"
    }
   ],
   "source": [
    "modelo_proba['probabilidad'].value_counts()"
   ]
  },
  {
   "cell_type": "code",
   "execution_count": 204,
   "metadata": {},
   "outputs": [
    {
     "data": {
      "text/html": [
       "<div>\n",
       "<style scoped>\n",
       "    .dataframe tbody tr th:only-of-type {\n",
       "        vertical-align: middle;\n",
       "    }\n",
       "\n",
       "    .dataframe tbody tr th {\n",
       "        vertical-align: top;\n",
       "    }\n",
       "\n",
       "    .dataframe thead th {\n",
       "        text-align: right;\n",
       "    }\n",
       "</style>\n",
       "<table border=\"1\" class=\"dataframe\">\n",
       "  <thead>\n",
       "    <tr style=\"text-align: right;\">\n",
       "      <th></th>\n",
       "      <th>probabilidad</th>\n",
       "      <th>Real_probabilidad</th>\n",
       "    </tr>\n",
       "  </thead>\n",
       "  <tbody>\n",
       "    <tr>\n",
       "      <th>0.838203</th>\n",
       "      <td>12</td>\n",
       "      <td>0.838203</td>\n",
       "    </tr>\n",
       "    <tr>\n",
       "      <th>0.830232</th>\n",
       "      <td>626</td>\n",
       "      <td>0.830232</td>\n",
       "    </tr>\n",
       "    <tr>\n",
       "      <th>0.825941</th>\n",
       "      <td>233</td>\n",
       "      <td>0.825941</td>\n",
       "    </tr>\n",
       "    <tr>\n",
       "      <th>0.811044</th>\n",
       "      <td>198</td>\n",
       "      <td>0.811044</td>\n",
       "    </tr>\n",
       "    <tr>\n",
       "      <th>0.810194</th>\n",
       "      <td>442</td>\n",
       "      <td>0.810194</td>\n",
       "    </tr>\n",
       "    <tr>\n",
       "      <th>0.788262</th>\n",
       "      <td>14</td>\n",
       "      <td>0.788262</td>\n",
       "    </tr>\n",
       "    <tr>\n",
       "      <th>0.770559</th>\n",
       "      <td>26</td>\n",
       "      <td>0.770559</td>\n",
       "    </tr>\n",
       "    <tr>\n",
       "      <th>0.590000</th>\n",
       "      <td>1</td>\n",
       "      <td>0.590000</td>\n",
       "    </tr>\n",
       "    <tr>\n",
       "      <th>0.550000</th>\n",
       "      <td>1</td>\n",
       "      <td>0.550000</td>\n",
       "    </tr>\n",
       "    <tr>\n",
       "      <th>0.540000</th>\n",
       "      <td>1</td>\n",
       "      <td>0.540000</td>\n",
       "    </tr>\n",
       "    <tr>\n",
       "      <th>0.500000</th>\n",
       "      <td>2</td>\n",
       "      <td>0.500000</td>\n",
       "    </tr>\n",
       "    <tr>\n",
       "      <th>0.250000</th>\n",
       "      <td>1</td>\n",
       "      <td>0.250000</td>\n",
       "    </tr>\n",
       "    <tr>\n",
       "      <th>0.240000</th>\n",
       "      <td>2</td>\n",
       "      <td>0.240000</td>\n",
       "    </tr>\n",
       "    <tr>\n",
       "      <th>0.230000</th>\n",
       "      <td>1</td>\n",
       "      <td>0.230000</td>\n",
       "    </tr>\n",
       "    <tr>\n",
       "      <th>0.210000</th>\n",
       "      <td>3</td>\n",
       "      <td>0.210000</td>\n",
       "    </tr>\n",
       "    <tr>\n",
       "      <th>0.200000</th>\n",
       "      <td>2</td>\n",
       "      <td>0.200000</td>\n",
       "    </tr>\n",
       "    <tr>\n",
       "      <th>0.190000</th>\n",
       "      <td>3</td>\n",
       "      <td>0.190000</td>\n",
       "    </tr>\n",
       "    <tr>\n",
       "      <th>0.170000</th>\n",
       "      <td>2</td>\n",
       "      <td>0.170000</td>\n",
       "    </tr>\n",
       "    <tr>\n",
       "      <th>0.160000</th>\n",
       "      <td>1</td>\n",
       "      <td>0.160000</td>\n",
       "    </tr>\n",
       "    <tr>\n",
       "      <th>0.110000</th>\n",
       "      <td>1</td>\n",
       "      <td>0.110000</td>\n",
       "    </tr>\n",
       "    <tr>\n",
       "      <th>0.080000</th>\n",
       "      <td>1</td>\n",
       "      <td>0.080000</td>\n",
       "    </tr>\n",
       "    <tr>\n",
       "      <th>0.060000</th>\n",
       "      <td>2</td>\n",
       "      <td>0.060000</td>\n",
       "    </tr>\n",
       "    <tr>\n",
       "      <th>0.050000</th>\n",
       "      <td>1</td>\n",
       "      <td>0.050000</td>\n",
       "    </tr>\n",
       "    <tr>\n",
       "      <th>0.047815</th>\n",
       "      <td>1</td>\n",
       "      <td>0.047815</td>\n",
       "    </tr>\n",
       "    <tr>\n",
       "      <th>0.040000</th>\n",
       "      <td>5</td>\n",
       "      <td>0.040000</td>\n",
       "    </tr>\n",
       "    <tr>\n",
       "      <th>0.032798</th>\n",
       "      <td>2</td>\n",
       "      <td>0.032798</td>\n",
       "    </tr>\n",
       "    <tr>\n",
       "      <th>0.032739</th>\n",
       "      <td>1</td>\n",
       "      <td>0.032739</td>\n",
       "    </tr>\n",
       "    <tr>\n",
       "      <th>0.030000</th>\n",
       "      <td>2</td>\n",
       "      <td>0.030000</td>\n",
       "    </tr>\n",
       "    <tr>\n",
       "      <th>0.020000</th>\n",
       "      <td>5</td>\n",
       "      <td>0.020000</td>\n",
       "    </tr>\n",
       "    <tr>\n",
       "      <th>0.016176</th>\n",
       "      <td>2</td>\n",
       "      <td>0.016176</td>\n",
       "    </tr>\n",
       "    <tr>\n",
       "      <th>0.015487</th>\n",
       "      <td>2</td>\n",
       "      <td>0.015487</td>\n",
       "    </tr>\n",
       "    <tr>\n",
       "      <th>0.010000</th>\n",
       "      <td>5</td>\n",
       "      <td>0.010000</td>\n",
       "    </tr>\n",
       "    <tr>\n",
       "      <th>0.008679</th>\n",
       "      <td>3</td>\n",
       "      <td>0.008679</td>\n",
       "    </tr>\n",
       "    <tr>\n",
       "      <th>0.008091</th>\n",
       "      <td>1</td>\n",
       "      <td>0.008091</td>\n",
       "    </tr>\n",
       "    <tr>\n",
       "      <th>0.000485</th>\n",
       "      <td>65828</td>\n",
       "      <td>0.000485</td>\n",
       "    </tr>\n",
       "    <tr>\n",
       "      <th>0.000083</th>\n",
       "      <td>16475</td>\n",
       "      <td>0.000083</td>\n",
       "    </tr>\n",
       "    <tr>\n",
       "      <th>0.000000</th>\n",
       "      <td>8803</td>\n",
       "      <td>0.000000</td>\n",
       "    </tr>\n",
       "  </tbody>\n",
       "</table>\n",
       "</div>"
      ],
      "text/plain": [
       "          probabilidad  Real_probabilidad\n",
       "0.838203            12           0.838203\n",
       "0.830232           626           0.830232\n",
       "0.825941           233           0.825941\n",
       "0.811044           198           0.811044\n",
       "0.810194           442           0.810194\n",
       "0.788262            14           0.788262\n",
       "0.770559            26           0.770559\n",
       "0.590000             1           0.590000\n",
       "0.550000             1           0.550000\n",
       "0.540000             1           0.540000\n",
       "0.500000             2           0.500000\n",
       "0.250000             1           0.250000\n",
       "0.240000             2           0.240000\n",
       "0.230000             1           0.230000\n",
       "0.210000             3           0.210000\n",
       "0.200000             2           0.200000\n",
       "0.190000             3           0.190000\n",
       "0.170000             2           0.170000\n",
       "0.160000             1           0.160000\n",
       "0.110000             1           0.110000\n",
       "0.080000             1           0.080000\n",
       "0.060000             2           0.060000\n",
       "0.050000             1           0.050000\n",
       "0.047815             1           0.047815\n",
       "0.040000             5           0.040000\n",
       "0.032798             2           0.032798\n",
       "0.032739             1           0.032739\n",
       "0.030000             2           0.030000\n",
       "0.020000             5           0.020000\n",
       "0.016176             2           0.016176\n",
       "0.015487             2           0.015487\n",
       "0.010000             5           0.010000\n",
       "0.008679             3           0.008679\n",
       "0.008091             1           0.008091\n",
       "0.000485         65828           0.000485\n",
       "0.000083         16475           0.000083\n",
       "0.000000          8803           0.000000"
      ]
     },
     "execution_count": 204,
     "metadata": {},
     "output_type": "execute_result"
    }
   ],
   "source": [
    "#Quiero ordenarlo por la probabilidad, no por la frecuencia, así que hago esta prueba.\n",
    "prueba = pd.value_counts(modelo_proba['probabilidad'])\n",
    "prueba = pd.DataFrame(prueba)\n",
    "prueba['Real_probabilidad'] = prueba.index.values\n",
    "prueba.sort_values(by = 'Real_probabilidad',ascending = False)"
   ]
  },
  {
   "cell_type": "markdown",
   "metadata": {},
   "source": [
    "### 7) Explicaciones "
   ]
  },
  {
   "cell_type": "markdown",
   "metadata": {},
   "source": [
    "Cuando comencé a realizar el estudio de este dataset pensé que algunas variables iban a pesar mucho (como antiguedad) y que finalmente no lo hicieron. \n",
    "\n",
    "Como podemos observar, las varibales que más explicaron nuestro modelo fueron:\n",
    "    - 'num_dt': número de impagos\n",
    "    - 'incidencia': el cliente tiene alguna incidencia o no \n",
    "    - 'imp_financ': importe financiado \n",
    "    - 'descuentos': el cliente tiene o no un descuento activo\n",
    "    \n",
    " "
   ]
  },
  {
   "cell_type": "code",
   "execution_count": 205,
   "metadata": {},
   "outputs": [
    {
     "name": "stdout",
     "output_type": "stream",
     "text": [
      "Feature: 0, Score: 0.43220\n",
      "Feature: 1, Score: 0.37240\n",
      "Feature: 2, Score: 0.14104\n",
      "Feature: 3, Score: 0.05436\n"
     ]
    },
    {
     "data": {
      "image/png": "[encoded data removed]",
      "text/plain": [
       "<Figure size 432x288 with 1 Axes>"
      ]
     },
     "metadata": {
      "needs_background": "light"
     },
     "output_type": "display_data"
    }
   ],
   "source": [
    "# Obtenemos la importancia de las variables  en el modelo\n",
    "importance = rf_classifier.feature_importances_\n",
    "\n",
    "# summarize feature importance\n",
    "for i,v in enumerate(importance):\n",
    "\tprint('Feature: %0d, Score: %.5f' % (i,v))\n",
    "\n",
    "# plot feature importance\n",
    "pyplot.bar([x for x in range(len(importance))], importance)\n",
    "pyplot.show()"
   ]
  },
  {
   "cell_type": "code",
   "execution_count": 206,
   "metadata": {},
   "outputs": [
    {
     "data": {
      "text/plain": [
       "array(['num_dt', 'incidencia', 'descuentos', 'imp_financ'], dtype=object)"
      ]
     },
     "execution_count": 206,
     "metadata": {},
     "output_type": "execute_result"
    }
   ],
   "source": [
    "#Nombre de las columnas para saber a qué barra corresponde cada una de las variables. \n",
    "variables_importantes_enero.columns.values"
   ]
  },
  {
   "cell_type": "markdown",
   "metadata": {},
   "source": [
    "A partir de esta infomacion podemos decir que estas 4 variables son las que mayormente las que explican el cambio de operadora de muchos clientes entre el mes de diciembre y enero.\n",
    "\n",
    "La varibale que tuvo más peso en el modelo fue 'num_dt', seguida por 'incidencia', 'descuento' y finalmente 'imp_financ'. \n",
    "\n",
    "En resumen, esto quiere decir los clientes que tienen algun tipo de mora y/o incidencia abierta con la empresa son más propensos a marcharse. Los clientes que no tienen ningún tipo de descuento tienen mas probabilidad de cambiarse de empresa ante los que tienen algún descuento.\n",
    "\n",
    "\n",
    "#### Recomendaciones para la empresa:\n",
    "- En base a lo estudiado vemos que 1556 clientes tienen una probablididad mayor al 50% de irse de la empresa entre enero y febrero. Por eso recomendamos que,  principalmente a estos clientes, hacerles llegar la campaña de fidelizacion, y en caso de ser necesario ofrecerles algún descuento, ya que esto disminuye la probabilidad de dar de baja el servicio contratado.\n",
    "- También se recomienda que, principalmente con éstos usuarios, se vea si tienen incidencia y de ser así buscar la manera de solucionarlas. "
   ]
  },
  {
   "cell_type": "code",
   "execution_count": null,
   "metadata": {},
   "outputs": [],
   "source": []
  },
  {
   "cell_type": "code",
   "execution_count": null,
   "metadata": {},
   "outputs": [],
   "source": []
  }
 ],
 "metadata": {
  "kernelspec": {
   "display_name": "Python 3",
   "language": "python",
   "name": "python3"
  },
  "language_info": {
   "codemirror_mode": {
    "name": "ipython",
    "version": 3
   },
   "file_extension": ".py",
   "mimetype": "text/x-python",
   "name": "python",
   "nbconvert_exporter": "python",
   "pygments_lexer": "ipython3",
   "version": "3.7.6"
  }
 },
 "nbformat": 4,
 "nbformat_minor": 4
}
