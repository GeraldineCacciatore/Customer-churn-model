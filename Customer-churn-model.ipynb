{
 "cells": [
  {
   "cell_type": "markdown",
   "metadata": {},
   "source": [
    "# Customer-churn-model\n",
    "\n",
    "The case study consists of calculating the churn of customers in a telecommunications company. \n",
    "\n",
    "The company has found that between December 2019 and January 2020 they have had quite a few customer casualties.\n",
    "\n",
    "The objective is to build an analytical model that is capable of predicting the next customers who are potential to leave the operator in order to launch a campaign and try to retain them before portability.\n",
    "\n",
    "In addition, company managers want to know the reasons why customers are leaving. \n",
    "\n",
    "For this we have several datasets with data that provide customer information."
   ]
  },
  {
   "cell_type": "code",
   "execution_count": 392,
   "metadata": {},
   "outputs": [],
   "source": [
    "# Import libraries\n",
    "\n",
    "from datetime import datetime\n",
    "import pandas as pd\n",
    "import numpy as np\n",
    "import matplotlib.pyplot as plt\n",
    "import seaborn as sns\n",
    "from scipy import stats\n",
    "from sklearn.preprocessing import OneHotEncoder, LabelEncoder\n",
    "from sklearn.linear_model import LinearRegression\n",
    "from sklearn.linear_model.logistic import LogisticRegression\n",
    "from sklearn.model_selection import train_test_split\n",
    "from pandas.plotting import scatter_matrix\n",
    "from sklearn.metrics import accuracy_score, auc, confusion_matrix, f1_score, precision_score, recall_score, roc_curve\n",
    "from dateutil.rrule import rrule, MONTHLY\n",
    "import pickle #Python objects are stored in these libraries\n",
    "\n",
    "from sklearn.feature_selection import SelectKBest\n",
    "from sklearn.feature_selection import chi2 \n",
    "\n",
    "from sklearn.ensemble import RandomForestClassifier\n",
    "from sklearn.datasets import make_classification\n",
    "\n",
    "from sklearn.datasets import make_regression\n",
    "from sklearn.ensemble import RandomForestRegressor\n",
    "from matplotlib import pyplot\n",
    "\n",
    "from sklearn.feature_selection import VarianceThreshold\n",
    "from sklearn.feature_selection import f_regression \n",
    "from sklearn.model_selection import cross_val_score\n",
    "\n",
    "\n",
    "from sklearn.preprocessing import StandardScaler\n",
    "\n"
   ]
  },
  {
   "cell_type": "markdown",
   "metadata": {},
   "source": [
    "## 1) Loading data and building data tables"
   ]
  },
  {
   "cell_type": "code",
   "execution_count": 393,
   "metadata": {},
   "outputs": [],
   "source": [
    "#### Data upload (December 2019)\n",
    "december_clients = pd.read_csv(\"clientes_diciembre.csv\", sep='|')\n",
    "december_consumption = pd.read_csv(\"consumos_diciembre.csv\", sep='|')\n",
    "december_financing = pd.read_csv(\"financiacion_diciembre.csv\", sep='|')\n",
    "december_products = pd.read_csv(\"productos_diciembre.csv\", sep='|')"
   ]
  },
  {
   "cell_type": "code",
   "execution_count": 394,
   "metadata": {},
   "outputs": [
    {
     "data": {
      "text/html": [
       "<div>\n",
       "<style scoped>\n",
       "    .dataframe tbody tr th:only-of-type {\n",
       "        vertical-align: middle;\n",
       "    }\n",
       "\n",
       "    .dataframe tbody tr th {\n",
       "        vertical-align: top;\n",
       "    }\n",
       "\n",
       "    .dataframe thead th {\n",
       "        text-align: right;\n",
       "    }\n",
       "</style>\n",
       "<table border=\"1\" class=\"dataframe\">\n",
       "  <thead>\n",
       "    <tr style=\"text-align: right;\">\n",
       "      <th></th>\n",
       "      <th>id</th>\n",
       "      <th>edad</th>\n",
       "      <th>facturacion</th>\n",
       "      <th>antiguedad</th>\n",
       "      <th>provincia</th>\n",
       "      <th>num_lineas</th>\n",
       "      <th>num_dt</th>\n",
       "      <th>incidencia</th>\n",
       "    </tr>\n",
       "  </thead>\n",
       "  <tbody>\n",
       "    <tr>\n",
       "      <th>0</th>\n",
       "      <td>1</td>\n",
       "      <td>63</td>\n",
       "      <td>216.028109</td>\n",
       "      <td>11/23/2018 08:48 AM</td>\n",
       "      <td>La Rioja</td>\n",
       "      <td>5</td>\n",
       "      <td>NaN</td>\n",
       "      <td>NaN</td>\n",
       "    </tr>\n",
       "    <tr>\n",
       "      <th>1</th>\n",
       "      <td>2</td>\n",
       "      <td>84</td>\n",
       "      <td>255.830842</td>\n",
       "      <td>08/22/2017 03:19 AM</td>\n",
       "      <td>Vizcaya</td>\n",
       "      <td>3</td>\n",
       "      <td>NaN</td>\n",
       "      <td>NaN</td>\n",
       "    </tr>\n",
       "    <tr>\n",
       "      <th>2</th>\n",
       "      <td>3</td>\n",
       "      <td>66</td>\n",
       "      <td>135.768153</td>\n",
       "      <td>12/27/2001 01:50 PM</td>\n",
       "      <td>Albacete</td>\n",
       "      <td>4</td>\n",
       "      <td>NaN</td>\n",
       "      <td>NaN</td>\n",
       "    </tr>\n",
       "    <tr>\n",
       "      <th>3</th>\n",
       "      <td>4</td>\n",
       "      <td>69</td>\n",
       "      <td>255.658527</td>\n",
       "      <td>08/08/2015 10:53 AM</td>\n",
       "      <td>Lugo</td>\n",
       "      <td>4</td>\n",
       "      <td>NaN</td>\n",
       "      <td>NaN</td>\n",
       "    </tr>\n",
       "    <tr>\n",
       "      <th>4</th>\n",
       "      <td>5</td>\n",
       "      <td>25</td>\n",
       "      <td>22.302845</td>\n",
       "      <td>08/29/1997 02:19 AM</td>\n",
       "      <td>Tarragona</td>\n",
       "      <td>2</td>\n",
       "      <td>2.0</td>\n",
       "      <td>NaN</td>\n",
       "    </tr>\n",
       "  </tbody>\n",
       "</table>\n",
       "</div>"
      ],
      "text/plain": [
       "   id  edad  facturacion           antiguedad  provincia  num_lineas  num_dt  \\\n",
       "0   1    63   216.028109  11/23/2018 08:48 AM   La Rioja           5     NaN   \n",
       "1   2    84   255.830842  08/22/2017 03:19 AM    Vizcaya           3     NaN   \n",
       "2   3    66   135.768153  12/27/2001 01:50 PM   Albacete           4     NaN   \n",
       "3   4    69   255.658527  08/08/2015 10:53 AM       Lugo           4     NaN   \n",
       "4   5    25    22.302845  08/29/1997 02:19 AM  Tarragona           2     2.0   \n",
       "\n",
       "  incidencia  \n",
       "0        NaN  \n",
       "1        NaN  \n",
       "2        NaN  \n",
       "3        NaN  \n",
       "4        NaN  "
      ]
     },
     "execution_count": 394,
     "metadata": {},
     "output_type": "execute_result"
    }
   ],
   "source": [
    "#data visualization and data exploration\n",
    "december_clients.head()"
   ]
  },
  {
   "cell_type": "code",
   "execution_count": 395,
   "metadata": {},
   "outputs": [
    {
     "data": {
      "text/html": [
       "<div>\n",
       "<style scoped>\n",
       "    .dataframe tbody tr th:only-of-type {\n",
       "        vertical-align: middle;\n",
       "    }\n",
       "\n",
       "    .dataframe tbody tr th {\n",
       "        vertical-align: top;\n",
       "    }\n",
       "\n",
       "    .dataframe thead th {\n",
       "        text-align: right;\n",
       "    }\n",
       "</style>\n",
       "<table border=\"1\" class=\"dataframe\">\n",
       "  <thead>\n",
       "    <tr style=\"text-align: right;\">\n",
       "      <th></th>\n",
       "      <th>id</th>\n",
       "      <th>num_llamad_ent</th>\n",
       "      <th>num_llamad_sal</th>\n",
       "      <th>mb_datos</th>\n",
       "      <th>seg_llamad_ent</th>\n",
       "      <th>seg_llamad_sal</th>\n",
       "    </tr>\n",
       "  </thead>\n",
       "  <tbody>\n",
       "    <tr>\n",
       "      <th>0</th>\n",
       "      <td>1</td>\n",
       "      <td>110</td>\n",
       "      <td>79</td>\n",
       "      <td>10897</td>\n",
       "      <td>12806</td>\n",
       "      <td>13751</td>\n",
       "    </tr>\n",
       "    <tr>\n",
       "      <th>1</th>\n",
       "      <td>2</td>\n",
       "      <td>189</td>\n",
       "      <td>89</td>\n",
       "      <td>18657</td>\n",
       "      <td>6499</td>\n",
       "      <td>10862</td>\n",
       "    </tr>\n",
       "    <tr>\n",
       "      <th>2</th>\n",
       "      <td>3</td>\n",
       "      <td>129</td>\n",
       "      <td>30</td>\n",
       "      <td>15511</td>\n",
       "      <td>17013</td>\n",
       "      <td>16743</td>\n",
       "    </tr>\n",
       "    <tr>\n",
       "      <th>3</th>\n",
       "      <td>4</td>\n",
       "      <td>51</td>\n",
       "      <td>52</td>\n",
       "      <td>12670</td>\n",
       "      <td>3393</td>\n",
       "      <td>6771</td>\n",
       "    </tr>\n",
       "    <tr>\n",
       "      <th>4</th>\n",
       "      <td>5</td>\n",
       "      <td>183</td>\n",
       "      <td>3</td>\n",
       "      <td>23756</td>\n",
       "      <td>18436</td>\n",
       "      <td>4485</td>\n",
       "    </tr>\n",
       "  </tbody>\n",
       "</table>\n",
       "</div>"
      ],
      "text/plain": [
       "   id  num_llamad_ent  num_llamad_sal  mb_datos  seg_llamad_ent  \\\n",
       "0   1             110              79     10897           12806   \n",
       "1   2             189              89     18657            6499   \n",
       "2   3             129              30     15511           17013   \n",
       "3   4              51              52     12670            3393   \n",
       "4   5             183               3     23756           18436   \n",
       "\n",
       "   seg_llamad_sal  \n",
       "0           13751  \n",
       "1           10862  \n",
       "2           16743  \n",
       "3            6771  \n",
       "4            4485  "
      ]
     },
     "execution_count": 395,
     "metadata": {},
     "output_type": "execute_result"
    }
   ],
   "source": [
    "december_consumption.head()"
   ]
  },
  {
   "cell_type": "code",
   "execution_count": 396,
   "metadata": {},
   "outputs": [
    {
     "data": {
      "text/html": [
       "<div>\n",
       "<style scoped>\n",
       "    .dataframe tbody tr th:only-of-type {\n",
       "        vertical-align: middle;\n",
       "    }\n",
       "\n",
       "    .dataframe tbody tr th {\n",
       "        vertical-align: top;\n",
       "    }\n",
       "\n",
       "    .dataframe thead th {\n",
       "        text-align: right;\n",
       "    }\n",
       "</style>\n",
       "<table border=\"1\" class=\"dataframe\">\n",
       "  <thead>\n",
       "    <tr style=\"text-align: right;\">\n",
       "      <th></th>\n",
       "      <th>id</th>\n",
       "      <th>financiacion</th>\n",
       "      <th>imp_financ</th>\n",
       "      <th>descuentos</th>\n",
       "    </tr>\n",
       "  </thead>\n",
       "  <tbody>\n",
       "    <tr>\n",
       "      <th>0</th>\n",
       "      <td>2</td>\n",
       "      <td>NaN</td>\n",
       "      <td>NaN</td>\n",
       "      <td>SI</td>\n",
       "    </tr>\n",
       "    <tr>\n",
       "      <th>1</th>\n",
       "      <td>3</td>\n",
       "      <td>NaN</td>\n",
       "      <td>NaN</td>\n",
       "      <td>SI</td>\n",
       "    </tr>\n",
       "    <tr>\n",
       "      <th>2</th>\n",
       "      <td>7</td>\n",
       "      <td>SI</td>\n",
       "      <td>31.553269</td>\n",
       "      <td>NaN</td>\n",
       "    </tr>\n",
       "    <tr>\n",
       "      <th>3</th>\n",
       "      <td>11</td>\n",
       "      <td>NaN</td>\n",
       "      <td>NaN</td>\n",
       "      <td>SI</td>\n",
       "    </tr>\n",
       "    <tr>\n",
       "      <th>4</th>\n",
       "      <td>12</td>\n",
       "      <td>NaN</td>\n",
       "      <td>NaN</td>\n",
       "      <td>SI</td>\n",
       "    </tr>\n",
       "  </tbody>\n",
       "</table>\n",
       "</div>"
      ],
      "text/plain": [
       "   id financiacion  imp_financ descuentos\n",
       "0   2          NaN         NaN         SI\n",
       "1   3          NaN         NaN         SI\n",
       "2   7           SI   31.553269        NaN\n",
       "3  11          NaN         NaN         SI\n",
       "4  12          NaN         NaN         SI"
      ]
     },
     "execution_count": 396,
     "metadata": {},
     "output_type": "execute_result"
    }
   ],
   "source": [
    "december_financing.head()"
   ]
  },
  {
   "cell_type": "code",
   "execution_count": 397,
   "metadata": {},
   "outputs": [
    {
     "data": {
      "text/html": [
       "<div>\n",
       "<style scoped>\n",
       "    .dataframe tbody tr th:only-of-type {\n",
       "        vertical-align: middle;\n",
       "    }\n",
       "\n",
       "    .dataframe tbody tr th {\n",
       "        vertical-align: top;\n",
       "    }\n",
       "\n",
       "    .dataframe thead th {\n",
       "        text-align: right;\n",
       "    }\n",
       "</style>\n",
       "<table border=\"1\" class=\"dataframe\">\n",
       "  <thead>\n",
       "    <tr style=\"text-align: right;\">\n",
       "      <th></th>\n",
       "      <th>id</th>\n",
       "      <th>conexion</th>\n",
       "      <th>vel_conexion</th>\n",
       "      <th>TV</th>\n",
       "    </tr>\n",
       "  </thead>\n",
       "  <tbody>\n",
       "    <tr>\n",
       "      <th>0</th>\n",
       "      <td>1</td>\n",
       "      <td>FIBRA</td>\n",
       "      <td>50MB</td>\n",
       "      <td>tv-futbol</td>\n",
       "    </tr>\n",
       "    <tr>\n",
       "      <th>1</th>\n",
       "      <td>2</td>\n",
       "      <td>FIBRA</td>\n",
       "      <td>600MB</td>\n",
       "      <td>tv-futbol</td>\n",
       "    </tr>\n",
       "    <tr>\n",
       "      <th>2</th>\n",
       "      <td>3</td>\n",
       "      <td>ADSL</td>\n",
       "      <td>35MB</td>\n",
       "      <td>tv-futbol</td>\n",
       "    </tr>\n",
       "    <tr>\n",
       "      <th>3</th>\n",
       "      <td>4</td>\n",
       "      <td>FIBRA</td>\n",
       "      <td>200MB</td>\n",
       "      <td>tv-familiar</td>\n",
       "    </tr>\n",
       "    <tr>\n",
       "      <th>4</th>\n",
       "      <td>5</td>\n",
       "      <td>ADSL</td>\n",
       "      <td>10MB</td>\n",
       "      <td>tv-futbol</td>\n",
       "    </tr>\n",
       "  </tbody>\n",
       "</table>\n",
       "</div>"
      ],
      "text/plain": [
       "   id conexion vel_conexion           TV\n",
       "0   1    FIBRA         50MB    tv-futbol\n",
       "1   2    FIBRA        600MB    tv-futbol\n",
       "2   3     ADSL         35MB    tv-futbol\n",
       "3   4    FIBRA        200MB  tv-familiar\n",
       "4   5     ADSL         10MB    tv-futbol"
      ]
     },
     "execution_count": 397,
     "metadata": {},
     "output_type": "execute_result"
    }
   ],
   "source": [
    "december_products.head()"
   ]
  },
  {
   "cell_type": "code",
   "execution_count": 398,
   "metadata": {},
   "outputs": [
    {
     "data": {
      "text/plain": [
       "(95467, 8)"
      ]
     },
     "execution_count": 398,
     "metadata": {},
     "output_type": "execute_result"
    }
   ],
   "source": [
    "december_clients.shape"
   ]
  },
  {
   "cell_type": "code",
   "execution_count": 399,
   "metadata": {},
   "outputs": [
    {
     "data": {
      "text/plain": [
       "(95467, 6)"
      ]
     },
     "execution_count": 399,
     "metadata": {},
     "output_type": "execute_result"
    }
   ],
   "source": [
    "december_consumption.shape"
   ]
  },
  {
   "cell_type": "code",
   "execution_count": 400,
   "metadata": {},
   "outputs": [
    {
     "data": {
      "text/plain": [
       "(24198, 4)"
      ]
     },
     "execution_count": 400,
     "metadata": {},
     "output_type": "execute_result"
    }
   ],
   "source": [
    "december_financing.shape #This dataset has less data (rows)"
   ]
  },
  {
   "cell_type": "code",
   "execution_count": 401,
   "metadata": {},
   "outputs": [
    {
     "data": {
      "text/plain": [
       "(95467, 4)"
      ]
     },
     "execution_count": 401,
     "metadata": {},
     "output_type": "execute_result"
    }
   ],
   "source": [
    "december_products.shape"
   ]
  },
  {
   "cell_type": "markdown",
   "metadata": {},
   "source": [
    "### Table creation with all the data for the month of December\n",
    "We are going to join the three datasets that correspond to the month of December 2019, to have all the information together, and be able to work later."
   ]
  },
  {
   "cell_type": "code",
   "execution_count": 402,
   "metadata": {},
   "outputs": [],
   "source": [
    "december_clients_consumption = pd.merge(december_clients, december_consumption, on='id')\n",
    "\n",
    "#december_clients_consumption.head()\n",
    "\n",
    "#december_clients_consumption.shape  -> (95467, 13)"
   ]
  },
  {
   "cell_type": "code",
   "execution_count": 403,
   "metadata": {},
   "outputs": [],
   "source": [
    "december_clients_consumption_products = pd.merge(december_clients_consumption,december_products, on='id')\n",
    "\n",
    "#december_clients_consumption_products.shape  -> (95467, 16)"
   ]
  },
  {
   "cell_type": "code",
   "execution_count": 404,
   "metadata": {},
   "outputs": [],
   "source": [
    "december_data = pd.merge(december_clients_consumption_products,december_financing, how='left',on='id', )\n",
    "\n",
    "#We check that we have the same number of rows as at the beginning in the customer datafreme and that we have the correct number of columns.\n",
    "#datos_diciembre.shape  -> (95467, 19)"
   ]
  },
  {
   "cell_type": "code",
   "execution_count": 405,
   "metadata": {},
   "outputs": [
    {
     "data": {
      "text/html": [
       "<div>\n",
       "<style scoped>\n",
       "    .dataframe tbody tr th:only-of-type {\n",
       "        vertical-align: middle;\n",
       "    }\n",
       "\n",
       "    .dataframe tbody tr th {\n",
       "        vertical-align: top;\n",
       "    }\n",
       "\n",
       "    .dataframe thead th {\n",
       "        text-align: right;\n",
       "    }\n",
       "</style>\n",
       "<table border=\"1\" class=\"dataframe\">\n",
       "  <thead>\n",
       "    <tr style=\"text-align: right;\">\n",
       "      <th></th>\n",
       "      <th>id</th>\n",
       "      <th>edad</th>\n",
       "      <th>facturacion</th>\n",
       "      <th>antiguedad</th>\n",
       "      <th>provincia</th>\n",
       "      <th>num_lineas</th>\n",
       "      <th>num_dt</th>\n",
       "      <th>incidencia</th>\n",
       "      <th>num_llamad_ent</th>\n",
       "      <th>num_llamad_sal</th>\n",
       "      <th>mb_datos</th>\n",
       "      <th>seg_llamad_ent</th>\n",
       "      <th>seg_llamad_sal</th>\n",
       "      <th>conexion</th>\n",
       "      <th>vel_conexion</th>\n",
       "      <th>TV</th>\n",
       "      <th>financiacion</th>\n",
       "      <th>imp_financ</th>\n",
       "      <th>descuentos</th>\n",
       "    </tr>\n",
       "  </thead>\n",
       "  <tbody>\n",
       "    <tr>\n",
       "      <th>0</th>\n",
       "      <td>1</td>\n",
       "      <td>63</td>\n",
       "      <td>216.028109</td>\n",
       "      <td>11/23/2018 08:48 AM</td>\n",
       "      <td>La Rioja</td>\n",
       "      <td>5</td>\n",
       "      <td>NaN</td>\n",
       "      <td>NaN</td>\n",
       "      <td>110</td>\n",
       "      <td>79</td>\n",
       "      <td>10897</td>\n",
       "      <td>12806</td>\n",
       "      <td>13751</td>\n",
       "      <td>FIBRA</td>\n",
       "      <td>50MB</td>\n",
       "      <td>tv-futbol</td>\n",
       "      <td>NaN</td>\n",
       "      <td>NaN</td>\n",
       "      <td>NaN</td>\n",
       "    </tr>\n",
       "    <tr>\n",
       "      <th>1</th>\n",
       "      <td>2</td>\n",
       "      <td>84</td>\n",
       "      <td>255.830842</td>\n",
       "      <td>08/22/2017 03:19 AM</td>\n",
       "      <td>Vizcaya</td>\n",
       "      <td>3</td>\n",
       "      <td>NaN</td>\n",
       "      <td>NaN</td>\n",
       "      <td>189</td>\n",
       "      <td>89</td>\n",
       "      <td>18657</td>\n",
       "      <td>6499</td>\n",
       "      <td>10862</td>\n",
       "      <td>FIBRA</td>\n",
       "      <td>600MB</td>\n",
       "      <td>tv-futbol</td>\n",
       "      <td>NaN</td>\n",
       "      <td>NaN</td>\n",
       "      <td>SI</td>\n",
       "    </tr>\n",
       "    <tr>\n",
       "      <th>2</th>\n",
       "      <td>3</td>\n",
       "      <td>66</td>\n",
       "      <td>135.768153</td>\n",
       "      <td>12/27/2001 01:50 PM</td>\n",
       "      <td>Albacete</td>\n",
       "      <td>4</td>\n",
       "      <td>NaN</td>\n",
       "      <td>NaN</td>\n",
       "      <td>129</td>\n",
       "      <td>30</td>\n",
       "      <td>15511</td>\n",
       "      <td>17013</td>\n",
       "      <td>16743</td>\n",
       "      <td>ADSL</td>\n",
       "      <td>35MB</td>\n",
       "      <td>tv-futbol</td>\n",
       "      <td>NaN</td>\n",
       "      <td>NaN</td>\n",
       "      <td>SI</td>\n",
       "    </tr>\n",
       "    <tr>\n",
       "      <th>3</th>\n",
       "      <td>4</td>\n",
       "      <td>69</td>\n",
       "      <td>255.658527</td>\n",
       "      <td>08/08/2015 10:53 AM</td>\n",
       "      <td>Lugo</td>\n",
       "      <td>4</td>\n",
       "      <td>NaN</td>\n",
       "      <td>NaN</td>\n",
       "      <td>51</td>\n",
       "      <td>52</td>\n",
       "      <td>12670</td>\n",
       "      <td>3393</td>\n",
       "      <td>6771</td>\n",
       "      <td>FIBRA</td>\n",
       "      <td>200MB</td>\n",
       "      <td>tv-familiar</td>\n",
       "      <td>NaN</td>\n",
       "      <td>NaN</td>\n",
       "      <td>NaN</td>\n",
       "    </tr>\n",
       "    <tr>\n",
       "      <th>4</th>\n",
       "      <td>5</td>\n",
       "      <td>25</td>\n",
       "      <td>22.302845</td>\n",
       "      <td>08/29/1997 02:19 AM</td>\n",
       "      <td>Tarragona</td>\n",
       "      <td>2</td>\n",
       "      <td>2.0</td>\n",
       "      <td>NaN</td>\n",
       "      <td>183</td>\n",
       "      <td>3</td>\n",
       "      <td>23756</td>\n",
       "      <td>18436</td>\n",
       "      <td>4485</td>\n",
       "      <td>ADSL</td>\n",
       "      <td>10MB</td>\n",
       "      <td>tv-futbol</td>\n",
       "      <td>NaN</td>\n",
       "      <td>NaN</td>\n",
       "      <td>NaN</td>\n",
       "    </tr>\n",
       "  </tbody>\n",
       "</table>\n",
       "</div>"
      ],
      "text/plain": [
       "   id  edad  facturacion           antiguedad  provincia  num_lineas  num_dt  \\\n",
       "0   1    63   216.028109  11/23/2018 08:48 AM   La Rioja           5     NaN   \n",
       "1   2    84   255.830842  08/22/2017 03:19 AM    Vizcaya           3     NaN   \n",
       "2   3    66   135.768153  12/27/2001 01:50 PM   Albacete           4     NaN   \n",
       "3   4    69   255.658527  08/08/2015 10:53 AM       Lugo           4     NaN   \n",
       "4   5    25    22.302845  08/29/1997 02:19 AM  Tarragona           2     2.0   \n",
       "\n",
       "  incidencia  num_llamad_ent  num_llamad_sal  mb_datos  seg_llamad_ent  \\\n",
       "0        NaN             110              79     10897           12806   \n",
       "1        NaN             189              89     18657            6499   \n",
       "2        NaN             129              30     15511           17013   \n",
       "3        NaN              51              52     12670            3393   \n",
       "4        NaN             183               3     23756           18436   \n",
       "\n",
       "   seg_llamad_sal conexion vel_conexion           TV financiacion  imp_financ  \\\n",
       "0           13751    FIBRA         50MB    tv-futbol          NaN         NaN   \n",
       "1           10862    FIBRA        600MB    tv-futbol          NaN         NaN   \n",
       "2           16743     ADSL         35MB    tv-futbol          NaN         NaN   \n",
       "3            6771    FIBRA        200MB  tv-familiar          NaN         NaN   \n",
       "4            4485     ADSL         10MB    tv-futbol          NaN         NaN   \n",
       "\n",
       "  descuentos  \n",
       "0        NaN  \n",
       "1         SI  \n",
       "2         SI  \n",
       "3        NaN  \n",
       "4        NaN  "
      ]
     },
     "execution_count": 405,
     "metadata": {},
     "output_type": "execute_result"
    }
   ],
   "source": [
    "december_data.head()"
   ]
  },
  {
   "cell_type": "markdown",
   "metadata": {},
   "source": [
    "#### Data upload (January 2020)\n",
    "We do the same as with the December data."
   ]
  },
  {
   "cell_type": "code",
   "execution_count": 406,
   "metadata": {},
   "outputs": [],
   "source": [
    "january_clients = pd.read_csv(\"clientes_enero.csv\", sep='|')\n",
    "january_consumption = pd.read_csv(\"consumos_enero.csv\", sep='|')\n",
    "january_financing = pd.read_csv(\"financiacion_enero.csv\", sep='|')\n",
    "january_products = pd.read_csv(\"productos_enero.csv\", sep='|')"
   ]
  },
  {
   "cell_type": "code",
   "execution_count": 407,
   "metadata": {},
   "outputs": [
    {
     "data": {
      "text/html": [
       "<div>\n",
       "<style scoped>\n",
       "    .dataframe tbody tr th:only-of-type {\n",
       "        vertical-align: middle;\n",
       "    }\n",
       "\n",
       "    .dataframe tbody tr th {\n",
       "        vertical-align: top;\n",
       "    }\n",
       "\n",
       "    .dataframe thead th {\n",
       "        text-align: right;\n",
       "    }\n",
       "</style>\n",
       "<table border=\"1\" class=\"dataframe\">\n",
       "  <thead>\n",
       "    <tr style=\"text-align: right;\">\n",
       "      <th></th>\n",
       "      <th>id</th>\n",
       "      <th>edad</th>\n",
       "      <th>facturacion</th>\n",
       "      <th>antiguedad</th>\n",
       "      <th>provincia</th>\n",
       "      <th>num_lineas</th>\n",
       "      <th>num_dt</th>\n",
       "      <th>incidencia</th>\n",
       "    </tr>\n",
       "  </thead>\n",
       "  <tbody>\n",
       "    <tr>\n",
       "      <th>0</th>\n",
       "      <td>1</td>\n",
       "      <td>63</td>\n",
       "      <td>216.028109</td>\n",
       "      <td>11/23/2018 08:48 AM</td>\n",
       "      <td>La Rioja</td>\n",
       "      <td>5</td>\n",
       "      <td>NaN</td>\n",
       "      <td>NaN</td>\n",
       "    </tr>\n",
       "    <tr>\n",
       "      <th>1</th>\n",
       "      <td>2</td>\n",
       "      <td>84</td>\n",
       "      <td>255.830842</td>\n",
       "      <td>08/22/2017 03:19 AM</td>\n",
       "      <td>Vizcaya</td>\n",
       "      <td>3</td>\n",
       "      <td>NaN</td>\n",
       "      <td>NaN</td>\n",
       "    </tr>\n",
       "    <tr>\n",
       "      <th>2</th>\n",
       "      <td>3</td>\n",
       "      <td>66</td>\n",
       "      <td>135.768153</td>\n",
       "      <td>12/27/2001 01:50 PM</td>\n",
       "      <td>Albacete</td>\n",
       "      <td>4</td>\n",
       "      <td>NaN</td>\n",
       "      <td>NaN</td>\n",
       "    </tr>\n",
       "    <tr>\n",
       "      <th>3</th>\n",
       "      <td>4</td>\n",
       "      <td>69</td>\n",
       "      <td>255.658527</td>\n",
       "      <td>08/08/2015 10:53 AM</td>\n",
       "      <td>Lugo</td>\n",
       "      <td>4</td>\n",
       "      <td>NaN</td>\n",
       "      <td>NaN</td>\n",
       "    </tr>\n",
       "    <tr>\n",
       "      <th>4</th>\n",
       "      <td>6</td>\n",
       "      <td>51</td>\n",
       "      <td>99.348645</td>\n",
       "      <td>11/04/1997 11:43 AM</td>\n",
       "      <td>Huelva</td>\n",
       "      <td>4</td>\n",
       "      <td>NaN</td>\n",
       "      <td>NaN</td>\n",
       "    </tr>\n",
       "  </tbody>\n",
       "</table>\n",
       "</div>"
      ],
      "text/plain": [
       "   id  edad  facturacion           antiguedad provincia  num_lineas  num_dt  \\\n",
       "0   1    63   216.028109  11/23/2018 08:48 AM  La Rioja           5     NaN   \n",
       "1   2    84   255.830842  08/22/2017 03:19 AM   Vizcaya           3     NaN   \n",
       "2   3    66   135.768153  12/27/2001 01:50 PM  Albacete           4     NaN   \n",
       "3   4    69   255.658527  08/08/2015 10:53 AM      Lugo           4     NaN   \n",
       "4   6    51    99.348645  11/04/1997 11:43 AM    Huelva           4     NaN   \n",
       "\n",
       "  incidencia  \n",
       "0        NaN  \n",
       "1        NaN  \n",
       "2        NaN  \n",
       "3        NaN  \n",
       "4        NaN  "
      ]
     },
     "execution_count": 407,
     "metadata": {},
     "output_type": "execute_result"
    }
   ],
   "source": [
    "january_clients.head()"
   ]
  },
  {
   "cell_type": "code",
   "execution_count": 408,
   "metadata": {},
   "outputs": [
    {
     "data": {
      "text/html": [
       "<div>\n",
       "<style scoped>\n",
       "    .dataframe tbody tr th:only-of-type {\n",
       "        vertical-align: middle;\n",
       "    }\n",
       "\n",
       "    .dataframe tbody tr th {\n",
       "        vertical-align: top;\n",
       "    }\n",
       "\n",
       "    .dataframe thead th {\n",
       "        text-align: right;\n",
       "    }\n",
       "</style>\n",
       "<table border=\"1\" class=\"dataframe\">\n",
       "  <thead>\n",
       "    <tr style=\"text-align: right;\">\n",
       "      <th></th>\n",
       "      <th>id</th>\n",
       "      <th>num_llamad_ent</th>\n",
       "      <th>num_llamad_sal</th>\n",
       "      <th>mb_datos</th>\n",
       "      <th>seg_llamad_ent</th>\n",
       "      <th>seg_llamad_sal</th>\n",
       "    </tr>\n",
       "  </thead>\n",
       "  <tbody>\n",
       "    <tr>\n",
       "      <th>0</th>\n",
       "      <td>1</td>\n",
       "      <td>95</td>\n",
       "      <td>19</td>\n",
       "      <td>6525</td>\n",
       "      <td>7634</td>\n",
       "      <td>18520</td>\n",
       "    </tr>\n",
       "    <tr>\n",
       "      <th>1</th>\n",
       "      <td>2</td>\n",
       "      <td>44</td>\n",
       "      <td>36</td>\n",
       "      <td>14471</td>\n",
       "      <td>14541</td>\n",
       "      <td>8016</td>\n",
       "    </tr>\n",
       "    <tr>\n",
       "      <th>2</th>\n",
       "      <td>3</td>\n",
       "      <td>94</td>\n",
       "      <td>27</td>\n",
       "      <td>1428</td>\n",
       "      <td>5248</td>\n",
       "      <td>7106</td>\n",
       "    </tr>\n",
       "    <tr>\n",
       "      <th>3</th>\n",
       "      <td>4</td>\n",
       "      <td>186</td>\n",
       "      <td>20</td>\n",
       "      <td>20083</td>\n",
       "      <td>7372</td>\n",
       "      <td>5052</td>\n",
       "    </tr>\n",
       "    <tr>\n",
       "      <th>4</th>\n",
       "      <td>6</td>\n",
       "      <td>37</td>\n",
       "      <td>32</td>\n",
       "      <td>19078</td>\n",
       "      <td>5009</td>\n",
       "      <td>8686</td>\n",
       "    </tr>\n",
       "  </tbody>\n",
       "</table>\n",
       "</div>"
      ],
      "text/plain": [
       "   id  num_llamad_ent  num_llamad_sal  mb_datos  seg_llamad_ent  \\\n",
       "0   1              95              19      6525            7634   \n",
       "1   2              44              36     14471           14541   \n",
       "2   3              94              27      1428            5248   \n",
       "3   4             186              20     20083            7372   \n",
       "4   6              37              32     19078            5009   \n",
       "\n",
       "   seg_llamad_sal  \n",
       "0           18520  \n",
       "1            8016  \n",
       "2            7106  \n",
       "3            5052  \n",
       "4            8686  "
      ]
     },
     "execution_count": 408,
     "metadata": {},
     "output_type": "execute_result"
    }
   ],
   "source": [
    "january_consumption.head()"
   ]
  },
  {
   "cell_type": "code",
   "execution_count": 409,
   "metadata": {},
   "outputs": [
    {
     "data": {
      "text/html": [
       "<div>\n",
       "<style scoped>\n",
       "    .dataframe tbody tr th:only-of-type {\n",
       "        vertical-align: middle;\n",
       "    }\n",
       "\n",
       "    .dataframe tbody tr th {\n",
       "        vertical-align: top;\n",
       "    }\n",
       "\n",
       "    .dataframe thead th {\n",
       "        text-align: right;\n",
       "    }\n",
       "</style>\n",
       "<table border=\"1\" class=\"dataframe\">\n",
       "  <thead>\n",
       "    <tr style=\"text-align: right;\">\n",
       "      <th></th>\n",
       "      <th>id</th>\n",
       "      <th>financiacion</th>\n",
       "      <th>imp_financ</th>\n",
       "      <th>descuentos</th>\n",
       "    </tr>\n",
       "  </thead>\n",
       "  <tbody>\n",
       "    <tr>\n",
       "      <th>0</th>\n",
       "      <td>2</td>\n",
       "      <td>NaN</td>\n",
       "      <td>NaN</td>\n",
       "      <td>SI</td>\n",
       "    </tr>\n",
       "    <tr>\n",
       "      <th>1</th>\n",
       "      <td>3</td>\n",
       "      <td>NaN</td>\n",
       "      <td>NaN</td>\n",
       "      <td>SI</td>\n",
       "    </tr>\n",
       "    <tr>\n",
       "      <th>2</th>\n",
       "      <td>7</td>\n",
       "      <td>SI</td>\n",
       "      <td>31.553269</td>\n",
       "      <td>NaN</td>\n",
       "    </tr>\n",
       "    <tr>\n",
       "      <th>3</th>\n",
       "      <td>11</td>\n",
       "      <td>NaN</td>\n",
       "      <td>NaN</td>\n",
       "      <td>SI</td>\n",
       "    </tr>\n",
       "    <tr>\n",
       "      <th>4</th>\n",
       "      <td>12</td>\n",
       "      <td>NaN</td>\n",
       "      <td>NaN</td>\n",
       "      <td>SI</td>\n",
       "    </tr>\n",
       "  </tbody>\n",
       "</table>\n",
       "</div>"
      ],
      "text/plain": [
       "   id financiacion  imp_financ descuentos\n",
       "0   2          NaN         NaN         SI\n",
       "1   3          NaN         NaN         SI\n",
       "2   7           SI   31.553269        NaN\n",
       "3  11          NaN         NaN         SI\n",
       "4  12          NaN         NaN         SI"
      ]
     },
     "execution_count": 409,
     "metadata": {},
     "output_type": "execute_result"
    }
   ],
   "source": [
    "january_financing.head()"
   ]
  },
  {
   "cell_type": "code",
   "execution_count": 410,
   "metadata": {},
   "outputs": [
    {
     "data": {
      "text/plain": [
       "(92711, 8)"
      ]
     },
     "execution_count": 410,
     "metadata": {},
     "output_type": "execute_result"
    }
   ],
   "source": [
    "january_clients.shape"
   ]
  },
  {
   "cell_type": "code",
   "execution_count": 411,
   "metadata": {},
   "outputs": [
    {
     "data": {
      "text/plain": [
       "(92711, 6)"
      ]
     },
     "execution_count": 411,
     "metadata": {},
     "output_type": "execute_result"
    }
   ],
   "source": [
    "january_consumption.shape"
   ]
  },
  {
   "cell_type": "code",
   "execution_count": 412,
   "metadata": {},
   "outputs": [
    {
     "data": {
      "text/plain": [
       "(25332, 4)"
      ]
     },
     "execution_count": 412,
     "metadata": {},
     "output_type": "execute_result"
    }
   ],
   "source": [
    "january_financing.shape"
   ]
  },
  {
   "cell_type": "code",
   "execution_count": 413,
   "metadata": {},
   "outputs": [
    {
     "data": {
      "text/plain": [
       "(92711, 4)"
      ]
     },
     "execution_count": 413,
     "metadata": {},
     "output_type": "execute_result"
    }
   ],
   "source": [
    "january_products.shape"
   ]
  },
  {
   "cell_type": "markdown",
   "metadata": {},
   "source": [
    "### Table creation with all the data for the month of January"
   ]
  },
  {
   "cell_type": "code",
   "execution_count": 414,
   "metadata": {},
   "outputs": [],
   "source": [
    "january_clients_consumption = pd.merge(january_clients,january_consumption, on='id')\n",
    "\n",
    "#january_clients_consumption.head()\n",
    "\n",
    "#january_clients_consumption.shape -> (92711, 13)"
   ]
  },
  {
   "cell_type": "code",
   "execution_count": 415,
   "metadata": {},
   "outputs": [],
   "source": [
    "january_clients_consumption_products = pd.merge(january_clients_consumption,january_products, on='id')\n",
    "\n",
    "#january_clients_consumption_products.head()\n",
    "\n",
    "#january_clients_consumption_products.shape -> (92711, 16)"
   ]
  },
  {
   "cell_type": "code",
   "execution_count": 416,
   "metadata": {},
   "outputs": [],
   "source": [
    "january_data = pd.merge(january_clients_consumption_products,january_financing, how='left',on='id', )\n",
    "\n",
    "#january_data.shape -> (92711, 19)"
   ]
  },
  {
   "cell_type": "code",
   "execution_count": 417,
   "metadata": {},
   "outputs": [
    {
     "data": {
      "text/html": [
       "<div>\n",
       "<style scoped>\n",
       "    .dataframe tbody tr th:only-of-type {\n",
       "        vertical-align: middle;\n",
       "    }\n",
       "\n",
       "    .dataframe tbody tr th {\n",
       "        vertical-align: top;\n",
       "    }\n",
       "\n",
       "    .dataframe thead th {\n",
       "        text-align: right;\n",
       "    }\n",
       "</style>\n",
       "<table border=\"1\" class=\"dataframe\">\n",
       "  <thead>\n",
       "    <tr style=\"text-align: right;\">\n",
       "      <th></th>\n",
       "      <th>id</th>\n",
       "      <th>edad</th>\n",
       "      <th>facturacion</th>\n",
       "      <th>antiguedad</th>\n",
       "      <th>provincia</th>\n",
       "      <th>num_lineas</th>\n",
       "      <th>num_dt</th>\n",
       "      <th>incidencia</th>\n",
       "      <th>num_llamad_ent</th>\n",
       "      <th>num_llamad_sal</th>\n",
       "      <th>mb_datos</th>\n",
       "      <th>seg_llamad_ent</th>\n",
       "      <th>seg_llamad_sal</th>\n",
       "      <th>conexion</th>\n",
       "      <th>vel_conexion</th>\n",
       "      <th>TV</th>\n",
       "      <th>financiacion</th>\n",
       "      <th>imp_financ</th>\n",
       "      <th>descuentos</th>\n",
       "    </tr>\n",
       "  </thead>\n",
       "  <tbody>\n",
       "    <tr>\n",
       "      <th>0</th>\n",
       "      <td>1</td>\n",
       "      <td>63</td>\n",
       "      <td>216.028109</td>\n",
       "      <td>11/23/2018 08:48 AM</td>\n",
       "      <td>La Rioja</td>\n",
       "      <td>5</td>\n",
       "      <td>NaN</td>\n",
       "      <td>NaN</td>\n",
       "      <td>95</td>\n",
       "      <td>19</td>\n",
       "      <td>6525</td>\n",
       "      <td>7634</td>\n",
       "      <td>18520</td>\n",
       "      <td>FIBRA</td>\n",
       "      <td>50MB</td>\n",
       "      <td>tv-futbol</td>\n",
       "      <td>NaN</td>\n",
       "      <td>NaN</td>\n",
       "      <td>NaN</td>\n",
       "    </tr>\n",
       "    <tr>\n",
       "      <th>1</th>\n",
       "      <td>2</td>\n",
       "      <td>84</td>\n",
       "      <td>255.830842</td>\n",
       "      <td>08/22/2017 03:19 AM</td>\n",
       "      <td>Vizcaya</td>\n",
       "      <td>3</td>\n",
       "      <td>NaN</td>\n",
       "      <td>NaN</td>\n",
       "      <td>44</td>\n",
       "      <td>36</td>\n",
       "      <td>14471</td>\n",
       "      <td>14541</td>\n",
       "      <td>8016</td>\n",
       "      <td>FIBRA</td>\n",
       "      <td>600MB</td>\n",
       "      <td>tv-futbol</td>\n",
       "      <td>NaN</td>\n",
       "      <td>NaN</td>\n",
       "      <td>SI</td>\n",
       "    </tr>\n",
       "    <tr>\n",
       "      <th>2</th>\n",
       "      <td>3</td>\n",
       "      <td>66</td>\n",
       "      <td>135.768153</td>\n",
       "      <td>12/27/2001 01:50 PM</td>\n",
       "      <td>Albacete</td>\n",
       "      <td>4</td>\n",
       "      <td>NaN</td>\n",
       "      <td>NaN</td>\n",
       "      <td>94</td>\n",
       "      <td>27</td>\n",
       "      <td>1428</td>\n",
       "      <td>5248</td>\n",
       "      <td>7106</td>\n",
       "      <td>ADSL</td>\n",
       "      <td>35MB</td>\n",
       "      <td>tv-futbol</td>\n",
       "      <td>NaN</td>\n",
       "      <td>NaN</td>\n",
       "      <td>SI</td>\n",
       "    </tr>\n",
       "    <tr>\n",
       "      <th>3</th>\n",
       "      <td>4</td>\n",
       "      <td>69</td>\n",
       "      <td>255.658527</td>\n",
       "      <td>08/08/2015 10:53 AM</td>\n",
       "      <td>Lugo</td>\n",
       "      <td>4</td>\n",
       "      <td>NaN</td>\n",
       "      <td>NaN</td>\n",
       "      <td>186</td>\n",
       "      <td>20</td>\n",
       "      <td>20083</td>\n",
       "      <td>7372</td>\n",
       "      <td>5052</td>\n",
       "      <td>FIBRA</td>\n",
       "      <td>200MB</td>\n",
       "      <td>tv-familiar</td>\n",
       "      <td>NaN</td>\n",
       "      <td>NaN</td>\n",
       "      <td>NaN</td>\n",
       "    </tr>\n",
       "    <tr>\n",
       "      <th>4</th>\n",
       "      <td>6</td>\n",
       "      <td>51</td>\n",
       "      <td>99.348645</td>\n",
       "      <td>11/04/1997 11:43 AM</td>\n",
       "      <td>Huelva</td>\n",
       "      <td>4</td>\n",
       "      <td>NaN</td>\n",
       "      <td>NaN</td>\n",
       "      <td>37</td>\n",
       "      <td>32</td>\n",
       "      <td>19078</td>\n",
       "      <td>5009</td>\n",
       "      <td>8686</td>\n",
       "      <td>FIBRA</td>\n",
       "      <td>200MB</td>\n",
       "      <td>tv-futbol</td>\n",
       "      <td>NaN</td>\n",
       "      <td>NaN</td>\n",
       "      <td>NaN</td>\n",
       "    </tr>\n",
       "  </tbody>\n",
       "</table>\n",
       "</div>"
      ],
      "text/plain": [
       "   id  edad  facturacion           antiguedad provincia  num_lineas  num_dt  \\\n",
       "0   1    63   216.028109  11/23/2018 08:48 AM  La Rioja           5     NaN   \n",
       "1   2    84   255.830842  08/22/2017 03:19 AM   Vizcaya           3     NaN   \n",
       "2   3    66   135.768153  12/27/2001 01:50 PM  Albacete           4     NaN   \n",
       "3   4    69   255.658527  08/08/2015 10:53 AM      Lugo           4     NaN   \n",
       "4   6    51    99.348645  11/04/1997 11:43 AM    Huelva           4     NaN   \n",
       "\n",
       "  incidencia  num_llamad_ent  num_llamad_sal  mb_datos  seg_llamad_ent  \\\n",
       "0        NaN              95              19      6525            7634   \n",
       "1        NaN              44              36     14471           14541   \n",
       "2        NaN              94              27      1428            5248   \n",
       "3        NaN             186              20     20083            7372   \n",
       "4        NaN              37              32     19078            5009   \n",
       "\n",
       "   seg_llamad_sal conexion vel_conexion           TV financiacion  imp_financ  \\\n",
       "0           18520    FIBRA         50MB    tv-futbol          NaN         NaN   \n",
       "1            8016    FIBRA        600MB    tv-futbol          NaN         NaN   \n",
       "2            7106     ADSL         35MB    tv-futbol          NaN         NaN   \n",
       "3            5052    FIBRA        200MB  tv-familiar          NaN         NaN   \n",
       "4            8686    FIBRA        200MB    tv-futbol          NaN         NaN   \n",
       "\n",
       "  descuentos  \n",
       "0        NaN  \n",
       "1         SI  \n",
       "2         SI  \n",
       "3        NaN  \n",
       "4        NaN  "
      ]
     },
     "execution_count": 417,
     "metadata": {},
     "output_type": "execute_result"
    }
   ],
   "source": [
    "january_data.head()"
   ]
  },
  {
   "cell_type": "markdown",
   "metadata": {},
   "source": [
    "### Creation of target variable\n",
    "My variable should tell me the retained customers: those who were in December and are still in January.\n",
    "\n",
    "Finally we have to get 0 = customer retained, 1 = customer churn."
   ]
  },
  {
   "cell_type": "code",
   "execution_count": 418,
   "metadata": {},
   "outputs": [
    {
     "data": {
      "text/html": [
       "<div>\n",
       "<style scoped>\n",
       "    .dataframe tbody tr th:only-of-type {\n",
       "        vertical-align: middle;\n",
       "    }\n",
       "\n",
       "    .dataframe tbody tr th {\n",
       "        vertical-align: top;\n",
       "    }\n",
       "\n",
       "    .dataframe thead th {\n",
       "        text-align: right;\n",
       "    }\n",
       "</style>\n",
       "<table border=\"1\" class=\"dataframe\">\n",
       "  <thead>\n",
       "    <tr style=\"text-align: right;\">\n",
       "      <th></th>\n",
       "      <th>id</th>\n",
       "      <th>edad_x</th>\n",
       "      <th>facturacion_x</th>\n",
       "      <th>antiguedad_x</th>\n",
       "      <th>provincia_x</th>\n",
       "      <th>num_lineas_x</th>\n",
       "      <th>num_dt_x</th>\n",
       "      <th>incidencia_x</th>\n",
       "      <th>num_llamad_ent_x</th>\n",
       "      <th>num_llamad_sal_x</th>\n",
       "      <th>...</th>\n",
       "      <th>num_llamad_sal_y</th>\n",
       "      <th>mb_datos_y</th>\n",
       "      <th>seg_llamad_ent_y</th>\n",
       "      <th>seg_llamad_sal_y</th>\n",
       "      <th>conexion_y</th>\n",
       "      <th>vel_conexion_y</th>\n",
       "      <th>TV_y</th>\n",
       "      <th>financiacion_y</th>\n",
       "      <th>imp_financ_y</th>\n",
       "      <th>descuentos_y</th>\n",
       "    </tr>\n",
       "  </thead>\n",
       "  <tbody>\n",
       "    <tr>\n",
       "      <th>0</th>\n",
       "      <td>1</td>\n",
       "      <td>63</td>\n",
       "      <td>216.028109</td>\n",
       "      <td>11/23/2018 08:48 AM</td>\n",
       "      <td>La Rioja</td>\n",
       "      <td>5</td>\n",
       "      <td>NaN</td>\n",
       "      <td>NaN</td>\n",
       "      <td>95</td>\n",
       "      <td>19</td>\n",
       "      <td>...</td>\n",
       "      <td>79</td>\n",
       "      <td>10897</td>\n",
       "      <td>12806</td>\n",
       "      <td>13751</td>\n",
       "      <td>FIBRA</td>\n",
       "      <td>50MB</td>\n",
       "      <td>tv-futbol</td>\n",
       "      <td>NaN</td>\n",
       "      <td>NaN</td>\n",
       "      <td>NaN</td>\n",
       "    </tr>\n",
       "    <tr>\n",
       "      <th>1</th>\n",
       "      <td>2</td>\n",
       "      <td>84</td>\n",
       "      <td>255.830842</td>\n",
       "      <td>08/22/2017 03:19 AM</td>\n",
       "      <td>Vizcaya</td>\n",
       "      <td>3</td>\n",
       "      <td>NaN</td>\n",
       "      <td>NaN</td>\n",
       "      <td>44</td>\n",
       "      <td>36</td>\n",
       "      <td>...</td>\n",
       "      <td>89</td>\n",
       "      <td>18657</td>\n",
       "      <td>6499</td>\n",
       "      <td>10862</td>\n",
       "      <td>FIBRA</td>\n",
       "      <td>600MB</td>\n",
       "      <td>tv-futbol</td>\n",
       "      <td>NaN</td>\n",
       "      <td>NaN</td>\n",
       "      <td>SI</td>\n",
       "    </tr>\n",
       "    <tr>\n",
       "      <th>2</th>\n",
       "      <td>3</td>\n",
       "      <td>66</td>\n",
       "      <td>135.768153</td>\n",
       "      <td>12/27/2001 01:50 PM</td>\n",
       "      <td>Albacete</td>\n",
       "      <td>4</td>\n",
       "      <td>NaN</td>\n",
       "      <td>NaN</td>\n",
       "      <td>94</td>\n",
       "      <td>27</td>\n",
       "      <td>...</td>\n",
       "      <td>30</td>\n",
       "      <td>15511</td>\n",
       "      <td>17013</td>\n",
       "      <td>16743</td>\n",
       "      <td>ADSL</td>\n",
       "      <td>35MB</td>\n",
       "      <td>tv-futbol</td>\n",
       "      <td>NaN</td>\n",
       "      <td>NaN</td>\n",
       "      <td>SI</td>\n",
       "    </tr>\n",
       "    <tr>\n",
       "      <th>3</th>\n",
       "      <td>4</td>\n",
       "      <td>69</td>\n",
       "      <td>255.658527</td>\n",
       "      <td>08/08/2015 10:53 AM</td>\n",
       "      <td>Lugo</td>\n",
       "      <td>4</td>\n",
       "      <td>NaN</td>\n",
       "      <td>NaN</td>\n",
       "      <td>186</td>\n",
       "      <td>20</td>\n",
       "      <td>...</td>\n",
       "      <td>52</td>\n",
       "      <td>12670</td>\n",
       "      <td>3393</td>\n",
       "      <td>6771</td>\n",
       "      <td>FIBRA</td>\n",
       "      <td>200MB</td>\n",
       "      <td>tv-familiar</td>\n",
       "      <td>NaN</td>\n",
       "      <td>NaN</td>\n",
       "      <td>NaN</td>\n",
       "    </tr>\n",
       "    <tr>\n",
       "      <th>4</th>\n",
       "      <td>6</td>\n",
       "      <td>51</td>\n",
       "      <td>99.348645</td>\n",
       "      <td>11/04/1997 11:43 AM</td>\n",
       "      <td>Huelva</td>\n",
       "      <td>4</td>\n",
       "      <td>NaN</td>\n",
       "      <td>NaN</td>\n",
       "      <td>37</td>\n",
       "      <td>32</td>\n",
       "      <td>...</td>\n",
       "      <td>51</td>\n",
       "      <td>18428</td>\n",
       "      <td>8956</td>\n",
       "      <td>4764</td>\n",
       "      <td>FIBRA</td>\n",
       "      <td>200MB</td>\n",
       "      <td>tv-futbol</td>\n",
       "      <td>NaN</td>\n",
       "      <td>NaN</td>\n",
       "      <td>NaN</td>\n",
       "    </tr>\n",
       "    <tr>\n",
       "      <th>...</th>\n",
       "      <td>...</td>\n",
       "      <td>...</td>\n",
       "      <td>...</td>\n",
       "      <td>...</td>\n",
       "      <td>...</td>\n",
       "      <td>...</td>\n",
       "      <td>...</td>\n",
       "      <td>...</td>\n",
       "      <td>...</td>\n",
       "      <td>...</td>\n",
       "      <td>...</td>\n",
       "      <td>...</td>\n",
       "      <td>...</td>\n",
       "      <td>...</td>\n",
       "      <td>...</td>\n",
       "      <td>...</td>\n",
       "      <td>...</td>\n",
       "      <td>...</td>\n",
       "      <td>...</td>\n",
       "      <td>...</td>\n",
       "      <td>...</td>\n",
       "    </tr>\n",
       "    <tr>\n",
       "      <th>88377</th>\n",
       "      <td>99995</td>\n",
       "      <td>65</td>\n",
       "      <td>173.741667</td>\n",
       "      <td>03/05/2019 12:00 AM</td>\n",
       "      <td>Murcia</td>\n",
       "      <td>5</td>\n",
       "      <td>NaN</td>\n",
       "      <td>NaN</td>\n",
       "      <td>42</td>\n",
       "      <td>17</td>\n",
       "      <td>...</td>\n",
       "      <td>98</td>\n",
       "      <td>13403</td>\n",
       "      <td>6197</td>\n",
       "      <td>6853</td>\n",
       "      <td>ADSL</td>\n",
       "      <td>35MB</td>\n",
       "      <td>tv-familiar</td>\n",
       "      <td>SI</td>\n",
       "      <td>23.138779</td>\n",
       "      <td>NaN</td>\n",
       "    </tr>\n",
       "    <tr>\n",
       "      <th>88378</th>\n",
       "      <td>99996</td>\n",
       "      <td>36</td>\n",
       "      <td>215.890326</td>\n",
       "      <td>04/09/2013 01:33 PM</td>\n",
       "      <td>Guadalajara</td>\n",
       "      <td>3</td>\n",
       "      <td>NaN</td>\n",
       "      <td>NaN</td>\n",
       "      <td>217</td>\n",
       "      <td>96</td>\n",
       "      <td>...</td>\n",
       "      <td>13</td>\n",
       "      <td>5291</td>\n",
       "      <td>3684</td>\n",
       "      <td>1667</td>\n",
       "      <td>ADSL</td>\n",
       "      <td>30MB</td>\n",
       "      <td>tv-futbol</td>\n",
       "      <td>NaN</td>\n",
       "      <td>NaN</td>\n",
       "      <td>NaN</td>\n",
       "    </tr>\n",
       "    <tr>\n",
       "      <th>88379</th>\n",
       "      <td>99997</td>\n",
       "      <td>68</td>\n",
       "      <td>285.890750</td>\n",
       "      <td>08/08/2003 11:57 PM</td>\n",
       "      <td>Asturias</td>\n",
       "      <td>5</td>\n",
       "      <td>NaN</td>\n",
       "      <td>NaN</td>\n",
       "      <td>168</td>\n",
       "      <td>99</td>\n",
       "      <td>...</td>\n",
       "      <td>20</td>\n",
       "      <td>20002</td>\n",
       "      <td>572</td>\n",
       "      <td>5679</td>\n",
       "      <td>FIBRA</td>\n",
       "      <td>200MB</td>\n",
       "      <td>tv-futbol</td>\n",
       "      <td>SI</td>\n",
       "      <td>14.616422</td>\n",
       "      <td>NaN</td>\n",
       "    </tr>\n",
       "    <tr>\n",
       "      <th>88380</th>\n",
       "      <td>99998</td>\n",
       "      <td>20</td>\n",
       "      <td>383.167610</td>\n",
       "      <td>03/27/2013 08:07 PM</td>\n",
       "      <td>Álava</td>\n",
       "      <td>4</td>\n",
       "      <td>NaN</td>\n",
       "      <td>NaN</td>\n",
       "      <td>188</td>\n",
       "      <td>71</td>\n",
       "      <td>...</td>\n",
       "      <td>26</td>\n",
       "      <td>16448</td>\n",
       "      <td>833</td>\n",
       "      <td>14398</td>\n",
       "      <td>ADSL</td>\n",
       "      <td>20MB</td>\n",
       "      <td>tv-futbol</td>\n",
       "      <td>NaN</td>\n",
       "      <td>NaN</td>\n",
       "      <td>NaN</td>\n",
       "    </tr>\n",
       "    <tr>\n",
       "      <th>88381</th>\n",
       "      <td>100000</td>\n",
       "      <td>18</td>\n",
       "      <td>57.158927</td>\n",
       "      <td>10/22/2009 07:17 PM</td>\n",
       "      <td>Las Palmas</td>\n",
       "      <td>4</td>\n",
       "      <td>NaN</td>\n",
       "      <td>NaN</td>\n",
       "      <td>217</td>\n",
       "      <td>65</td>\n",
       "      <td>...</td>\n",
       "      <td>25</td>\n",
       "      <td>17933</td>\n",
       "      <td>18617</td>\n",
       "      <td>2115</td>\n",
       "      <td>ADSL</td>\n",
       "      <td>25MB</td>\n",
       "      <td>tv-familiar</td>\n",
       "      <td>NaN</td>\n",
       "      <td>NaN</td>\n",
       "      <td>SI</td>\n",
       "    </tr>\n",
       "  </tbody>\n",
       "</table>\n",
       "<p>88382 rows × 37 columns</p>\n",
       "</div>"
      ],
      "text/plain": [
       "           id  edad_x  facturacion_x         antiguedad_x  provincia_x  \\\n",
       "0           1      63     216.028109  11/23/2018 08:48 AM     La Rioja   \n",
       "1           2      84     255.830842  08/22/2017 03:19 AM      Vizcaya   \n",
       "2           3      66     135.768153  12/27/2001 01:50 PM     Albacete   \n",
       "3           4      69     255.658527  08/08/2015 10:53 AM         Lugo   \n",
       "4           6      51      99.348645  11/04/1997 11:43 AM       Huelva   \n",
       "...       ...     ...            ...                  ...          ...   \n",
       "88377   99995      65     173.741667  03/05/2019 12:00 AM       Murcia   \n",
       "88378   99996      36     215.890326  04/09/2013 01:33 PM  Guadalajara   \n",
       "88379   99997      68     285.890750  08/08/2003 11:57 PM     Asturias   \n",
       "88380   99998      20     383.167610  03/27/2013 08:07 PM        Álava   \n",
       "88381  100000      18      57.158927  10/22/2009 07:17 PM   Las Palmas   \n",
       "\n",
       "       num_lineas_x  num_dt_x incidencia_x  num_llamad_ent_x  \\\n",
       "0                 5       NaN          NaN                95   \n",
       "1                 3       NaN          NaN                44   \n",
       "2                 4       NaN          NaN                94   \n",
       "3                 4       NaN          NaN               186   \n",
       "4                 4       NaN          NaN                37   \n",
       "...             ...       ...          ...               ...   \n",
       "88377             5       NaN          NaN                42   \n",
       "88378             3       NaN          NaN               217   \n",
       "88379             5       NaN          NaN               168   \n",
       "88380             4       NaN          NaN               188   \n",
       "88381             4       NaN          NaN               217   \n",
       "\n",
       "       num_llamad_sal_x  ...  num_llamad_sal_y  mb_datos_y  seg_llamad_ent_y  \\\n",
       "0                    19  ...                79       10897             12806   \n",
       "1                    36  ...                89       18657              6499   \n",
       "2                    27  ...                30       15511             17013   \n",
       "3                    20  ...                52       12670              3393   \n",
       "4                    32  ...                51       18428              8956   \n",
       "...                 ...  ...               ...         ...               ...   \n",
       "88377                17  ...                98       13403              6197   \n",
       "88378                96  ...                13        5291              3684   \n",
       "88379                99  ...                20       20002               572   \n",
       "88380                71  ...                26       16448               833   \n",
       "88381                65  ...                25       17933             18617   \n",
       "\n",
       "      seg_llamad_sal_y conexion_y vel_conexion_y         TV_y  financiacion_y  \\\n",
       "0                13751      FIBRA           50MB    tv-futbol             NaN   \n",
       "1                10862      FIBRA          600MB    tv-futbol             NaN   \n",
       "2                16743       ADSL           35MB    tv-futbol             NaN   \n",
       "3                 6771      FIBRA          200MB  tv-familiar             NaN   \n",
       "4                 4764      FIBRA          200MB    tv-futbol             NaN   \n",
       "...                ...        ...            ...          ...             ...   \n",
       "88377             6853       ADSL           35MB  tv-familiar              SI   \n",
       "88378             1667       ADSL           30MB    tv-futbol             NaN   \n",
       "88379             5679      FIBRA          200MB    tv-futbol              SI   \n",
       "88380            14398       ADSL           20MB    tv-futbol             NaN   \n",
       "88381             2115       ADSL           25MB  tv-familiar             NaN   \n",
       "\n",
       "      imp_financ_y  descuentos_y  \n",
       "0              NaN           NaN  \n",
       "1              NaN            SI  \n",
       "2              NaN            SI  \n",
       "3              NaN           NaN  \n",
       "4              NaN           NaN  \n",
       "...            ...           ...  \n",
       "88377    23.138779           NaN  \n",
       "88378          NaN           NaN  \n",
       "88379    14.616422           NaN  \n",
       "88380          NaN           NaN  \n",
       "88381          NaN            SI  \n",
       "\n",
       "[88382 rows x 37 columns]"
      ]
     },
     "execution_count": 418,
     "metadata": {},
     "output_type": "execute_result"
    }
   ],
   "source": [
    "#I want to know the customers who were in December and still in January\n",
    "data_retained = pd.merge(january_data,december_data, on = 'id')\n",
    "data_retained # these clients are the ones in the company in January, the rest has churn."
   ]
  },
  {
   "cell_type": "code",
   "execution_count": 419,
   "metadata": {},
   "outputs": [
    {
     "data": {
      "text/html": [
       "<div>\n",
       "<style scoped>\n",
       "    .dataframe tbody tr th:only-of-type {\n",
       "        vertical-align: middle;\n",
       "    }\n",
       "\n",
       "    .dataframe tbody tr th {\n",
       "        vertical-align: top;\n",
       "    }\n",
       "\n",
       "    .dataframe thead th {\n",
       "        text-align: right;\n",
       "    }\n",
       "</style>\n",
       "<table border=\"1\" class=\"dataframe\">\n",
       "  <thead>\n",
       "    <tr style=\"text-align: right;\">\n",
       "      <th></th>\n",
       "      <th>id</th>\n",
       "    </tr>\n",
       "  </thead>\n",
       "  <tbody>\n",
       "    <tr>\n",
       "      <th>0</th>\n",
       "      <td>1</td>\n",
       "    </tr>\n",
       "    <tr>\n",
       "      <th>1</th>\n",
       "      <td>2</td>\n",
       "    </tr>\n",
       "    <tr>\n",
       "      <th>2</th>\n",
       "      <td>3</td>\n",
       "    </tr>\n",
       "    <tr>\n",
       "      <th>3</th>\n",
       "      <td>4</td>\n",
       "    </tr>\n",
       "    <tr>\n",
       "      <th>4</th>\n",
       "      <td>6</td>\n",
       "    </tr>\n",
       "    <tr>\n",
       "      <th>...</th>\n",
       "      <td>...</td>\n",
       "    </tr>\n",
       "    <tr>\n",
       "      <th>88377</th>\n",
       "      <td>99995</td>\n",
       "    </tr>\n",
       "    <tr>\n",
       "      <th>88378</th>\n",
       "      <td>99996</td>\n",
       "    </tr>\n",
       "    <tr>\n",
       "      <th>88379</th>\n",
       "      <td>99997</td>\n",
       "    </tr>\n",
       "    <tr>\n",
       "      <th>88380</th>\n",
       "      <td>99998</td>\n",
       "    </tr>\n",
       "    <tr>\n",
       "      <th>88381</th>\n",
       "      <td>100000</td>\n",
       "    </tr>\n",
       "  </tbody>\n",
       "</table>\n",
       "<p>88382 rows × 1 columns</p>\n",
       "</div>"
      ],
      "text/plain": [
       "           id\n",
       "0           1\n",
       "1           2\n",
       "2           3\n",
       "3           4\n",
       "4           6\n",
       "...       ...\n",
       "88377   99995\n",
       "88378   99996\n",
       "88379   99997\n",
       "88380   99998\n",
       "88381  100000\n",
       "\n",
       "[88382 rows x 1 columns]"
      ]
     },
     "execution_count": 419,
     "metadata": {},
     "output_type": "execute_result"
    }
   ],
   "source": [
    "id_retained = data_retained['id']\n",
    "#convert to dataframe\n",
    "id_retained2 = pd.DataFrame(id_retained, columns = ['id'])\n",
    "id_retained2"
   ]
  },
  {
   "cell_type": "code",
   "execution_count": 420,
   "metadata": {},
   "outputs": [],
   "source": [
    "#add column\n",
    "id_retained2.insert(1,'y_clients', '0') \n",
    "\n",
    "# If 'y_clients' is 0 it is because they are the ones who continue in the company. I am interested in (success = 1) those who leave.\n",
    "# Then I am going to add the column \"y_clients\" to the December dataset, the clients that are NA will be 1 (success, they had churn)."
   ]
  },
  {
   "cell_type": "code",
   "execution_count": 421,
   "metadata": {},
   "outputs": [
    {
     "data": {
      "text/html": [
       "<div>\n",
       "<style scoped>\n",
       "    .dataframe tbody tr th:only-of-type {\n",
       "        vertical-align: middle;\n",
       "    }\n",
       "\n",
       "    .dataframe tbody tr th {\n",
       "        vertical-align: top;\n",
       "    }\n",
       "\n",
       "    .dataframe thead th {\n",
       "        text-align: right;\n",
       "    }\n",
       "</style>\n",
       "<table border=\"1\" class=\"dataframe\">\n",
       "  <thead>\n",
       "    <tr style=\"text-align: right;\">\n",
       "      <th></th>\n",
       "      <th>id</th>\n",
       "      <th>edad</th>\n",
       "      <th>facturacion</th>\n",
       "      <th>antiguedad</th>\n",
       "      <th>provincia</th>\n",
       "      <th>num_lineas</th>\n",
       "      <th>num_dt</th>\n",
       "      <th>incidencia</th>\n",
       "      <th>num_llamad_ent</th>\n",
       "      <th>num_llamad_sal</th>\n",
       "      <th>mb_datos</th>\n",
       "      <th>seg_llamad_ent</th>\n",
       "      <th>seg_llamad_sal</th>\n",
       "      <th>conexion</th>\n",
       "      <th>vel_conexion</th>\n",
       "      <th>TV</th>\n",
       "      <th>financiacion</th>\n",
       "      <th>imp_financ</th>\n",
       "      <th>descuentos</th>\n",
       "      <th>y_clients</th>\n",
       "    </tr>\n",
       "  </thead>\n",
       "  <tbody>\n",
       "    <tr>\n",
       "      <th>0</th>\n",
       "      <td>1</td>\n",
       "      <td>63</td>\n",
       "      <td>216.028109</td>\n",
       "      <td>11/23/2018 08:48 AM</td>\n",
       "      <td>La Rioja</td>\n",
       "      <td>5</td>\n",
       "      <td>NaN</td>\n",
       "      <td>NaN</td>\n",
       "      <td>110</td>\n",
       "      <td>79</td>\n",
       "      <td>10897</td>\n",
       "      <td>12806</td>\n",
       "      <td>13751</td>\n",
       "      <td>FIBRA</td>\n",
       "      <td>50MB</td>\n",
       "      <td>tv-futbol</td>\n",
       "      <td>NaN</td>\n",
       "      <td>NaN</td>\n",
       "      <td>NaN</td>\n",
       "      <td>0</td>\n",
       "    </tr>\n",
       "    <tr>\n",
       "      <th>1</th>\n",
       "      <td>2</td>\n",
       "      <td>84</td>\n",
       "      <td>255.830842</td>\n",
       "      <td>08/22/2017 03:19 AM</td>\n",
       "      <td>Vizcaya</td>\n",
       "      <td>3</td>\n",
       "      <td>NaN</td>\n",
       "      <td>NaN</td>\n",
       "      <td>189</td>\n",
       "      <td>89</td>\n",
       "      <td>18657</td>\n",
       "      <td>6499</td>\n",
       "      <td>10862</td>\n",
       "      <td>FIBRA</td>\n",
       "      <td>600MB</td>\n",
       "      <td>tv-futbol</td>\n",
       "      <td>NaN</td>\n",
       "      <td>NaN</td>\n",
       "      <td>SI</td>\n",
       "      <td>0</td>\n",
       "    </tr>\n",
       "    <tr>\n",
       "      <th>2</th>\n",
       "      <td>3</td>\n",
       "      <td>66</td>\n",
       "      <td>135.768153</td>\n",
       "      <td>12/27/2001 01:50 PM</td>\n",
       "      <td>Albacete</td>\n",
       "      <td>4</td>\n",
       "      <td>NaN</td>\n",
       "      <td>NaN</td>\n",
       "      <td>129</td>\n",
       "      <td>30</td>\n",
       "      <td>15511</td>\n",
       "      <td>17013</td>\n",
       "      <td>16743</td>\n",
       "      <td>ADSL</td>\n",
       "      <td>35MB</td>\n",
       "      <td>tv-futbol</td>\n",
       "      <td>NaN</td>\n",
       "      <td>NaN</td>\n",
       "      <td>SI</td>\n",
       "      <td>0</td>\n",
       "    </tr>\n",
       "    <tr>\n",
       "      <th>3</th>\n",
       "      <td>4</td>\n",
       "      <td>69</td>\n",
       "      <td>255.658527</td>\n",
       "      <td>08/08/2015 10:53 AM</td>\n",
       "      <td>Lugo</td>\n",
       "      <td>4</td>\n",
       "      <td>NaN</td>\n",
       "      <td>NaN</td>\n",
       "      <td>51</td>\n",
       "      <td>52</td>\n",
       "      <td>12670</td>\n",
       "      <td>3393</td>\n",
       "      <td>6771</td>\n",
       "      <td>FIBRA</td>\n",
       "      <td>200MB</td>\n",
       "      <td>tv-familiar</td>\n",
       "      <td>NaN</td>\n",
       "      <td>NaN</td>\n",
       "      <td>NaN</td>\n",
       "      <td>0</td>\n",
       "    </tr>\n",
       "    <tr>\n",
       "      <th>4</th>\n",
       "      <td>5</td>\n",
       "      <td>25</td>\n",
       "      <td>22.302845</td>\n",
       "      <td>08/29/1997 02:19 AM</td>\n",
       "      <td>Tarragona</td>\n",
       "      <td>2</td>\n",
       "      <td>2.0</td>\n",
       "      <td>NaN</td>\n",
       "      <td>183</td>\n",
       "      <td>3</td>\n",
       "      <td>23756</td>\n",
       "      <td>18436</td>\n",
       "      <td>4485</td>\n",
       "      <td>ADSL</td>\n",
       "      <td>10MB</td>\n",
       "      <td>tv-futbol</td>\n",
       "      <td>NaN</td>\n",
       "      <td>NaN</td>\n",
       "      <td>NaN</td>\n",
       "      <td>NaN</td>\n",
       "    </tr>\n",
       "    <tr>\n",
       "      <th>...</th>\n",
       "      <td>...</td>\n",
       "      <td>...</td>\n",
       "      <td>...</td>\n",
       "      <td>...</td>\n",
       "      <td>...</td>\n",
       "      <td>...</td>\n",
       "      <td>...</td>\n",
       "      <td>...</td>\n",
       "      <td>...</td>\n",
       "      <td>...</td>\n",
       "      <td>...</td>\n",
       "      <td>...</td>\n",
       "      <td>...</td>\n",
       "      <td>...</td>\n",
       "      <td>...</td>\n",
       "      <td>...</td>\n",
       "      <td>...</td>\n",
       "      <td>...</td>\n",
       "      <td>...</td>\n",
       "      <td>...</td>\n",
       "    </tr>\n",
       "    <tr>\n",
       "      <th>95462</th>\n",
       "      <td>99995</td>\n",
       "      <td>65</td>\n",
       "      <td>173.741667</td>\n",
       "      <td>03/05/2019 12:00 AM</td>\n",
       "      <td>Murcia</td>\n",
       "      <td>5</td>\n",
       "      <td>NaN</td>\n",
       "      <td>NaN</td>\n",
       "      <td>121</td>\n",
       "      <td>98</td>\n",
       "      <td>13403</td>\n",
       "      <td>6197</td>\n",
       "      <td>6853</td>\n",
       "      <td>ADSL</td>\n",
       "      <td>35MB</td>\n",
       "      <td>tv-familiar</td>\n",
       "      <td>SI</td>\n",
       "      <td>23.138779</td>\n",
       "      <td>NaN</td>\n",
       "      <td>0</td>\n",
       "    </tr>\n",
       "    <tr>\n",
       "      <th>95463</th>\n",
       "      <td>99996</td>\n",
       "      <td>36</td>\n",
       "      <td>215.890326</td>\n",
       "      <td>04/09/2013 01:33 PM</td>\n",
       "      <td>Guadalajara</td>\n",
       "      <td>3</td>\n",
       "      <td>NaN</td>\n",
       "      <td>NaN</td>\n",
       "      <td>98</td>\n",
       "      <td>13</td>\n",
       "      <td>5291</td>\n",
       "      <td>3684</td>\n",
       "      <td>1667</td>\n",
       "      <td>ADSL</td>\n",
       "      <td>30MB</td>\n",
       "      <td>tv-futbol</td>\n",
       "      <td>NaN</td>\n",
       "      <td>NaN</td>\n",
       "      <td>NaN</td>\n",
       "      <td>0</td>\n",
       "    </tr>\n",
       "    <tr>\n",
       "      <th>95464</th>\n",
       "      <td>99997</td>\n",
       "      <td>68</td>\n",
       "      <td>285.890750</td>\n",
       "      <td>08/08/2003 11:57 PM</td>\n",
       "      <td>Asturias</td>\n",
       "      <td>5</td>\n",
       "      <td>NaN</td>\n",
       "      <td>NaN</td>\n",
       "      <td>226</td>\n",
       "      <td>20</td>\n",
       "      <td>20002</td>\n",
       "      <td>572</td>\n",
       "      <td>5679</td>\n",
       "      <td>FIBRA</td>\n",
       "      <td>200MB</td>\n",
       "      <td>tv-futbol</td>\n",
       "      <td>SI</td>\n",
       "      <td>14.616422</td>\n",
       "      <td>NaN</td>\n",
       "      <td>0</td>\n",
       "    </tr>\n",
       "    <tr>\n",
       "      <th>95465</th>\n",
       "      <td>99998</td>\n",
       "      <td>20</td>\n",
       "      <td>383.167610</td>\n",
       "      <td>03/27/2013 08:07 PM</td>\n",
       "      <td>Álava</td>\n",
       "      <td>4</td>\n",
       "      <td>NaN</td>\n",
       "      <td>NaN</td>\n",
       "      <td>126</td>\n",
       "      <td>26</td>\n",
       "      <td>16448</td>\n",
       "      <td>833</td>\n",
       "      <td>14398</td>\n",
       "      <td>ADSL</td>\n",
       "      <td>20MB</td>\n",
       "      <td>tv-futbol</td>\n",
       "      <td>NaN</td>\n",
       "      <td>NaN</td>\n",
       "      <td>NaN</td>\n",
       "      <td>0</td>\n",
       "    </tr>\n",
       "    <tr>\n",
       "      <th>95466</th>\n",
       "      <td>100000</td>\n",
       "      <td>18</td>\n",
       "      <td>57.158927</td>\n",
       "      <td>10/22/2009 07:17 PM</td>\n",
       "      <td>Las Palmas</td>\n",
       "      <td>4</td>\n",
       "      <td>NaN</td>\n",
       "      <td>NaN</td>\n",
       "      <td>85</td>\n",
       "      <td>25</td>\n",
       "      <td>17933</td>\n",
       "      <td>18617</td>\n",
       "      <td>2115</td>\n",
       "      <td>ADSL</td>\n",
       "      <td>25MB</td>\n",
       "      <td>tv-familiar</td>\n",
       "      <td>NaN</td>\n",
       "      <td>NaN</td>\n",
       "      <td>SI</td>\n",
       "      <td>0</td>\n",
       "    </tr>\n",
       "  </tbody>\n",
       "</table>\n",
       "<p>95467 rows × 20 columns</p>\n",
       "</div>"
      ],
      "text/plain": [
       "           id  edad  facturacion           antiguedad    provincia  \\\n",
       "0           1    63   216.028109  11/23/2018 08:48 AM     La Rioja   \n",
       "1           2    84   255.830842  08/22/2017 03:19 AM      Vizcaya   \n",
       "2           3    66   135.768153  12/27/2001 01:50 PM     Albacete   \n",
       "3           4    69   255.658527  08/08/2015 10:53 AM         Lugo   \n",
       "4           5    25    22.302845  08/29/1997 02:19 AM    Tarragona   \n",
       "...       ...   ...          ...                  ...          ...   \n",
       "95462   99995    65   173.741667  03/05/2019 12:00 AM       Murcia   \n",
       "95463   99996    36   215.890326  04/09/2013 01:33 PM  Guadalajara   \n",
       "95464   99997    68   285.890750  08/08/2003 11:57 PM     Asturias   \n",
       "95465   99998    20   383.167610  03/27/2013 08:07 PM        Álava   \n",
       "95466  100000    18    57.158927  10/22/2009 07:17 PM   Las Palmas   \n",
       "\n",
       "       num_lineas  num_dt incidencia  num_llamad_ent  num_llamad_sal  \\\n",
       "0               5     NaN        NaN             110              79   \n",
       "1               3     NaN        NaN             189              89   \n",
       "2               4     NaN        NaN             129              30   \n",
       "3               4     NaN        NaN              51              52   \n",
       "4               2     2.0        NaN             183               3   \n",
       "...           ...     ...        ...             ...             ...   \n",
       "95462           5     NaN        NaN             121              98   \n",
       "95463           3     NaN        NaN              98              13   \n",
       "95464           5     NaN        NaN             226              20   \n",
       "95465           4     NaN        NaN             126              26   \n",
       "95466           4     NaN        NaN              85              25   \n",
       "\n",
       "       mb_datos  seg_llamad_ent  seg_llamad_sal conexion vel_conexion  \\\n",
       "0         10897           12806           13751    FIBRA         50MB   \n",
       "1         18657            6499           10862    FIBRA        600MB   \n",
       "2         15511           17013           16743     ADSL         35MB   \n",
       "3         12670            3393            6771    FIBRA        200MB   \n",
       "4         23756           18436            4485     ADSL         10MB   \n",
       "...         ...             ...             ...      ...          ...   \n",
       "95462     13403            6197            6853     ADSL         35MB   \n",
       "95463      5291            3684            1667     ADSL         30MB   \n",
       "95464     20002             572            5679    FIBRA        200MB   \n",
       "95465     16448             833           14398     ADSL         20MB   \n",
       "95466     17933           18617            2115     ADSL         25MB   \n",
       "\n",
       "                TV financiacion  imp_financ descuentos y_clients  \n",
       "0        tv-futbol          NaN         NaN        NaN         0  \n",
       "1        tv-futbol          NaN         NaN         SI         0  \n",
       "2        tv-futbol          NaN         NaN         SI         0  \n",
       "3      tv-familiar          NaN         NaN        NaN         0  \n",
       "4        tv-futbol          NaN         NaN        NaN       NaN  \n",
       "...            ...          ...         ...        ...       ...  \n",
       "95462  tv-familiar           SI   23.138779        NaN         0  \n",
       "95463    tv-futbol          NaN         NaN        NaN         0  \n",
       "95464    tv-futbol           SI   14.616422        NaN         0  \n",
       "95465    tv-futbol          NaN         NaN        NaN         0  \n",
       "95466  tv-familiar          NaN         NaN         SI         0  \n",
       "\n",
       "[95467 rows x 20 columns]"
      ]
     },
     "execution_count": 421,
     "metadata": {},
     "output_type": "execute_result"
    }
   ],
   "source": [
    "december_data = pd.merge(december_data, id_retained2,on='id',how='left') \n",
    "december_data"
   ]
  },
  {
   "cell_type": "code",
   "execution_count": 422,
   "metadata": {},
   "outputs": [
    {
     "data": {
      "text/plain": [
       "id                    0\n",
       "edad                  0\n",
       "facturacion           0\n",
       "antiguedad            0\n",
       "provincia             0\n",
       "num_lineas            0\n",
       "num_dt            88950\n",
       "incidencia        90235\n",
       "num_llamad_ent        0\n",
       "num_llamad_sal        0\n",
       "mb_datos              0\n",
       "seg_llamad_ent        0\n",
       "seg_llamad_sal        0\n",
       "conexion              0\n",
       "vel_conexion          0\n",
       "TV                    0\n",
       "financiacion      89095\n",
       "imp_financ        89095\n",
       "descuentos        76313\n",
       "y_clients          7085\n",
       "dtype: int64"
      ]
     },
     "execution_count": 422,
     "metadata": {},
     "output_type": "execute_result"
    }
   ],
   "source": [
    "december_data.isnull().sum() \n",
    "# We can see that 7085 customers has churn between December 2019 and January 2020"
   ]
  },
  {
   "cell_type": "markdown",
   "metadata": {},
   "source": [
    "### 2) Data pre-processing and cleaning\n",
    "I will only work transforming my variables to numeric, not to dummy variables.\n",
    "\n",
    "** I know there are ways to do this process more efficiently, either by creating a list of numerical and categorical variables to apply joint modifications. However, I preferred to do it manually due to how required to present the analysis."
   ]
  },
  {
   "cell_type": "markdown",
   "metadata": {},
   "source": [
    "#### Missing values analysis (December)"
   ]
  },
  {
   "cell_type": "code",
   "execution_count": 423,
   "metadata": {},
   "outputs": [
    {
     "data": {
      "text/plain": [
       "id                    0\n",
       "edad                  0\n",
       "facturacion           0\n",
       "antiguedad            0\n",
       "provincia             0\n",
       "num_lineas            0\n",
       "num_dt            88950\n",
       "incidencia        90235\n",
       "num_llamad_ent        0\n",
       "num_llamad_sal        0\n",
       "mb_datos              0\n",
       "seg_llamad_ent        0\n",
       "seg_llamad_sal        0\n",
       "conexion              0\n",
       "vel_conexion          0\n",
       "TV                    0\n",
       "financiacion      89095\n",
       "imp_financ        89095\n",
       "descuentos        76313\n",
       "y_clients          7085\n",
       "dtype: int64"
      ]
     },
     "execution_count": 423,
     "metadata": {},
     "output_type": "execute_result"
    }
   ],
   "source": [
    "december_data.isnull().sum()"
   ]
  },
  {
   "cell_type": "markdown",
   "metadata": {},
   "source": [
    "We see that we have to do something with 6 variables that have missing values"
   ]
  },
  {
   "cell_type": "code",
   "execution_count": 424,
   "metadata": {},
   "outputs": [],
   "source": [
    "#1) 'num_dt' They are the lines that are unpaid, if they are blank we will complete them with a 0.\n",
    "december_data['num_dt'] = december_data['num_dt'].replace(np.nan, 0)"
   ]
  },
  {
   "cell_type": "code",
   "execution_count": 425,
   "metadata": {},
   "outputs": [],
   "source": [
    "#2) 'incidencia' If it is blank, it is because the client has no incidence\n",
    "december_data['incidencia'] = december_data['incidencia'].replace(np.nan, 'NO')"
   ]
  },
  {
   "cell_type": "code",
   "execution_count": 426,
   "metadata": {},
   "outputs": [],
   "source": [
    "#3) 'financiacion' If it is blank, then the client doen't have any financing\n",
    "december_data['financiacion'] = december_data['financiacion'].replace(np.nan, 'NO')"
   ]
  },
  {
   "cell_type": "code",
   "execution_count": 427,
   "metadata": {},
   "outputs": [],
   "source": [
    "#4) 'imp_financ' If it is blank, then the client doen't have any financing and therefore they do not have any financed amount\n",
    "december_data['imp_financ'] = december_data['imp_financ'].replace(np.nan, 0)"
   ]
  },
  {
   "cell_type": "code",
   "execution_count": 428,
   "metadata": {},
   "outputs": [],
   "source": [
    "#5) 'descuentos ' If it is blank it is because the client does not have any type of discount.\n",
    "december_data['descuentos'] = december_data['descuentos'].replace(np.nan, 0)"
   ]
  },
  {
   "cell_type": "code",
   "execution_count": 429,
   "metadata": {},
   "outputs": [],
   "source": [
    "#6) 'y_clients ' If it is blank, it is because the client has churn between one month and another.\n",
    "december_data['y_clients'] = december_data['y_clients'].replace(np.nan, 1)\n",
    "december_data['y_clients'] = december_data['y_clients'].astype(int)"
   ]
  },
  {
   "cell_type": "code",
   "execution_count": 430,
   "metadata": {
    "scrolled": true
   },
   "outputs": [
    {
     "data": {
      "text/plain": [
       "id                0\n",
       "edad              0\n",
       "facturacion       0\n",
       "antiguedad        0\n",
       "provincia         0\n",
       "num_lineas        0\n",
       "num_dt            0\n",
       "incidencia        0\n",
       "num_llamad_ent    0\n",
       "num_llamad_sal    0\n",
       "mb_datos          0\n",
       "seg_llamad_ent    0\n",
       "seg_llamad_sal    0\n",
       "conexion          0\n",
       "vel_conexion      0\n",
       "TV                0\n",
       "financiacion      0\n",
       "imp_financ        0\n",
       "descuentos        0\n",
       "y_clients         0\n",
       "dtype: int64"
      ]
     },
     "execution_count": 430,
     "metadata": {},
     "output_type": "execute_result"
    }
   ],
   "source": [
    "# We check that we have no NA\n",
    "december_data.isnull().sum()"
   ]
  },
  {
   "cell_type": "markdown",
   "metadata": {},
   "source": [
    "#### --- Numerical variables analysis --- (December)"
   ]
  },
  {
   "cell_type": "code",
   "execution_count": 431,
   "metadata": {},
   "outputs": [
    {
     "data": {
      "text/plain": [
       "id                  int64\n",
       "edad                int64\n",
       "facturacion       float64\n",
       "antiguedad         object\n",
       "provincia          object\n",
       "num_lineas          int64\n",
       "num_dt            float64\n",
       "incidencia         object\n",
       "num_llamad_ent      int64\n",
       "num_llamad_sal      int64\n",
       "mb_datos            int64\n",
       "seg_llamad_ent      int64\n",
       "seg_llamad_sal      int64\n",
       "conexion           object\n",
       "vel_conexion       object\n",
       "TV                 object\n",
       "financiacion       object\n",
       "imp_financ        float64\n",
       "descuentos         object\n",
       "y_clients           int64\n",
       "dtype: object"
      ]
     },
     "execution_count": 431,
     "metadata": {},
     "output_type": "execute_result"
    }
   ],
   "source": [
    "# Type of data\n",
    "december_data.dtypes # 12 numerical variables"
   ]
  },
  {
   "cell_type": "code",
   "execution_count": 432,
   "metadata": {},
   "outputs": [
    {
     "data": {
      "text/html": [
       "<div>\n",
       "<style scoped>\n",
       "    .dataframe tbody tr th:only-of-type {\n",
       "        vertical-align: middle;\n",
       "    }\n",
       "\n",
       "    .dataframe tbody tr th {\n",
       "        vertical-align: top;\n",
       "    }\n",
       "\n",
       "    .dataframe thead th {\n",
       "        text-align: right;\n",
       "    }\n",
       "</style>\n",
       "<table border=\"1\" class=\"dataframe\">\n",
       "  <thead>\n",
       "    <tr style=\"text-align: right;\">\n",
       "      <th></th>\n",
       "      <th>id</th>\n",
       "      <th>edad</th>\n",
       "      <th>facturacion</th>\n",
       "      <th>num_lineas</th>\n",
       "      <th>num_dt</th>\n",
       "      <th>num_llamad_ent</th>\n",
       "      <th>num_llamad_sal</th>\n",
       "      <th>mb_datos</th>\n",
       "      <th>seg_llamad_ent</th>\n",
       "      <th>seg_llamad_sal</th>\n",
       "      <th>imp_financ</th>\n",
       "      <th>y_clients</th>\n",
       "    </tr>\n",
       "  </thead>\n",
       "  <tbody>\n",
       "    <tr>\n",
       "      <th>count</th>\n",
       "      <td>95467.000000</td>\n",
       "      <td>95467.000000</td>\n",
       "      <td>95467.000000</td>\n",
       "      <td>95467.000000</td>\n",
       "      <td>95467.000000</td>\n",
       "      <td>95467.000000</td>\n",
       "      <td>95467.000000</td>\n",
       "      <td>95467.000000</td>\n",
       "      <td>95467.000000</td>\n",
       "      <td>95467.000000</td>\n",
       "      <td>95467.000000</td>\n",
       "      <td>95467.000000</td>\n",
       "    </tr>\n",
       "    <tr>\n",
       "      <th>mean</th>\n",
       "      <td>49994.256832</td>\n",
       "      <td>51.462086</td>\n",
       "      <td>207.392912</td>\n",
       "      <td>3.558518</td>\n",
       "      <td>0.170530</td>\n",
       "      <td>124.815633</td>\n",
       "      <td>50.022762</td>\n",
       "      <td>12489.795898</td>\n",
       "      <td>9984.406612</td>\n",
       "      <td>10029.761342</td>\n",
       "      <td>1.486331</td>\n",
       "      <td>0.074214</td>\n",
       "    </tr>\n",
       "    <tr>\n",
       "      <th>std</th>\n",
       "      <td>28873.008865</td>\n",
       "      <td>19.590846</td>\n",
       "      <td>111.343491</td>\n",
       "      <td>1.086095</td>\n",
       "      <td>0.694799</td>\n",
       "      <td>72.492338</td>\n",
       "      <td>29.119904</td>\n",
       "      <td>7239.421267</td>\n",
       "      <td>5763.182070</td>\n",
       "      <td>5763.518604</td>\n",
       "      <td>6.148373</td>\n",
       "      <td>0.262120</td>\n",
       "    </tr>\n",
       "    <tr>\n",
       "      <th>min</th>\n",
       "      <td>1.000000</td>\n",
       "      <td>18.000000</td>\n",
       "      <td>15.000439</td>\n",
       "      <td>1.000000</td>\n",
       "      <td>0.000000</td>\n",
       "      <td>0.000000</td>\n",
       "      <td>0.000000</td>\n",
       "      <td>0.000000</td>\n",
       "      <td>0.000000</td>\n",
       "      <td>0.000000</td>\n",
       "      <td>0.000000</td>\n",
       "      <td>0.000000</td>\n",
       "    </tr>\n",
       "    <tr>\n",
       "      <th>25%</th>\n",
       "      <td>24997.500000</td>\n",
       "      <td>35.000000</td>\n",
       "      <td>111.383822</td>\n",
       "      <td>3.000000</td>\n",
       "      <td>0.000000</td>\n",
       "      <td>62.000000</td>\n",
       "      <td>25.000000</td>\n",
       "      <td>6177.500000</td>\n",
       "      <td>5006.000000</td>\n",
       "      <td>5055.000000</td>\n",
       "      <td>0.000000</td>\n",
       "      <td>0.000000</td>\n",
       "    </tr>\n",
       "    <tr>\n",
       "      <th>50%</th>\n",
       "      <td>49970.000000</td>\n",
       "      <td>51.000000</td>\n",
       "      <td>206.808431</td>\n",
       "      <td>4.000000</td>\n",
       "      <td>0.000000</td>\n",
       "      <td>124.000000</td>\n",
       "      <td>50.000000</td>\n",
       "      <td>12466.000000</td>\n",
       "      <td>9965.000000</td>\n",
       "      <td>10024.000000</td>\n",
       "      <td>0.000000</td>\n",
       "      <td>0.000000</td>\n",
       "    </tr>\n",
       "    <tr>\n",
       "      <th>75%</th>\n",
       "      <td>75021.500000</td>\n",
       "      <td>68.000000</td>\n",
       "      <td>304.436599</td>\n",
       "      <td>4.000000</td>\n",
       "      <td>0.000000</td>\n",
       "      <td>188.000000</td>\n",
       "      <td>75.000000</td>\n",
       "      <td>18785.500000</td>\n",
       "      <td>14969.000000</td>\n",
       "      <td>15007.000000</td>\n",
       "      <td>0.000000</td>\n",
       "      <td>0.000000</td>\n",
       "    </tr>\n",
       "    <tr>\n",
       "      <th>max</th>\n",
       "      <td>100000.000000</td>\n",
       "      <td>85.000000</td>\n",
       "      <td>399.998433</td>\n",
       "      <td>5.000000</td>\n",
       "      <td>4.000000</td>\n",
       "      <td>250.000000</td>\n",
       "      <td>100.000000</td>\n",
       "      <td>25000.000000</td>\n",
       "      <td>20000.000000</td>\n",
       "      <td>20000.000000</td>\n",
       "      <td>39.990128</td>\n",
       "      <td>1.000000</td>\n",
       "    </tr>\n",
       "  </tbody>\n",
       "</table>\n",
       "</div>"
      ],
      "text/plain": [
       "                  id          edad   facturacion    num_lineas        num_dt  \\\n",
       "count   95467.000000  95467.000000  95467.000000  95467.000000  95467.000000   \n",
       "mean    49994.256832     51.462086    207.392912      3.558518      0.170530   \n",
       "std     28873.008865     19.590846    111.343491      1.086095      0.694799   \n",
       "min         1.000000     18.000000     15.000439      1.000000      0.000000   \n",
       "25%     24997.500000     35.000000    111.383822      3.000000      0.000000   \n",
       "50%     49970.000000     51.000000    206.808431      4.000000      0.000000   \n",
       "75%     75021.500000     68.000000    304.436599      4.000000      0.000000   \n",
       "max    100000.000000     85.000000    399.998433      5.000000      4.000000   \n",
       "\n",
       "       num_llamad_ent  num_llamad_sal      mb_datos  seg_llamad_ent  \\\n",
       "count    95467.000000    95467.000000  95467.000000    95467.000000   \n",
       "mean       124.815633       50.022762  12489.795898     9984.406612   \n",
       "std         72.492338       29.119904   7239.421267     5763.182070   \n",
       "min          0.000000        0.000000      0.000000        0.000000   \n",
       "25%         62.000000       25.000000   6177.500000     5006.000000   \n",
       "50%        124.000000       50.000000  12466.000000     9965.000000   \n",
       "75%        188.000000       75.000000  18785.500000    14969.000000   \n",
       "max        250.000000      100.000000  25000.000000    20000.000000   \n",
       "\n",
       "       seg_llamad_sal    imp_financ     y_clients  \n",
       "count    95467.000000  95467.000000  95467.000000  \n",
       "mean     10029.761342      1.486331      0.074214  \n",
       "std       5763.518604      6.148373      0.262120  \n",
       "min          0.000000      0.000000      0.000000  \n",
       "25%       5055.000000      0.000000      0.000000  \n",
       "50%      10024.000000      0.000000      0.000000  \n",
       "75%      15007.000000      0.000000      0.000000  \n",
       "max      20000.000000     39.990128      1.000000  "
      ]
     },
     "execution_count": 432,
     "metadata": {},
     "output_type": "execute_result"
    }
   ],
   "source": [
    "december_data.describe() # -> everything seems fine"
   ]
  },
  {
   "cell_type": "code",
   "execution_count": 433,
   "metadata": {},
   "outputs": [
    {
     "data": {
      "text/plain": [
       "2047     1\n",
       "76464    1\n",
       "27288    1\n",
       "25241    1\n",
       "31386    1\n",
       "        ..\n",
       "54640    1\n",
       "56689    1\n",
       "50546    1\n",
       "52595    1\n",
       "2049     1\n",
       "Name: id, Length: 95467, dtype: int64"
      ]
     },
     "execution_count": 433,
     "metadata": {},
     "output_type": "execute_result"
    }
   ],
   "source": [
    "# We check that we do not have repeated IDs\n",
    "december_data['id'].value_counts() "
   ]
  },
  {
   "cell_type": "markdown",
   "metadata": {},
   "source": [
    "#### --- non-numeric variables analysis --- (December)"
   ]
  },
  {
   "cell_type": "markdown",
   "metadata": {},
   "source": [
    "antiguedad, provincia, incidencia, conexion, vel_conexion, TV, financiacion, descuentos"
   ]
  },
  {
   "cell_type": "markdown",
   "metadata": {},
   "source": [
    "1) ANTIGUEDAD"
   ]
  },
  {
   "cell_type": "code",
   "execution_count": 434,
   "metadata": {},
   "outputs": [
    {
     "data": {
      "text/plain": [
       "11/09/2013 10:46 AM    2\n",
       "11/03/2008 05:28 PM    2\n",
       "01/05/2005 05:08 AM    2\n",
       "01/10/2006 03:18 AM    2\n",
       "09/01/1999 11:19 AM    2\n",
       "                      ..\n",
       "05/04/2005 09:20 AM    1\n",
       "01/05/2000 08:42 PM    1\n",
       "02/11/1998 05:18 PM    1\n",
       "09/08/2000 12:48 PM    1\n",
       "12/03/2019 06:52 AM    1\n",
       "Name: antiguedad, Length: 95171, dtype: int64"
      ]
     },
     "execution_count": 434,
     "metadata": {},
     "output_type": "execute_result"
    }
   ],
   "source": [
    "december_data['antiguedad'].value_counts() \n",
    "# We see that some dates are repeated twice"
   ]
  },
  {
   "cell_type": "code",
   "execution_count": 435,
   "metadata": {},
   "outputs": [],
   "source": [
    "# We change the date to datetime format:\n",
    "december_data['antiguedad'] = pd.to_datetime(december_data['antiguedad'])"
   ]
  },
  {
   "cell_type": "markdown",
   "metadata": {},
   "source": [
    "We create a new variable that tells me the client's age in years"
   ]
  },
  {
   "cell_type": "code",
   "execution_count": 436,
   "metadata": {},
   "outputs": [
    {
     "data": {
      "text/html": [
       "<div>\n",
       "<style scoped>\n",
       "    .dataframe tbody tr th:only-of-type {\n",
       "        vertical-align: middle;\n",
       "    }\n",
       "\n",
       "    .dataframe tbody tr th {\n",
       "        vertical-align: top;\n",
       "    }\n",
       "\n",
       "    .dataframe thead th {\n",
       "        text-align: right;\n",
       "    }\n",
       "</style>\n",
       "<table border=\"1\" class=\"dataframe\">\n",
       "  <thead>\n",
       "    <tr style=\"text-align: right;\">\n",
       "      <th></th>\n",
       "      <th>id</th>\n",
       "      <th>edad</th>\n",
       "      <th>facturacion</th>\n",
       "      <th>antiguedad</th>\n",
       "      <th>provincia</th>\n",
       "      <th>num_lineas</th>\n",
       "      <th>num_dt</th>\n",
       "      <th>incidencia</th>\n",
       "      <th>num_llamad_ent</th>\n",
       "      <th>num_llamad_sal</th>\n",
       "      <th>...</th>\n",
       "      <th>seg_llamad_ent</th>\n",
       "      <th>seg_llamad_sal</th>\n",
       "      <th>conexion</th>\n",
       "      <th>vel_conexion</th>\n",
       "      <th>TV</th>\n",
       "      <th>financiacion</th>\n",
       "      <th>imp_financ</th>\n",
       "      <th>descuentos</th>\n",
       "      <th>y_clients</th>\n",
       "      <th>año_ingreso</th>\n",
       "    </tr>\n",
       "  </thead>\n",
       "  <tbody>\n",
       "    <tr>\n",
       "      <th>0</th>\n",
       "      <td>1</td>\n",
       "      <td>63</td>\n",
       "      <td>216.028109</td>\n",
       "      <td>2018-11-23 08:48:00</td>\n",
       "      <td>La Rioja</td>\n",
       "      <td>5</td>\n",
       "      <td>0.0</td>\n",
       "      <td>NO</td>\n",
       "      <td>110</td>\n",
       "      <td>79</td>\n",
       "      <td>...</td>\n",
       "      <td>12806</td>\n",
       "      <td>13751</td>\n",
       "      <td>FIBRA</td>\n",
       "      <td>50MB</td>\n",
       "      <td>tv-futbol</td>\n",
       "      <td>NO</td>\n",
       "      <td>0.0</td>\n",
       "      <td>0</td>\n",
       "      <td>0</td>\n",
       "      <td>2018</td>\n",
       "    </tr>\n",
       "    <tr>\n",
       "      <th>1</th>\n",
       "      <td>2</td>\n",
       "      <td>84</td>\n",
       "      <td>255.830842</td>\n",
       "      <td>2017-08-22 03:19:00</td>\n",
       "      <td>Vizcaya</td>\n",
       "      <td>3</td>\n",
       "      <td>0.0</td>\n",
       "      <td>NO</td>\n",
       "      <td>189</td>\n",
       "      <td>89</td>\n",
       "      <td>...</td>\n",
       "      <td>6499</td>\n",
       "      <td>10862</td>\n",
       "      <td>FIBRA</td>\n",
       "      <td>600MB</td>\n",
       "      <td>tv-futbol</td>\n",
       "      <td>NO</td>\n",
       "      <td>0.0</td>\n",
       "      <td>SI</td>\n",
       "      <td>0</td>\n",
       "      <td>2017</td>\n",
       "    </tr>\n",
       "    <tr>\n",
       "      <th>2</th>\n",
       "      <td>3</td>\n",
       "      <td>66</td>\n",
       "      <td>135.768153</td>\n",
       "      <td>2001-12-27 13:50:00</td>\n",
       "      <td>Albacete</td>\n",
       "      <td>4</td>\n",
       "      <td>0.0</td>\n",
       "      <td>NO</td>\n",
       "      <td>129</td>\n",
       "      <td>30</td>\n",
       "      <td>...</td>\n",
       "      <td>17013</td>\n",
       "      <td>16743</td>\n",
       "      <td>ADSL</td>\n",
       "      <td>35MB</td>\n",
       "      <td>tv-futbol</td>\n",
       "      <td>NO</td>\n",
       "      <td>0.0</td>\n",
       "      <td>SI</td>\n",
       "      <td>0</td>\n",
       "      <td>2001</td>\n",
       "    </tr>\n",
       "    <tr>\n",
       "      <th>3</th>\n",
       "      <td>4</td>\n",
       "      <td>69</td>\n",
       "      <td>255.658527</td>\n",
       "      <td>2015-08-08 10:53:00</td>\n",
       "      <td>Lugo</td>\n",
       "      <td>4</td>\n",
       "      <td>0.0</td>\n",
       "      <td>NO</td>\n",
       "      <td>51</td>\n",
       "      <td>52</td>\n",
       "      <td>...</td>\n",
       "      <td>3393</td>\n",
       "      <td>6771</td>\n",
       "      <td>FIBRA</td>\n",
       "      <td>200MB</td>\n",
       "      <td>tv-familiar</td>\n",
       "      <td>NO</td>\n",
       "      <td>0.0</td>\n",
       "      <td>0</td>\n",
       "      <td>0</td>\n",
       "      <td>2015</td>\n",
       "    </tr>\n",
       "    <tr>\n",
       "      <th>4</th>\n",
       "      <td>5</td>\n",
       "      <td>25</td>\n",
       "      <td>22.302845</td>\n",
       "      <td>1997-08-29 02:19:00</td>\n",
       "      <td>Tarragona</td>\n",
       "      <td>2</td>\n",
       "      <td>2.0</td>\n",
       "      <td>NO</td>\n",
       "      <td>183</td>\n",
       "      <td>3</td>\n",
       "      <td>...</td>\n",
       "      <td>18436</td>\n",
       "      <td>4485</td>\n",
       "      <td>ADSL</td>\n",
       "      <td>10MB</td>\n",
       "      <td>tv-futbol</td>\n",
       "      <td>NO</td>\n",
       "      <td>0.0</td>\n",
       "      <td>0</td>\n",
       "      <td>1</td>\n",
       "      <td>1997</td>\n",
       "    </tr>\n",
       "  </tbody>\n",
       "</table>\n",
       "<p>5 rows × 21 columns</p>\n",
       "</div>"
      ],
      "text/plain": [
       "   id  edad  facturacion          antiguedad  provincia  num_lineas  num_dt  \\\n",
       "0   1    63   216.028109 2018-11-23 08:48:00   La Rioja           5     0.0   \n",
       "1   2    84   255.830842 2017-08-22 03:19:00    Vizcaya           3     0.0   \n",
       "2   3    66   135.768153 2001-12-27 13:50:00   Albacete           4     0.0   \n",
       "3   4    69   255.658527 2015-08-08 10:53:00       Lugo           4     0.0   \n",
       "4   5    25    22.302845 1997-08-29 02:19:00  Tarragona           2     2.0   \n",
       "\n",
       "  incidencia  num_llamad_ent  num_llamad_sal  ...  seg_llamad_ent  \\\n",
       "0         NO             110              79  ...           12806   \n",
       "1         NO             189              89  ...            6499   \n",
       "2         NO             129              30  ...           17013   \n",
       "3         NO              51              52  ...            3393   \n",
       "4         NO             183               3  ...           18436   \n",
       "\n",
       "   seg_llamad_sal  conexion vel_conexion           TV financiacion imp_financ  \\\n",
       "0           13751     FIBRA         50MB    tv-futbol           NO        0.0   \n",
       "1           10862     FIBRA        600MB    tv-futbol           NO        0.0   \n",
       "2           16743      ADSL         35MB    tv-futbol           NO        0.0   \n",
       "3            6771     FIBRA        200MB  tv-familiar           NO        0.0   \n",
       "4            4485      ADSL         10MB    tv-futbol           NO        0.0   \n",
       "\n",
       "   descuentos y_clients  año_ingreso  \n",
       "0           0         0         2018  \n",
       "1          SI         0         2017  \n",
       "2          SI         0         2001  \n",
       "3           0         0         2015  \n",
       "4           0         1         1997  \n",
       "\n",
       "[5 rows x 21 columns]"
      ]
     },
     "execution_count": 436,
     "metadata": {},
     "output_type": "execute_result"
    }
   ],
   "source": [
    "# Creation of a column that contains the year of entry to the company to later calculate its age in yearsdatos_diciembre['año_ingreso'] = pd.DatetimeIndex(datos_diciembre['antiguedad']).year\n",
    "december_data['año_ingreso'] = pd.DatetimeIndex(december_data['antiguedad']).year\n",
    "december_data.head()"
   ]
  },
  {
   "cell_type": "code",
   "execution_count": 437,
   "metadata": {},
   "outputs": [
    {
     "data": {
      "text/html": [
       "<div>\n",
       "<style scoped>\n",
       "    .dataframe tbody tr th:only-of-type {\n",
       "        vertical-align: middle;\n",
       "    }\n",
       "\n",
       "    .dataframe tbody tr th {\n",
       "        vertical-align: top;\n",
       "    }\n",
       "\n",
       "    .dataframe thead th {\n",
       "        text-align: right;\n",
       "    }\n",
       "</style>\n",
       "<table border=\"1\" class=\"dataframe\">\n",
       "  <thead>\n",
       "    <tr style=\"text-align: right;\">\n",
       "      <th></th>\n",
       "      <th>id</th>\n",
       "      <th>edad</th>\n",
       "      <th>facturacion</th>\n",
       "      <th>antiguedad</th>\n",
       "      <th>provincia</th>\n",
       "      <th>num_lineas</th>\n",
       "      <th>num_dt</th>\n",
       "      <th>incidencia</th>\n",
       "      <th>num_llamad_ent</th>\n",
       "      <th>num_llamad_sal</th>\n",
       "      <th>...</th>\n",
       "      <th>seg_llamad_sal</th>\n",
       "      <th>conexion</th>\n",
       "      <th>vel_conexion</th>\n",
       "      <th>TV</th>\n",
       "      <th>financiacion</th>\n",
       "      <th>imp_financ</th>\n",
       "      <th>descuentos</th>\n",
       "      <th>y_clients</th>\n",
       "      <th>año_ingreso</th>\n",
       "      <th>antiguedad_años</th>\n",
       "    </tr>\n",
       "  </thead>\n",
       "  <tbody>\n",
       "    <tr>\n",
       "      <th>0</th>\n",
       "      <td>1</td>\n",
       "      <td>63</td>\n",
       "      <td>216.028109</td>\n",
       "      <td>2018-11-23 08:48:00</td>\n",
       "      <td>La Rioja</td>\n",
       "      <td>5</td>\n",
       "      <td>0.0</td>\n",
       "      <td>NO</td>\n",
       "      <td>110</td>\n",
       "      <td>79</td>\n",
       "      <td>...</td>\n",
       "      <td>13751</td>\n",
       "      <td>FIBRA</td>\n",
       "      <td>50MB</td>\n",
       "      <td>tv-futbol</td>\n",
       "      <td>NO</td>\n",
       "      <td>0.0</td>\n",
       "      <td>0</td>\n",
       "      <td>0</td>\n",
       "      <td>2018</td>\n",
       "      <td>1</td>\n",
       "    </tr>\n",
       "    <tr>\n",
       "      <th>1</th>\n",
       "      <td>2</td>\n",
       "      <td>84</td>\n",
       "      <td>255.830842</td>\n",
       "      <td>2017-08-22 03:19:00</td>\n",
       "      <td>Vizcaya</td>\n",
       "      <td>3</td>\n",
       "      <td>0.0</td>\n",
       "      <td>NO</td>\n",
       "      <td>189</td>\n",
       "      <td>89</td>\n",
       "      <td>...</td>\n",
       "      <td>10862</td>\n",
       "      <td>FIBRA</td>\n",
       "      <td>600MB</td>\n",
       "      <td>tv-futbol</td>\n",
       "      <td>NO</td>\n",
       "      <td>0.0</td>\n",
       "      <td>SI</td>\n",
       "      <td>0</td>\n",
       "      <td>2017</td>\n",
       "      <td>2</td>\n",
       "    </tr>\n",
       "    <tr>\n",
       "      <th>2</th>\n",
       "      <td>3</td>\n",
       "      <td>66</td>\n",
       "      <td>135.768153</td>\n",
       "      <td>2001-12-27 13:50:00</td>\n",
       "      <td>Albacete</td>\n",
       "      <td>4</td>\n",
       "      <td>0.0</td>\n",
       "      <td>NO</td>\n",
       "      <td>129</td>\n",
       "      <td>30</td>\n",
       "      <td>...</td>\n",
       "      <td>16743</td>\n",
       "      <td>ADSL</td>\n",
       "      <td>35MB</td>\n",
       "      <td>tv-futbol</td>\n",
       "      <td>NO</td>\n",
       "      <td>0.0</td>\n",
       "      <td>SI</td>\n",
       "      <td>0</td>\n",
       "      <td>2001</td>\n",
       "      <td>18</td>\n",
       "    </tr>\n",
       "    <tr>\n",
       "      <th>3</th>\n",
       "      <td>4</td>\n",
       "      <td>69</td>\n",
       "      <td>255.658527</td>\n",
       "      <td>2015-08-08 10:53:00</td>\n",
       "      <td>Lugo</td>\n",
       "      <td>4</td>\n",
       "      <td>0.0</td>\n",
       "      <td>NO</td>\n",
       "      <td>51</td>\n",
       "      <td>52</td>\n",
       "      <td>...</td>\n",
       "      <td>6771</td>\n",
       "      <td>FIBRA</td>\n",
       "      <td>200MB</td>\n",
       "      <td>tv-familiar</td>\n",
       "      <td>NO</td>\n",
       "      <td>0.0</td>\n",
       "      <td>0</td>\n",
       "      <td>0</td>\n",
       "      <td>2015</td>\n",
       "      <td>4</td>\n",
       "    </tr>\n",
       "    <tr>\n",
       "      <th>4</th>\n",
       "      <td>5</td>\n",
       "      <td>25</td>\n",
       "      <td>22.302845</td>\n",
       "      <td>1997-08-29 02:19:00</td>\n",
       "      <td>Tarragona</td>\n",
       "      <td>2</td>\n",
       "      <td>2.0</td>\n",
       "      <td>NO</td>\n",
       "      <td>183</td>\n",
       "      <td>3</td>\n",
       "      <td>...</td>\n",
       "      <td>4485</td>\n",
       "      <td>ADSL</td>\n",
       "      <td>10MB</td>\n",
       "      <td>tv-futbol</td>\n",
       "      <td>NO</td>\n",
       "      <td>0.0</td>\n",
       "      <td>0</td>\n",
       "      <td>1</td>\n",
       "      <td>1997</td>\n",
       "      <td>22</td>\n",
       "    </tr>\n",
       "  </tbody>\n",
       "</table>\n",
       "<p>5 rows × 22 columns</p>\n",
       "</div>"
      ],
      "text/plain": [
       "   id  edad  facturacion          antiguedad  provincia  num_lineas  num_dt  \\\n",
       "0   1    63   216.028109 2018-11-23 08:48:00   La Rioja           5     0.0   \n",
       "1   2    84   255.830842 2017-08-22 03:19:00    Vizcaya           3     0.0   \n",
       "2   3    66   135.768153 2001-12-27 13:50:00   Albacete           4     0.0   \n",
       "3   4    69   255.658527 2015-08-08 10:53:00       Lugo           4     0.0   \n",
       "4   5    25    22.302845 1997-08-29 02:19:00  Tarragona           2     2.0   \n",
       "\n",
       "  incidencia  num_llamad_ent  num_llamad_sal  ...  seg_llamad_sal  conexion  \\\n",
       "0         NO             110              79  ...           13751     FIBRA   \n",
       "1         NO             189              89  ...           10862     FIBRA   \n",
       "2         NO             129              30  ...           16743      ADSL   \n",
       "3         NO              51              52  ...            6771     FIBRA   \n",
       "4         NO             183               3  ...            4485      ADSL   \n",
       "\n",
       "   vel_conexion           TV financiacion imp_financ descuentos  y_clients  \\\n",
       "0          50MB    tv-futbol           NO        0.0          0          0   \n",
       "1         600MB    tv-futbol           NO        0.0         SI          0   \n",
       "2          35MB    tv-futbol           NO        0.0         SI          0   \n",
       "3         200MB  tv-familiar           NO        0.0          0          0   \n",
       "4          10MB    tv-futbol           NO        0.0          0          1   \n",
       "\n",
       "  año_ingreso  antiguedad_años  \n",
       "0        2018                1  \n",
       "1        2017                2  \n",
       "2        2001               18  \n",
       "3        2015                4  \n",
       "4        1997               22  \n",
       "\n",
       "[5 rows x 22 columns]"
      ]
     },
     "execution_count": 437,
     "metadata": {},
     "output_type": "execute_result"
    }
   ],
   "source": [
    "# Creation of variable that tells me the age in years\n",
    "december_data['antiguedad_años'] = 2019 - december_data['año_ingreso']\n",
    "december_data.head()"
   ]
  },
  {
   "cell_type": "code",
   "execution_count": 438,
   "metadata": {},
   "outputs": [
    {
     "data": {
      "text/plain": [
       "13    3958\n",
       "20    3903\n",
       "19    3886\n",
       "9     3857\n",
       "15    3851\n",
       "5     3850\n",
       "16    3847\n",
       "12    3843\n",
       "8     3838\n",
       "10    3834\n",
       "14    3831\n",
       "22    3825\n",
       "11    3824\n",
       "24    3818\n",
       "0     3809\n",
       "1     3798\n",
       "7     3793\n",
       "23    3792\n",
       "6     3786\n",
       "4     3775\n",
       "21    3774\n",
       "3     3770\n",
       "17    3758\n",
       "18    3743\n",
       "2     3704\n",
       "Name: antiguedad_años, dtype: int64"
      ]
     },
     "execution_count": 438,
     "metadata": {},
     "output_type": "execute_result"
    }
   ],
   "source": [
    "december_data['antiguedad_años'].value_counts() "
   ]
  },
  {
   "cell_type": "code",
   "execution_count": 439,
   "metadata": {},
   "outputs": [],
   "source": [
    "december_data.drop('año_ingreso',axis=1, inplace=True)"
   ]
  },
  {
   "cell_type": "code",
   "execution_count": 440,
   "metadata": {},
   "outputs": [],
   "source": [
    "december_data.drop('antiguedad',axis=1, inplace=True)"
   ]
  },
  {
   "cell_type": "markdown",
   "metadata": {},
   "source": [
    "2) PROVINCIA"
   ]
  },
  {
   "cell_type": "code",
   "execution_count": 441,
   "metadata": {},
   "outputs": [
    {
     "data": {
      "text/plain": [
       "50"
      ]
     },
     "execution_count": 441,
     "metadata": {},
     "output_type": "execute_result"
    }
   ],
   "source": [
    "len(december_data['provincia'].unique())"
   ]
  },
  {
   "cell_type": "code",
   "execution_count": 442,
   "metadata": {
    "scrolled": true
   },
   "outputs": [
    {
     "data": {
      "text/plain": [
       "Zaragoza                  1991\n",
       "Navarra                   1986\n",
       "Málaga                    1973\n",
       "Valencia                  1972\n",
       "Asturias                  1972\n",
       "Murcia                    1967\n",
       "Orense                    1958\n",
       "Alicante                  1954\n",
       "Córdoba                   1949\n",
       "Cáceres                   1945\n",
       "Burgos                    1939\n",
       "Guipúzcoa                 1936\n",
       "Álava                     1932\n",
       "Valladolid                1931\n",
       "Sevilla                   1928\n",
       "Huelva                    1924\n",
       "Santa Cruz de Tenerife    1922\n",
       "La Coruña                 1921\n",
       "Segovia                   1917\n",
       "Castellón                 1915\n",
       "Granada                   1914\n",
       "Zamora                    1913\n",
       "Tarragona                 1913\n",
       "Almería                   1912\n",
       "Soria                     1909\n",
       "Pontevedra                1907\n",
       "Madrid                    1907\n",
       "Ciudad Real               1905\n",
       "Cádiz                     1902\n",
       "Badajoz                   1900\n",
       "Barcelona                 1899\n",
       "Islas Baleares            1899\n",
       "Salamanca                 1898\n",
       "Teruel                    1898\n",
       "Ávila                     1893\n",
       "Albacete                  1889\n",
       "Jaén                      1888\n",
       "Guadalajara               1881\n",
       "Lérida                    1879\n",
       "La Rioja                  1877\n",
       "Lugo                      1871\n",
       "Toledo                    1869\n",
       "Gerona                    1864\n",
       "Palencia                  1860\n",
       "Las Palmas                1860\n",
       "Cuenca                    1855\n",
       "Cantabria                 1853\n",
       "León                      1851\n",
       "Vizcaya                   1838\n",
       "Huesca                    1831\n",
       "Name: provincia, dtype: int64"
      ]
     },
     "execution_count": 442,
     "metadata": {},
     "output_type": "execute_result"
    }
   ],
   "source": [
    "december_data['provincia'].value_counts() "
   ]
  },
  {
   "cell_type": "code",
   "execution_count": 443,
   "metadata": {},
   "outputs": [],
   "source": [
    "#We could have done this with a Label Encode, but personally I preferred to do it manually\n",
    "december_data.provincia.replace(('Zaragoza','Navarra','Málaga','Asturias','Valencia',\n",
    "                                   'Murcia','Orense','Alicante','Córdoba','Cáceres',\n",
    "                                   'Burgos','Guipúzcoa','Álava','Valladolid','Sevilla',\n",
    "                                   'Huelva', 'Santa Cruz de Tenerife', 'La Coruña', 'Segovia','Castellón',\n",
    "                                   'Granada','Tarragona','Zamora','Almería','Soria',\n",
    "                                   'Madrid','Pontevedra','Ciudad Real','Cádiz','Badajoz',\n",
    "                                   'Islas Baleares','Barcelona','Teruel','Salamanca','Ávila',\n",
    "                                   'Albacete','Jaén','Guadalajara','Lérida','La Rioja',\n",
    "                                   'Lugo','Toledo','Gerona','Las Palmas','Palencia',\n",
    "                                   'Cuenca','Cantabria','León','Vizcaya','Huesca'\n",
    "                                   ),\n",
    "                                  (1,2,3,4,5,6,7,8,9,10,11,12,13,14,15,16,17,18,19,20,\n",
    "                                  21,22,23,24,25,26,27,28,29,30,31,32,33,34,35,36,37,\n",
    "                                  38,39,40,41,42,43,44,45,46,47,48,49,50),inplace=True)"
   ]
  },
  {
   "cell_type": "markdown",
   "metadata": {},
   "source": [
    "3) INCIDENCIA"
   ]
  },
  {
   "cell_type": "code",
   "execution_count": 444,
   "metadata": {},
   "outputs": [
    {
     "data": {
      "text/plain": [
       "NO    90235\n",
       "SI     5232\n",
       "Name: incidencia, dtype: int64"
      ]
     },
     "execution_count": 444,
     "metadata": {},
     "output_type": "execute_result"
    }
   ],
   "source": [
    "december_data['incidencia'].value_counts()"
   ]
  },
  {
   "cell_type": "code",
   "execution_count": 445,
   "metadata": {},
   "outputs": [],
   "source": [
    "december_data['incidencia'] = december_data['incidencia'].map({'SI':1,'NO':0})"
   ]
  },
  {
   "cell_type": "code",
   "execution_count": 446,
   "metadata": {},
   "outputs": [
    {
     "data": {
      "text/plain": [
       "0    90235\n",
       "1     5232\n",
       "Name: incidencia, dtype: int64"
      ]
     },
     "execution_count": 446,
     "metadata": {},
     "output_type": "execute_result"
    }
   ],
   "source": [
    "december_data['incidencia'].value_counts()"
   ]
  },
  {
   "cell_type": "markdown",
   "metadata": {},
   "source": [
    "4) CONEXIÓN"
   ]
  },
  {
   "cell_type": "code",
   "execution_count": 447,
   "metadata": {},
   "outputs": [
    {
     "data": {
      "text/plain": [
       "ADSL     47900\n",
       "FIBRA    47567\n",
       "Name: conexion, dtype: int64"
      ]
     },
     "execution_count": 447,
     "metadata": {},
     "output_type": "execute_result"
    }
   ],
   "source": [
    "december_data['conexion'].value_counts()"
   ]
  },
  {
   "cell_type": "code",
   "execution_count": 448,
   "metadata": {},
   "outputs": [],
   "source": [
    "#ADSL = 1, FIBRA = 0\n",
    "december_data['conexion'] = december_data['conexion'].map({'ADSL':1,'FIBRA':0})"
   ]
  },
  {
   "cell_type": "code",
   "execution_count": 449,
   "metadata": {},
   "outputs": [
    {
     "data": {
      "text/plain": [
       "1    47900\n",
       "0    47567\n",
       "Name: conexion, dtype: int64"
      ]
     },
     "execution_count": 449,
     "metadata": {},
     "output_type": "execute_result"
    }
   ],
   "source": [
    "december_data['conexion'].value_counts()"
   ]
  },
  {
   "cell_type": "markdown",
   "metadata": {},
   "source": [
    "5) VELOCIDAD"
   ]
  },
  {
   "cell_type": "code",
   "execution_count": 450,
   "metadata": {},
   "outputs": [
    {
     "data": {
      "text/plain": [
       "200MB    9677\n",
       "600MB    9623\n",
       "50MB     9474\n",
       "300MB    9461\n",
       "100MB    9332\n",
       "20MB     8113\n",
       "25MB     8112\n",
       "10MB     7970\n",
       "30MB     7948\n",
       "35MB     7947\n",
       "15MB     7810\n",
       "Name: vel_conexion, dtype: int64"
      ]
     },
     "execution_count": 450,
     "metadata": {},
     "output_type": "execute_result"
    }
   ],
   "source": [
    "december_data['vel_conexion'].value_counts()"
   ]
  },
  {
   "cell_type": "code",
   "execution_count": 451,
   "metadata": {},
   "outputs": [],
   "source": [
    "# Creation of a function to leave only the numbers\n",
    "def dejar_solo_cifras(txt):\n",
    "  return \"\".join(c for c in txt if c.isdigit())"
   ]
  },
  {
   "cell_type": "code",
   "execution_count": 452,
   "metadata": {},
   "outputs": [],
   "source": [
    "december_data.vel_conexion = december_data.vel_conexion.map(dejar_solo_cifras)"
   ]
  },
  {
   "cell_type": "code",
   "execution_count": 453,
   "metadata": {},
   "outputs": [
    {
     "data": {
      "text/plain": [
       "200    9677\n",
       "600    9623\n",
       "50     9474\n",
       "300    9461\n",
       "100    9332\n",
       "20     8113\n",
       "25     8112\n",
       "10     7970\n",
       "30     7948\n",
       "35     7947\n",
       "15     7810\n",
       "Name: vel_conexion, dtype: int64"
      ]
     },
     "execution_count": 453,
     "metadata": {},
     "output_type": "execute_result"
    }
   ],
   "source": [
    "december_data['vel_conexion'].value_counts()"
   ]
  },
  {
   "cell_type": "code",
   "execution_count": 454,
   "metadata": {},
   "outputs": [],
   "source": [
    "december_data['vel_conexion'] = december_data['vel_conexion'].astype(int)"
   ]
  },
  {
   "cell_type": "markdown",
   "metadata": {},
   "source": [
    "6) TV"
   ]
  },
  {
   "cell_type": "code",
   "execution_count": 455,
   "metadata": {},
   "outputs": [
    {
     "data": {
      "text/plain": [
       "tv-futbol      47535\n",
       "tv-familiar    33768\n",
       "tv-total       14164\n",
       "Name: TV, dtype: int64"
      ]
     },
     "execution_count": 455,
     "metadata": {},
     "output_type": "execute_result"
    }
   ],
   "source": [
    "december_data['TV'].value_counts()"
   ]
  },
  {
   "cell_type": "code",
   "execution_count": 456,
   "metadata": {},
   "outputs": [],
   "source": [
    "#tv-futbol:0, tv-familiar:1, tv-total:2\n",
    "december_data['TV'] = december_data['TV'].map({'tv-futbol':0,'tv-familiar':1, 'tv-total':2})"
   ]
  },
  {
   "cell_type": "code",
   "execution_count": 457,
   "metadata": {},
   "outputs": [
    {
     "data": {
      "text/plain": [
       "0    47535\n",
       "1    33768\n",
       "2    14164\n",
       "Name: TV, dtype: int64"
      ]
     },
     "execution_count": 457,
     "metadata": {},
     "output_type": "execute_result"
    }
   ],
   "source": [
    "december_data['TV'].value_counts()"
   ]
  },
  {
   "cell_type": "markdown",
   "metadata": {},
   "source": [
    "7) FINANCIACIÓN"
   ]
  },
  {
   "cell_type": "code",
   "execution_count": 458,
   "metadata": {},
   "outputs": [
    {
     "data": {
      "text/plain": [
       "NO    89095\n",
       "SI     6372\n",
       "Name: financiacion, dtype: int64"
      ]
     },
     "execution_count": 458,
     "metadata": {},
     "output_type": "execute_result"
    }
   ],
   "source": [
    "december_data['financiacion'].value_counts()"
   ]
  },
  {
   "cell_type": "code",
   "execution_count": 459,
   "metadata": {},
   "outputs": [],
   "source": [
    "december_data['financiacion'] = december_data['financiacion'].map({'SI':1,'NO':0})"
   ]
  },
  {
   "cell_type": "code",
   "execution_count": 460,
   "metadata": {},
   "outputs": [
    {
     "data": {
      "text/plain": [
       "0    89095\n",
       "1     6372\n",
       "Name: financiacion, dtype: int64"
      ]
     },
     "execution_count": 460,
     "metadata": {},
     "output_type": "execute_result"
    }
   ],
   "source": [
    "december_data['financiacion'].value_counts()"
   ]
  },
  {
   "cell_type": "markdown",
   "metadata": {},
   "source": [
    "8) DESCUENTOS"
   ]
  },
  {
   "cell_type": "code",
   "execution_count": 461,
   "metadata": {},
   "outputs": [
    {
     "data": {
      "text/plain": [
       "0     76313\n",
       "SI    19154\n",
       "Name: descuentos, dtype: int64"
      ]
     },
     "execution_count": 461,
     "metadata": {},
     "output_type": "execute_result"
    }
   ],
   "source": [
    "december_data['descuentos'].value_counts()"
   ]
  },
  {
   "cell_type": "code",
   "execution_count": 462,
   "metadata": {},
   "outputs": [],
   "source": [
    "december_data['descuentos'] = december_data['descuentos'].map({'SI':1,0:0})"
   ]
  },
  {
   "cell_type": "code",
   "execution_count": 463,
   "metadata": {},
   "outputs": [
    {
     "data": {
      "text/plain": [
       "0    76313\n",
       "1    19154\n",
       "Name: descuentos, dtype: int64"
      ]
     },
     "execution_count": 463,
     "metadata": {},
     "output_type": "execute_result"
    }
   ],
   "source": [
    "december_data['descuentos'].value_counts()"
   ]
  },
  {
   "cell_type": "code",
   "execution_count": 464,
   "metadata": {},
   "outputs": [
    {
     "data": {
      "text/plain": [
       "id                   int64\n",
       "edad                 int64\n",
       "facturacion        float64\n",
       "provincia            int64\n",
       "num_lineas           int64\n",
       "num_dt             float64\n",
       "incidencia           int64\n",
       "num_llamad_ent       int64\n",
       "num_llamad_sal       int64\n",
       "mb_datos             int64\n",
       "seg_llamad_ent       int64\n",
       "seg_llamad_sal       int64\n",
       "conexion             int64\n",
       "vel_conexion         int64\n",
       "TV                   int64\n",
       "financiacion         int64\n",
       "imp_financ         float64\n",
       "descuentos           int64\n",
       "y_clients            int64\n",
       "antiguedad_años      int64\n",
       "dtype: object"
      ]
     },
     "execution_count": 464,
     "metadata": {},
     "output_type": "execute_result"
    }
   ],
   "source": [
    "#We check that everything is numeric\n",
    "december_data.dtypes"
   ]
  },
  {
   "cell_type": "markdown",
   "metadata": {},
   "source": [
    "#### Correlation analysis"
   ]
  },
  {
   "cell_type": "code",
   "execution_count": 465,
   "metadata": {},
   "outputs": [
    {
     "data": {
      "text/html": [
       "<style  type=\"text/css\" >\n",
       "    #T_f12855cc_ed6c_11ea_9571_d0817ac3a282row0_col0 {\n",
       "            background-color:  #023858;\n",
       "            color:  #f1f1f1;\n",
       "        }    #T_f12855cc_ed6c_11ea_9571_d0817ac3a282row1_col0 {\n",
       "            background-color:  #71a8ce;\n",
       "            color:  #000000;\n",
       "        }    #T_f12855cc_ed6c_11ea_9571_d0817ac3a282row2_col0 {\n",
       "            background-color:  #73a9cf;\n",
       "            color:  #000000;\n",
       "        }    #T_f12855cc_ed6c_11ea_9571_d0817ac3a282row3_col0 {\n",
       "            background-color:  #e8e4f0;\n",
       "            color:  #000000;\n",
       "        }    #T_f12855cc_ed6c_11ea_9571_d0817ac3a282row4_col0 {\n",
       "            background-color:  #f4edf6;\n",
       "            color:  #000000;\n",
       "        }    #T_f12855cc_ed6c_11ea_9571_d0817ac3a282row5_col0 {\n",
       "            background-color:  #f5eef6;\n",
       "            color:  #000000;\n",
       "        }    #T_f12855cc_ed6c_11ea_9571_d0817ac3a282row6_col0 {\n",
       "            background-color:  #fef6fb;\n",
       "            color:  #000000;\n",
       "        }    #T_f12855cc_ed6c_11ea_9571_d0817ac3a282row7_col0 {\n",
       "            background-color:  #fef6fb;\n",
       "            color:  #000000;\n",
       "        }    #T_f12855cc_ed6c_11ea_9571_d0817ac3a282row8_col0 {\n",
       "            background-color:  #fff7fb;\n",
       "            color:  #000000;\n",
       "        }    #T_f12855cc_ed6c_11ea_9571_d0817ac3a282row9_col0 {\n",
       "            background-color:  #fff7fb;\n",
       "            color:  #000000;\n",
       "        }    #T_f12855cc_ed6c_11ea_9571_d0817ac3a282row10_col0 {\n",
       "            background-color:  #fff7fb;\n",
       "            color:  #000000;\n",
       "        }    #T_f12855cc_ed6c_11ea_9571_d0817ac3a282row11_col0 {\n",
       "            background-color:  #fff7fb;\n",
       "            color:  #000000;\n",
       "        }    #T_f12855cc_ed6c_11ea_9571_d0817ac3a282row12_col0 {\n",
       "            background-color:  #fff7fb;\n",
       "            color:  #000000;\n",
       "        }    #T_f12855cc_ed6c_11ea_9571_d0817ac3a282row13_col0 {\n",
       "            background-color:  #fff7fb;\n",
       "            color:  #000000;\n",
       "        }    #T_f12855cc_ed6c_11ea_9571_d0817ac3a282row14_col0 {\n",
       "            background-color:  #fff7fb;\n",
       "            color:  #000000;\n",
       "        }    #T_f12855cc_ed6c_11ea_9571_d0817ac3a282row15_col0 {\n",
       "            background-color:  #fff7fb;\n",
       "            color:  #000000;\n",
       "        }    #T_f12855cc_ed6c_11ea_9571_d0817ac3a282row16_col0 {\n",
       "            background-color:  #fff7fb;\n",
       "            color:  #000000;\n",
       "        }    #T_f12855cc_ed6c_11ea_9571_d0817ac3a282row17_col0 {\n",
       "            background-color:  #fff7fb;\n",
       "            color:  #000000;\n",
       "        }    #T_f12855cc_ed6c_11ea_9571_d0817ac3a282row18_col0 {\n",
       "            background-color:  #fff7fb;\n",
       "            color:  #000000;\n",
       "        }    #T_f12855cc_ed6c_11ea_9571_d0817ac3a282row19_col0 {\n",
       "            background-color:  #fff7fb;\n",
       "            color:  #000000;\n",
       "        }</style><table id=\"T_f12855cc_ed6c_11ea_9571_d0817ac3a282\" ><thead>    <tr>        <th class=\"blank level0\" ></th>        <th class=\"col_heading level0 col0\" >y_clients</th>    </tr></thead><tbody>\n",
       "                <tr>\n",
       "                        <th id=\"T_f12855cc_ed6c_11ea_9571_d0817ac3a282level0_row0\" class=\"row_heading level0 row0\" >y_clients</th>\n",
       "                        <td id=\"T_f12855cc_ed6c_11ea_9571_d0817ac3a282row0_col0\" class=\"data row0 col0\" >1.000000</td>\n",
       "            </tr>\n",
       "            <tr>\n",
       "                        <th id=\"T_f12855cc_ed6c_11ea_9571_d0817ac3a282level0_row1\" class=\"row_heading level0 row1\" >num_dt</th>\n",
       "                        <td id=\"T_f12855cc_ed6c_11ea_9571_d0817ac3a282row1_col0\" class=\"data row1 col0\" >0.504867</td>\n",
       "            </tr>\n",
       "            <tr>\n",
       "                        <th id=\"T_f12855cc_ed6c_11ea_9571_d0817ac3a282level0_row2\" class=\"row_heading level0 row2\" >incidencia</th>\n",
       "                        <td id=\"T_f12855cc_ed6c_11ea_9571_d0817ac3a282row2_col0\" class=\"data row2 col0\" >0.500885</td>\n",
       "            </tr>\n",
       "            <tr>\n",
       "                        <th id=\"T_f12855cc_ed6c_11ea_9571_d0817ac3a282level0_row3\" class=\"row_heading level0 row3\" >descuentos</th>\n",
       "                        <td id=\"T_f12855cc_ed6c_11ea_9571_d0817ac3a282row3_col0\" class=\"data row3 col0\" >0.141447</td>\n",
       "            </tr>\n",
       "            <tr>\n",
       "                        <th id=\"T_f12855cc_ed6c_11ea_9571_d0817ac3a282level0_row4\" class=\"row_heading level0 row4\" >financiacion</th>\n",
       "                        <td id=\"T_f12855cc_ed6c_11ea_9571_d0817ac3a282row4_col0\" class=\"data row4 col0\" >0.074597</td>\n",
       "            </tr>\n",
       "            <tr>\n",
       "                        <th id=\"T_f12855cc_ed6c_11ea_9571_d0817ac3a282level0_row5\" class=\"row_heading level0 row5\" >imp_financ</th>\n",
       "                        <td id=\"T_f12855cc_ed6c_11ea_9571_d0817ac3a282row5_col0\" class=\"data row5 col0\" >0.067626</td>\n",
       "            </tr>\n",
       "            <tr>\n",
       "                        <th id=\"T_f12855cc_ed6c_11ea_9571_d0817ac3a282level0_row6\" class=\"row_heading level0 row6\" >num_llamad_ent</th>\n",
       "                        <td id=\"T_f12855cc_ed6c_11ea_9571_d0817ac3a282row6_col0\" class=\"data row6 col0\" >0.006130</td>\n",
       "            </tr>\n",
       "            <tr>\n",
       "                        <th id=\"T_f12855cc_ed6c_11ea_9571_d0817ac3a282level0_row7\" class=\"row_heading level0 row7\" >TV</th>\n",
       "                        <td id=\"T_f12855cc_ed6c_11ea_9571_d0817ac3a282row7_col0\" class=\"data row7 col0\" >0.004284</td>\n",
       "            </tr>\n",
       "            <tr>\n",
       "                        <th id=\"T_f12855cc_ed6c_11ea_9571_d0817ac3a282level0_row8\" class=\"row_heading level0 row8\" >antiguedad_años</th>\n",
       "                        <td id=\"T_f12855cc_ed6c_11ea_9571_d0817ac3a282row8_col0\" class=\"data row8 col0\" >0.003310</td>\n",
       "            </tr>\n",
       "            <tr>\n",
       "                        <th id=\"T_f12855cc_ed6c_11ea_9571_d0817ac3a282level0_row9\" class=\"row_heading level0 row9\" >num_llamad_sal</th>\n",
       "                        <td id=\"T_f12855cc_ed6c_11ea_9571_d0817ac3a282row9_col0\" class=\"data row9 col0\" >0.003141</td>\n",
       "            </tr>\n",
       "            <tr>\n",
       "                        <th id=\"T_f12855cc_ed6c_11ea_9571_d0817ac3a282level0_row10\" class=\"row_heading level0 row10\" >edad</th>\n",
       "                        <td id=\"T_f12855cc_ed6c_11ea_9571_d0817ac3a282row10_col0\" class=\"data row10 col0\" >0.002864</td>\n",
       "            </tr>\n",
       "            <tr>\n",
       "                        <th id=\"T_f12855cc_ed6c_11ea_9571_d0817ac3a282level0_row11\" class=\"row_heading level0 row11\" >facturacion</th>\n",
       "                        <td id=\"T_f12855cc_ed6c_11ea_9571_d0817ac3a282row11_col0\" class=\"data row11 col0\" >0.002846</td>\n",
       "            </tr>\n",
       "            <tr>\n",
       "                        <th id=\"T_f12855cc_ed6c_11ea_9571_d0817ac3a282level0_row12\" class=\"row_heading level0 row12\" >conexion</th>\n",
       "                        <td id=\"T_f12855cc_ed6c_11ea_9571_d0817ac3a282row12_col0\" class=\"data row12 col0\" >0.002546</td>\n",
       "            </tr>\n",
       "            <tr>\n",
       "                        <th id=\"T_f12855cc_ed6c_11ea_9571_d0817ac3a282level0_row13\" class=\"row_heading level0 row13\" >vel_conexion</th>\n",
       "                        <td id=\"T_f12855cc_ed6c_11ea_9571_d0817ac3a282row13_col0\" class=\"data row13 col0\" >0.002439</td>\n",
       "            </tr>\n",
       "            <tr>\n",
       "                        <th id=\"T_f12855cc_ed6c_11ea_9571_d0817ac3a282level0_row14\" class=\"row_heading level0 row14\" >num_lineas</th>\n",
       "                        <td id=\"T_f12855cc_ed6c_11ea_9571_d0817ac3a282row14_col0\" class=\"data row14 col0\" >0.001733</td>\n",
       "            </tr>\n",
       "            <tr>\n",
       "                        <th id=\"T_f12855cc_ed6c_11ea_9571_d0817ac3a282level0_row15\" class=\"row_heading level0 row15\" >mb_datos</th>\n",
       "                        <td id=\"T_f12855cc_ed6c_11ea_9571_d0817ac3a282row15_col0\" class=\"data row15 col0\" >0.001201</td>\n",
       "            </tr>\n",
       "            <tr>\n",
       "                        <th id=\"T_f12855cc_ed6c_11ea_9571_d0817ac3a282level0_row16\" class=\"row_heading level0 row16\" >id</th>\n",
       "                        <td id=\"T_f12855cc_ed6c_11ea_9571_d0817ac3a282row16_col0\" class=\"data row16 col0\" >0.000866</td>\n",
       "            </tr>\n",
       "            <tr>\n",
       "                        <th id=\"T_f12855cc_ed6c_11ea_9571_d0817ac3a282level0_row17\" class=\"row_heading level0 row17\" >seg_llamad_ent</th>\n",
       "                        <td id=\"T_f12855cc_ed6c_11ea_9571_d0817ac3a282row17_col0\" class=\"data row17 col0\" >0.000526</td>\n",
       "            </tr>\n",
       "            <tr>\n",
       "                        <th id=\"T_f12855cc_ed6c_11ea_9571_d0817ac3a282level0_row18\" class=\"row_heading level0 row18\" >provincia</th>\n",
       "                        <td id=\"T_f12855cc_ed6c_11ea_9571_d0817ac3a282row18_col0\" class=\"data row18 col0\" >0.000143</td>\n",
       "            </tr>\n",
       "            <tr>\n",
       "                        <th id=\"T_f12855cc_ed6c_11ea_9571_d0817ac3a282level0_row19\" class=\"row_heading level0 row19\" >seg_llamad_sal</th>\n",
       "                        <td id=\"T_f12855cc_ed6c_11ea_9571_d0817ac3a282row19_col0\" class=\"data row19 col0\" >0.000089</td>\n",
       "            </tr>\n",
       "    </tbody></table>"
      ],
      "text/plain": [
       "<pandas.io.formats.style.Styler at 0x1a41a29490>"
      ]
     },
     "execution_count": 465,
     "metadata": {},
     "output_type": "execute_result"
    }
   ],
   "source": [
    "corr =  abs(december_data.corr())\n",
    "corr[['y_clients']].sort_values(by = 'y_clients',ascending = False).style.background_gradient()"
   ]
  },
  {
   "cell_type": "markdown",
   "metadata": {},
   "source": [
    "Based on the relationship between the variables and my target we can see that there are two highly correlated variables ('num_dt' and 'incidence') and then we have two more variables that seem important."
   ]
  },
  {
   "cell_type": "code",
   "execution_count": 466,
   "metadata": {},
   "outputs": [
    {
     "data": {
      "text/plain": [
       "<matplotlib.axes._subplots.AxesSubplot at 0x1a4dd3b550>"
      ]
     },
     "execution_count": 466,
     "metadata": {},
     "output_type": "execute_result"
    },
    {
     "data": {
      "image/png": "[encoded data removed]",
      "text/plain": [
       "<Figure size 2160x720 with 1 Axes>"
      ]
     },
     "metadata": {
      "needs_background": "light"
     },
     "output_type": "display_data"
    }
   ],
   "source": [
    "december_data.groupby([\"num_dt\", \"y_clients\"]).size().unstack().plot(kind='bar', stacked=True, figsize=(30,10))"
   ]
  },
  {
   "cell_type": "code",
   "execution_count": 467,
   "metadata": {},
   "outputs": [
    {
     "data": {
      "text/plain": [
       "<matplotlib.axes._subplots.AxesSubplot at 0x1a49d23d50>"
      ]
     },
     "execution_count": 467,
     "metadata": {},
     "output_type": "execute_result"
    },
    {
     "data": {
      "image/png": "[encoded data removed]",
      "text/plain": [
       "<Figure size 2160x720 with 1 Axes>"
      ]
     },
     "metadata": {
      "needs_background": "light"
     },
     "output_type": "display_data"
    }
   ],
   "source": [
    "december_data.groupby([\"incidencia\", \"y_clients\"]).size().unstack().plot(kind='bar', stacked=True, figsize=(30,10))"
   ]
  },
  {
   "cell_type": "code",
   "execution_count": 468,
   "metadata": {},
   "outputs": [
    {
     "data": {
      "text/plain": [
       "<matplotlib.axes._subplots.AxesSubplot at 0x1a26f04a90>"
      ]
     },
     "execution_count": 468,
     "metadata": {},
     "output_type": "execute_result"
    },
    {
     "data": {
      "image/png": "[encoded data removed]",
      "text/plain": [
       "<Figure size 2160x720 with 1 Axes>"
      ]
     },
     "metadata": {
      "needs_background": "light"
     },
     "output_type": "display_data"
    }
   ],
   "source": [
    "december_data.groupby([\"descuentos\", \"y_clients\"]).size().unstack().plot(kind='bar', stacked=True, figsize=(30,10)) "
   ]
  },
  {
   "cell_type": "code",
   "execution_count": 469,
   "metadata": {},
   "outputs": [
    {
     "data": {
      "text/plain": [
       "<matplotlib.axes._subplots.AxesSubplot at 0x1a27a7d2d0>"
      ]
     },
     "execution_count": 469,
     "metadata": {},
     "output_type": "execute_result"
    },
    {
     "data": {
      "image/png": "[encoded data removed]",
      "text/plain": [
       "<Figure size 2160x720 with 1 Axes>"
      ]
     },
     "metadata": {
      "needs_background": "light"
     },
     "output_type": "display_data"
    }
   ],
   "source": [
    "december_data.groupby([\"financiacion\", \"y_clients\"]).size().unstack().plot(kind='bar', stacked=True, figsize=(30,10))"
   ]
  },
  {
   "cell_type": "code",
   "execution_count": 470,
   "metadata": {},
   "outputs": [],
   "source": [
    "december_data.set_index('id',inplace=True)"
   ]
  },
  {
   "cell_type": "markdown",
   "metadata": {},
   "source": [
    "### 3) Stratified random sampling "
   ]
  },
  {
   "cell_type": "markdown",
   "metadata": {},
   "source": [
    "We need to stratify so that the train and test variables have the same proportion of customers that has churn and customers that stay as the original variable."
   ]
  },
  {
   "cell_type": "code",
   "execution_count": 471,
   "metadata": {},
   "outputs": [],
   "source": [
    "#I get my data without the target\n",
    "data = december_data.copy(deep = True)\n",
    "data.drop('y_clients',axis=1, inplace=True)"
   ]
  },
  {
   "cell_type": "code",
   "execution_count": 472,
   "metadata": {},
   "outputs": [],
   "source": [
    "y_december = december_data[['y_clients']]"
   ]
  },
  {
   "cell_type": "code",
   "execution_count": 473,
   "metadata": {},
   "outputs": [
    {
     "data": {
      "text/plain": [
       "(95467, 18)"
      ]
     },
     "execution_count": 473,
     "metadata": {},
     "output_type": "execute_result"
    }
   ],
   "source": [
    "data.shape"
   ]
  },
  {
   "cell_type": "code",
   "execution_count": 474,
   "metadata": {},
   "outputs": [
    {
     "data": {
      "text/plain": [
       "(95467, 1)"
      ]
     },
     "execution_count": 474,
     "metadata": {},
     "output_type": "execute_result"
    }
   ],
   "source": [
    "y_december.shape"
   ]
  },
  {
   "cell_type": "code",
   "execution_count": 475,
   "metadata": {},
   "outputs": [
    {
     "data": {
      "text/plain": [
       "0    88382\n",
       "1     7085\n",
       "Name: y_clients, dtype: int64"
      ]
     },
     "execution_count": 475,
     "metadata": {},
     "output_type": "execute_result"
    }
   ],
   "source": [
    "y_december['y_clients'].value_counts()"
   ]
  },
  {
   "cell_type": "code",
   "execution_count": 476,
   "metadata": {},
   "outputs": [
    {
     "data": {
      "text/plain": [
       "edad               3.837972e+02\n",
       "facturacion        1.239724e+04\n",
       "provincia          2.083071e+02\n",
       "num_lineas         1.179589e+00\n",
       "num_dt             4.827403e-01\n",
       "incidencia         5.180077e-02\n",
       "num_llamad_ent     5.255084e+03\n",
       "num_llamad_sal     8.479599e+02\n",
       "mb_datos           5.240867e+07\n",
       "seg_llamad_ent     3.321392e+07\n",
       "seg_llamad_sal     3.321780e+07\n",
       "conexion           2.499970e-01\n",
       "vel_conexion       3.214092e+04\n",
       "TV                 5.240972e-01\n",
       "financiacion       6.229060e-02\n",
       "imp_financ         3.780210e+01\n",
       "descuentos         1.603805e-01\n",
       "antiguedad_años    5.176277e+01\n",
       "dtype: float64"
      ]
     },
     "execution_count": 476,
     "metadata": {},
     "output_type": "execute_result"
    }
   ],
   "source": [
    "# We see the variance of the data\n",
    "np.var(data) "
   ]
  },
  {
   "cell_type": "code",
   "execution_count": 477,
   "metadata": {},
   "outputs": [],
   "source": [
    "## Variable scaling:\n",
    "# Let's do it since we have data that moves between ranges of small values, and others have much larger values.\n",
    "sc = StandardScaler()\n",
    "data_scaler = sc.fit_transform(data)"
   ]
  },
  {
   "cell_type": "code",
   "execution_count": 478,
   "metadata": {},
   "outputs": [],
   "source": [
    "X_train, X_test, y_train, y_test = train_test_split(data_scaler,\n",
    "                                                    y_december,\n",
    "                                                    test_size=0.2,\n",
    "                                                    random_state=42,\n",
    "                                                    stratify = y_december)"
   ]
  },
  {
   "cell_type": "code",
   "execution_count": 479,
   "metadata": {},
   "outputs": [],
   "source": [
    "def saca_metricas(y1, y2):\n",
    "    print('matriz de confusión')\n",
    "    print(confusion_matrix(y1, y2))\n",
    "    print('accuracy')\n",
    "    print(accuracy_score(y1, y2))\n",
    "    print('precision')\n",
    "    print(precision_score(y1, y2))\n",
    "    print('recall')\n",
    "    print(recall_score(y1, y2))\n",
    "    print('f1')\n",
    "    print(f1_score(y1, y2))\n",
    "    false_positive_rate, recall, thresholds = roc_curve(y1, y2)\n",
    "    roc_auc = auc(false_positive_rate, recall)\n",
    "    print('AUC')\n",
    "    print(roc_auc)\n",
    "    plt.plot(false_positive_rate, recall, 'b')\n",
    "    plt.plot([0, 1], [0, 1], 'r--')\n",
    "    plt.title('AUC = %0.2f' % roc_auc)  "
   ]
  },
  {
   "cell_type": "markdown",
   "metadata": {},
   "source": [
    "### 4) Model\n",
    "We have to use some classification model, since we need to know the probability that something happens or not. In this case, it is that the client leaves the company (1) or stays (0) from one month to another.\n",
    "\n",
    "Therefore, we are going to work with two types of models to see which is the best for this study (Logistic Regression and Random Forest)"
   ]
  },
  {
   "cell_type": "markdown",
   "metadata": {},
   "source": [
    "### We make our first models with all the variables"
   ]
  },
  {
   "cell_type": "code",
   "execution_count": 480,
   "metadata": {
    "scrolled": true
   },
   "outputs": [
    {
     "name": "stderr",
     "output_type": "stream",
     "text": [
      "/Users/geraldinedaianacacciatore/opt/anaconda3/lib/python3.7/site-packages/sklearn/utils/validation.py:760: DataConversionWarning: A column-vector y was passed when a 1d array was expected. Please change the shape of y to (n_samples, ), for example using ravel().\n",
      "  y = column_or_1d(y, warn=True)\n"
     ]
    }
   ],
   "source": [
    "model_log_1 = LogisticRegression().fit(X_train, y_train)\n",
    "y_pred_log_1 = model_log_1.predict(X_test)"
   ]
  },
  {
   "cell_type": "code",
   "execution_count": 481,
   "metadata": {},
   "outputs": [
    {
     "name": "stdout",
     "output_type": "stream",
     "text": [
      "matriz de confusión\n",
      "[[17400   277]\n",
      " [  200  1217]]\n",
      "accuracy\n",
      "0.9750183303655598\n",
      "precision\n",
      "0.8145917001338688\n",
      "recall\n",
      "0.8588567395906845\n",
      "f1\n",
      "0.8361387839230505\n",
      "AUC\n",
      "0.9215933299130094\n"
     ]
    },
    {
     "data": {
      "image/png": "[encoded data removed]",
      "text/plain": [
       "<Figure size 432x288 with 1 Axes>"
      ]
     },
     "metadata": {
      "needs_background": "light"
     },
     "output_type": "display_data"
    }
   ],
   "source": [
    "saca_metricas(y_test, y_pred_log_1)   "
   ]
  },
  {
   "cell_type": "code",
   "execution_count": 482,
   "metadata": {
    "scrolled": true
   },
   "outputs": [
    {
     "name": "stdout",
     "output_type": "stream",
     "text": [
      "Feature: 0, Score: 0.01357\n",
      "Feature: 1, Score: 0.03725\n",
      "Feature: 2, Score: 0.01761\n",
      "Feature: 3, Score: 0.03156\n",
      "Feature: 4, Score: 1.62492\n",
      "Feature: 5, Score: 1.32121\n",
      "Feature: 6, Score: 0.03120\n",
      "Feature: 7, Score: -0.01058\n",
      "Feature: 8, Score: 0.03716\n",
      "Feature: 9, Score: 0.01318\n",
      "Feature: 10, Score: -0.01604\n",
      "Feature: 11, Score: 0.01608\n",
      "Feature: 12, Score: 0.04607\n",
      "Feature: 13, Score: -0.00826\n",
      "Feature: 14, Score: -1.59902\n",
      "Feature: 15, Score: -0.68526\n",
      "Feature: 16, Score: -4.75090\n",
      "Feature: 17, Score: 0.00783\n"
     ]
    },
    {
     "data": {
      "image/png": "[encoded data removed]",
      "text/plain": [
       "<Figure size 432x288 with 1 Axes>"
      ]
     },
     "metadata": {
      "needs_background": "light"
     },
     "output_type": "display_data"
    }
   ],
   "source": [
    "# get importance\n",
    "importance = model_log_1.coef_[0]\n",
    "# summarize feature importance\n",
    "for i,v in enumerate(importance):\n",
    "\tprint('Feature: %0d, Score: %.5f' % (i,v))\n",
    "# plot feature importance\n",
    "pyplot.bar([x for x in range(len(importance))], importance)\n",
    "pyplot.show()"
   ]
  },
  {
   "cell_type": "code",
   "execution_count": 483,
   "metadata": {},
   "outputs": [
    {
     "data": {
      "text/plain": [
       "array(['edad', 'facturacion', 'provincia', 'num_lineas', 'num_dt',\n",
       "       'incidencia', 'num_llamad_ent', 'num_llamad_sal', 'mb_datos',\n",
       "       'seg_llamad_ent', 'seg_llamad_sal', 'conexion', 'vel_conexion',\n",
       "       'TV', 'financiacion', 'imp_financ', 'descuentos',\n",
       "       'antiguedad_años'], dtype=object)"
      ]
     },
     "execution_count": 483,
     "metadata": {},
     "output_type": "execute_result"
    }
   ],
   "source": [
    "data.columns.values"
   ]
  },
  {
   "cell_type": "markdown",
   "metadata": {},
   "source": [
    "Within the importance of the variables, we are interested in those with a positive coefficient.\n",
    "\n",
    "In this case we see that there are two quite important variables: 'num_dt' and 'incidence'."
   ]
  },
  {
   "cell_type": "code",
   "execution_count": 484,
   "metadata": {},
   "outputs": [
    {
     "name": "stderr",
     "output_type": "stream",
     "text": [
      "/Users/geraldinedaianacacciatore/opt/anaconda3/lib/python3.7/site-packages/ipykernel_launcher.py:1: DataConversionWarning: A column-vector y was passed when a 1d array was expected. Please change the shape of y to (n_samples,), for example using ravel().\n",
      "  \"\"\"Entry point for launching an IPython kernel.\n"
     ]
    },
    {
     "name": "stdout",
     "output_type": "stream",
     "text": [
      "matriz de confusión\n",
      "[[17367   310]\n",
      " [    9  1408]]\n",
      "accuracy\n",
      "0.9832931811040118\n",
      "precision\n",
      "0.819557625145518\n",
      "recall\n",
      "0.9936485532815809\n",
      "f1\n",
      "0.8982456140350877\n",
      "AUC\n",
      "0.988055820454786\n"
     ]
    },
    {
     "data": {
      "image/png": "[encoded data removed]",
      "text/plain": [
       "<Figure size 432x288 with 1 Axes>"
      ]
     },
     "metadata": {
      "needs_background": "light"
     },
     "output_type": "display_data"
    }
   ],
   "source": [
    "rf_classifier1 = RandomForestClassifier().fit(X_train, y_train)\n",
    "y_pred1        = rf_classifier1.predict(X_test)\n",
    "saca_metricas(y_test, y_pred1)"
   ]
  },
  {
   "cell_type": "code",
   "execution_count": 485,
   "metadata": {
    "scrolled": true
   },
   "outputs": [
    {
     "name": "stdout",
     "output_type": "stream",
     "text": [
      "Feature: 0, Score: 0.01795\n",
      "Feature: 1, Score: 0.02349\n",
      "Feature: 2, Score: 0.01765\n",
      "Feature: 3, Score: 0.00743\n",
      "Feature: 4, Score: 0.37684\n",
      "Feature: 5, Score: 0.30106\n",
      "Feature: 6, Score: 0.02164\n",
      "Feature: 7, Score: 0.01950\n",
      "Feature: 8, Score: 0.02289\n",
      "Feature: 9, Score: 0.02238\n",
      "Feature: 10, Score: 0.02359\n",
      "Feature: 11, Score: 0.00208\n",
      "Feature: 12, Score: 0.01083\n",
      "Feature: 13, Score: 0.00464\n",
      "Feature: 14, Score: 0.01192\n",
      "Feature: 15, Score: 0.01256\n",
      "Feature: 16, Score: 0.08816\n",
      "Feature: 17, Score: 0.01538\n"
     ]
    },
    {
     "data": {
      "image/png": "[encoded data removed]",
      "text/plain": [
       "<Figure size 432x288 with 1 Axes>"
      ]
     },
     "metadata": {
      "needs_background": "light"
     },
     "output_type": "display_data"
    }
   ],
   "source": [
    "importance = rf_classifier1.feature_importances_\n",
    "\n",
    "# summarize feature importance\n",
    "for i,v in enumerate(importance):\n",
    "\tprint('Feature: %0d, Score: %.5f' % (i,v))\n",
    "\n",
    "# plot feature importance\n",
    "pyplot.bar([x for x in range(len(importance))], importance)\n",
    "pyplot.show()"
   ]
  },
  {
   "cell_type": "markdown",
   "metadata": {},
   "source": [
    "#### Summary so far:\n",
    "Both models, to be the first, are quite good. The second is better, not only because the accurancy is higher, but because the variation between it and the recall is less. Also, the precision is a bit better."
   ]
  },
  {
   "cell_type": "markdown",
   "metadata": {},
   "source": [
    "### 5) Model improvement"
   ]
  },
  {
   "cell_type": "markdown",
   "metadata": {},
   "source": [
    "#### Feature Engineering"
   ]
  },
  {
   "cell_type": "code",
   "execution_count": 486,
   "metadata": {},
   "outputs": [],
   "source": [
    "def proporciones_final (var,target,df):\n",
    "\n",
    "    proporcion = pd.DataFrame()\n",
    "    \n",
    "    proporcion['%y_cliente'] = df[target].groupby(df[var]).mean()*100\n",
    "    proporcion['Conteo'] = df[target].groupby(df[var]).count()\n",
    "    proporcion= proporcion.round(3)   \n",
    "    proporcion_filtered = proporcion[(proporcion['%y_cliente']>0) & (proporcion['Conteo']>10)]\n",
    "        \n",
    "    if len(proporcion_filtered)<100 and len(proporcion_filtered)>1:\n",
    "        fig = plt.figure()\n",
    "        ax = proporcion_filtered['Conteo'].plot(kind='bar',grid=True)\n",
    "                \n",
    "        ax2 = ax.twinx()\n",
    "        ax2.plot(proporcion_filtered['%y_cliente'].values, linestyle='-', linewidth=2.0,color='g')\n",
    "        plt.tight_layout()        \n",
    "    \n",
    "   "
   ]
  },
  {
   "cell_type": "code",
   "execution_count": 487,
   "metadata": {},
   "outputs": [
    {
     "data": {
      "image/png": "[encoded data removed]",
      "text/plain": [
       "<Figure size 432x288 with 2 Axes>"
      ]
     },
     "metadata": {
      "needs_background": "light"
     },
     "output_type": "display_data"
    },
    {
     "data": {
      "image/png": "[encoded data removed]",
      "text/plain": [
       "<Figure size 432x288 with 2 Axes>"
      ]
     },
     "metadata": {
      "needs_background": "light"
     },
     "output_type": "display_data"
    },
    {
     "data": {
      "image/png": "[encoded data removed]",
      "text/plain": [
       "<Figure size 432x288 with 2 Axes>"
      ]
     },
     "metadata": {
      "needs_background": "light"
     },
     "output_type": "display_data"
    },
    {
     "data": {
      "image/png": "[encoded data removed]",
      "text/plain": [
       "<Figure size 432x288 with 2 Axes>"
      ]
     },
     "metadata": {
      "needs_background": "light"
     },
     "output_type": "display_data"
    },
    {
     "data": {
      "image/png": "[encoded data removed]",
      "text/plain": [
       "<Figure size 432x288 with 2 Axes>"
      ]
     },
     "metadata": {
      "needs_background": "light"
     },
     "output_type": "display_data"
    },
    {
     "data": {
      "image/png": "[encoded data removed]",
      "text/plain": [
       "<Figure size 432x288 with 2 Axes>"
      ]
     },
     "metadata": {
      "needs_background": "light"
     },
     "output_type": "display_data"
    },
    {
     "data": {
      "image/png": "[encoded data removed]",
      "text/plain": [
       "<Figure size 432x288 with 2 Axes>"
      ]
     },
     "metadata": {
      "needs_background": "light"
     },
     "output_type": "display_data"
    },
    {
     "data": {
      "image/png": "[encoded data removed]",
      "text/plain": [
       "<Figure size 432x288 with 2 Axes>"
      ]
     },
     "metadata": {
      "needs_background": "light"
     },
     "output_type": "display_data"
    },
    {
     "data": {
      "image/png": "[encoded data removed]",
      "text/plain": [
       "<Figure size 432x288 with 2 Axes>"
      ]
     },
     "metadata": {
      "needs_background": "light"
     },
     "output_type": "display_data"
    },
    {
     "data": {
      "image/png": "[encoded data removed]",
      "text/plain": [
       "<Figure size 432x288 with 2 Axes>"
      ]
     },
     "metadata": {
      "needs_background": "light"
     },
     "output_type": "display_data"
    },
    {
     "data": {
      "image/png": "[encoded data removed]",
      "text/plain": [
       "<Figure size 432x288 with 2 Axes>"
      ]
     },
     "metadata": {
      "needs_background": "light"
     },
     "output_type": "display_data"
    },
    {
     "data": {
      "image/png": "[encoded data removed]",
      "text/plain": [
       "<Figure size 432x288 with 2 Axes>"
      ]
     },
     "metadata": {
      "needs_background": "light"
     },
     "output_type": "display_data"
    }
   ],
   "source": [
    "for i in december_data.columns:\n",
    "    proporciones_final (i, 'y_clients', december_data)\n"
   ]
  },
  {
   "cell_type": "code",
   "execution_count": 488,
   "metadata": {},
   "outputs": [],
   "source": [
    "december_data['num_dt_nueva'] = december_data['num_dt'].apply(lambda x: 0 if x<=1 else 1)"
   ]
  },
  {
   "cell_type": "code",
   "execution_count": 489,
   "metadata": {},
   "outputs": [],
   "source": [
    "## NUM_LINEAS (we make a variable with 3 ranges of number of lines and 3 variables with those same ranges)\n",
    "december_data['num_lineas_bajo'] = december_data['num_lineas'].apply(lambda x: 1 if x<=2 else 0)\n",
    "december_data['num_lineas_medio'] = december_data['num_lineas'].apply(lambda x: 1 if x>2 & x<5 else 0)\n",
    "december_data['num_lineas_alto'] = december_data['num_lineas'].apply(lambda x: 1 if x>=5 else 0)\n",
    "december_data['num_lineas_nueva'] = december_data['num_lineas'].apply(lambda x: 0 if x<=2 else (1 if x>2 and x<5 else(2)))  "
   ]
  },
  {
   "cell_type": "code",
   "execution_count": 490,
   "metadata": {},
   "outputs": [],
   "source": [
    "## ANTIGUEDAD_AÑOS (we make a variable with 3 age ranges and 3 variables with those same ranges)\n",
    "december_data['antiguedad_años_bajo'] = december_data['antiguedad_años'].apply(lambda x: 1 if x<=8 else 0)\n",
    "december_data['antiguedad_años_medio'] = december_data['antiguedad_años'].apply(lambda x: 1 if x>8 & x<16 else 0)\n",
    "december_data['antiguedad_años_alto'] = december_data['antiguedad_años'].apply(lambda x: 1 if x>=16 else 0)\n",
    "december_data['antiguedad_años_nueva'] = december_data['antiguedad_años'].apply(lambda x: 0 if x<=8 else (1 if x>8 and x<16 else(2)))  "
   ]
  },
  {
   "cell_type": "code",
   "execution_count": 491,
   "metadata": {},
   "outputs": [],
   "source": [
    "## EDAD (we made a variable with 3 age ranges), the data ranges from 18 to 85 years. We are going to do 3 groups\n",
    "december_data['edad_bajo'] = december_data['edad'].apply(lambda x: 1 if x<=40 else 0)\n",
    "december_data['edad_medio'] = december_data['edad'].apply(lambda x: 1 if x>40 & x<62 else 0)\n",
    "december_data['edad_alto'] = december_data['edad'].apply(lambda x: 1 if x>=62 else 0)"
   ]
  },
  {
   "cell_type": "code",
   "execution_count": 492,
   "metadata": {},
   "outputs": [
    {
     "data": {
      "text/html": [
       "<style  type=\"text/css\" >\n",
       "    #T_fdb36d18_ed6c_11ea_9571_d0817ac3a282row0_col0 {\n",
       "            background-color:  #023858;\n",
       "            color:  #f1f1f1;\n",
       "        }    #T_fdb36d18_ed6c_11ea_9571_d0817ac3a282row1_col0 {\n",
       "            background-color:  #71a8ce;\n",
       "            color:  #000000;\n",
       "        }    #T_fdb36d18_ed6c_11ea_9571_d0817ac3a282row2_col0 {\n",
       "            background-color:  #73a9cf;\n",
       "            color:  #000000;\n",
       "        }    #T_fdb36d18_ed6c_11ea_9571_d0817ac3a282row3_col0 {\n",
       "            background-color:  #7eadd1;\n",
       "            color:  #000000;\n",
       "        }    #T_fdb36d18_ed6c_11ea_9571_d0817ac3a282row4_col0 {\n",
       "            background-color:  #e8e4f0;\n",
       "            color:  #000000;\n",
       "        }    #T_fdb36d18_ed6c_11ea_9571_d0817ac3a282row5_col0 {\n",
       "            background-color:  #f4edf6;\n",
       "            color:  #000000;\n",
       "        }    #T_fdb36d18_ed6c_11ea_9571_d0817ac3a282row6_col0 {\n",
       "            background-color:  #f5eef6;\n",
       "            color:  #000000;\n",
       "        }    #T_fdb36d18_ed6c_11ea_9571_d0817ac3a282row7_col0 {\n",
       "            background-color:  #fef6fb;\n",
       "            color:  #000000;\n",
       "        }    #T_fdb36d18_ed6c_11ea_9571_d0817ac3a282row8_col0 {\n",
       "            background-color:  #fef6fb;\n",
       "            color:  #000000;\n",
       "        }    #T_fdb36d18_ed6c_11ea_9571_d0817ac3a282row9_col0 {\n",
       "            background-color:  #fef6fb;\n",
       "            color:  #000000;\n",
       "        }    #T_fdb36d18_ed6c_11ea_9571_d0817ac3a282row10_col0 {\n",
       "            background-color:  #fef6fb;\n",
       "            color:  #000000;\n",
       "        }    #T_fdb36d18_ed6c_11ea_9571_d0817ac3a282row11_col0 {\n",
       "            background-color:  #fef6fb;\n",
       "            color:  #000000;\n",
       "        }    #T_fdb36d18_ed6c_11ea_9571_d0817ac3a282row12_col0 {\n",
       "            background-color:  #fff7fb;\n",
       "            color:  #000000;\n",
       "        }    #T_fdb36d18_ed6c_11ea_9571_d0817ac3a282row13_col0 {\n",
       "            background-color:  #fff7fb;\n",
       "            color:  #000000;\n",
       "        }    #T_fdb36d18_ed6c_11ea_9571_d0817ac3a282row14_col0 {\n",
       "            background-color:  #fff7fb;\n",
       "            color:  #000000;\n",
       "        }    #T_fdb36d18_ed6c_11ea_9571_d0817ac3a282row15_col0 {\n",
       "            background-color:  #fff7fb;\n",
       "            color:  #000000;\n",
       "        }    #T_fdb36d18_ed6c_11ea_9571_d0817ac3a282row16_col0 {\n",
       "            background-color:  #fff7fb;\n",
       "            color:  #000000;\n",
       "        }    #T_fdb36d18_ed6c_11ea_9571_d0817ac3a282row17_col0 {\n",
       "            background-color:  #fff7fb;\n",
       "            color:  #000000;\n",
       "        }    #T_fdb36d18_ed6c_11ea_9571_d0817ac3a282row18_col0 {\n",
       "            background-color:  #fff7fb;\n",
       "            color:  #000000;\n",
       "        }    #T_fdb36d18_ed6c_11ea_9571_d0817ac3a282row19_col0 {\n",
       "            background-color:  #fff7fb;\n",
       "            color:  #000000;\n",
       "        }    #T_fdb36d18_ed6c_11ea_9571_d0817ac3a282row20_col0 {\n",
       "            background-color:  #fff7fb;\n",
       "            color:  #000000;\n",
       "        }    #T_fdb36d18_ed6c_11ea_9571_d0817ac3a282row21_col0 {\n",
       "            background-color:  #fff7fb;\n",
       "            color:  #000000;\n",
       "        }    #T_fdb36d18_ed6c_11ea_9571_d0817ac3a282row22_col0 {\n",
       "            background-color:  #fff7fb;\n",
       "            color:  #000000;\n",
       "        }    #T_fdb36d18_ed6c_11ea_9571_d0817ac3a282row23_col0 {\n",
       "            background-color:  #fff7fb;\n",
       "            color:  #000000;\n",
       "        }    #T_fdb36d18_ed6c_11ea_9571_d0817ac3a282row24_col0 {\n",
       "            background-color:  #fff7fb;\n",
       "            color:  #000000;\n",
       "        }    #T_fdb36d18_ed6c_11ea_9571_d0817ac3a282row25_col0 {\n",
       "            background-color:  #fff7fb;\n",
       "            color:  #000000;\n",
       "        }    #T_fdb36d18_ed6c_11ea_9571_d0817ac3a282row26_col0 {\n",
       "            background-color:  #fff7fb;\n",
       "            color:  #000000;\n",
       "        }    #T_fdb36d18_ed6c_11ea_9571_d0817ac3a282row27_col0 {\n",
       "            background-color:  #fff7fb;\n",
       "            color:  #000000;\n",
       "        }    #T_fdb36d18_ed6c_11ea_9571_d0817ac3a282row28_col0 {\n",
       "            background-color:  #fff7fb;\n",
       "            color:  #000000;\n",
       "        }    #T_fdb36d18_ed6c_11ea_9571_d0817ac3a282row29_col0 {\n",
       "            background-color:  #fff7fb;\n",
       "            color:  #000000;\n",
       "        }    #T_fdb36d18_ed6c_11ea_9571_d0817ac3a282row30_col0 {\n",
       "            background-color:  #fff7fb;\n",
       "            color:  #000000;\n",
       "        }</style><table id=\"T_fdb36d18_ed6c_11ea_9571_d0817ac3a282\" ><thead>    <tr>        <th class=\"blank level0\" ></th>        <th class=\"col_heading level0 col0\" >y_clients</th>    </tr></thead><tbody>\n",
       "                <tr>\n",
       "                        <th id=\"T_fdb36d18_ed6c_11ea_9571_d0817ac3a282level0_row0\" class=\"row_heading level0 row0\" >y_clients</th>\n",
       "                        <td id=\"T_fdb36d18_ed6c_11ea_9571_d0817ac3a282row0_col0\" class=\"data row0 col0\" >1.000000</td>\n",
       "            </tr>\n",
       "            <tr>\n",
       "                        <th id=\"T_fdb36d18_ed6c_11ea_9571_d0817ac3a282level0_row1\" class=\"row_heading level0 row1\" >num_dt</th>\n",
       "                        <td id=\"T_fdb36d18_ed6c_11ea_9571_d0817ac3a282row1_col0\" class=\"data row1 col0\" >0.504867</td>\n",
       "            </tr>\n",
       "            <tr>\n",
       "                        <th id=\"T_fdb36d18_ed6c_11ea_9571_d0817ac3a282level0_row2\" class=\"row_heading level0 row2\" >incidencia</th>\n",
       "                        <td id=\"T_fdb36d18_ed6c_11ea_9571_d0817ac3a282row2_col0\" class=\"data row2 col0\" >0.500885</td>\n",
       "            </tr>\n",
       "            <tr>\n",
       "                        <th id=\"T_fdb36d18_ed6c_11ea_9571_d0817ac3a282level0_row3\" class=\"row_heading level0 row3\" >num_dt_nueva</th>\n",
       "                        <td id=\"T_fdb36d18_ed6c_11ea_9571_d0817ac3a282row3_col0\" class=\"data row3 col0\" >0.475903</td>\n",
       "            </tr>\n",
       "            <tr>\n",
       "                        <th id=\"T_fdb36d18_ed6c_11ea_9571_d0817ac3a282level0_row4\" class=\"row_heading level0 row4\" >descuentos</th>\n",
       "                        <td id=\"T_fdb36d18_ed6c_11ea_9571_d0817ac3a282row4_col0\" class=\"data row4 col0\" >0.141447</td>\n",
       "            </tr>\n",
       "            <tr>\n",
       "                        <th id=\"T_fdb36d18_ed6c_11ea_9571_d0817ac3a282level0_row5\" class=\"row_heading level0 row5\" >financiacion</th>\n",
       "                        <td id=\"T_fdb36d18_ed6c_11ea_9571_d0817ac3a282row5_col0\" class=\"data row5 col0\" >0.074597</td>\n",
       "            </tr>\n",
       "            <tr>\n",
       "                        <th id=\"T_fdb36d18_ed6c_11ea_9571_d0817ac3a282level0_row6\" class=\"row_heading level0 row6\" >imp_financ</th>\n",
       "                        <td id=\"T_fdb36d18_ed6c_11ea_9571_d0817ac3a282row6_col0\" class=\"data row6 col0\" >0.067626</td>\n",
       "            </tr>\n",
       "            <tr>\n",
       "                        <th id=\"T_fdb36d18_ed6c_11ea_9571_d0817ac3a282level0_row7\" class=\"row_heading level0 row7\" >antiguedad_años_medio</th>\n",
       "                        <td id=\"T_fdb36d18_ed6c_11ea_9571_d0817ac3a282row7_col0\" class=\"data row7 col0\" >0.006991</td>\n",
       "            </tr>\n",
       "            <tr>\n",
       "                        <th id=\"T_fdb36d18_ed6c_11ea_9571_d0817ac3a282level0_row8\" class=\"row_heading level0 row8\" >antiguedad_años_bajo</th>\n",
       "                        <td id=\"T_fdb36d18_ed6c_11ea_9571_d0817ac3a282row8_col0\" class=\"data row8 col0\" >0.006303</td>\n",
       "            </tr>\n",
       "            <tr>\n",
       "                        <th id=\"T_fdb36d18_ed6c_11ea_9571_d0817ac3a282level0_row9\" class=\"row_heading level0 row9\" >num_llamad_ent</th>\n",
       "                        <td id=\"T_fdb36d18_ed6c_11ea_9571_d0817ac3a282row9_col0\" class=\"data row9 col0\" >0.006130</td>\n",
       "            </tr>\n",
       "            <tr>\n",
       "                        <th id=\"T_fdb36d18_ed6c_11ea_9571_d0817ac3a282level0_row10\" class=\"row_heading level0 row10\" >edad_bajo</th>\n",
       "                        <td id=\"T_fdb36d18_ed6c_11ea_9571_d0817ac3a282row10_col0\" class=\"data row10 col0\" >0.005772</td>\n",
       "            </tr>\n",
       "            <tr>\n",
       "                        <th id=\"T_fdb36d18_ed6c_11ea_9571_d0817ac3a282level0_row11\" class=\"row_heading level0 row11\" >TV</th>\n",
       "                        <td id=\"T_fdb36d18_ed6c_11ea_9571_d0817ac3a282row11_col0\" class=\"data row11 col0\" >0.004284</td>\n",
       "            </tr>\n",
       "            <tr>\n",
       "                        <th id=\"T_fdb36d18_ed6c_11ea_9571_d0817ac3a282level0_row12\" class=\"row_heading level0 row12\" >antiguedad_años_nueva</th>\n",
       "                        <td id=\"T_fdb36d18_ed6c_11ea_9571_d0817ac3a282row12_col0\" class=\"data row12 col0\" >0.003376</td>\n",
       "            </tr>\n",
       "            <tr>\n",
       "                        <th id=\"T_fdb36d18_ed6c_11ea_9571_d0817ac3a282level0_row13\" class=\"row_heading level0 row13\" >antiguedad_años</th>\n",
       "                        <td id=\"T_fdb36d18_ed6c_11ea_9571_d0817ac3a282row13_col0\" class=\"data row13 col0\" >0.003310</td>\n",
       "            </tr>\n",
       "            <tr>\n",
       "                        <th id=\"T_fdb36d18_ed6c_11ea_9571_d0817ac3a282level0_row14\" class=\"row_heading level0 row14\" >num_llamad_sal</th>\n",
       "                        <td id=\"T_fdb36d18_ed6c_11ea_9571_d0817ac3a282row14_col0\" class=\"data row14 col0\" >0.003141</td>\n",
       "            </tr>\n",
       "            <tr>\n",
       "                        <th id=\"T_fdb36d18_ed6c_11ea_9571_d0817ac3a282level0_row15\" class=\"row_heading level0 row15\" >edad</th>\n",
       "                        <td id=\"T_fdb36d18_ed6c_11ea_9571_d0817ac3a282row15_col0\" class=\"data row15 col0\" >0.002864</td>\n",
       "            </tr>\n",
       "            <tr>\n",
       "                        <th id=\"T_fdb36d18_ed6c_11ea_9571_d0817ac3a282level0_row16\" class=\"row_heading level0 row16\" >facturacion</th>\n",
       "                        <td id=\"T_fdb36d18_ed6c_11ea_9571_d0817ac3a282row16_col0\" class=\"data row16 col0\" >0.002846</td>\n",
       "            </tr>\n",
       "            <tr>\n",
       "                        <th id=\"T_fdb36d18_ed6c_11ea_9571_d0817ac3a282level0_row17\" class=\"row_heading level0 row17\" >conexion</th>\n",
       "                        <td id=\"T_fdb36d18_ed6c_11ea_9571_d0817ac3a282row17_col0\" class=\"data row17 col0\" >0.002546</td>\n",
       "            </tr>\n",
       "            <tr>\n",
       "                        <th id=\"T_fdb36d18_ed6c_11ea_9571_d0817ac3a282level0_row18\" class=\"row_heading level0 row18\" >vel_conexion</th>\n",
       "                        <td id=\"T_fdb36d18_ed6c_11ea_9571_d0817ac3a282row18_col0\" class=\"data row18 col0\" >0.002439</td>\n",
       "            </tr>\n",
       "            <tr>\n",
       "                        <th id=\"T_fdb36d18_ed6c_11ea_9571_d0817ac3a282level0_row19\" class=\"row_heading level0 row19\" >edad_medio</th>\n",
       "                        <td id=\"T_fdb36d18_ed6c_11ea_9571_d0817ac3a282row19_col0\" class=\"data row19 col0\" >0.002161</td>\n",
       "            </tr>\n",
       "            <tr>\n",
       "                        <th id=\"T_fdb36d18_ed6c_11ea_9571_d0817ac3a282level0_row20\" class=\"row_heading level0 row20\" >num_lineas</th>\n",
       "                        <td id=\"T_fdb36d18_ed6c_11ea_9571_d0817ac3a282row20_col0\" class=\"data row20 col0\" >0.001733</td>\n",
       "            </tr>\n",
       "            <tr>\n",
       "                        <th id=\"T_fdb36d18_ed6c_11ea_9571_d0817ac3a282level0_row21\" class=\"row_heading level0 row21\" >num_lineas_nueva</th>\n",
       "                        <td id=\"T_fdb36d18_ed6c_11ea_9571_d0817ac3a282row21_col0\" class=\"data row21 col0\" >0.001349</td>\n",
       "            </tr>\n",
       "            <tr>\n",
       "                        <th id=\"T_fdb36d18_ed6c_11ea_9571_d0817ac3a282level0_row22\" class=\"row_heading level0 row22\" >mb_datos</th>\n",
       "                        <td id=\"T_fdb36d18_ed6c_11ea_9571_d0817ac3a282row22_col0\" class=\"data row22 col0\" >0.001201</td>\n",
       "            </tr>\n",
       "            <tr>\n",
       "                        <th id=\"T_fdb36d18_ed6c_11ea_9571_d0817ac3a282level0_row23\" class=\"row_heading level0 row23\" >num_lineas_bajo</th>\n",
       "                        <td id=\"T_fdb36d18_ed6c_11ea_9571_d0817ac3a282row23_col0\" class=\"data row23 col0\" >0.001149</td>\n",
       "            </tr>\n",
       "            <tr>\n",
       "                        <th id=\"T_fdb36d18_ed6c_11ea_9571_d0817ac3a282level0_row24\" class=\"row_heading level0 row24\" >num_lineas_alto</th>\n",
       "                        <td id=\"T_fdb36d18_ed6c_11ea_9571_d0817ac3a282row24_col0\" class=\"data row24 col0\" >0.000997</td>\n",
       "            </tr>\n",
       "            <tr>\n",
       "                        <th id=\"T_fdb36d18_ed6c_11ea_9571_d0817ac3a282level0_row25\" class=\"row_heading level0 row25\" >edad_alto</th>\n",
       "                        <td id=\"T_fdb36d18_ed6c_11ea_9571_d0817ac3a282row25_col0\" class=\"data row25 col0\" >0.000564</td>\n",
       "            </tr>\n",
       "            <tr>\n",
       "                        <th id=\"T_fdb36d18_ed6c_11ea_9571_d0817ac3a282level0_row26\" class=\"row_heading level0 row26\" >seg_llamad_ent</th>\n",
       "                        <td id=\"T_fdb36d18_ed6c_11ea_9571_d0817ac3a282row26_col0\" class=\"data row26 col0\" >0.000526</td>\n",
       "            </tr>\n",
       "            <tr>\n",
       "                        <th id=\"T_fdb36d18_ed6c_11ea_9571_d0817ac3a282level0_row27\" class=\"row_heading level0 row27\" >antiguedad_años_alto</th>\n",
       "                        <td id=\"T_fdb36d18_ed6c_11ea_9571_d0817ac3a282row27_col0\" class=\"data row27 col0\" >0.000337</td>\n",
       "            </tr>\n",
       "            <tr>\n",
       "                        <th id=\"T_fdb36d18_ed6c_11ea_9571_d0817ac3a282level0_row28\" class=\"row_heading level0 row28\" >provincia</th>\n",
       "                        <td id=\"T_fdb36d18_ed6c_11ea_9571_d0817ac3a282row28_col0\" class=\"data row28 col0\" >0.000143</td>\n",
       "            </tr>\n",
       "            <tr>\n",
       "                        <th id=\"T_fdb36d18_ed6c_11ea_9571_d0817ac3a282level0_row29\" class=\"row_heading level0 row29\" >seg_llamad_sal</th>\n",
       "                        <td id=\"T_fdb36d18_ed6c_11ea_9571_d0817ac3a282row29_col0\" class=\"data row29 col0\" >0.000089</td>\n",
       "            </tr>\n",
       "            <tr>\n",
       "                        <th id=\"T_fdb36d18_ed6c_11ea_9571_d0817ac3a282level0_row30\" class=\"row_heading level0 row30\" >num_lineas_medio</th>\n",
       "                        <td id=\"T_fdb36d18_ed6c_11ea_9571_d0817ac3a282row30_col0\" class=\"data row30 col0\" >0.000068</td>\n",
       "            </tr>\n",
       "    </tbody></table>"
      ],
      "text/plain": [
       "<pandas.io.formats.style.Styler at 0x1a36937250>"
      ]
     },
     "execution_count": 492,
     "metadata": {},
     "output_type": "execute_result"
    }
   ],
   "source": [
    "corr =  abs(december_data.corr())\n",
    "corr[['y_clients']].sort_values(by = 'y_clients',ascending = False).style.background_gradient()"
   ]
  },
  {
   "cell_type": "markdown",
   "metadata": {},
   "source": [
    "It is observed that our most important variables remain the same. However, we see that some variables such as 'antiguedad' and 'edad' with the new transformations have improved their correlation and have become more important than before."
   ]
  },
  {
   "cell_type": "code",
   "execution_count": 493,
   "metadata": {},
   "outputs": [],
   "source": [
    "# We test a new model with these transformations\n",
    "december_data.drop('y_clients',axis=1, inplace=True)"
   ]
  },
  {
   "cell_type": "code",
   "execution_count": 494,
   "metadata": {},
   "outputs": [],
   "source": [
    "sc = StandardScaler()\n",
    "december_data_Scaler = sc.fit_transform(december_data)\n",
    "\n",
    "X_train, X_test, y_train, y_test = train_test_split(december_data_Scaler,\n",
    "                                                    y_december,\n",
    "                                                    test_size=0.2,\n",
    "                                                    random_state=42,\n",
    "                                                    stratify = y_december)"
   ]
  },
  {
   "cell_type": "code",
   "execution_count": 495,
   "metadata": {},
   "outputs": [
    {
     "name": "stderr",
     "output_type": "stream",
     "text": [
      "/Users/geraldinedaianacacciatore/opt/anaconda3/lib/python3.7/site-packages/sklearn/utils/validation.py:760: DataConversionWarning: A column-vector y was passed when a 1d array was expected. Please change the shape of y to (n_samples, ), for example using ravel().\n",
      "  y = column_or_1d(y, warn=True)\n"
     ]
    }
   ],
   "source": [
    "#Model with all variables\n",
    "model_log_3 = LogisticRegression().fit(X_train, y_train)\n",
    "y_pred_log_3 = model_log_3.predict(X_test)"
   ]
  },
  {
   "cell_type": "code",
   "execution_count": 496,
   "metadata": {},
   "outputs": [
    {
     "name": "stdout",
     "output_type": "stream",
     "text": [
      "matriz de confusión\n",
      "[[17443   234]\n",
      " [  362  1055]]\n",
      "accuracy\n",
      "0.9687860060752068\n",
      "precision\n",
      "0.8184639255236618\n",
      "recall\n",
      "0.744530698659139\n",
      "f1\n",
      "0.7797487065779749\n",
      "AUC\n",
      "0.8656465791762631\n"
     ]
    },
    {
     "data": {
      "image/png": "[encoded data removed]",
      "text/plain": [
       "<Figure size 432x288 with 1 Axes>"
      ]
     },
     "metadata": {
      "needs_background": "light"
     },
     "output_type": "display_data"
    }
   ],
   "source": [
    "saca_metricas(y_test, y_pred_log_3)  "
   ]
  },
  {
   "cell_type": "markdown",
   "metadata": {},
   "source": [
    "This model with more variables has worsened."
   ]
  },
  {
   "cell_type": "code",
   "execution_count": 497,
   "metadata": {
    "scrolled": true
   },
   "outputs": [
    {
     "name": "stdout",
     "output_type": "stream",
     "text": [
      "Feature: 0, Score: 0.08636\n",
      "Feature: 1, Score: 0.03165\n",
      "Feature: 2, Score: 0.00567\n",
      "Feature: 3, Score: -0.04857\n",
      "Feature: 4, Score: 2.40321\n",
      "Feature: 5, Score: 1.34262\n",
      "Feature: 6, Score: 0.03395\n",
      "Feature: 7, Score: -0.00732\n",
      "Feature: 8, Score: 0.03133\n",
      "Feature: 9, Score: 0.01782\n",
      "Feature: 10, Score: -0.01659\n",
      "Feature: 11, Score: 0.00443\n",
      "Feature: 12, Score: 0.03779\n",
      "Feature: 13, Score: -0.00914\n",
      "Feature: 14, Score: -1.93361\n",
      "Feature: 15, Score: -0.69973\n",
      "Feature: 16, Score: -5.40492\n",
      "Feature: 17, Score: 0.11152\n",
      "Feature: 18, Score: -0.59021\n",
      "Feature: 19, Score: -0.09402\n",
      "Feature: 20, Score: -0.09030\n",
      "Feature: 21, Score: 0.00571\n",
      "Feature: 22, Score: 0.05929\n",
      "Feature: 23, Score: 0.05755\n",
      "Feature: 24, Score: -0.01859\n",
      "Feature: 25, Score: -0.01650\n",
      "Feature: 26, Score: -0.04192\n",
      "Feature: 27, Score: 0.02530\n",
      "Feature: 28, Score: 0.04536\n",
      "Feature: 29, Score: -0.07086\n"
     ]
    },
    {
     "data": {
      "image/png": "[encoded data removed]",
      "text/plain": [
       "<Figure size 432x288 with 1 Axes>"
      ]
     },
     "metadata": {
      "needs_background": "light"
     },
     "output_type": "display_data"
    }
   ],
   "source": [
    "# get importance\n",
    "importance = model_log_3.coef_[0]\n",
    "# summarize feature importance\n",
    "for i,v in enumerate(importance):\n",
    "\tprint('Feature: %0d, Score: %.5f' % (i,v))\n",
    "# plot feature importance\n",
    "pyplot.bar([x for x in range(len(importance))], importance)\n",
    "pyplot.show()"
   ]
  },
  {
   "cell_type": "markdown",
   "metadata": {},
   "source": [
    "The most explanatory variables remain the same."
   ]
  },
  {
   "cell_type": "code",
   "execution_count": 498,
   "metadata": {},
   "outputs": [
    {
     "name": "stderr",
     "output_type": "stream",
     "text": [
      "/Users/geraldinedaianacacciatore/opt/anaconda3/lib/python3.7/site-packages/ipykernel_launcher.py:1: DataConversionWarning: A column-vector y was passed when a 1d array was expected. Please change the shape of y to (n_samples,), for example using ravel().\n",
      "  \"\"\"Entry point for launching an IPython kernel.\n"
     ]
    },
    {
     "name": "stdout",
     "output_type": "stream",
     "text": [
      "matriz de confusión\n",
      "[[17367   310]\n",
      " [    8  1409]]\n",
      "accuracy\n",
      "0.9833455535770399\n",
      "precision\n",
      "0.8196625945317044\n",
      "recall\n",
      "0.9943542695836274\n",
      "f1\n",
      "0.8985969387755102\n",
      "AUC\n",
      "0.9884086786058093\n"
     ]
    },
    {
     "data": {
      "image/png": "[encoded data removed]",
      "text/plain": [
       "<Figure size 432x288 with 1 Axes>"
      ]
     },
     "metadata": {
      "needs_background": "light"
     },
     "output_type": "display_data"
    }
   ],
   "source": [
    "rf_classifier3 = RandomForestClassifier().fit(X_train, y_train)\n",
    "y_pred3        = rf_classifier3.predict(X_test)\n",
    "saca_metricas(y_test, y_pred3)"
   ]
  },
  {
   "cell_type": "code",
   "execution_count": 499,
   "metadata": {
    "scrolled": true
   },
   "outputs": [
    {
     "name": "stdout",
     "output_type": "stream",
     "text": [
      "Feature: 0, Score: 0.01801\n",
      "Feature: 1, Score: 0.02368\n",
      "Feature: 2, Score: 0.01869\n",
      "Feature: 3, Score: 0.00567\n",
      "Feature: 4, Score: 0.23808\n",
      "Feature: 5, Score: 0.28816\n",
      "Feature: 6, Score: 0.02209\n",
      "Feature: 7, Score: 0.01949\n",
      "Feature: 8, Score: 0.02255\n",
      "Feature: 9, Score: 0.02277\n",
      "Feature: 10, Score: 0.02265\n",
      "Feature: 11, Score: 0.00264\n",
      "Feature: 12, Score: 0.01184\n",
      "Feature: 13, Score: 0.00508\n",
      "Feature: 14, Score: 0.01231\n",
      "Feature: 15, Score: 0.01366\n",
      "Feature: 16, Score: 0.09468\n",
      "Feature: 17, Score: 0.01430\n",
      "Feature: 18, Score: 0.12356\n",
      "Feature: 19, Score: 0.00125\n",
      "Feature: 20, Score: 0.00120\n",
      "Feature: 21, Score: 0.00156\n",
      "Feature: 22, Score: 0.00260\n",
      "Feature: 23, Score: 0.00159\n",
      "Feature: 24, Score: 0.00140\n",
      "Feature: 25, Score: 0.00174\n",
      "Feature: 26, Score: 0.00298\n",
      "Feature: 27, Score: 0.00226\n",
      "Feature: 28, Score: 0.00115\n",
      "Feature: 29, Score: 0.00236\n"
     ]
    },
    {
     "data": {
      "image/png": "[encoded data removed]",
      "text/plain": [
       "<Figure size 432x288 with 1 Axes>"
      ]
     },
     "metadata": {
      "needs_background": "light"
     },
     "output_type": "display_data"
    }
   ],
   "source": [
    "# Obtenemos la importancia de las variables \n",
    "importance = rf_classifier3.feature_importances_\n",
    "\n",
    "# summarize feature importance\n",
    "for i,v in enumerate(importance):\n",
    "\tprint('Feature: %0d, Score: %.5f' % (i,v))\n",
    "\n",
    "# plot feature importance\n",
    "pyplot.bar([x for x in range(len(importance))], importance)\n",
    "pyplot.show()"
   ]
  },
  {
   "cell_type": "markdown",
   "metadata": {},
   "source": [
    "We do not find significant changes, but we see that the variables that are more explanatory remain the same. Added 'num_dt_nueva', but is related to 'num_dt'."
   ]
  },
  {
   "cell_type": "markdown",
   "metadata": {},
   "source": [
    "#### Summary so far:\n",
    "We have not made an improvement through this process, since the explanatory variables remain the same."
   ]
  },
  {
   "cell_type": "markdown",
   "metadata": {},
   "source": [
    "#### Univariate analysis"
   ]
  },
  {
   "cell_type": "code",
   "execution_count": 500,
   "metadata": {},
   "outputs": [],
   "source": [
    "target = y_december\n",
    "features = list(december_data.columns)\n",
    "\n",
    "x = december_data[features]\n",
    "y = y_december"
   ]
  },
  {
   "cell_type": "code",
   "execution_count": 501,
   "metadata": {},
   "outputs": [
    {
     "name": "stdout",
     "output_type": "stream",
     "text": [
      "List of variables  ['num_dt' 'incidencia' 'imp_financ' 'descuentos' 'num_dt_nueva']\n"
     ]
    }
   ],
   "source": [
    "S_chi5 = SelectKBest(chi2, k = 5) #k = amount of variables that I want me to remove. it is chi2 because it is a regression model.\n",
    "X_chi5 = S_chi5.fit_transform(x, y)\n",
    "\n",
    "print (\"List of variables \", np.asarray(list(x))[S_chi5.get_support()])"
   ]
  },
  {
   "cell_type": "markdown",
   "metadata": {},
   "source": [
    "We observe that the variables selected through this method are the same ones that we chose previously according to the importance that we saw in the models."
   ]
  },
  {
   "cell_type": "code",
   "execution_count": 502,
   "metadata": {},
   "outputs": [],
   "source": [
    "important_var = december_data.copy(deep = True)\n",
    "selec = ['num_dt', 'incidencia', 'descuentos','imp_financ'] #I do not select 'num_dt_nueva' since they have less correlation with our Y than 'num_dt'\n",
    "important_var = important_var[selec]\n"
   ]
  },
  {
   "cell_type": "code",
   "execution_count": 503,
   "metadata": {},
   "outputs": [
    {
     "data": {
      "text/html": [
       "<div>\n",
       "<style scoped>\n",
       "    .dataframe tbody tr th:only-of-type {\n",
       "        vertical-align: middle;\n",
       "    }\n",
       "\n",
       "    .dataframe tbody tr th {\n",
       "        vertical-align: top;\n",
       "    }\n",
       "\n",
       "    .dataframe thead th {\n",
       "        text-align: right;\n",
       "    }\n",
       "</style>\n",
       "<table border=\"1\" class=\"dataframe\">\n",
       "  <thead>\n",
       "    <tr style=\"text-align: right;\">\n",
       "      <th></th>\n",
       "      <th>num_dt</th>\n",
       "      <th>incidencia</th>\n",
       "      <th>descuentos</th>\n",
       "      <th>imp_financ</th>\n",
       "    </tr>\n",
       "    <tr>\n",
       "      <th>id</th>\n",
       "      <th></th>\n",
       "      <th></th>\n",
       "      <th></th>\n",
       "      <th></th>\n",
       "    </tr>\n",
       "  </thead>\n",
       "  <tbody>\n",
       "    <tr>\n",
       "      <th>1</th>\n",
       "      <td>0.0</td>\n",
       "      <td>0</td>\n",
       "      <td>0</td>\n",
       "      <td>0.000000</td>\n",
       "    </tr>\n",
       "    <tr>\n",
       "      <th>2</th>\n",
       "      <td>0.0</td>\n",
       "      <td>0</td>\n",
       "      <td>1</td>\n",
       "      <td>0.000000</td>\n",
       "    </tr>\n",
       "    <tr>\n",
       "      <th>3</th>\n",
       "      <td>0.0</td>\n",
       "      <td>0</td>\n",
       "      <td>1</td>\n",
       "      <td>0.000000</td>\n",
       "    </tr>\n",
       "    <tr>\n",
       "      <th>4</th>\n",
       "      <td>0.0</td>\n",
       "      <td>0</td>\n",
       "      <td>0</td>\n",
       "      <td>0.000000</td>\n",
       "    </tr>\n",
       "    <tr>\n",
       "      <th>5</th>\n",
       "      <td>2.0</td>\n",
       "      <td>0</td>\n",
       "      <td>0</td>\n",
       "      <td>0.000000</td>\n",
       "    </tr>\n",
       "    <tr>\n",
       "      <th>...</th>\n",
       "      <td>...</td>\n",
       "      <td>...</td>\n",
       "      <td>...</td>\n",
       "      <td>...</td>\n",
       "    </tr>\n",
       "    <tr>\n",
       "      <th>99995</th>\n",
       "      <td>0.0</td>\n",
       "      <td>0</td>\n",
       "      <td>0</td>\n",
       "      <td>23.138779</td>\n",
       "    </tr>\n",
       "    <tr>\n",
       "      <th>99996</th>\n",
       "      <td>0.0</td>\n",
       "      <td>0</td>\n",
       "      <td>0</td>\n",
       "      <td>0.000000</td>\n",
       "    </tr>\n",
       "    <tr>\n",
       "      <th>99997</th>\n",
       "      <td>0.0</td>\n",
       "      <td>0</td>\n",
       "      <td>0</td>\n",
       "      <td>14.616422</td>\n",
       "    </tr>\n",
       "    <tr>\n",
       "      <th>99998</th>\n",
       "      <td>0.0</td>\n",
       "      <td>0</td>\n",
       "      <td>0</td>\n",
       "      <td>0.000000</td>\n",
       "    </tr>\n",
       "    <tr>\n",
       "      <th>100000</th>\n",
       "      <td>0.0</td>\n",
       "      <td>0</td>\n",
       "      <td>1</td>\n",
       "      <td>0.000000</td>\n",
       "    </tr>\n",
       "  </tbody>\n",
       "</table>\n",
       "<p>95467 rows × 4 columns</p>\n",
       "</div>"
      ],
      "text/plain": [
       "        num_dt  incidencia  descuentos  imp_financ\n",
       "id                                                \n",
       "1          0.0           0           0    0.000000\n",
       "2          0.0           0           1    0.000000\n",
       "3          0.0           0           1    0.000000\n",
       "4          0.0           0           0    0.000000\n",
       "5          2.0           0           0    0.000000\n",
       "...        ...         ...         ...         ...\n",
       "99995      0.0           0           0   23.138779\n",
       "99996      0.0           0           0    0.000000\n",
       "99997      0.0           0           0   14.616422\n",
       "99998      0.0           0           0    0.000000\n",
       "100000     0.0           0           1    0.000000\n",
       "\n",
       "[95467 rows x 4 columns]"
      ]
     },
     "execution_count": 503,
     "metadata": {},
     "output_type": "execute_result"
    }
   ],
   "source": [
    "important_var"
   ]
  },
  {
   "cell_type": "code",
   "execution_count": 504,
   "metadata": {},
   "outputs": [],
   "source": [
    "sc = StandardScaler()\n",
    "important_var_Scaler = sc.fit_transform(important_var)\n",
    "\n",
    "X_train, X_test, y_train, y_test = train_test_split(important_var_Scaler,\n",
    "                                                    y_december,\n",
    "                                                    test_size=0.2,\n",
    "                                                    random_state=42,\n",
    "                                                    stratify = y_december)"
   ]
  },
  {
   "cell_type": "code",
   "execution_count": 505,
   "metadata": {},
   "outputs": [
    {
     "name": "stderr",
     "output_type": "stream",
     "text": [
      "/Users/geraldinedaianacacciatore/opt/anaconda3/lib/python3.7/site-packages/sklearn/utils/validation.py:760: DataConversionWarning: A column-vector y was passed when a 1d array was expected. Please change the shape of y to (n_samples, ), for example using ravel().\n",
      "  y = column_or_1d(y, warn=True)\n"
     ]
    }
   ],
   "source": [
    "#Modelo con todas las varibales\n",
    "model_log_4 = LogisticRegression().fit(X_train, y_train)\n",
    "y_pred_log_4 = model_log_4.predict(X_test)"
   ]
  },
  {
   "cell_type": "code",
   "execution_count": 506,
   "metadata": {},
   "outputs": [
    {
     "name": "stdout",
     "output_type": "stream",
     "text": [
      "matriz de confusión\n",
      "[[17398   279]\n",
      " [  200  1217]]\n",
      "accuracy\n",
      "0.9749135854195035\n",
      "precision\n",
      "0.8135026737967914\n",
      "recall\n",
      "0.8588567395906845\n",
      "f1\n",
      "0.8355647099210436\n",
      "AUC\n",
      "0.9215367592279384\n"
     ]
    },
    {
     "data": {
      "image/png": "[encoded data removed]",
      "text/plain": [
       "<Figure size 432x288 with 1 Axes>"
      ]
     },
     "metadata": {
      "needs_background": "light"
     },
     "output_type": "display_data"
    }
   ],
   "source": [
    "saca_metricas(y_test, y_pred_log_4)  "
   ]
  },
  {
   "cell_type": "markdown",
   "metadata": {},
   "source": [
    "We can see that this model has almost the same metrics as the first, but with the difference that it has only 4 variables. In this sense we can say that it is much better."
   ]
  },
  {
   "cell_type": "code",
   "execution_count": 507,
   "metadata": {},
   "outputs": [
    {
     "name": "stderr",
     "output_type": "stream",
     "text": [
      "/Users/geraldinedaianacacciatore/opt/anaconda3/lib/python3.7/site-packages/ipykernel_launcher.py:1: DataConversionWarning: A column-vector y was passed when a 1d array was expected. Please change the shape of y to (n_samples,), for example using ravel().\n",
      "  \"\"\"Entry point for launching an IPython kernel.\n"
     ]
    },
    {
     "name": "stdout",
     "output_type": "stream",
     "text": [
      "matriz de confusión\n",
      "[[17364   313]\n",
      " [    8  1409]]\n",
      "accuracy\n",
      "0.9831884361579554\n",
      "precision\n",
      "0.8182346109175378\n",
      "recall\n",
      "0.9943542695836274\n",
      "f1\n",
      "0.8977381331634279\n",
      "AUC\n",
      "0.9883238225782028\n"
     ]
    },
    {
     "data": {
      "image/png": "[encoded data removed]",
      "text/plain": [
       "<Figure size 432x288 with 1 Axes>"
      ]
     },
     "metadata": {
      "needs_background": "light"
     },
     "output_type": "display_data"
    }
   ],
   "source": [
    "rf_classifier = RandomForestClassifier().fit(X_train, y_train)\n",
    "y_pred       = rf_classifier.predict(X_test)\n",
    "saca_metricas(y_test, y_pred)"
   ]
  },
  {
   "cell_type": "markdown",
   "metadata": {},
   "source": [
    "We can see that this model has almost the same metrics as the previous ones, but with the difference that it has only 4 variables.\n",
    "You have to take into account that it has a slightly lower precision, but personally I think that this model is the winner, since although I lose a little in that metric, I win in the reduction of parameters."
   ]
  },
  {
   "cell_type": "markdown",
   "metadata": {},
   "source": [
    "#### Cross validation"
   ]
  },
  {
   "cell_type": "code",
   "execution_count": 508,
   "metadata": {
    "scrolled": true
   },
   "outputs": [
    {
     "name": "stderr",
     "output_type": "stream",
     "text": [
      "/Users/geraldinedaianacacciatore/opt/anaconda3/lib/python3.7/site-packages/sklearn/model_selection/_validation.py:515: DataConversionWarning: A column-vector y was passed when a 1d array was expected. Please change the shape of y to (n_samples,), for example using ravel().\n",
      "  estimator.fit(X_train, y_train, **fit_params)\n",
      "/Users/geraldinedaianacacciatore/opt/anaconda3/lib/python3.7/site-packages/sklearn/model_selection/_validation.py:515: DataConversionWarning: A column-vector y was passed when a 1d array was expected. Please change the shape of y to (n_samples,), for example using ravel().\n",
      "  estimator.fit(X_train, y_train, **fit_params)\n",
      "/Users/geraldinedaianacacciatore/opt/anaconda3/lib/python3.7/site-packages/sklearn/model_selection/_validation.py:515: DataConversionWarning: A column-vector y was passed when a 1d array was expected. Please change the shape of y to (n_samples,), for example using ravel().\n",
      "  estimator.fit(X_train, y_train, **fit_params)\n",
      "/Users/geraldinedaianacacciatore/opt/anaconda3/lib/python3.7/site-packages/sklearn/model_selection/_validation.py:515: DataConversionWarning: A column-vector y was passed when a 1d array was expected. Please change the shape of y to (n_samples,), for example using ravel().\n",
      "  estimator.fit(X_train, y_train, **fit_params)\n",
      "/Users/geraldinedaianacacciatore/opt/anaconda3/lib/python3.7/site-packages/sklearn/model_selection/_validation.py:515: DataConversionWarning: A column-vector y was passed when a 1d array was expected. Please change the shape of y to (n_samples,), for example using ravel().\n",
      "  estimator.fit(X_train, y_train, **fit_params)\n"
     ]
    }
   ],
   "source": [
    "results = cross_val_score(estimator=rf_classifier, X=X_train, y=y_train, cv=5)"
   ]
  },
  {
   "cell_type": "code",
   "execution_count": 509,
   "metadata": {},
   "outputs": [
    {
     "data": {
      "text/plain": [
       "array([0.98527005, 0.98304419, 0.98527005, 0.98245384, 0.98284667])"
      ]
     },
     "execution_count": 509,
     "metadata": {},
     "output_type": "execute_result"
    }
   ],
   "source": [
    "results # all quite alike, that's good."
   ]
  },
  {
   "cell_type": "code",
   "execution_count": 510,
   "metadata": {},
   "outputs": [
    {
     "name": "stdout",
     "output_type": "stream",
     "text": [
      "0.9837769597448206\n"
     ]
    }
   ],
   "source": [
    "print(results.mean())"
   ]
  },
  {
   "cell_type": "code",
   "execution_count": 511,
   "metadata": {},
   "outputs": [
    {
     "name": "stdout",
     "output_type": "stream",
     "text": [
      "0.0012338285550918763\n"
     ]
    }
   ],
   "source": [
    "print(results.std())  "
   ]
  },
  {
   "cell_type": "markdown",
   "metadata": {},
   "source": [
    "Finally I decide that the rf_classifier model is the best of all those made."
   ]
  },
  {
   "cell_type": "markdown",
   "metadata": {},
   "source": [
    "### 6) Prediction of January customers most likely to change operator in the following month."
   ]
  },
  {
   "cell_type": "markdown",
   "metadata": {},
   "source": [
    "We did the same data preprocessing that we did in December, but on the January data."
   ]
  },
  {
   "cell_type": "markdown",
   "metadata": {},
   "source": [
    "####  Missing values analysis (January)"
   ]
  },
  {
   "cell_type": "code",
   "execution_count": 512,
   "metadata": {
    "scrolled": true
   },
   "outputs": [
    {
     "data": {
      "text/plain": [
       "id                    0\n",
       "edad                  0\n",
       "facturacion           0\n",
       "antiguedad            0\n",
       "provincia             0\n",
       "num_lineas            0\n",
       "num_dt            90097\n",
       "incidencia        90720\n",
       "num_llamad_ent        0\n",
       "num_llamad_sal        0\n",
       "mb_datos              0\n",
       "seg_llamad_ent        0\n",
       "seg_llamad_sal        0\n",
       "conexion              0\n",
       "vel_conexion          0\n",
       "TV                    0\n",
       "financiacion      86045\n",
       "imp_financ        86045\n",
       "descuentos        72673\n",
       "dtype: int64"
      ]
     },
     "execution_count": 512,
     "metadata": {},
     "output_type": "execute_result"
    }
   ],
   "source": [
    "january_data.isnull().sum()"
   ]
  },
  {
   "cell_type": "code",
   "execution_count": 513,
   "metadata": {},
   "outputs": [],
   "source": [
    "january_data['num_dt'] = january_data['num_dt'].replace(np.nan, 0)"
   ]
  },
  {
   "cell_type": "code",
   "execution_count": 514,
   "metadata": {},
   "outputs": [],
   "source": [
    "january_data['incidencia'] = january_data['incidencia'].replace(np.nan, 'NO')"
   ]
  },
  {
   "cell_type": "code",
   "execution_count": 515,
   "metadata": {},
   "outputs": [],
   "source": [
    "january_data['financiacion'] = january_data['financiacion'].replace(np.nan, 'NO')"
   ]
  },
  {
   "cell_type": "code",
   "execution_count": 516,
   "metadata": {},
   "outputs": [],
   "source": [
    "january_data['imp_financ'] = january_data['imp_financ'].replace(np.nan, 0)"
   ]
  },
  {
   "cell_type": "code",
   "execution_count": 517,
   "metadata": {},
   "outputs": [],
   "source": [
    "january_data['descuentos'] = january_data['descuentos'].replace(np.nan, 0)"
   ]
  },
  {
   "cell_type": "code",
   "execution_count": 518,
   "metadata": {
    "scrolled": true
   },
   "outputs": [
    {
     "data": {
      "text/plain": [
       "id                0\n",
       "edad              0\n",
       "facturacion       0\n",
       "antiguedad        0\n",
       "provincia         0\n",
       "num_lineas        0\n",
       "num_dt            0\n",
       "incidencia        0\n",
       "num_llamad_ent    0\n",
       "num_llamad_sal    0\n",
       "mb_datos          0\n",
       "seg_llamad_ent    0\n",
       "seg_llamad_sal    0\n",
       "conexion          0\n",
       "vel_conexion      0\n",
       "TV                0\n",
       "financiacion      0\n",
       "imp_financ        0\n",
       "descuentos        0\n",
       "dtype: int64"
      ]
     },
     "execution_count": 518,
     "metadata": {},
     "output_type": "execute_result"
    }
   ],
   "source": [
    "january_data.isnull().sum()"
   ]
  },
  {
   "cell_type": "markdown",
   "metadata": {},
   "source": [
    "#### --- Numerical variables Analysis--- (January)"
   ]
  },
  {
   "cell_type": "code",
   "execution_count": 519,
   "metadata": {},
   "outputs": [
    {
     "data": {
      "text/plain": [
       "id                  int64\n",
       "edad                int64\n",
       "facturacion       float64\n",
       "antiguedad         object\n",
       "provincia          object\n",
       "num_lineas          int64\n",
       "num_dt            float64\n",
       "incidencia         object\n",
       "num_llamad_ent      int64\n",
       "num_llamad_sal      int64\n",
       "mb_datos            int64\n",
       "seg_llamad_ent      int64\n",
       "seg_llamad_sal      int64\n",
       "conexion           object\n",
       "vel_conexion       object\n",
       "TV                 object\n",
       "financiacion       object\n",
       "imp_financ        float64\n",
       "descuentos         object\n",
       "dtype: object"
      ]
     },
     "execution_count": 519,
     "metadata": {},
     "output_type": "execute_result"
    }
   ],
   "source": [
    "january_data.dtypes "
   ]
  },
  {
   "cell_type": "code",
   "execution_count": 520,
   "metadata": {},
   "outputs": [
    {
     "data": {
      "text/html": [
       "<div>\n",
       "<style scoped>\n",
       "    .dataframe tbody tr th:only-of-type {\n",
       "        vertical-align: middle;\n",
       "    }\n",
       "\n",
       "    .dataframe tbody tr th {\n",
       "        vertical-align: top;\n",
       "    }\n",
       "\n",
       "    .dataframe thead th {\n",
       "        text-align: right;\n",
       "    }\n",
       "</style>\n",
       "<table border=\"1\" class=\"dataframe\">\n",
       "  <thead>\n",
       "    <tr style=\"text-align: right;\">\n",
       "      <th></th>\n",
       "      <th>id</th>\n",
       "      <th>edad</th>\n",
       "      <th>facturacion</th>\n",
       "      <th>num_lineas</th>\n",
       "      <th>num_dt</th>\n",
       "      <th>num_llamad_ent</th>\n",
       "      <th>num_llamad_sal</th>\n",
       "      <th>mb_datos</th>\n",
       "      <th>seg_llamad_ent</th>\n",
       "      <th>seg_llamad_sal</th>\n",
       "      <th>imp_financ</th>\n",
       "    </tr>\n",
       "  </thead>\n",
       "  <tbody>\n",
       "    <tr>\n",
       "      <th>count</th>\n",
       "      <td>92711.000000</td>\n",
       "      <td>92711.000000</td>\n",
       "      <td>92711.000000</td>\n",
       "      <td>92711.000000</td>\n",
       "      <td>92711.000000</td>\n",
       "      <td>92711.000000</td>\n",
       "      <td>92711.000000</td>\n",
       "      <td>92711.000000</td>\n",
       "      <td>92711.000000</td>\n",
       "      <td>92711.000000</td>\n",
       "      <td>92711.000000</td>\n",
       "    </tr>\n",
       "    <tr>\n",
       "      <th>mean</th>\n",
       "      <td>49997.623626</td>\n",
       "      <td>51.429237</td>\n",
       "      <td>207.488700</td>\n",
       "      <td>3.560214</td>\n",
       "      <td>0.071318</td>\n",
       "      <td>125.109836</td>\n",
       "      <td>49.858960</td>\n",
       "      <td>12510.190495</td>\n",
       "      <td>9985.382781</td>\n",
       "      <td>10030.443960</td>\n",
       "      <td>1.601433</td>\n",
       "    </tr>\n",
       "    <tr>\n",
       "      <th>std</th>\n",
       "      <td>28863.150364</td>\n",
       "      <td>19.585913</td>\n",
       "      <td>111.239476</td>\n",
       "      <td>1.085810</td>\n",
       "      <td>0.459214</td>\n",
       "      <td>72.421075</td>\n",
       "      <td>29.208549</td>\n",
       "      <td>7217.671483</td>\n",
       "      <td>5774.903324</td>\n",
       "      <td>5786.754197</td>\n",
       "      <td>6.366161</td>\n",
       "    </tr>\n",
       "    <tr>\n",
       "      <th>min</th>\n",
       "      <td>1.000000</td>\n",
       "      <td>18.000000</td>\n",
       "      <td>15.000439</td>\n",
       "      <td>1.000000</td>\n",
       "      <td>0.000000</td>\n",
       "      <td>0.000000</td>\n",
       "      <td>0.000000</td>\n",
       "      <td>0.000000</td>\n",
       "      <td>0.000000</td>\n",
       "      <td>0.000000</td>\n",
       "      <td>0.000000</td>\n",
       "    </tr>\n",
       "    <tr>\n",
       "      <th>25%</th>\n",
       "      <td>24963.500000</td>\n",
       "      <td>34.000000</td>\n",
       "      <td>111.368385</td>\n",
       "      <td>3.000000</td>\n",
       "      <td>0.000000</td>\n",
       "      <td>62.000000</td>\n",
       "      <td>25.000000</td>\n",
       "      <td>6232.500000</td>\n",
       "      <td>4960.000000</td>\n",
       "      <td>5010.000000</td>\n",
       "      <td>0.000000</td>\n",
       "    </tr>\n",
       "    <tr>\n",
       "      <th>50%</th>\n",
       "      <td>49999.000000</td>\n",
       "      <td>51.000000</td>\n",
       "      <td>207.089366</td>\n",
       "      <td>4.000000</td>\n",
       "      <td>0.000000</td>\n",
       "      <td>125.000000</td>\n",
       "      <td>50.000000</td>\n",
       "      <td>12526.000000</td>\n",
       "      <td>9998.000000</td>\n",
       "      <td>10037.000000</td>\n",
       "      <td>0.000000</td>\n",
       "    </tr>\n",
       "    <tr>\n",
       "      <th>75%</th>\n",
       "      <td>74990.500000</td>\n",
       "      <td>68.000000</td>\n",
       "      <td>304.349361</td>\n",
       "      <td>4.000000</td>\n",
       "      <td>0.000000</td>\n",
       "      <td>188.000000</td>\n",
       "      <td>75.000000</td>\n",
       "      <td>18742.000000</td>\n",
       "      <td>14981.000000</td>\n",
       "      <td>15036.000000</td>\n",
       "      <td>0.000000</td>\n",
       "    </tr>\n",
       "    <tr>\n",
       "      <th>max</th>\n",
       "      <td>100000.000000</td>\n",
       "      <td>85.000000</td>\n",
       "      <td>399.998433</td>\n",
       "      <td>5.000000</td>\n",
       "      <td>4.000000</td>\n",
       "      <td>250.000000</td>\n",
       "      <td>100.000000</td>\n",
       "      <td>25000.000000</td>\n",
       "      <td>20000.000000</td>\n",
       "      <td>20000.000000</td>\n",
       "      <td>39.991954</td>\n",
       "    </tr>\n",
       "  </tbody>\n",
       "</table>\n",
       "</div>"
      ],
      "text/plain": [
       "                  id          edad   facturacion    num_lineas        num_dt  \\\n",
       "count   92711.000000  92711.000000  92711.000000  92711.000000  92711.000000   \n",
       "mean    49997.623626     51.429237    207.488700      3.560214      0.071318   \n",
       "std     28863.150364     19.585913    111.239476      1.085810      0.459214   \n",
       "min         1.000000     18.000000     15.000439      1.000000      0.000000   \n",
       "25%     24963.500000     34.000000    111.368385      3.000000      0.000000   \n",
       "50%     49999.000000     51.000000    207.089366      4.000000      0.000000   \n",
       "75%     74990.500000     68.000000    304.349361      4.000000      0.000000   \n",
       "max    100000.000000     85.000000    399.998433      5.000000      4.000000   \n",
       "\n",
       "       num_llamad_ent  num_llamad_sal      mb_datos  seg_llamad_ent  \\\n",
       "count    92711.000000    92711.000000  92711.000000    92711.000000   \n",
       "mean       125.109836       49.858960  12510.190495     9985.382781   \n",
       "std         72.421075       29.208549   7217.671483     5774.903324   \n",
       "min          0.000000        0.000000      0.000000        0.000000   \n",
       "25%         62.000000       25.000000   6232.500000     4960.000000   \n",
       "50%        125.000000       50.000000  12526.000000     9998.000000   \n",
       "75%        188.000000       75.000000  18742.000000    14981.000000   \n",
       "max        250.000000      100.000000  25000.000000    20000.000000   \n",
       "\n",
       "       seg_llamad_sal    imp_financ  \n",
       "count    92711.000000  92711.000000  \n",
       "mean     10030.443960      1.601433  \n",
       "std       5786.754197      6.366161  \n",
       "min          0.000000      0.000000  \n",
       "25%       5010.000000      0.000000  \n",
       "50%      10037.000000      0.000000  \n",
       "75%      15036.000000      0.000000  \n",
       "max      20000.000000     39.991954  "
      ]
     },
     "execution_count": 520,
     "metadata": {},
     "output_type": "execute_result"
    }
   ],
   "source": [
    "january_data.describe() "
   ]
  },
  {
   "cell_type": "code",
   "execution_count": 521,
   "metadata": {},
   "outputs": [
    {
     "data": {
      "text/plain": [
       "2047     1\n",
       "13011    1\n",
       "725      1\n",
       "6870     1\n",
       "4823     1\n",
       "        ..\n",
       "21920    1\n",
       "23969    1\n",
       "17826    1\n",
       "19875    1\n",
       "2049     1\n",
       "Name: id, Length: 92711, dtype: int64"
      ]
     },
     "execution_count": 521,
     "metadata": {},
     "output_type": "execute_result"
    }
   ],
   "source": [
    "january_data['id'].value_counts() "
   ]
  },
  {
   "cell_type": "markdown",
   "metadata": {},
   "source": [
    "#### --- non-numeric variables Analysis --- (January)"
   ]
  },
  {
   "cell_type": "markdown",
   "metadata": {},
   "source": [
    "antiguedad, provincia, incidencia, conexion, vel_conexion, TV, financiacion, descuentos"
   ]
  },
  {
   "cell_type": "markdown",
   "metadata": {},
   "source": [
    "1) ANTIGUEDAD"
   ]
  },
  {
   "cell_type": "code",
   "execution_count": 522,
   "metadata": {
    "scrolled": true
   },
   "outputs": [
    {
     "data": {
      "text/plain": [
       "92237"
      ]
     },
     "execution_count": 522,
     "metadata": {},
     "output_type": "execute_result"
    }
   ],
   "source": [
    "len(january_data['antiguedad'].unique())"
   ]
  },
  {
   "cell_type": "code",
   "execution_count": 523,
   "metadata": {},
   "outputs": [
    {
     "data": {
      "text/plain": [
       "01/07/2020 03:55 PM    3\n",
       "01/19/2020 04:57 PM    3\n",
       "01/25/2020 12:51 PM    3\n",
       "01/07/2020 10:37 PM    3\n",
       "01/14/2020 05:08 PM    3\n",
       "                      ..\n",
       "01/05/2000 08:42 PM    1\n",
       "09/08/2000 12:48 PM    1\n",
       "08/15/2007 09:12 PM    1\n",
       "10/26/2013 05:11 PM    1\n",
       "12/03/2019 06:52 AM    1\n",
       "Name: antiguedad, Length: 92237, dtype: int64"
      ]
     },
     "execution_count": 523,
     "metadata": {},
     "output_type": "execute_result"
    }
   ],
   "source": [
    "january_data['antiguedad'].value_counts() "
   ]
  },
  {
   "cell_type": "code",
   "execution_count": 524,
   "metadata": {},
   "outputs": [],
   "source": [
    "january_data['antiguedad'] = pd.to_datetime(january_data['antiguedad'])"
   ]
  },
  {
   "cell_type": "code",
   "execution_count": 525,
   "metadata": {},
   "outputs": [
    {
     "data": {
      "text/html": [
       "<div>\n",
       "<style scoped>\n",
       "    .dataframe tbody tr th:only-of-type {\n",
       "        vertical-align: middle;\n",
       "    }\n",
       "\n",
       "    .dataframe tbody tr th {\n",
       "        vertical-align: top;\n",
       "    }\n",
       "\n",
       "    .dataframe thead th {\n",
       "        text-align: right;\n",
       "    }\n",
       "</style>\n",
       "<table border=\"1\" class=\"dataframe\">\n",
       "  <thead>\n",
       "    <tr style=\"text-align: right;\">\n",
       "      <th></th>\n",
       "      <th>id</th>\n",
       "      <th>edad</th>\n",
       "      <th>facturacion</th>\n",
       "      <th>antiguedad</th>\n",
       "      <th>provincia</th>\n",
       "      <th>num_lineas</th>\n",
       "      <th>num_dt</th>\n",
       "      <th>incidencia</th>\n",
       "      <th>num_llamad_ent</th>\n",
       "      <th>num_llamad_sal</th>\n",
       "      <th>mb_datos</th>\n",
       "      <th>seg_llamad_ent</th>\n",
       "      <th>seg_llamad_sal</th>\n",
       "      <th>conexion</th>\n",
       "      <th>vel_conexion</th>\n",
       "      <th>TV</th>\n",
       "      <th>financiacion</th>\n",
       "      <th>imp_financ</th>\n",
       "      <th>descuentos</th>\n",
       "      <th>año_ingreso</th>\n",
       "    </tr>\n",
       "  </thead>\n",
       "  <tbody>\n",
       "    <tr>\n",
       "      <th>0</th>\n",
       "      <td>1</td>\n",
       "      <td>63</td>\n",
       "      <td>216.028109</td>\n",
       "      <td>2018-11-23 08:48:00</td>\n",
       "      <td>La Rioja</td>\n",
       "      <td>5</td>\n",
       "      <td>0.0</td>\n",
       "      <td>NO</td>\n",
       "      <td>95</td>\n",
       "      <td>19</td>\n",
       "      <td>6525</td>\n",
       "      <td>7634</td>\n",
       "      <td>18520</td>\n",
       "      <td>FIBRA</td>\n",
       "      <td>50MB</td>\n",
       "      <td>tv-futbol</td>\n",
       "      <td>NO</td>\n",
       "      <td>0.0</td>\n",
       "      <td>0</td>\n",
       "      <td>2018</td>\n",
       "    </tr>\n",
       "    <tr>\n",
       "      <th>1</th>\n",
       "      <td>2</td>\n",
       "      <td>84</td>\n",
       "      <td>255.830842</td>\n",
       "      <td>2017-08-22 03:19:00</td>\n",
       "      <td>Vizcaya</td>\n",
       "      <td>3</td>\n",
       "      <td>0.0</td>\n",
       "      <td>NO</td>\n",
       "      <td>44</td>\n",
       "      <td>36</td>\n",
       "      <td>14471</td>\n",
       "      <td>14541</td>\n",
       "      <td>8016</td>\n",
       "      <td>FIBRA</td>\n",
       "      <td>600MB</td>\n",
       "      <td>tv-futbol</td>\n",
       "      <td>NO</td>\n",
       "      <td>0.0</td>\n",
       "      <td>SI</td>\n",
       "      <td>2017</td>\n",
       "    </tr>\n",
       "    <tr>\n",
       "      <th>2</th>\n",
       "      <td>3</td>\n",
       "      <td>66</td>\n",
       "      <td>135.768153</td>\n",
       "      <td>2001-12-27 13:50:00</td>\n",
       "      <td>Albacete</td>\n",
       "      <td>4</td>\n",
       "      <td>0.0</td>\n",
       "      <td>NO</td>\n",
       "      <td>94</td>\n",
       "      <td>27</td>\n",
       "      <td>1428</td>\n",
       "      <td>5248</td>\n",
       "      <td>7106</td>\n",
       "      <td>ADSL</td>\n",
       "      <td>35MB</td>\n",
       "      <td>tv-futbol</td>\n",
       "      <td>NO</td>\n",
       "      <td>0.0</td>\n",
       "      <td>SI</td>\n",
       "      <td>2001</td>\n",
       "    </tr>\n",
       "    <tr>\n",
       "      <th>3</th>\n",
       "      <td>4</td>\n",
       "      <td>69</td>\n",
       "      <td>255.658527</td>\n",
       "      <td>2015-08-08 10:53:00</td>\n",
       "      <td>Lugo</td>\n",
       "      <td>4</td>\n",
       "      <td>0.0</td>\n",
       "      <td>NO</td>\n",
       "      <td>186</td>\n",
       "      <td>20</td>\n",
       "      <td>20083</td>\n",
       "      <td>7372</td>\n",
       "      <td>5052</td>\n",
       "      <td>FIBRA</td>\n",
       "      <td>200MB</td>\n",
       "      <td>tv-familiar</td>\n",
       "      <td>NO</td>\n",
       "      <td>0.0</td>\n",
       "      <td>0</td>\n",
       "      <td>2015</td>\n",
       "    </tr>\n",
       "    <tr>\n",
       "      <th>4</th>\n",
       "      <td>6</td>\n",
       "      <td>51</td>\n",
       "      <td>99.348645</td>\n",
       "      <td>1997-11-04 11:43:00</td>\n",
       "      <td>Huelva</td>\n",
       "      <td>4</td>\n",
       "      <td>0.0</td>\n",
       "      <td>NO</td>\n",
       "      <td>37</td>\n",
       "      <td>32</td>\n",
       "      <td>19078</td>\n",
       "      <td>5009</td>\n",
       "      <td>8686</td>\n",
       "      <td>FIBRA</td>\n",
       "      <td>200MB</td>\n",
       "      <td>tv-futbol</td>\n",
       "      <td>NO</td>\n",
       "      <td>0.0</td>\n",
       "      <td>0</td>\n",
       "      <td>1997</td>\n",
       "    </tr>\n",
       "  </tbody>\n",
       "</table>\n",
       "</div>"
      ],
      "text/plain": [
       "   id  edad  facturacion          antiguedad provincia  num_lineas  num_dt  \\\n",
       "0   1    63   216.028109 2018-11-23 08:48:00  La Rioja           5     0.0   \n",
       "1   2    84   255.830842 2017-08-22 03:19:00   Vizcaya           3     0.0   \n",
       "2   3    66   135.768153 2001-12-27 13:50:00  Albacete           4     0.0   \n",
       "3   4    69   255.658527 2015-08-08 10:53:00      Lugo           4     0.0   \n",
       "4   6    51    99.348645 1997-11-04 11:43:00    Huelva           4     0.0   \n",
       "\n",
       "  incidencia  num_llamad_ent  num_llamad_sal  mb_datos  seg_llamad_ent  \\\n",
       "0         NO              95              19      6525            7634   \n",
       "1         NO              44              36     14471           14541   \n",
       "2         NO              94              27      1428            5248   \n",
       "3         NO             186              20     20083            7372   \n",
       "4         NO              37              32     19078            5009   \n",
       "\n",
       "   seg_llamad_sal conexion vel_conexion           TV financiacion  imp_financ  \\\n",
       "0           18520    FIBRA         50MB    tv-futbol           NO         0.0   \n",
       "1            8016    FIBRA        600MB    tv-futbol           NO         0.0   \n",
       "2            7106     ADSL         35MB    tv-futbol           NO         0.0   \n",
       "3            5052    FIBRA        200MB  tv-familiar           NO         0.0   \n",
       "4            8686    FIBRA        200MB    tv-futbol           NO         0.0   \n",
       "\n",
       "  descuentos  año_ingreso  \n",
       "0          0         2018  \n",
       "1         SI         2017  \n",
       "2         SI         2001  \n",
       "3          0         2015  \n",
       "4          0         1997  "
      ]
     },
     "execution_count": 525,
     "metadata": {},
     "output_type": "execute_result"
    }
   ],
   "source": [
    "january_data['año_ingreso'] = pd.DatetimeIndex(january_data['antiguedad']).year\n",
    "january_data.head()"
   ]
  },
  {
   "cell_type": "code",
   "execution_count": 526,
   "metadata": {},
   "outputs": [
    {
     "data": {
      "text/html": [
       "<div>\n",
       "<style scoped>\n",
       "    .dataframe tbody tr th:only-of-type {\n",
       "        vertical-align: middle;\n",
       "    }\n",
       "\n",
       "    .dataframe tbody tr th {\n",
       "        vertical-align: top;\n",
       "    }\n",
       "\n",
       "    .dataframe thead th {\n",
       "        text-align: right;\n",
       "    }\n",
       "</style>\n",
       "<table border=\"1\" class=\"dataframe\">\n",
       "  <thead>\n",
       "    <tr style=\"text-align: right;\">\n",
       "      <th></th>\n",
       "      <th>id</th>\n",
       "      <th>edad</th>\n",
       "      <th>facturacion</th>\n",
       "      <th>antiguedad</th>\n",
       "      <th>provincia</th>\n",
       "      <th>num_lineas</th>\n",
       "      <th>num_dt</th>\n",
       "      <th>incidencia</th>\n",
       "      <th>num_llamad_ent</th>\n",
       "      <th>num_llamad_sal</th>\n",
       "      <th>...</th>\n",
       "      <th>seg_llamad_ent</th>\n",
       "      <th>seg_llamad_sal</th>\n",
       "      <th>conexion</th>\n",
       "      <th>vel_conexion</th>\n",
       "      <th>TV</th>\n",
       "      <th>financiacion</th>\n",
       "      <th>imp_financ</th>\n",
       "      <th>descuentos</th>\n",
       "      <th>año_ingreso</th>\n",
       "      <th>antiguedad_años</th>\n",
       "    </tr>\n",
       "  </thead>\n",
       "  <tbody>\n",
       "    <tr>\n",
       "      <th>0</th>\n",
       "      <td>1</td>\n",
       "      <td>63</td>\n",
       "      <td>216.028109</td>\n",
       "      <td>2018-11-23 08:48:00</td>\n",
       "      <td>La Rioja</td>\n",
       "      <td>5</td>\n",
       "      <td>0.0</td>\n",
       "      <td>NO</td>\n",
       "      <td>95</td>\n",
       "      <td>19</td>\n",
       "      <td>...</td>\n",
       "      <td>7634</td>\n",
       "      <td>18520</td>\n",
       "      <td>FIBRA</td>\n",
       "      <td>50MB</td>\n",
       "      <td>tv-futbol</td>\n",
       "      <td>NO</td>\n",
       "      <td>0.0</td>\n",
       "      <td>0</td>\n",
       "      <td>2018</td>\n",
       "      <td>2</td>\n",
       "    </tr>\n",
       "    <tr>\n",
       "      <th>1</th>\n",
       "      <td>2</td>\n",
       "      <td>84</td>\n",
       "      <td>255.830842</td>\n",
       "      <td>2017-08-22 03:19:00</td>\n",
       "      <td>Vizcaya</td>\n",
       "      <td>3</td>\n",
       "      <td>0.0</td>\n",
       "      <td>NO</td>\n",
       "      <td>44</td>\n",
       "      <td>36</td>\n",
       "      <td>...</td>\n",
       "      <td>14541</td>\n",
       "      <td>8016</td>\n",
       "      <td>FIBRA</td>\n",
       "      <td>600MB</td>\n",
       "      <td>tv-futbol</td>\n",
       "      <td>NO</td>\n",
       "      <td>0.0</td>\n",
       "      <td>SI</td>\n",
       "      <td>2017</td>\n",
       "      <td>3</td>\n",
       "    </tr>\n",
       "    <tr>\n",
       "      <th>2</th>\n",
       "      <td>3</td>\n",
       "      <td>66</td>\n",
       "      <td>135.768153</td>\n",
       "      <td>2001-12-27 13:50:00</td>\n",
       "      <td>Albacete</td>\n",
       "      <td>4</td>\n",
       "      <td>0.0</td>\n",
       "      <td>NO</td>\n",
       "      <td>94</td>\n",
       "      <td>27</td>\n",
       "      <td>...</td>\n",
       "      <td>5248</td>\n",
       "      <td>7106</td>\n",
       "      <td>ADSL</td>\n",
       "      <td>35MB</td>\n",
       "      <td>tv-futbol</td>\n",
       "      <td>NO</td>\n",
       "      <td>0.0</td>\n",
       "      <td>SI</td>\n",
       "      <td>2001</td>\n",
       "      <td>19</td>\n",
       "    </tr>\n",
       "    <tr>\n",
       "      <th>3</th>\n",
       "      <td>4</td>\n",
       "      <td>69</td>\n",
       "      <td>255.658527</td>\n",
       "      <td>2015-08-08 10:53:00</td>\n",
       "      <td>Lugo</td>\n",
       "      <td>4</td>\n",
       "      <td>0.0</td>\n",
       "      <td>NO</td>\n",
       "      <td>186</td>\n",
       "      <td>20</td>\n",
       "      <td>...</td>\n",
       "      <td>7372</td>\n",
       "      <td>5052</td>\n",
       "      <td>FIBRA</td>\n",
       "      <td>200MB</td>\n",
       "      <td>tv-familiar</td>\n",
       "      <td>NO</td>\n",
       "      <td>0.0</td>\n",
       "      <td>0</td>\n",
       "      <td>2015</td>\n",
       "      <td>5</td>\n",
       "    </tr>\n",
       "    <tr>\n",
       "      <th>4</th>\n",
       "      <td>6</td>\n",
       "      <td>51</td>\n",
       "      <td>99.348645</td>\n",
       "      <td>1997-11-04 11:43:00</td>\n",
       "      <td>Huelva</td>\n",
       "      <td>4</td>\n",
       "      <td>0.0</td>\n",
       "      <td>NO</td>\n",
       "      <td>37</td>\n",
       "      <td>32</td>\n",
       "      <td>...</td>\n",
       "      <td>5009</td>\n",
       "      <td>8686</td>\n",
       "      <td>FIBRA</td>\n",
       "      <td>200MB</td>\n",
       "      <td>tv-futbol</td>\n",
       "      <td>NO</td>\n",
       "      <td>0.0</td>\n",
       "      <td>0</td>\n",
       "      <td>1997</td>\n",
       "      <td>23</td>\n",
       "    </tr>\n",
       "  </tbody>\n",
       "</table>\n",
       "<p>5 rows × 21 columns</p>\n",
       "</div>"
      ],
      "text/plain": [
       "   id  edad  facturacion          antiguedad provincia  num_lineas  num_dt  \\\n",
       "0   1    63   216.028109 2018-11-23 08:48:00  La Rioja           5     0.0   \n",
       "1   2    84   255.830842 2017-08-22 03:19:00   Vizcaya           3     0.0   \n",
       "2   3    66   135.768153 2001-12-27 13:50:00  Albacete           4     0.0   \n",
       "3   4    69   255.658527 2015-08-08 10:53:00      Lugo           4     0.0   \n",
       "4   6    51    99.348645 1997-11-04 11:43:00    Huelva           4     0.0   \n",
       "\n",
       "  incidencia  num_llamad_ent  num_llamad_sal  ...  seg_llamad_ent  \\\n",
       "0         NO              95              19  ...            7634   \n",
       "1         NO              44              36  ...           14541   \n",
       "2         NO              94              27  ...            5248   \n",
       "3         NO             186              20  ...            7372   \n",
       "4         NO              37              32  ...            5009   \n",
       "\n",
       "   seg_llamad_sal  conexion vel_conexion           TV financiacion imp_financ  \\\n",
       "0           18520     FIBRA         50MB    tv-futbol           NO        0.0   \n",
       "1            8016     FIBRA        600MB    tv-futbol           NO        0.0   \n",
       "2            7106      ADSL         35MB    tv-futbol           NO        0.0   \n",
       "3            5052     FIBRA        200MB  tv-familiar           NO        0.0   \n",
       "4            8686     FIBRA        200MB    tv-futbol           NO        0.0   \n",
       "\n",
       "   descuentos año_ingreso  antiguedad_años  \n",
       "0           0        2018                2  \n",
       "1          SI        2017                3  \n",
       "2          SI        2001               19  \n",
       "3           0        2015                5  \n",
       "4           0        1997               23  \n",
       "\n",
       "[5 rows x 21 columns]"
      ]
     },
     "execution_count": 526,
     "metadata": {},
     "output_type": "execute_result"
    }
   ],
   "source": [
    "january_data['antiguedad_años'] = 2020-january_data['año_ingreso']\n",
    "january_data.head()"
   ]
  },
  {
   "cell_type": "code",
   "execution_count": 527,
   "metadata": {},
   "outputs": [
    {
     "data": {
      "text/plain": [
       "0     4329\n",
       "14    3650\n",
       "21    3637\n",
       "10    3595\n",
       "16    3591\n",
       "20    3588\n",
       "13    3580\n",
       "6     3575\n",
       "12    3565\n",
       "17    3565\n",
       "9     3557\n",
       "11    3556\n",
       "23    3545\n",
       "15    3537\n",
       "2     3534\n",
       "8     3524\n",
       "25    3520\n",
       "7     3510\n",
       "18    3495\n",
       "24    3488\n",
       "19    3480\n",
       "22    3475\n",
       "1     3475\n",
       "4     3474\n",
       "5     3471\n",
       "3     3395\n",
       "Name: antiguedad_años, dtype: int64"
      ]
     },
     "execution_count": 527,
     "metadata": {},
     "output_type": "execute_result"
    }
   ],
   "source": [
    "january_data['antiguedad_años'].value_counts() "
   ]
  },
  {
   "cell_type": "code",
   "execution_count": 528,
   "metadata": {},
   "outputs": [],
   "source": [
    "january_data.drop('año_ingreso',axis=1, inplace=True)"
   ]
  },
  {
   "cell_type": "code",
   "execution_count": 529,
   "metadata": {},
   "outputs": [],
   "source": [
    "january_data.drop('antiguedad',axis=1, inplace=True)"
   ]
  },
  {
   "cell_type": "markdown",
   "metadata": {},
   "source": [
    "2) PROVINCIA"
   ]
  },
  {
   "cell_type": "code",
   "execution_count": 530,
   "metadata": {},
   "outputs": [
    {
     "data": {
      "text/plain": [
       "50"
      ]
     },
     "execution_count": 530,
     "metadata": {},
     "output_type": "execute_result"
    }
   ],
   "source": [
    "len(january_data['provincia'].unique())"
   ]
  },
  {
   "cell_type": "code",
   "execution_count": 531,
   "metadata": {
    "scrolled": true
   },
   "outputs": [
    {
     "data": {
      "text/plain": [
       "Valencia                  1941\n",
       "Asturias                  1934\n",
       "Murcia                    1931\n",
       "Navarra                   1930\n",
       "Zaragoza                  1927\n",
       "Málaga                    1924\n",
       "Alicante                  1895\n",
       "Orense                    1891\n",
       "Guipúzcoa                 1886\n",
       "Zamora                    1879\n",
       "Huelva                    1878\n",
       "Córdoba                   1875\n",
       "Granada                   1874\n",
       "Cáceres                   1868\n",
       "La Coruña                 1867\n",
       "Santa Cruz de Tenerife    1866\n",
       "Burgos                    1866\n",
       "Sevilla                   1865\n",
       "Soria                     1865\n",
       "Islas Baleares            1864\n",
       "Almería                   1863\n",
       "Cádiz                     1862\n",
       "Álava                     1859\n",
       "Tarragona                 1857\n",
       "Badajoz                   1856\n",
       "Castellón                 1854\n",
       "Salamanca                 1854\n",
       "Barcelona                 1852\n",
       "Segovia                   1850\n",
       "Valladolid                1850\n",
       "Madrid                    1849\n",
       "Ciudad Real               1848\n",
       "Lugo                      1841\n",
       "Jaén                      1836\n",
       "Albacete                  1836\n",
       "Ávila                     1832\n",
       "Pontevedra                1829\n",
       "Teruel                    1826\n",
       "Cuenca                    1824\n",
       "Guadalajara               1822\n",
       "Lérida                    1820\n",
       "Gerona                    1816\n",
       "La Rioja                  1816\n",
       "Cantabria                 1807\n",
       "Las Palmas                1798\n",
       "Palencia                  1797\n",
       "Toledo                    1793\n",
       "León                      1784\n",
       "Vizcaya                   1781\n",
       "Huesca                    1773\n",
       "Name: provincia, dtype: int64"
      ]
     },
     "execution_count": 531,
     "metadata": {},
     "output_type": "execute_result"
    }
   ],
   "source": [
    "january_data['provincia'].value_counts() "
   ]
  },
  {
   "cell_type": "code",
   "execution_count": 532,
   "metadata": {},
   "outputs": [],
   "source": [
    "january_data.provincia.replace(('Zaragoza','Navarra','Málaga','Asturias','Valencia',\n",
    "                                   'Murcia','Orense','Alicante','Córdoba','Cáceres',\n",
    "                                   'Burgos','Guipúzcoa','Álava','Valladolid','Sevilla',\n",
    "                                   'Huelva', 'Santa Cruz de Tenerife', 'La Coruña', 'Segovia','Castellón',\n",
    "                                   'Granada','Tarragona','Zamora','Almería','Soria',\n",
    "                                   'Madrid','Pontevedra','Ciudad Real','Cádiz','Badajoz',\n",
    "                                   'Islas Baleares','Barcelona','Teruel','Salamanca','Ávila',\n",
    "                                   'Albacete','Jaén','Guadalajara','Lérida','La Rioja',\n",
    "                                   'Lugo','Toledo','Gerona','Las Palmas','Palencia',\n",
    "                                   'Cuenca','Cantabria','León','Vizcaya','Huesca'\n",
    "                                   ),\n",
    "                                  (1,2,3,4,5,6,7,8,9,10,11,12,13,14,15,16,17,18,19,20,\n",
    "                                  21,22,23,24,25,26,27,28,29,30,31,32,33,34,35,36,37,\n",
    "                                  38,39,40,41,42,43,44,45,46,47,48,49,50),inplace=True)"
   ]
  },
  {
   "cell_type": "markdown",
   "metadata": {},
   "source": [
    "3) INCIDENCIA"
   ]
  },
  {
   "cell_type": "code",
   "execution_count": 533,
   "metadata": {},
   "outputs": [
    {
     "data": {
      "text/plain": [
       "NO    90720\n",
       "SI     1991\n",
       "Name: incidencia, dtype: int64"
      ]
     },
     "execution_count": 533,
     "metadata": {},
     "output_type": "execute_result"
    }
   ],
   "source": [
    "january_data['incidencia'].value_counts()"
   ]
  },
  {
   "cell_type": "code",
   "execution_count": 534,
   "metadata": {},
   "outputs": [],
   "source": [
    "january_data['incidencia'] = january_data['incidencia'].map({'SI':1,'NO':0})"
   ]
  },
  {
   "cell_type": "code",
   "execution_count": 535,
   "metadata": {},
   "outputs": [
    {
     "data": {
      "text/plain": [
       "0    90720\n",
       "1     1991\n",
       "Name: incidencia, dtype: int64"
      ]
     },
     "execution_count": 535,
     "metadata": {},
     "output_type": "execute_result"
    }
   ],
   "source": [
    "january_data['incidencia'].value_counts()"
   ]
  },
  {
   "cell_type": "markdown",
   "metadata": {},
   "source": [
    "4) CONEXIÓN"
   ]
  },
  {
   "cell_type": "code",
   "execution_count": 536,
   "metadata": {},
   "outputs": [
    {
     "data": {
      "text/plain": [
       "ADSL     46591\n",
       "FIBRA    46120\n",
       "Name: conexion, dtype: int64"
      ]
     },
     "execution_count": 536,
     "metadata": {},
     "output_type": "execute_result"
    }
   ],
   "source": [
    "january_data['conexion'].value_counts()"
   ]
  },
  {
   "cell_type": "code",
   "execution_count": 537,
   "metadata": {},
   "outputs": [],
   "source": [
    "#ADSL = 1, FIBRA = 0\n",
    "january_data['conexion'] = january_data['conexion'].map({'ADSL':1,'FIBRA':0})"
   ]
  },
  {
   "cell_type": "code",
   "execution_count": 538,
   "metadata": {},
   "outputs": [
    {
     "data": {
      "text/plain": [
       "1    46591\n",
       "0    46120\n",
       "Name: conexion, dtype: int64"
      ]
     },
     "execution_count": 538,
     "metadata": {},
     "output_type": "execute_result"
    }
   ],
   "source": [
    "january_data['conexion'].value_counts()"
   ]
  },
  {
   "cell_type": "markdown",
   "metadata": {},
   "source": [
    "5) VELOCIDAD"
   ]
  },
  {
   "cell_type": "code",
   "execution_count": 539,
   "metadata": {},
   "outputs": [],
   "source": [
    "january_data.vel_conexion = january_data.vel_conexion.map(dejar_solo_cifras)"
   ]
  },
  {
   "cell_type": "code",
   "execution_count": 540,
   "metadata": {},
   "outputs": [
    {
     "data": {
      "text/plain": [
       "200    9342\n",
       "600    9300\n",
       "300    9212\n",
       "50     9167\n",
       "100    9099\n",
       "20     7882\n",
       "25     7840\n",
       "10     7807\n",
       "30     7761\n",
       "35     7674\n",
       "15     7627\n",
       "Name: vel_conexion, dtype: int64"
      ]
     },
     "execution_count": 540,
     "metadata": {},
     "output_type": "execute_result"
    }
   ],
   "source": [
    "january_data['vel_conexion'].value_counts()"
   ]
  },
  {
   "cell_type": "code",
   "execution_count": 541,
   "metadata": {},
   "outputs": [],
   "source": [
    "january_data['vel_conexion'] = january_data['vel_conexion'].astype(int)"
   ]
  },
  {
   "cell_type": "markdown",
   "metadata": {},
   "source": [
    "6) TV"
   ]
  },
  {
   "cell_type": "code",
   "execution_count": 542,
   "metadata": {},
   "outputs": [
    {
     "data": {
      "text/plain": [
       "tv-futbol      46191\n",
       "tv-familiar    32822\n",
       "tv-total       13698\n",
       "Name: TV, dtype: int64"
      ]
     },
     "execution_count": 542,
     "metadata": {},
     "output_type": "execute_result"
    }
   ],
   "source": [
    "january_data['TV'].value_counts()"
   ]
  },
  {
   "cell_type": "code",
   "execution_count": 543,
   "metadata": {},
   "outputs": [],
   "source": [
    "#tv-futbol:0, tv-familiar:1, tv-total:2\n",
    "january_data['TV'] = january_data['TV'].map({'tv-futbol':0,'tv-familiar':1, 'tv-total':2})"
   ]
  },
  {
   "cell_type": "code",
   "execution_count": 544,
   "metadata": {},
   "outputs": [
    {
     "data": {
      "text/plain": [
       "0    46191\n",
       "1    32822\n",
       "2    13698\n",
       "Name: TV, dtype: int64"
      ]
     },
     "execution_count": 544,
     "metadata": {},
     "output_type": "execute_result"
    }
   ],
   "source": [
    "january_data['TV'].value_counts()"
   ]
  },
  {
   "cell_type": "markdown",
   "metadata": {},
   "source": [
    "7) FINANCIACIÓN"
   ]
  },
  {
   "cell_type": "code",
   "execution_count": 545,
   "metadata": {},
   "outputs": [
    {
     "data": {
      "text/plain": [
       "NO    86045\n",
       "SI     6666\n",
       "Name: financiacion, dtype: int64"
      ]
     },
     "execution_count": 545,
     "metadata": {},
     "output_type": "execute_result"
    }
   ],
   "source": [
    "january_data['financiacion'].value_counts()"
   ]
  },
  {
   "cell_type": "code",
   "execution_count": 546,
   "metadata": {},
   "outputs": [],
   "source": [
    "january_data['financiacion'] = january_data['financiacion'].map({'SI':1,'NO':0})"
   ]
  },
  {
   "cell_type": "code",
   "execution_count": 547,
   "metadata": {},
   "outputs": [
    {
     "data": {
      "text/plain": [
       "0    86045\n",
       "1     6666\n",
       "Name: financiacion, dtype: int64"
      ]
     },
     "execution_count": 547,
     "metadata": {},
     "output_type": "execute_result"
    }
   ],
   "source": [
    "january_data['financiacion'].value_counts()"
   ]
  },
  {
   "cell_type": "markdown",
   "metadata": {},
   "source": [
    "8) DESCUENTOS"
   ]
  },
  {
   "cell_type": "code",
   "execution_count": 548,
   "metadata": {},
   "outputs": [
    {
     "data": {
      "text/plain": [
       "0     72673\n",
       "SI    20038\n",
       "Name: descuentos, dtype: int64"
      ]
     },
     "execution_count": 548,
     "metadata": {},
     "output_type": "execute_result"
    }
   ],
   "source": [
    "january_data['descuentos'].value_counts()"
   ]
  },
  {
   "cell_type": "code",
   "execution_count": 549,
   "metadata": {},
   "outputs": [],
   "source": [
    "january_data['descuentos'] = january_data['descuentos'].map({'SI':1,0:0})"
   ]
  },
  {
   "cell_type": "code",
   "execution_count": 550,
   "metadata": {},
   "outputs": [
    {
     "data": {
      "text/plain": [
       "0    72673\n",
       "1    20038\n",
       "Name: descuentos, dtype: int64"
      ]
     },
     "execution_count": 550,
     "metadata": {},
     "output_type": "execute_result"
    }
   ],
   "source": [
    "january_data['descuentos'].value_counts()"
   ]
  },
  {
   "cell_type": "code",
   "execution_count": 551,
   "metadata": {},
   "outputs": [
    {
     "data": {
      "text/plain": [
       "id                   int64\n",
       "edad                 int64\n",
       "facturacion        float64\n",
       "provincia            int64\n",
       "num_lineas           int64\n",
       "num_dt             float64\n",
       "incidencia           int64\n",
       "num_llamad_ent       int64\n",
       "num_llamad_sal       int64\n",
       "mb_datos             int64\n",
       "seg_llamad_ent       int64\n",
       "seg_llamad_sal       int64\n",
       "conexion             int64\n",
       "vel_conexion         int64\n",
       "TV                   int64\n",
       "financiacion         int64\n",
       "imp_financ         float64\n",
       "descuentos           int64\n",
       "antiguedad_años      int64\n",
       "dtype: object"
      ]
     },
     "execution_count": 551,
     "metadata": {},
     "output_type": "execute_result"
    }
   ],
   "source": [
    "january_data.dtypes"
   ]
  },
  {
   "cell_type": "code",
   "execution_count": 552,
   "metadata": {},
   "outputs": [],
   "source": [
    "january_data.set_index('id',inplace=True)"
   ]
  },
  {
   "cell_type": "code",
   "execution_count": 553,
   "metadata": {},
   "outputs": [],
   "source": [
    "#We select the same variables as in December\n",
    "important_var_january = january_data.copy(deep = True)\n",
    "important_var_january = important_var_january[selec]"
   ]
  },
  {
   "cell_type": "code",
   "execution_count": 554,
   "metadata": {},
   "outputs": [],
   "source": [
    "#Escalamos los datos al igual que en diciembre\n",
    "sc2 = StandardScaler()\n",
    "january_data_Scaler = sc2.fit_transform(important_var_january)"
   ]
  },
  {
   "cell_type": "code",
   "execution_count": 555,
   "metadata": {},
   "outputs": [
    {
     "data": {
      "text/plain": [
       "array([[-0.15530624, -0.14814401, -0.52509834, -0.25155529],\n",
       "       [-0.15530624, -0.14814401,  1.9044052 , -0.25155529],\n",
       "       [-0.15530624, -0.14814401,  1.9044052 , -0.25155529],\n",
       "       ...,\n",
       "       [-0.15530624, -0.14814401, -0.52509834, -0.25155529],\n",
       "       [-0.15530624, -0.14814401, -0.52509834, -0.25155529],\n",
       "       [-0.15530624, -0.14814401,  1.9044052 , -0.25155529]])"
      ]
     },
     "execution_count": 555,
     "metadata": {},
     "output_type": "execute_result"
    }
   ],
   "source": [
    "january_data_Scaler"
   ]
  },
  {
   "cell_type": "code",
   "execution_count": 556,
   "metadata": {},
   "outputs": [],
   "source": [
    "january_data_Scaler = pd.DataFrame(january_data_Scaler)"
   ]
  },
  {
   "cell_type": "code",
   "execution_count": 557,
   "metadata": {},
   "outputs": [
    {
     "data": {
      "text/html": [
       "<div>\n",
       "<style scoped>\n",
       "    .dataframe tbody tr th:only-of-type {\n",
       "        vertical-align: middle;\n",
       "    }\n",
       "\n",
       "    .dataframe tbody tr th {\n",
       "        vertical-align: top;\n",
       "    }\n",
       "\n",
       "    .dataframe thead th {\n",
       "        text-align: right;\n",
       "    }\n",
       "</style>\n",
       "<table border=\"1\" class=\"dataframe\">\n",
       "  <thead>\n",
       "    <tr style=\"text-align: right;\">\n",
       "      <th></th>\n",
       "      <th>0</th>\n",
       "      <th>1</th>\n",
       "      <th>2</th>\n",
       "      <th>3</th>\n",
       "    </tr>\n",
       "  </thead>\n",
       "  <tbody>\n",
       "    <tr>\n",
       "      <th>0</th>\n",
       "      <td>-0.155306</td>\n",
       "      <td>-0.148144</td>\n",
       "      <td>-0.525098</td>\n",
       "      <td>-0.251555</td>\n",
       "    </tr>\n",
       "    <tr>\n",
       "      <th>1</th>\n",
       "      <td>-0.155306</td>\n",
       "      <td>-0.148144</td>\n",
       "      <td>1.904405</td>\n",
       "      <td>-0.251555</td>\n",
       "    </tr>\n",
       "    <tr>\n",
       "      <th>2</th>\n",
       "      <td>-0.155306</td>\n",
       "      <td>-0.148144</td>\n",
       "      <td>1.904405</td>\n",
       "      <td>-0.251555</td>\n",
       "    </tr>\n",
       "    <tr>\n",
       "      <th>3</th>\n",
       "      <td>-0.155306</td>\n",
       "      <td>-0.148144</td>\n",
       "      <td>-0.525098</td>\n",
       "      <td>-0.251555</td>\n",
       "    </tr>\n",
       "    <tr>\n",
       "      <th>4</th>\n",
       "      <td>-0.155306</td>\n",
       "      <td>-0.148144</td>\n",
       "      <td>-0.525098</td>\n",
       "      <td>-0.251555</td>\n",
       "    </tr>\n",
       "    <tr>\n",
       "      <th>...</th>\n",
       "      <td>...</td>\n",
       "      <td>...</td>\n",
       "      <td>...</td>\n",
       "      <td>...</td>\n",
       "    </tr>\n",
       "    <tr>\n",
       "      <th>92706</th>\n",
       "      <td>-0.155306</td>\n",
       "      <td>-0.148144</td>\n",
       "      <td>-0.525098</td>\n",
       "      <td>-0.251555</td>\n",
       "    </tr>\n",
       "    <tr>\n",
       "      <th>92707</th>\n",
       "      <td>-0.155306</td>\n",
       "      <td>-0.148144</td>\n",
       "      <td>-0.525098</td>\n",
       "      <td>2.044413</td>\n",
       "    </tr>\n",
       "    <tr>\n",
       "      <th>92708</th>\n",
       "      <td>-0.155306</td>\n",
       "      <td>-0.148144</td>\n",
       "      <td>-0.525098</td>\n",
       "      <td>-0.251555</td>\n",
       "    </tr>\n",
       "    <tr>\n",
       "      <th>92709</th>\n",
       "      <td>-0.155306</td>\n",
       "      <td>-0.148144</td>\n",
       "      <td>-0.525098</td>\n",
       "      <td>-0.251555</td>\n",
       "    </tr>\n",
       "    <tr>\n",
       "      <th>92710</th>\n",
       "      <td>-0.155306</td>\n",
       "      <td>-0.148144</td>\n",
       "      <td>1.904405</td>\n",
       "      <td>-0.251555</td>\n",
       "    </tr>\n",
       "  </tbody>\n",
       "</table>\n",
       "<p>92711 rows × 4 columns</p>\n",
       "</div>"
      ],
      "text/plain": [
       "              0         1         2         3\n",
       "0     -0.155306 -0.148144 -0.525098 -0.251555\n",
       "1     -0.155306 -0.148144  1.904405 -0.251555\n",
       "2     -0.155306 -0.148144  1.904405 -0.251555\n",
       "3     -0.155306 -0.148144 -0.525098 -0.251555\n",
       "4     -0.155306 -0.148144 -0.525098 -0.251555\n",
       "...         ...       ...       ...       ...\n",
       "92706 -0.155306 -0.148144 -0.525098 -0.251555\n",
       "92707 -0.155306 -0.148144 -0.525098  2.044413\n",
       "92708 -0.155306 -0.148144 -0.525098 -0.251555\n",
       "92709 -0.155306 -0.148144 -0.525098 -0.251555\n",
       "92710 -0.155306 -0.148144  1.904405 -0.251555\n",
       "\n",
       "[92711 rows x 4 columns]"
      ]
     },
     "execution_count": 557,
     "metadata": {},
     "output_type": "execute_result"
    }
   ],
   "source": [
    "january_data_Scaler"
   ]
  },
  {
   "cell_type": "markdown",
   "metadata": {},
   "source": [
    "We save the winning model as a python object (pickle) and then use it again to predict future data.\n",
    "In this case we use it to predict January, but it could be used for the following months."
   ]
  },
  {
   "cell_type": "code",
   "execution_count": 558,
   "metadata": {},
   "outputs": [],
   "source": [
    "pkl_filename = \"modelo1.pkl\"\n",
    "with open(pkl_filename, 'wb') as file:\n",
    "    pickle.dump(rf_classifier, file)"
   ]
  },
  {
   "cell_type": "code",
   "execution_count": 559,
   "metadata": {},
   "outputs": [],
   "source": [
    "# Load from file\n",
    "with open(pkl_filename, 'rb') as file:\n",
    "    pickle_model = pickle.load(file)"
   ]
  },
  {
   "cell_type": "code",
   "execution_count": 560,
   "metadata": {},
   "outputs": [
    {
     "name": "stdout",
     "output_type": "stream",
     "text": [
      "Test score: 98.32 %\n"
     ]
    }
   ],
   "source": [
    "# Calculate the accuracy score and predict target values\n",
    "score = pickle_model.score(X_test, y_test)\n",
    "print(\"Test score: {0:.2f} %\".format(100 * score))\n",
    "Ypredict = pickle_model.predict(X_test)"
   ]
  },
  {
   "cell_type": "code",
   "execution_count": 561,
   "metadata": {},
   "outputs": [],
   "source": [
    "model_proba = rf_classifier.predict_proba(january_data_Scaler)[:,1]"
   ]
  },
  {
   "cell_type": "code",
   "execution_count": 562,
   "metadata": {},
   "outputs": [],
   "source": [
    "model_proba = (pd.DataFrame(model_proba,columns=['probability'],index=january_data_Scaler.index))\n"
   ]
  },
  {
   "cell_type": "code",
   "execution_count": 563,
   "metadata": {},
   "outputs": [],
   "source": [
    "model_proba.sort_values(by=['probability'],ascending=False,axis=0,inplace=True)"
   ]
  },
  {
   "cell_type": "code",
   "execution_count": 564,
   "metadata": {},
   "outputs": [
    {
     "ename": "NameError",
     "evalue": "name 'modelo_proba' is not defined",
     "output_type": "error",
     "traceback": [
      "\u001b[0;31m---------------------------------------------------------------------------\u001b[0m",
      "\u001b[0;31mNameError\u001b[0m                                 Traceback (most recent call last)",
      "\u001b[0;32m<ipython-input-564-8e3605082bf7>\u001b[0m in \u001b[0;36m<module>\u001b[0;34m\u001b[0m\n\u001b[0;32m----> 1\u001b[0;31m \u001b[0mmodelo_proba\u001b[0m\u001b[0;34m\u001b[0m\u001b[0;34m\u001b[0m\u001b[0m\n\u001b[0m",
      "\u001b[0;31mNameError\u001b[0m: name 'modelo_proba' is not defined"
     ]
    }
   ],
   "source": [
    "modelo_proba"
   ]
  },
  {
   "cell_type": "code",
   "execution_count": null,
   "metadata": {},
   "outputs": [],
   "source": [
    "model_proba['probability'].value_counts()"
   ]
  },
  {
   "cell_type": "code",
   "execution_count": null,
   "metadata": {},
   "outputs": [],
   "source": [
    "#I want to sort it by probability, not by frequency, so I do this test.\n",
    "test = pd.value_counts(model_proba['probability'])\n",
    "test = pd.DataFrame(test)\n",
    "test['Real_probability'] = test.index.values\n",
    "test.sort_values(by = 'Real_probability',ascending = False)"
   ]
  },
  {
   "cell_type": "markdown",
   "metadata": {},
   "source": [
    "### 7) Explanations"
   ]
  },
  {
   "cell_type": "markdown",
   "metadata": {},
   "source": [
    "When I began to study this data set, I thought that some variables were going to weigh a lot (such as 'antiguedad') and that finally they did not.\n",
    "\n",
    "As we can see, the variables that most explained our model were:\n",
    "    - 'num_dt': number of defaults\n",
    "    - 'incidencia': the client has an incident or not\n",
    "    - 'imp_financ': amount financed\n",
    "    - 'descuentos': the customer has or does not have an active discount"
   ]
  },
  {
   "cell_type": "code",
   "execution_count": null,
   "metadata": {},
   "outputs": [],
   "source": [
    "#importance of the variables in the model\n",
    "\n",
    "importance = rf_classifier.feature_importances_\n",
    "\n",
    "# summarize feature importance\n",
    "for i,v in enumerate(importance):\n",
    "\tprint('Feature: %0d, Score: %.5f' % (i,v))\n",
    "\n",
    "# plot feature importance\n",
    "pyplot.bar([x for x in range(len(importance))], importance)\n",
    "pyplot.show()"
   ]
  },
  {
   "cell_type": "code",
   "execution_count": null,
   "metadata": {},
   "outputs": [],
   "source": [
    "important_var_january.columns.values"
   ]
  },
  {
   "cell_type": "markdown",
   "metadata": {},
   "source": [
    "From this information we can say that these 4 variables are the ones that mostly explain the change of operator for many clients between December 2019 and January 2020.\n",
    "\n",
    "The variable that had the most weight in the model was 'num_dt', followed by 'incidence', 'discount' and finally 'imp_financ'.\n",
    "\n",
    "In summary, this means customers who have some type of default and / or open incident with the company are more likely to churn. Customers who do not have any type of discount are more likely to change companies than those who have a discount.\n",
    "\n",
    "\n",
    "#### Recommendations for the company:\n",
    "- Based on what has been studied, we see that 1,556 clients have a probability greater than 50% of churning the company between January and February. That is why we recommend that, mainly to these clients, you send them the loyalty campaign, and if necessary offer them a discount, since this reduces the probability of canceling the contracted service.\n",
    "- It is also recommended that, mainly with these users, see if they have an incidence and if so, find a way to solve them."
   ]
  }
 ],
 "metadata": {
  "kernelspec": {
   "display_name": "Python 3",
   "language": "python",
   "name": "python3"
  },
  "language_info": {
   "codemirror_mode": {
    "name": "ipython",
    "version": 3
   },
   "file_extension": ".py",
   "mimetype": "text/x-python",
   "name": "python",
   "nbconvert_exporter": "python",
   "pygments_lexer": "ipython3",
   "version": "3.7.6"
  }
 },
 "nbformat": 4,
 "nbformat_minor": 4
}
